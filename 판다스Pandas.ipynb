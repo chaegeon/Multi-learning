{
  "nbformat": 4,
  "nbformat_minor": 0,
  "metadata": {
    "colab": {
      "name": "판다스Pandas.ipynb",
      "provenance": [],
      "collapsed_sections": [],
      "mount_file_id": "1IH-Tx6Eyt6QoY4lwoibr9-osl-P2lZj1",
      "authorship_tag": "ABX9TyPTmohZ5VqpKLQI4fpG8cUu",
      "include_colab_link": true
    },
    "kernelspec": {
      "name": "python3",
      "display_name": "Python 3"
    },
    "language_info": {
      "name": "python"
    }
  },
  "cells": [
    {
      "cell_type": "markdown",
      "metadata": {
        "id": "view-in-github",
        "colab_type": "text"
      },
      "source": [
        "<a href=\"https://colab.research.google.com/github/chaegeon/Multi-learning/blob/main/%ED%8C%90%EB%8B%A4%EC%8A%A4Pandas.ipynb\" target=\"_parent\"><img src=\"https://colab.research.google.com/assets/colab-badge.svg\" alt=\"Open In Colab\"/></a>"
      ]
    },
    {
      "cell_type": "code",
      "execution_count": null,
      "metadata": {
        "id": "_Yo8M37twndF"
      },
      "outputs": [],
      "source": [
        "# 데이터 분석용 필수 패키지\n",
        "# 사용하지 않더라도 일단 무조건 import로 가져오고 보자\n",
        "import numpy as np\n",
        "import pandas as pd\n",
        "# 넘파이가 암묵적으로 np라고 하듯이,\n",
        "# 판다스도 암묵적으로 pd로 줄여 씀"
      ]
    },
    {
      "cell_type": "markdown",
      "source": [
        "# 판다스\n",
        "- 파이썬에서 사용할 수 있는 데이터 전처리용 패키지\n",
        "  - 엑셀처럼 파일을 다룰 수 있게 해주는 도구\n",
        "  - 엑셀과의 가장 큰 차이점은 아주 큰 파일도 처리가 가능\n",
        "    - 일반적으로 엑셀파일의 크기가 100MB만 넘어가도 잘 안 열릴 것\n",
        "    - 판다스는 1GB가 넘어가는 아주 큰 파일도 빠르게 처리가 가능\n",
        "    - 엑셀에서 간보고 가능하면 판다스로 넘어오는 등의 방식으로 처리한다고 하넹\n",
        "  - 엑셀보다 더 복잡한 처리, 디비와 연동 등의 기능을 제공\n",
        "\n",
        "- 데이터 분석\n",
        "  - 분석 업무의 80%는 전처리 이다. 나머지 20%는 분석\n",
        "    - 전처리 : 정제한다?\n",
        "    - 잘 정제되지 않은 데이터를 가지고는 아무리 분석을 잘 해도 의미가 없다"
      ],
      "metadata": {
        "id": "Jw7-cpQm0TKs"
      }
    },
    {
      "cell_type": "markdown",
      "source": [
        "## Series\n",
        "  - 1차원 구조를 표현"
      ],
      "metadata": {
        "id": "a9o-UIeU3iwU"
      }
    },
    {
      "cell_type": "code",
      "source": [
        "# 왼쪽에 보이는 건 인덱스\n",
        "# 인덱스와 같이 표현돼서 2차원처럼 보이지만 1차원임\n",
        "series = pd.Series( [10, 20, 30, 40] ) # series 라는 클래스\n",
        "series"
      ],
      "metadata": {
        "colab": {
          "base_uri": "https://localhost:8080/"
        },
        "id": "7xEwuH3E3mOz",
        "outputId": "6bc30548-9f34-43a9-a0b2-58a9e235ff15"
      },
      "execution_count": null,
      "outputs": [
        {
          "output_type": "execute_result",
          "data": {
            "text/plain": [
              "0    10\n",
              "1    20\n",
              "2    30\n",
              "3    40\n",
              "dtype: int64"
            ]
          },
          "metadata": {},
          "execution_count": 3
        }
      ]
    },
    {
      "cell_type": "code",
      "source": [
        "display( series.ndim )\n",
        "display( series.shape )"
      ],
      "metadata": {
        "colab": {
          "base_uri": "https://localhost:8080/",
          "height": 52
        },
        "id": "-QMddDfO3xed",
        "outputId": "a5e5e15c-a000-4f24-d5bb-8c3718daaca3"
      },
      "execution_count": null,
      "outputs": [
        {
          "output_type": "display_data",
          "data": {
            "text/plain": [
              "1"
            ]
          },
          "metadata": {}
        },
        {
          "output_type": "display_data",
          "data": {
            "text/plain": [
              "(4,)"
            ]
          },
          "metadata": {}
        }
      ]
    },
    {
      "cell_type": "markdown",
      "source": [
        "## DataFrame\n",
        "- 2차원 구조\n",
        "- 여러개의 시리즈가 모여서 하나의 데이터 프레임이 된다"
      ],
      "metadata": {
        "id": "oPHFav518AUg"
      }
    },
    {
      "cell_type": "markdown",
      "source": [
        "- 넘파이 자료들이 모여서 하나의 시리즈가 되고\n",
        "- 그 시리즈 들이 모여서 하나의 데이터프레임이 된다고 이해해도 될 듯\n",
        "  - 호환이 된다"
      ],
      "metadata": {
        "id": "fehyDPRK8pYG"
      }
    },
    {
      "cell_type": "code",
      "source": [
        "weight = pd.DataFrame([\n",
        "  [76.4, 'kg'],\n",
        "  [75.7, 'kg'],\n",
        "  [76, 'kg'],\n",
        "  [76.2, 'kg']\n",
        "])\n",
        "weight"
      ],
      "metadata": {
        "colab": {
          "base_uri": "https://localhost:8080/",
          "height": 174
        },
        "id": "rmEGBvm34B5k",
        "outputId": "28159991-de4c-4ff5-dbe7-1d1168673fe1"
      },
      "execution_count": null,
      "outputs": [
        {
          "output_type": "execute_result",
          "data": {
            "text/html": [
              "<div>\n",
              "<style scoped>\n",
              "    .dataframe tbody tr th:only-of-type {\n",
              "        vertical-align: middle;\n",
              "    }\n",
              "\n",
              "    .dataframe tbody tr th {\n",
              "        vertical-align: top;\n",
              "    }\n",
              "\n",
              "    .dataframe thead th {\n",
              "        text-align: right;\n",
              "    }\n",
              "</style>\n",
              "<table border=\"1\" class=\"dataframe\">\n",
              "  <thead>\n",
              "    <tr style=\"text-align: right;\">\n",
              "      <th></th>\n",
              "      <th>0</th>\n",
              "      <th>1</th>\n",
              "    </tr>\n",
              "  </thead>\n",
              "  <tbody>\n",
              "    <tr>\n",
              "      <th>0</th>\n",
              "      <td>76.4</td>\n",
              "      <td>kg</td>\n",
              "    </tr>\n",
              "    <tr>\n",
              "      <th>1</th>\n",
              "      <td>75.7</td>\n",
              "      <td>kg</td>\n",
              "    </tr>\n",
              "    <tr>\n",
              "      <th>2</th>\n",
              "      <td>76.0</td>\n",
              "      <td>kg</td>\n",
              "    </tr>\n",
              "    <tr>\n",
              "      <th>3</th>\n",
              "      <td>76.2</td>\n",
              "      <td>kg</td>\n",
              "    </tr>\n",
              "  </tbody>\n",
              "</table>\n",
              "</div>"
            ],
            "text/plain": [
              "      0   1\n",
              "0  76.4  kg\n",
              "1  75.7  kg\n",
              "2  76.0  kg\n",
              "3  76.2  kg"
            ]
          },
          "metadata": {},
          "execution_count": 6
        }
      ]
    },
    {
      "cell_type": "code",
      "source": [
        "display( weight. ndim)\n",
        "display( weight. shape)"
      ],
      "metadata": {
        "colab": {
          "base_uri": "https://localhost:8080/",
          "height": 52
        },
        "id": "hbunt83m8gR_",
        "outputId": "2df08b01-ff15-49e9-f6f8-08d1b2f0b9ff"
      },
      "execution_count": null,
      "outputs": [
        {
          "output_type": "display_data",
          "data": {
            "text/plain": [
              "2"
            ]
          },
          "metadata": {}
        },
        {
          "output_type": "display_data",
          "data": {
            "text/plain": [
              "(4, 2)"
            ]
          },
          "metadata": {}
        }
      ]
    },
    {
      "cell_type": "code",
      "source": [
        ""
      ],
      "metadata": {
        "id": "SRSLl1MI8zND"
      },
      "execution_count": null,
      "outputs": []
    },
    {
      "cell_type": "markdown",
      "source": [
        "## 파일 읽어오기\n",
        "- 판다스는 'read_csv'라는 기능으로 파일을 읽어올 수 있다.\n",
        "  - CSV(comma Seperated Value)\n",
        "    - 텍스트가 콤마로 구분된 파일\n",
        "  - 엑셀, csv,... 등의 다양한 파일 형태를 읽어서 **데이터프레임** 형태로 자동으로 변환을 해준다\n",
        "\n",
        "\n",
        "- 데이터 폴더에서 공유받은 weight 파일 경로복사\n"
      ],
      "metadata": {
        "id": "rYPTFIO1_aUl"
      }
    },
    {
      "cell_type": "code",
      "source": [
        "rawData = pd.read_csv('/content/drive/MyDrive/멀티캠퍼스/Data폴더/weight_log.csv')\n",
        "rawData\n",
        "# NaN은 결측치. 자료가 없는 부분 (넘파이 때 배웠음)"
      ],
      "metadata": {
        "colab": {
          "base_uri": "https://localhost:8080/",
          "height": 332
        },
        "id": "kTI1Chtf_TCn",
        "outputId": "391bc26c-91a9-4297-e486-0676b99805fc"
      },
      "execution_count": null,
      "outputs": [
        {
          "output_type": "execute_result",
          "data": {
            "text/html": [
              "<div>\n",
              "<style scoped>\n",
              "    .dataframe tbody tr th:only-of-type {\n",
              "        vertical-align: middle;\n",
              "    }\n",
              "\n",
              "    .dataframe tbody tr th {\n",
              "        vertical-align: top;\n",
              "    }\n",
              "\n",
              "    .dataframe thead th {\n",
              "        text-align: right;\n",
              "    }\n",
              "</style>\n",
              "<table border=\"1\" class=\"dataframe\">\n",
              "  <thead>\n",
              "    <tr style=\"text-align: right;\">\n",
              "      <th></th>\n",
              "      <th>회차</th>\n",
              "      <th>이름</th>\n",
              "      <th>측정일</th>\n",
              "      <th>몸무게</th>\n",
              "      <th>단위</th>\n",
              "      <th>담당</th>\n",
              "      <th>지점</th>\n",
              "    </tr>\n",
              "  </thead>\n",
              "  <tbody>\n",
              "    <tr>\n",
              "      <th>0</th>\n",
              "      <td>1</td>\n",
              "      <td>홍길동</td>\n",
              "      <td>2020-03-01</td>\n",
              "      <td>76.4</td>\n",
              "      <td>kg</td>\n",
              "      <td>박현경</td>\n",
              "      <td>관악구</td>\n",
              "    </tr>\n",
              "    <tr>\n",
              "      <th>1</th>\n",
              "      <td>2</td>\n",
              "      <td>홍길동</td>\n",
              "      <td>2020-03-02</td>\n",
              "      <td>75.7</td>\n",
              "      <td>kg</td>\n",
              "      <td>김현경</td>\n",
              "      <td>관악구</td>\n",
              "    </tr>\n",
              "    <tr>\n",
              "      <th>2</th>\n",
              "      <td>3</td>\n",
              "      <td>홍길동</td>\n",
              "      <td>2020-03-03</td>\n",
              "      <td>76.0</td>\n",
              "      <td>kg</td>\n",
              "      <td>최현경</td>\n",
              "      <td>여의도</td>\n",
              "    </tr>\n",
              "    <tr>\n",
              "      <th>3</th>\n",
              "      <td>4</td>\n",
              "      <td>홍길동</td>\n",
              "      <td>2020-03-04</td>\n",
              "      <td>NaN</td>\n",
              "      <td>kg</td>\n",
              "      <td>최현경</td>\n",
              "      <td>여의도</td>\n",
              "    </tr>\n",
              "    <tr>\n",
              "      <th>4</th>\n",
              "      <td>5</td>\n",
              "      <td>홍길동</td>\n",
              "      <td>2020-03-05</td>\n",
              "      <td>76.2</td>\n",
              "      <td>kg</td>\n",
              "      <td>김현경</td>\n",
              "      <td>강남구</td>\n",
              "    </tr>\n",
              "    <tr>\n",
              "      <th>5</th>\n",
              "      <td>6</td>\n",
              "      <td>홍길동</td>\n",
              "      <td>2020-03-06</td>\n",
              "      <td>75.7</td>\n",
              "      <td>kg</td>\n",
              "      <td>최현경</td>\n",
              "      <td>서초구</td>\n",
              "    </tr>\n",
              "    <tr>\n",
              "      <th>6</th>\n",
              "      <td>7</td>\n",
              "      <td>홍길동</td>\n",
              "      <td>2020-03-07</td>\n",
              "      <td>NaN</td>\n",
              "      <td>kg</td>\n",
              "      <td>최현경</td>\n",
              "      <td>서초구</td>\n",
              "    </tr>\n",
              "    <tr>\n",
              "      <th>7</th>\n",
              "      <td>8</td>\n",
              "      <td>홍길동</td>\n",
              "      <td>2020-03-08</td>\n",
              "      <td>NaN</td>\n",
              "      <td>kg</td>\n",
              "      <td>김현경</td>\n",
              "      <td>서초구</td>\n",
              "    </tr>\n",
              "    <tr>\n",
              "      <th>8</th>\n",
              "      <td>9</td>\n",
              "      <td>홍길동</td>\n",
              "      <td>2020-03-09</td>\n",
              "      <td>75.0</td>\n",
              "      <td>kg</td>\n",
              "      <td>김현경</td>\n",
              "      <td>서초구</td>\n",
              "    </tr>\n",
              "  </tbody>\n",
              "</table>\n",
              "</div>"
            ],
            "text/plain": [
              "   회차   이름         측정일   몸무게  단위   담당   지점\n",
              "0   1  홍길동  2020-03-01  76.4  kg  박현경  관악구\n",
              "1   2  홍길동  2020-03-02  75.7  kg  김현경  관악구\n",
              "2   3  홍길동  2020-03-03  76.0  kg  최현경  여의도\n",
              "3   4  홍길동  2020-03-04   NaN  kg  최현경  여의도\n",
              "4   5  홍길동  2020-03-05  76.2  kg  김현경  강남구\n",
              "5   6  홍길동  2020-03-06  75.7  kg  최현경  서초구\n",
              "6   7  홍길동  2020-03-07   NaN  kg  최현경  서초구\n",
              "7   8  홍길동  2020-03-08   NaN  kg  김현경  서초구\n",
              "8   9  홍길동  2020-03-09  75.0  kg  김현경  서초구"
            ]
          },
          "metadata": {},
          "execution_count": 134
        }
      ]
    },
    {
      "cell_type": "code",
      "source": [
        "# 데이터 프레임 사용하기\n",
        " - 판다스는 기능이 너무 다양해서 일단은 기본적으로 사용하는 기능들만 다뤄보자"
      ],
      "metadata": {
        "id": "XXgiIS0zACS9"
      },
      "execution_count": null,
      "outputs": []
    },
    {
      "cell_type": "markdown",
      "source": [
        "# 데이터 프레임 사용하기"
      ],
      "metadata": {
        "id": "jEDrRIZygi6W"
      }
    },
    {
      "cell_type": "markdown",
      "source": [
        "## 출력\n",
        "- head\n",
        "  - 자료의 제일 앞 5개 출력\n",
        "    - 디폴트 파라미터가 5로 지정되어 있음.\n",
        "    - ()안에 파라미터 값을 지정해주면 됨\n",
        "```\n",
        "DataFrame.head(n=5)\n",
        "```\n",
        "\n",
        "- tail\n",
        "  - 자료의 맨 끝 5개 출력\n",
        "```\n",
        "DataFrame.tail(n=5)\n",
        "```"
      ],
      "metadata": {
        "id": "qRzYYxzrAtoh"
      }
    },
    {
      "cell_type": "code",
      "source": [
        "# 상위 5개의 자료만 출력\n",
        "rawData.head()"
      ],
      "metadata": {
        "colab": {
          "base_uri": "https://localhost:8080/",
          "height": 206
        },
        "id": "8gV81I8kAxce",
        "outputId": "f50e6552-18ae-46e9-f7f9-41c2ba67327c"
      },
      "execution_count": null,
      "outputs": [
        {
          "output_type": "execute_result",
          "data": {
            "text/html": [
              "<div>\n",
              "<style scoped>\n",
              "    .dataframe tbody tr th:only-of-type {\n",
              "        vertical-align: middle;\n",
              "    }\n",
              "\n",
              "    .dataframe tbody tr th {\n",
              "        vertical-align: top;\n",
              "    }\n",
              "\n",
              "    .dataframe thead th {\n",
              "        text-align: right;\n",
              "    }\n",
              "</style>\n",
              "<table border=\"1\" class=\"dataframe\">\n",
              "  <thead>\n",
              "    <tr style=\"text-align: right;\">\n",
              "      <th></th>\n",
              "      <th>회차</th>\n",
              "      <th>이름</th>\n",
              "      <th>측정일</th>\n",
              "      <th>몸무게</th>\n",
              "      <th>단위</th>\n",
              "      <th>담당</th>\n",
              "      <th>지점</th>\n",
              "    </tr>\n",
              "  </thead>\n",
              "  <tbody>\n",
              "    <tr>\n",
              "      <th>0</th>\n",
              "      <td>1</td>\n",
              "      <td>홍길동</td>\n",
              "      <td>2020-03-01</td>\n",
              "      <td>76.4</td>\n",
              "      <td>kg</td>\n",
              "      <td>박현경</td>\n",
              "      <td>관악구</td>\n",
              "    </tr>\n",
              "    <tr>\n",
              "      <th>1</th>\n",
              "      <td>2</td>\n",
              "      <td>홍길동</td>\n",
              "      <td>2020-03-02</td>\n",
              "      <td>75.7</td>\n",
              "      <td>kg</td>\n",
              "      <td>김현경</td>\n",
              "      <td>관악구</td>\n",
              "    </tr>\n",
              "    <tr>\n",
              "      <th>2</th>\n",
              "      <td>3</td>\n",
              "      <td>홍길동</td>\n",
              "      <td>2020-03-03</td>\n",
              "      <td>76.0</td>\n",
              "      <td>kg</td>\n",
              "      <td>최현경</td>\n",
              "      <td>여의도</td>\n",
              "    </tr>\n",
              "    <tr>\n",
              "      <th>3</th>\n",
              "      <td>4</td>\n",
              "      <td>홍길동</td>\n",
              "      <td>2020-03-04</td>\n",
              "      <td>NaN</td>\n",
              "      <td>kg</td>\n",
              "      <td>최현경</td>\n",
              "      <td>여의도</td>\n",
              "    </tr>\n",
              "    <tr>\n",
              "      <th>4</th>\n",
              "      <td>5</td>\n",
              "      <td>홍길동</td>\n",
              "      <td>2020-03-05</td>\n",
              "      <td>76.2</td>\n",
              "      <td>kg</td>\n",
              "      <td>김현경</td>\n",
              "      <td>강남구</td>\n",
              "    </tr>\n",
              "  </tbody>\n",
              "</table>\n",
              "</div>"
            ],
            "text/plain": [
              "   회차   이름         측정일   몸무게  단위   담당   지점\n",
              "0   1  홍길동  2020-03-01  76.4  kg  박현경  관악구\n",
              "1   2  홍길동  2020-03-02  75.7  kg  김현경  관악구\n",
              "2   3  홍길동  2020-03-03  76.0  kg  최현경  여의도\n",
              "3   4  홍길동  2020-03-04   NaN  kg  최현경  여의도\n",
              "4   5  홍길동  2020-03-05  76.2  kg  김현경  강남구"
            ]
          },
          "metadata": {},
          "execution_count": 12
        }
      ]
    },
    {
      "cell_type": "code",
      "source": [
        "# 하위 5개의 자료만 출력\n",
        "rawData.tail()"
      ],
      "metadata": {
        "colab": {
          "base_uri": "https://localhost:8080/",
          "height": 206
        },
        "id": "KhQZ3ma1A0iL",
        "outputId": "c7b3943d-314f-4aee-a0b6-30ec985d6300"
      },
      "execution_count": null,
      "outputs": [
        {
          "output_type": "execute_result",
          "data": {
            "text/html": [
              "<div>\n",
              "<style scoped>\n",
              "    .dataframe tbody tr th:only-of-type {\n",
              "        vertical-align: middle;\n",
              "    }\n",
              "\n",
              "    .dataframe tbody tr th {\n",
              "        vertical-align: top;\n",
              "    }\n",
              "\n",
              "    .dataframe thead th {\n",
              "        text-align: right;\n",
              "    }\n",
              "</style>\n",
              "<table border=\"1\" class=\"dataframe\">\n",
              "  <thead>\n",
              "    <tr style=\"text-align: right;\">\n",
              "      <th></th>\n",
              "      <th>회차</th>\n",
              "      <th>이름</th>\n",
              "      <th>측정일</th>\n",
              "      <th>몸무게</th>\n",
              "      <th>단위</th>\n",
              "      <th>담당</th>\n",
              "      <th>지점</th>\n",
              "    </tr>\n",
              "  </thead>\n",
              "  <tbody>\n",
              "    <tr>\n",
              "      <th>4</th>\n",
              "      <td>5</td>\n",
              "      <td>홍길동</td>\n",
              "      <td>2020-03-05</td>\n",
              "      <td>76.2</td>\n",
              "      <td>kg</td>\n",
              "      <td>김현경</td>\n",
              "      <td>강남구</td>\n",
              "    </tr>\n",
              "    <tr>\n",
              "      <th>5</th>\n",
              "      <td>6</td>\n",
              "      <td>홍길동</td>\n",
              "      <td>2020-03-06</td>\n",
              "      <td>75.7</td>\n",
              "      <td>kg</td>\n",
              "      <td>최현경</td>\n",
              "      <td>서초구</td>\n",
              "    </tr>\n",
              "    <tr>\n",
              "      <th>6</th>\n",
              "      <td>7</td>\n",
              "      <td>홍길동</td>\n",
              "      <td>2020-03-07</td>\n",
              "      <td>NaN</td>\n",
              "      <td>kg</td>\n",
              "      <td>최현경</td>\n",
              "      <td>서초구</td>\n",
              "    </tr>\n",
              "    <tr>\n",
              "      <th>7</th>\n",
              "      <td>8</td>\n",
              "      <td>홍길동</td>\n",
              "      <td>2020-03-08</td>\n",
              "      <td>NaN</td>\n",
              "      <td>kg</td>\n",
              "      <td>김현경</td>\n",
              "      <td>서초구</td>\n",
              "    </tr>\n",
              "    <tr>\n",
              "      <th>8</th>\n",
              "      <td>9</td>\n",
              "      <td>홍길동</td>\n",
              "      <td>2020-03-09</td>\n",
              "      <td>75.0</td>\n",
              "      <td>kg</td>\n",
              "      <td>김현경</td>\n",
              "      <td>서초구</td>\n",
              "    </tr>\n",
              "  </tbody>\n",
              "</table>\n",
              "</div>"
            ],
            "text/plain": [
              "   회차   이름         측정일   몸무게  단위   담당   지점\n",
              "4   5  홍길동  2020-03-05  76.2  kg  김현경  강남구\n",
              "5   6  홍길동  2020-03-06  75.7  kg  최현경  서초구\n",
              "6   7  홍길동  2020-03-07   NaN  kg  최현경  서초구\n",
              "7   8  홍길동  2020-03-08   NaN  kg  김현경  서초구\n",
              "8   9  홍길동  2020-03-09  75.0  kg  김현경  서초구"
            ]
          },
          "metadata": {},
          "execution_count": 10
        }
      ]
    },
    {
      "cell_type": "code",
      "source": [
        "# head나 tail이나 파라미터의 기본값이 5로 지정되어 있음\n",
        "# 괄호안에 파라미터를 지정해서 사용 가능\n",
        "rawData.head(2)"
      ],
      "metadata": {
        "colab": {
          "base_uri": "https://localhost:8080/",
          "height": 112
        },
        "id": "wahGK-p5A9H4",
        "outputId": "49b2be21-d6b7-49eb-dd94-d7f3d06b9f91"
      },
      "execution_count": null,
      "outputs": [
        {
          "output_type": "execute_result",
          "data": {
            "text/html": [
              "<div>\n",
              "<style scoped>\n",
              "    .dataframe tbody tr th:only-of-type {\n",
              "        vertical-align: middle;\n",
              "    }\n",
              "\n",
              "    .dataframe tbody tr th {\n",
              "        vertical-align: top;\n",
              "    }\n",
              "\n",
              "    .dataframe thead th {\n",
              "        text-align: right;\n",
              "    }\n",
              "</style>\n",
              "<table border=\"1\" class=\"dataframe\">\n",
              "  <thead>\n",
              "    <tr style=\"text-align: right;\">\n",
              "      <th></th>\n",
              "      <th>회차</th>\n",
              "      <th>이름</th>\n",
              "      <th>측정일</th>\n",
              "      <th>몸무게</th>\n",
              "      <th>단위</th>\n",
              "      <th>담당</th>\n",
              "      <th>지점</th>\n",
              "    </tr>\n",
              "  </thead>\n",
              "  <tbody>\n",
              "    <tr>\n",
              "      <th>0</th>\n",
              "      <td>1</td>\n",
              "      <td>홍길동</td>\n",
              "      <td>2020-03-01</td>\n",
              "      <td>76.4</td>\n",
              "      <td>kg</td>\n",
              "      <td>박현경</td>\n",
              "      <td>관악구</td>\n",
              "    </tr>\n",
              "    <tr>\n",
              "      <th>1</th>\n",
              "      <td>2</td>\n",
              "      <td>홍길동</td>\n",
              "      <td>2020-03-02</td>\n",
              "      <td>75.7</td>\n",
              "      <td>kg</td>\n",
              "      <td>김현경</td>\n",
              "      <td>관악구</td>\n",
              "    </tr>\n",
              "  </tbody>\n",
              "</table>\n",
              "</div>"
            ],
            "text/plain": [
              "   회차   이름         측정일   몸무게  단위   담당   지점\n",
              "0   1  홍길동  2020-03-01  76.4  kg  박현경  관악구\n",
              "1   2  홍길동  2020-03-02  75.7  kg  김현경  관악구"
            ]
          },
          "metadata": {},
          "execution_count": 14
        }
      ]
    },
    {
      "cell_type": "code",
      "source": [
        "rawData.tail(2)"
      ],
      "metadata": {
        "colab": {
          "base_uri": "https://localhost:8080/",
          "height": 112
        },
        "id": "RwVA8OlpB6GY",
        "outputId": "a7f2af7e-8e0f-4d02-82b3-d6126feca8be"
      },
      "execution_count": null,
      "outputs": [
        {
          "output_type": "execute_result",
          "data": {
            "text/html": [
              "<div>\n",
              "<style scoped>\n",
              "    .dataframe tbody tr th:only-of-type {\n",
              "        vertical-align: middle;\n",
              "    }\n",
              "\n",
              "    .dataframe tbody tr th {\n",
              "        vertical-align: top;\n",
              "    }\n",
              "\n",
              "    .dataframe thead th {\n",
              "        text-align: right;\n",
              "    }\n",
              "</style>\n",
              "<table border=\"1\" class=\"dataframe\">\n",
              "  <thead>\n",
              "    <tr style=\"text-align: right;\">\n",
              "      <th></th>\n",
              "      <th>회차</th>\n",
              "      <th>이름</th>\n",
              "      <th>측정일</th>\n",
              "      <th>몸무게</th>\n",
              "      <th>단위</th>\n",
              "      <th>담당</th>\n",
              "      <th>지점</th>\n",
              "    </tr>\n",
              "  </thead>\n",
              "  <tbody>\n",
              "    <tr>\n",
              "      <th>7</th>\n",
              "      <td>8</td>\n",
              "      <td>홍길동</td>\n",
              "      <td>2020-03-08</td>\n",
              "      <td>NaN</td>\n",
              "      <td>kg</td>\n",
              "      <td>김현경</td>\n",
              "      <td>서초구</td>\n",
              "    </tr>\n",
              "    <tr>\n",
              "      <th>8</th>\n",
              "      <td>9</td>\n",
              "      <td>홍길동</td>\n",
              "      <td>2020-03-09</td>\n",
              "      <td>75.0</td>\n",
              "      <td>kg</td>\n",
              "      <td>김현경</td>\n",
              "      <td>서초구</td>\n",
              "    </tr>\n",
              "  </tbody>\n",
              "</table>\n",
              "</div>"
            ],
            "text/plain": [
              "   회차   이름         측정일   몸무게  단위   담당   지점\n",
              "7   8  홍길동  2020-03-08   NaN  kg  김현경  서초구\n",
              "8   9  홍길동  2020-03-09  75.0  kg  김현경  서초구"
            ]
          },
          "metadata": {},
          "execution_count": 15
        }
      ]
    },
    {
      "cell_type": "markdown",
      "source": [
        "## 데이터 요약된 정보"
      ],
      "metadata": {
        "id": "TZpxClP1B8_o"
      }
    },
    {
      "cell_type": "code",
      "source": [
        "rawData.info()\n",
        "# 몸무게에 6 non-null => 몸무게에 3개의 결치가 있다는 뜻\n",
        "# object 는 문자열이라는 의미. 스트링을 안 쓰고 오브젝트는 쓴다고 함"
      ],
      "metadata": {
        "colab": {
          "base_uri": "https://localhost:8080/"
        },
        "id": "dDz6U0U4B7tl",
        "outputId": "34db3bb4-cda8-4895-c1ba-301cb098c256"
      },
      "execution_count": null,
      "outputs": [
        {
          "output_type": "stream",
          "name": "stdout",
          "text": [
            "<class 'pandas.core.frame.DataFrame'>\n",
            "RangeIndex: 9 entries, 0 to 8\n",
            "Data columns (total 7 columns):\n",
            " #   Column  Non-Null Count  Dtype  \n",
            "---  ------  --------------  -----  \n",
            " 0   회차      9 non-null      int64  \n",
            " 1   이름      9 non-null      object \n",
            " 2   측정일     9 non-null      object \n",
            " 3   몸무게     6 non-null      float64\n",
            " 4   단위      9 non-null      object \n",
            " 5   담당      9 non-null      object \n",
            " 6   지점      9 non-null      object \n",
            "dtypes: float64(1), int64(1), object(5)\n",
            "memory usage: 632.0+ bytes\n"
          ]
        }
      ]
    },
    {
      "cell_type": "code",
      "source": [
        "# 자료의 기본적인 통계치\n",
        "# 숫자 형태의 통계치.\n",
        "# 이름 등의 문자값은 안 나옴\n",
        "rawData.describe()"
      ],
      "metadata": {
        "colab": {
          "base_uri": "https://localhost:8080/",
          "height": 300
        },
        "id": "Iw75ONM0CCWl",
        "outputId": "de194837-623b-4b6a-d81f-4ac5dbb5c402"
      },
      "execution_count": null,
      "outputs": [
        {
          "output_type": "execute_result",
          "data": {
            "text/html": [
              "<div>\n",
              "<style scoped>\n",
              "    .dataframe tbody tr th:only-of-type {\n",
              "        vertical-align: middle;\n",
              "    }\n",
              "\n",
              "    .dataframe tbody tr th {\n",
              "        vertical-align: top;\n",
              "    }\n",
              "\n",
              "    .dataframe thead th {\n",
              "        text-align: right;\n",
              "    }\n",
              "</style>\n",
              "<table border=\"1\" class=\"dataframe\">\n",
              "  <thead>\n",
              "    <tr style=\"text-align: right;\">\n",
              "      <th></th>\n",
              "      <th>회차</th>\n",
              "      <th>몸무게</th>\n",
              "    </tr>\n",
              "  </thead>\n",
              "  <tbody>\n",
              "    <tr>\n",
              "      <th>count</th>\n",
              "      <td>9.000000</td>\n",
              "      <td>6.000000</td>\n",
              "    </tr>\n",
              "    <tr>\n",
              "      <th>mean</th>\n",
              "      <td>5.000000</td>\n",
              "      <td>75.833333</td>\n",
              "    </tr>\n",
              "    <tr>\n",
              "      <th>std</th>\n",
              "      <td>2.738613</td>\n",
              "      <td>0.492612</td>\n",
              "    </tr>\n",
              "    <tr>\n",
              "      <th>min</th>\n",
              "      <td>1.000000</td>\n",
              "      <td>75.000000</td>\n",
              "    </tr>\n",
              "    <tr>\n",
              "      <th>25%</th>\n",
              "      <td>3.000000</td>\n",
              "      <td>75.700000</td>\n",
              "    </tr>\n",
              "    <tr>\n",
              "      <th>50%</th>\n",
              "      <td>5.000000</td>\n",
              "      <td>75.850000</td>\n",
              "    </tr>\n",
              "    <tr>\n",
              "      <th>75%</th>\n",
              "      <td>7.000000</td>\n",
              "      <td>76.150000</td>\n",
              "    </tr>\n",
              "    <tr>\n",
              "      <th>max</th>\n",
              "      <td>9.000000</td>\n",
              "      <td>76.400000</td>\n",
              "    </tr>\n",
              "  </tbody>\n",
              "</table>\n",
              "</div>"
            ],
            "text/plain": [
              "             회차        몸무게\n",
              "count  9.000000   6.000000\n",
              "mean   5.000000  75.833333\n",
              "std    2.738613   0.492612\n",
              "min    1.000000  75.000000\n",
              "25%    3.000000  75.700000\n",
              "50%    5.000000  75.850000\n",
              "75%    7.000000  76.150000\n",
              "max    9.000000  76.400000"
            ]
          },
          "metadata": {},
          "execution_count": 17
        }
      ]
    },
    {
      "cell_type": "code",
      "source": [
        "# 문자값까지 통계치를 보고 싶다면\n",
        "rawData.describe(include='all')\n",
        "# top 은 빈도수"
      ],
      "metadata": {
        "colab": {
          "base_uri": "https://localhost:8080/",
          "height": 394
        },
        "id": "LuHQx9x3CiVI",
        "outputId": "8351748b-5dbc-4161-ee30-a536f9e1f193"
      },
      "execution_count": null,
      "outputs": [
        {
          "output_type": "execute_result",
          "data": {
            "text/html": [
              "<div>\n",
              "<style scoped>\n",
              "    .dataframe tbody tr th:only-of-type {\n",
              "        vertical-align: middle;\n",
              "    }\n",
              "\n",
              "    .dataframe tbody tr th {\n",
              "        vertical-align: top;\n",
              "    }\n",
              "\n",
              "    .dataframe thead th {\n",
              "        text-align: right;\n",
              "    }\n",
              "</style>\n",
              "<table border=\"1\" class=\"dataframe\">\n",
              "  <thead>\n",
              "    <tr style=\"text-align: right;\">\n",
              "      <th></th>\n",
              "      <th>회차</th>\n",
              "      <th>이름</th>\n",
              "      <th>측정일</th>\n",
              "      <th>몸무게</th>\n",
              "      <th>단위</th>\n",
              "      <th>담당</th>\n",
              "      <th>지점</th>\n",
              "    </tr>\n",
              "  </thead>\n",
              "  <tbody>\n",
              "    <tr>\n",
              "      <th>count</th>\n",
              "      <td>9.000000</td>\n",
              "      <td>9</td>\n",
              "      <td>9</td>\n",
              "      <td>6.000000</td>\n",
              "      <td>9</td>\n",
              "      <td>9</td>\n",
              "      <td>9</td>\n",
              "    </tr>\n",
              "    <tr>\n",
              "      <th>unique</th>\n",
              "      <td>NaN</td>\n",
              "      <td>1</td>\n",
              "      <td>9</td>\n",
              "      <td>NaN</td>\n",
              "      <td>1</td>\n",
              "      <td>3</td>\n",
              "      <td>4</td>\n",
              "    </tr>\n",
              "    <tr>\n",
              "      <th>top</th>\n",
              "      <td>NaN</td>\n",
              "      <td>홍길동</td>\n",
              "      <td>2020-03-04</td>\n",
              "      <td>NaN</td>\n",
              "      <td>kg</td>\n",
              "      <td>김현경</td>\n",
              "      <td>서초구</td>\n",
              "    </tr>\n",
              "    <tr>\n",
              "      <th>freq</th>\n",
              "      <td>NaN</td>\n",
              "      <td>9</td>\n",
              "      <td>1</td>\n",
              "      <td>NaN</td>\n",
              "      <td>9</td>\n",
              "      <td>4</td>\n",
              "      <td>4</td>\n",
              "    </tr>\n",
              "    <tr>\n",
              "      <th>mean</th>\n",
              "      <td>5.000000</td>\n",
              "      <td>NaN</td>\n",
              "      <td>NaN</td>\n",
              "      <td>75.833333</td>\n",
              "      <td>NaN</td>\n",
              "      <td>NaN</td>\n",
              "      <td>NaN</td>\n",
              "    </tr>\n",
              "    <tr>\n",
              "      <th>std</th>\n",
              "      <td>2.738613</td>\n",
              "      <td>NaN</td>\n",
              "      <td>NaN</td>\n",
              "      <td>0.492612</td>\n",
              "      <td>NaN</td>\n",
              "      <td>NaN</td>\n",
              "      <td>NaN</td>\n",
              "    </tr>\n",
              "    <tr>\n",
              "      <th>min</th>\n",
              "      <td>1.000000</td>\n",
              "      <td>NaN</td>\n",
              "      <td>NaN</td>\n",
              "      <td>75.000000</td>\n",
              "      <td>NaN</td>\n",
              "      <td>NaN</td>\n",
              "      <td>NaN</td>\n",
              "    </tr>\n",
              "    <tr>\n",
              "      <th>25%</th>\n",
              "      <td>3.000000</td>\n",
              "      <td>NaN</td>\n",
              "      <td>NaN</td>\n",
              "      <td>75.700000</td>\n",
              "      <td>NaN</td>\n",
              "      <td>NaN</td>\n",
              "      <td>NaN</td>\n",
              "    </tr>\n",
              "    <tr>\n",
              "      <th>50%</th>\n",
              "      <td>5.000000</td>\n",
              "      <td>NaN</td>\n",
              "      <td>NaN</td>\n",
              "      <td>75.850000</td>\n",
              "      <td>NaN</td>\n",
              "      <td>NaN</td>\n",
              "      <td>NaN</td>\n",
              "    </tr>\n",
              "    <tr>\n",
              "      <th>75%</th>\n",
              "      <td>7.000000</td>\n",
              "      <td>NaN</td>\n",
              "      <td>NaN</td>\n",
              "      <td>76.150000</td>\n",
              "      <td>NaN</td>\n",
              "      <td>NaN</td>\n",
              "      <td>NaN</td>\n",
              "    </tr>\n",
              "    <tr>\n",
              "      <th>max</th>\n",
              "      <td>9.000000</td>\n",
              "      <td>NaN</td>\n",
              "      <td>NaN</td>\n",
              "      <td>76.400000</td>\n",
              "      <td>NaN</td>\n",
              "      <td>NaN</td>\n",
              "      <td>NaN</td>\n",
              "    </tr>\n",
              "  </tbody>\n",
              "</table>\n",
              "</div>"
            ],
            "text/plain": [
              "              회차   이름         측정일        몸무게   단위   담당   지점\n",
              "count   9.000000    9           9   6.000000    9    9    9\n",
              "unique       NaN    1           9        NaN    1    3    4\n",
              "top          NaN  홍길동  2020-03-04        NaN   kg  김현경  서초구\n",
              "freq         NaN    9           1        NaN    9    4    4\n",
              "mean    5.000000  NaN         NaN  75.833333  NaN  NaN  NaN\n",
              "std     2.738613  NaN         NaN   0.492612  NaN  NaN  NaN\n",
              "min     1.000000  NaN         NaN  75.000000  NaN  NaN  NaN\n",
              "25%     3.000000  NaN         NaN  75.700000  NaN  NaN  NaN\n",
              "50%     5.000000  NaN         NaN  75.850000  NaN  NaN  NaN\n",
              "75%     7.000000  NaN         NaN  76.150000  NaN  NaN  NaN\n",
              "max     9.000000  NaN         NaN  76.400000  NaN  NaN  NaN"
            ]
          },
          "metadata": {},
          "execution_count": 18
        }
      ]
    },
    {
      "cell_type": "markdown",
      "source": [
        "## 인덱싱 (색인)\n",
        "- 넘파이의 배열 인덱스와 유사\n",
        "- 차이점은 **배열은 행우선 인덱스**\n",
        "- 판다스의 데이터프레임은 기본적으로 **열우선** 인덱스\n",
        "    - **주의** 데이터프레임에서는 행을 검색하려고 하면 안 됨"
      ],
      "metadata": {
        "id": "PO6mVJ1vC-GE"
      }
    },
    {
      "cell_type": "markdown",
      "source": [
        "### 열 인덱싱"
      ],
      "metadata": {
        "id": "tBCU9JpyEhSF"
      }
    },
    {
      "cell_type": "code",
      "source": [
        "#컬럼이름이 컬럼인덱스?"
      ],
      "metadata": {
        "id": "j-eWbEkPCuB8"
      },
      "execution_count": null,
      "outputs": []
    },
    {
      "cell_type": "code",
      "source": [
        "# 열을 기준으로 시리즈를 선택할 수 있음\n",
        "# 하나만 있는 경우 열인덱스를 의미하는 것\n",
        "# 데이터 프레임은 행을 선택하지 않고, 시리즈를 선택하는 방향으로 인덱스 함\n",
        "rawData['몸무게']\n"
      ],
      "metadata": {
        "colab": {
          "base_uri": "https://localhost:8080/"
        },
        "id": "GKWjMOiZDW88",
        "outputId": "7fa7c9d1-4943-4b77-cdf7-8986e7343421"
      },
      "execution_count": null,
      "outputs": [
        {
          "output_type": "execute_result",
          "data": {
            "text/plain": [
              "0    76.4\n",
              "1    75.7\n",
              "2    76.0\n",
              "3     NaN\n",
              "4    76.2\n",
              "5    75.7\n",
              "6     NaN\n",
              "7     NaN\n",
              "8    75.0\n",
              "Name: 몸무게, dtype: float64"
            ]
          },
          "metadata": {},
          "execution_count": 20
        }
      ]
    },
    {
      "cell_type": "code",
      "source": [
        "type( rawData['몸무게'] )"
      ],
      "metadata": {
        "colab": {
          "base_uri": "https://localhost:8080/"
        },
        "id": "bHAHCEWJDbpU",
        "outputId": "8fcf39ec-471b-4173-ea98-866d2cede7fd"
      },
      "execution_count": null,
      "outputs": [
        {
          "output_type": "execute_result",
          "data": {
            "text/plain": [
              "pandas.core.series.Series"
            ]
          },
          "metadata": {},
          "execution_count": 21
        }
      ]
    },
    {
      "cell_type": "code",
      "source": [
        "# 배열 인덱스도 지원 함\n",
        "col = ['이름', '몸무게','측정일']\n",
        "rawData[col]"
      ],
      "metadata": {
        "colab": {
          "base_uri": "https://localhost:8080/",
          "height": 332
        },
        "id": "dlpTbUpsDwK5",
        "outputId": "3a36e3cf-256c-4a3f-a943-846378475fcd"
      },
      "execution_count": null,
      "outputs": [
        {
          "output_type": "execute_result",
          "data": {
            "text/html": [
              "<div>\n",
              "<style scoped>\n",
              "    .dataframe tbody tr th:only-of-type {\n",
              "        vertical-align: middle;\n",
              "    }\n",
              "\n",
              "    .dataframe tbody tr th {\n",
              "        vertical-align: top;\n",
              "    }\n",
              "\n",
              "    .dataframe thead th {\n",
              "        text-align: right;\n",
              "    }\n",
              "</style>\n",
              "<table border=\"1\" class=\"dataframe\">\n",
              "  <thead>\n",
              "    <tr style=\"text-align: right;\">\n",
              "      <th></th>\n",
              "      <th>이름</th>\n",
              "      <th>몸무게</th>\n",
              "      <th>측정일</th>\n",
              "    </tr>\n",
              "  </thead>\n",
              "  <tbody>\n",
              "    <tr>\n",
              "      <th>0</th>\n",
              "      <td>홍길동</td>\n",
              "      <td>76.4</td>\n",
              "      <td>2020-03-01</td>\n",
              "    </tr>\n",
              "    <tr>\n",
              "      <th>1</th>\n",
              "      <td>홍길동</td>\n",
              "      <td>75.7</td>\n",
              "      <td>2020-03-02</td>\n",
              "    </tr>\n",
              "    <tr>\n",
              "      <th>2</th>\n",
              "      <td>홍길동</td>\n",
              "      <td>76.0</td>\n",
              "      <td>2020-03-03</td>\n",
              "    </tr>\n",
              "    <tr>\n",
              "      <th>3</th>\n",
              "      <td>홍길동</td>\n",
              "      <td>NaN</td>\n",
              "      <td>2020-03-04</td>\n",
              "    </tr>\n",
              "    <tr>\n",
              "      <th>4</th>\n",
              "      <td>홍길동</td>\n",
              "      <td>76.2</td>\n",
              "      <td>2020-03-05</td>\n",
              "    </tr>\n",
              "    <tr>\n",
              "      <th>5</th>\n",
              "      <td>홍길동</td>\n",
              "      <td>75.7</td>\n",
              "      <td>2020-03-06</td>\n",
              "    </tr>\n",
              "    <tr>\n",
              "      <th>6</th>\n",
              "      <td>홍길동</td>\n",
              "      <td>NaN</td>\n",
              "      <td>2020-03-07</td>\n",
              "    </tr>\n",
              "    <tr>\n",
              "      <th>7</th>\n",
              "      <td>홍길동</td>\n",
              "      <td>NaN</td>\n",
              "      <td>2020-03-08</td>\n",
              "    </tr>\n",
              "    <tr>\n",
              "      <th>8</th>\n",
              "      <td>홍길동</td>\n",
              "      <td>75.0</td>\n",
              "      <td>2020-03-09</td>\n",
              "    </tr>\n",
              "  </tbody>\n",
              "</table>\n",
              "</div>"
            ],
            "text/plain": [
              "    이름   몸무게         측정일\n",
              "0  홍길동  76.4  2020-03-01\n",
              "1  홍길동  75.7  2020-03-02\n",
              "2  홍길동  76.0  2020-03-03\n",
              "3  홍길동   NaN  2020-03-04\n",
              "4  홍길동  76.2  2020-03-05\n",
              "5  홍길동  75.7  2020-03-06\n",
              "6  홍길동   NaN  2020-03-07\n",
              "7  홍길동   NaN  2020-03-08\n",
              "8  홍길동  75.0  2020-03-09"
            ]
          },
          "metadata": {},
          "execution_count": 25
        }
      ]
    },
    {
      "cell_type": "code",
      "source": [
        ""
      ],
      "metadata": {
        "id": "NGIeaQTiENg-"
      },
      "execution_count": null,
      "outputs": []
    },
    {
      "cell_type": "markdown",
      "source": [
        "### 행 인덱싱\n",
        "- 당연히 행도 선택할 수 있어야 함\n",
        "- loc, iloc 을 이용해서\n",
        "- 해당 행으 **시리즈 형태**로 반환해줌\n"
      ],
      "metadata": {
        "id": "KZuTxDD5Eori"
      }
    },
    {
      "cell_type": "code",
      "source": [
        "#첫번째 행을 선택해보자\n",
        "rawData.head(1)"
      ],
      "metadata": {
        "colab": {
          "base_uri": "https://localhost:8080/",
          "height": 81
        },
        "id": "B1syjhfUEuBI",
        "outputId": "adfe2308-8f9b-4842-8e24-28e77721c559"
      },
      "execution_count": null,
      "outputs": [
        {
          "output_type": "execute_result",
          "data": {
            "text/html": [
              "<div>\n",
              "<style scoped>\n",
              "    .dataframe tbody tr th:only-of-type {\n",
              "        vertical-align: middle;\n",
              "    }\n",
              "\n",
              "    .dataframe tbody tr th {\n",
              "        vertical-align: top;\n",
              "    }\n",
              "\n",
              "    .dataframe thead th {\n",
              "        text-align: right;\n",
              "    }\n",
              "</style>\n",
              "<table border=\"1\" class=\"dataframe\">\n",
              "  <thead>\n",
              "    <tr style=\"text-align: right;\">\n",
              "      <th></th>\n",
              "      <th>회차</th>\n",
              "      <th>이름</th>\n",
              "      <th>측정일</th>\n",
              "      <th>몸무게</th>\n",
              "      <th>단위</th>\n",
              "      <th>담당</th>\n",
              "      <th>지점</th>\n",
              "    </tr>\n",
              "  </thead>\n",
              "  <tbody>\n",
              "    <tr>\n",
              "      <th>0</th>\n",
              "      <td>1</td>\n",
              "      <td>홍길동</td>\n",
              "      <td>2020-03-01</td>\n",
              "      <td>76.4</td>\n",
              "      <td>kg</td>\n",
              "      <td>박현경</td>\n",
              "      <td>관악구</td>\n",
              "    </tr>\n",
              "  </tbody>\n",
              "</table>\n",
              "</div>"
            ],
            "text/plain": [
              "   회차   이름         측정일   몸무게  단위   담당   지점\n",
              "0   1  홍길동  2020-03-01  76.4  kg  박현경  관악구"
            ]
          },
          "metadata": {},
          "execution_count": 26
        }
      ]
    },
    {
      "cell_type": "code",
      "source": [
        "# 위의 0번 인덱스를 선택하려면\n",
        "rawData.loc[0]"
      ],
      "metadata": {
        "colab": {
          "base_uri": "https://localhost:8080/"
        },
        "id": "0gGUEW0fEx1y",
        "outputId": "5042416a-a5c3-4bda-b0f7-ecc5fe8342a5"
      },
      "execution_count": null,
      "outputs": [
        {
          "output_type": "execute_result",
          "data": {
            "text/plain": [
              "회차              1\n",
              "이름            홍길동\n",
              "측정일    2020-03-01\n",
              "몸무게          76.4\n",
              "단위             kg\n",
              "담당            박현경\n",
              "지점            관악구\n",
              "Name: 0, dtype: object"
            ]
          },
          "metadata": {},
          "execution_count": 27
        }
      ]
    },
    {
      "cell_type": "code",
      "source": [
        "# loc 와 iloc 는 아직까지는 별 차이가 없음. 차이는 추후에 다룰 듯?\n",
        "type(rawData.loc[0])"
      ],
      "metadata": {
        "colab": {
          "base_uri": "https://localhost:8080/"
        },
        "id": "UBLo0PObE3-I",
        "outputId": "42fa0b3a-4b57-4172-e243-f5c5bdac8506"
      },
      "execution_count": null,
      "outputs": [
        {
          "output_type": "execute_result",
          "data": {
            "text/plain": [
              "pandas.core.series.Series"
            ]
          },
          "metadata": {},
          "execution_count": 28
        }
      ]
    },
    {
      "cell_type": "code",
      "source": [
        "rawData.iloc[0]"
      ],
      "metadata": {
        "colab": {
          "base_uri": "https://localhost:8080/"
        },
        "id": "OcU9sdNhFGZq",
        "outputId": "23f50406-4fa0-4eb4-a529-d73cccb0df34"
      },
      "execution_count": null,
      "outputs": [
        {
          "output_type": "execute_result",
          "data": {
            "text/plain": [
              "회차              1\n",
              "이름            홍길동\n",
              "측정일    2020-03-01\n",
              "몸무게          76.4\n",
              "단위             kg\n",
              "담당            박현경\n",
              "지점            관악구\n",
              "Name: 0, dtype: object"
            ]
          },
          "metadata": {},
          "execution_count": 29
        }
      ]
    },
    {
      "cell_type": "code",
      "source": [
        "# 뒤집기.\n",
        "# 행과 열을 바꿈 (Transfer?)\n",
        "rawData.T"
      ],
      "metadata": {
        "colab": {
          "base_uri": "https://localhost:8080/",
          "height": 269
        },
        "id": "liyMpc1wFJpQ",
        "outputId": "e757da91-5fd9-4f69-cb19-c12ebd0d9389"
      },
      "execution_count": null,
      "outputs": [
        {
          "output_type": "execute_result",
          "data": {
            "text/html": [
              "<div>\n",
              "<style scoped>\n",
              "    .dataframe tbody tr th:only-of-type {\n",
              "        vertical-align: middle;\n",
              "    }\n",
              "\n",
              "    .dataframe tbody tr th {\n",
              "        vertical-align: top;\n",
              "    }\n",
              "\n",
              "    .dataframe thead th {\n",
              "        text-align: right;\n",
              "    }\n",
              "</style>\n",
              "<table border=\"1\" class=\"dataframe\">\n",
              "  <thead>\n",
              "    <tr style=\"text-align: right;\">\n",
              "      <th></th>\n",
              "      <th>0</th>\n",
              "      <th>1</th>\n",
              "      <th>2</th>\n",
              "      <th>3</th>\n",
              "      <th>4</th>\n",
              "      <th>5</th>\n",
              "      <th>6</th>\n",
              "      <th>7</th>\n",
              "      <th>8</th>\n",
              "    </tr>\n",
              "  </thead>\n",
              "  <tbody>\n",
              "    <tr>\n",
              "      <th>회차</th>\n",
              "      <td>1</td>\n",
              "      <td>2</td>\n",
              "      <td>3</td>\n",
              "      <td>4</td>\n",
              "      <td>5</td>\n",
              "      <td>6</td>\n",
              "      <td>7</td>\n",
              "      <td>8</td>\n",
              "      <td>9</td>\n",
              "    </tr>\n",
              "    <tr>\n",
              "      <th>이름</th>\n",
              "      <td>홍길동</td>\n",
              "      <td>홍길동</td>\n",
              "      <td>홍길동</td>\n",
              "      <td>홍길동</td>\n",
              "      <td>홍길동</td>\n",
              "      <td>홍길동</td>\n",
              "      <td>홍길동</td>\n",
              "      <td>홍길동</td>\n",
              "      <td>홍길동</td>\n",
              "    </tr>\n",
              "    <tr>\n",
              "      <th>측정일</th>\n",
              "      <td>2020-03-01</td>\n",
              "      <td>2020-03-02</td>\n",
              "      <td>2020-03-03</td>\n",
              "      <td>2020-03-04</td>\n",
              "      <td>2020-03-05</td>\n",
              "      <td>2020-03-06</td>\n",
              "      <td>2020-03-07</td>\n",
              "      <td>2020-03-08</td>\n",
              "      <td>2020-03-09</td>\n",
              "    </tr>\n",
              "    <tr>\n",
              "      <th>몸무게</th>\n",
              "      <td>76.4</td>\n",
              "      <td>75.7</td>\n",
              "      <td>76</td>\n",
              "      <td>NaN</td>\n",
              "      <td>76.2</td>\n",
              "      <td>75.7</td>\n",
              "      <td>NaN</td>\n",
              "      <td>NaN</td>\n",
              "      <td>75</td>\n",
              "    </tr>\n",
              "    <tr>\n",
              "      <th>단위</th>\n",
              "      <td>kg</td>\n",
              "      <td>kg</td>\n",
              "      <td>kg</td>\n",
              "      <td>kg</td>\n",
              "      <td>kg</td>\n",
              "      <td>kg</td>\n",
              "      <td>kg</td>\n",
              "      <td>kg</td>\n",
              "      <td>kg</td>\n",
              "    </tr>\n",
              "    <tr>\n",
              "      <th>담당</th>\n",
              "      <td>박현경</td>\n",
              "      <td>김현경</td>\n",
              "      <td>최현경</td>\n",
              "      <td>최현경</td>\n",
              "      <td>김현경</td>\n",
              "      <td>최현경</td>\n",
              "      <td>최현경</td>\n",
              "      <td>김현경</td>\n",
              "      <td>김현경</td>\n",
              "    </tr>\n",
              "    <tr>\n",
              "      <th>지점</th>\n",
              "      <td>관악구</td>\n",
              "      <td>관악구</td>\n",
              "      <td>여의도</td>\n",
              "      <td>여의도</td>\n",
              "      <td>강남구</td>\n",
              "      <td>서초구</td>\n",
              "      <td>서초구</td>\n",
              "      <td>서초구</td>\n",
              "      <td>서초구</td>\n",
              "    </tr>\n",
              "  </tbody>\n",
              "</table>\n",
              "</div>"
            ],
            "text/plain": [
              "              0           1           2  ...           6           7           8\n",
              "회차            1           2           3  ...           7           8           9\n",
              "이름          홍길동         홍길동         홍길동  ...         홍길동         홍길동         홍길동\n",
              "측정일  2020-03-01  2020-03-02  2020-03-03  ...  2020-03-07  2020-03-08  2020-03-09\n",
              "몸무게        76.4        75.7          76  ...         NaN         NaN          75\n",
              "단위           kg          kg          kg  ...          kg          kg          kg\n",
              "담당          박현경         김현경         최현경  ...         최현경         김현경         김현경\n",
              "지점          관악구         관악구         여의도  ...         서초구         서초구         서초구\n",
              "\n",
              "[7 rows x 9 columns]"
            ]
          },
          "metadata": {},
          "execution_count": 32
        }
      ]
    },
    {
      "cell_type": "markdown",
      "source": [
        "### 슬라이스도 가능\n",
        "- 판다스의 슬라이스는 **마지막 인덱스 포함**하고 있다\n"
      ],
      "metadata": {
        "id": "dootLdCNXkXT"
      }
    },
    {
      "cell_type": "code",
      "source": [
        "rawData.loc[0:3]\n",
        "# 마지막 인덱스 3까지 포함"
      ],
      "metadata": {
        "colab": {
          "base_uri": "https://localhost:8080/",
          "height": 174
        },
        "id": "nWfqAKMCXluR",
        "outputId": "842c80b0-f3c8-44db-e8d7-4dbdc95f759d"
      },
      "execution_count": null,
      "outputs": [
        {
          "output_type": "execute_result",
          "data": {
            "text/html": [
              "<div>\n",
              "<style scoped>\n",
              "    .dataframe tbody tr th:only-of-type {\n",
              "        vertical-align: middle;\n",
              "    }\n",
              "\n",
              "    .dataframe tbody tr th {\n",
              "        vertical-align: top;\n",
              "    }\n",
              "\n",
              "    .dataframe thead th {\n",
              "        text-align: right;\n",
              "    }\n",
              "</style>\n",
              "<table border=\"1\" class=\"dataframe\">\n",
              "  <thead>\n",
              "    <tr style=\"text-align: right;\">\n",
              "      <th></th>\n",
              "      <th>회차</th>\n",
              "      <th>이름</th>\n",
              "      <th>측정일</th>\n",
              "      <th>몸무게</th>\n",
              "      <th>단위</th>\n",
              "      <th>담당</th>\n",
              "      <th>지점</th>\n",
              "    </tr>\n",
              "  </thead>\n",
              "  <tbody>\n",
              "    <tr>\n",
              "      <th>0</th>\n",
              "      <td>1</td>\n",
              "      <td>홍길동</td>\n",
              "      <td>2020-03-01</td>\n",
              "      <td>76.4</td>\n",
              "      <td>kg</td>\n",
              "      <td>박현경</td>\n",
              "      <td>관악구</td>\n",
              "    </tr>\n",
              "    <tr>\n",
              "      <th>1</th>\n",
              "      <td>2</td>\n",
              "      <td>홍길동</td>\n",
              "      <td>2020-03-02</td>\n",
              "      <td>75.7</td>\n",
              "      <td>kg</td>\n",
              "      <td>김현경</td>\n",
              "      <td>관악구</td>\n",
              "    </tr>\n",
              "    <tr>\n",
              "      <th>2</th>\n",
              "      <td>3</td>\n",
              "      <td>홍길동</td>\n",
              "      <td>2020-03-03</td>\n",
              "      <td>76.0</td>\n",
              "      <td>kg</td>\n",
              "      <td>최현경</td>\n",
              "      <td>여의도</td>\n",
              "    </tr>\n",
              "    <tr>\n",
              "      <th>3</th>\n",
              "      <td>4</td>\n",
              "      <td>홍길동</td>\n",
              "      <td>2020-03-04</td>\n",
              "      <td>NaN</td>\n",
              "      <td>kg</td>\n",
              "      <td>최현경</td>\n",
              "      <td>여의도</td>\n",
              "    </tr>\n",
              "  </tbody>\n",
              "</table>\n",
              "</div>"
            ],
            "text/plain": [
              "   회차   이름         측정일   몸무게  단위   담당   지점\n",
              "0   1  홍길동  2020-03-01  76.4  kg  박현경  관악구\n",
              "1   2  홍길동  2020-03-02  75.7  kg  김현경  관악구\n",
              "2   3  홍길동  2020-03-03  76.0  kg  최현경  여의도\n",
              "3   4  홍길동  2020-03-04   NaN  kg  최현경  여의도"
            ]
          },
          "metadata": {},
          "execution_count": 33
        }
      ]
    },
    {
      "cell_type": "code",
      "source": [
        "# 행에 대해서 배열 인덱싱\n",
        "rawData.loc[ [1, 3, 5] ]"
      ],
      "metadata": {
        "colab": {
          "base_uri": "https://localhost:8080/",
          "height": 144
        },
        "id": "c5hqbfAvFddV",
        "outputId": "d4737e87-aed5-458c-e14d-b153ab63dabe"
      },
      "execution_count": null,
      "outputs": [
        {
          "output_type": "execute_result",
          "data": {
            "text/html": [
              "<div>\n",
              "<style scoped>\n",
              "    .dataframe tbody tr th:only-of-type {\n",
              "        vertical-align: middle;\n",
              "    }\n",
              "\n",
              "    .dataframe tbody tr th {\n",
              "        vertical-align: top;\n",
              "    }\n",
              "\n",
              "    .dataframe thead th {\n",
              "        text-align: right;\n",
              "    }\n",
              "</style>\n",
              "<table border=\"1\" class=\"dataframe\">\n",
              "  <thead>\n",
              "    <tr style=\"text-align: right;\">\n",
              "      <th></th>\n",
              "      <th>회차</th>\n",
              "      <th>이름</th>\n",
              "      <th>측정일</th>\n",
              "      <th>몸무게</th>\n",
              "      <th>단위</th>\n",
              "      <th>담당</th>\n",
              "      <th>지점</th>\n",
              "    </tr>\n",
              "  </thead>\n",
              "  <tbody>\n",
              "    <tr>\n",
              "      <th>1</th>\n",
              "      <td>2</td>\n",
              "      <td>홍길동</td>\n",
              "      <td>2020-03-02</td>\n",
              "      <td>75.7</td>\n",
              "      <td>kg</td>\n",
              "      <td>김현경</td>\n",
              "      <td>관악구</td>\n",
              "    </tr>\n",
              "    <tr>\n",
              "      <th>3</th>\n",
              "      <td>4</td>\n",
              "      <td>홍길동</td>\n",
              "      <td>2020-03-04</td>\n",
              "      <td>NaN</td>\n",
              "      <td>kg</td>\n",
              "      <td>최현경</td>\n",
              "      <td>여의도</td>\n",
              "    </tr>\n",
              "    <tr>\n",
              "      <th>5</th>\n",
              "      <td>6</td>\n",
              "      <td>홍길동</td>\n",
              "      <td>2020-03-06</td>\n",
              "      <td>75.7</td>\n",
              "      <td>kg</td>\n",
              "      <td>최현경</td>\n",
              "      <td>서초구</td>\n",
              "    </tr>\n",
              "  </tbody>\n",
              "</table>\n",
              "</div>"
            ],
            "text/plain": [
              "   회차   이름         측정일   몸무게  단위   담당   지점\n",
              "1   2  홍길동  2020-03-02  75.7  kg  김현경  관악구\n",
              "3   4  홍길동  2020-03-04   NaN  kg  최현경  여의도\n",
              "5   6  홍길동  2020-03-06  75.7  kg  최현경  서초구"
            ]
          },
          "metadata": {},
          "execution_count": 34
        }
      ]
    },
    {
      "cell_type": "code",
      "source": [
        "# 보통은 location 사용하긴 함\n",
        "rawData.reindex( [1, 3, 5] )"
      ],
      "metadata": {
        "colab": {
          "base_uri": "https://localhost:8080/",
          "height": 144
        },
        "id": "V8MKYRlqYHbc",
        "outputId": "c006320b-b3df-4580-da6e-62fff5d0e8df"
      },
      "execution_count": null,
      "outputs": [
        {
          "output_type": "execute_result",
          "data": {
            "text/html": [
              "<div>\n",
              "<style scoped>\n",
              "    .dataframe tbody tr th:only-of-type {\n",
              "        vertical-align: middle;\n",
              "    }\n",
              "\n",
              "    .dataframe tbody tr th {\n",
              "        vertical-align: top;\n",
              "    }\n",
              "\n",
              "    .dataframe thead th {\n",
              "        text-align: right;\n",
              "    }\n",
              "</style>\n",
              "<table border=\"1\" class=\"dataframe\">\n",
              "  <thead>\n",
              "    <tr style=\"text-align: right;\">\n",
              "      <th></th>\n",
              "      <th>회차</th>\n",
              "      <th>이름</th>\n",
              "      <th>측정일</th>\n",
              "      <th>몸무게</th>\n",
              "      <th>단위</th>\n",
              "      <th>담당</th>\n",
              "      <th>지점</th>\n",
              "    </tr>\n",
              "  </thead>\n",
              "  <tbody>\n",
              "    <tr>\n",
              "      <th>1</th>\n",
              "      <td>2</td>\n",
              "      <td>홍길동</td>\n",
              "      <td>2020-03-02</td>\n",
              "      <td>75.7</td>\n",
              "      <td>kg</td>\n",
              "      <td>김현경</td>\n",
              "      <td>관악구</td>\n",
              "    </tr>\n",
              "    <tr>\n",
              "      <th>3</th>\n",
              "      <td>4</td>\n",
              "      <td>홍길동</td>\n",
              "      <td>2020-03-04</td>\n",
              "      <td>NaN</td>\n",
              "      <td>kg</td>\n",
              "      <td>최현경</td>\n",
              "      <td>여의도</td>\n",
              "    </tr>\n",
              "    <tr>\n",
              "      <th>5</th>\n",
              "      <td>6</td>\n",
              "      <td>홍길동</td>\n",
              "      <td>2020-03-06</td>\n",
              "      <td>75.7</td>\n",
              "      <td>kg</td>\n",
              "      <td>최현경</td>\n",
              "      <td>서초구</td>\n",
              "    </tr>\n",
              "  </tbody>\n",
              "</table>\n",
              "</div>"
            ],
            "text/plain": [
              "   회차   이름         측정일   몸무게  단위   담당   지점\n",
              "1   2  홍길동  2020-03-02  75.7  kg  김현경  관악구\n",
              "3   4  홍길동  2020-03-04   NaN  kg  최현경  여의도\n",
              "5   6  홍길동  2020-03-06  75.7  kg  최현경  서초구"
            ]
          },
          "metadata": {},
          "execution_count": 35
        }
      ]
    },
    {
      "cell_type": "markdown",
      "source": [
        "### 행과 열을 같이 인덱싱"
      ],
      "metadata": {
        "id": "vuQumEi8YjB0"
      }
    },
    {
      "cell_type": "code",
      "source": [
        "rawData.loc[0, '몸무게']"
      ],
      "metadata": {
        "colab": {
          "base_uri": "https://localhost:8080/"
        },
        "id": "DMX9TKSrYPaM",
        "outputId": "ec3421f5-fa24-415f-ffb7-b0a199f6c558"
      },
      "execution_count": null,
      "outputs": [
        {
          "output_type": "execute_result",
          "data": {
            "text/plain": [
              "76.4"
            ]
          },
          "metadata": {},
          "execution_count": 36
        }
      ]
    },
    {
      "cell_type": "code",
      "source": [
        "# 물론 배열 인덱스와 함께 사용할 수 있다\n",
        "rawData.loc[0, ['이름', '몸무게'] ]"
      ],
      "metadata": {
        "colab": {
          "base_uri": "https://localhost:8080/"
        },
        "id": "ZXFEkti3Yk9z",
        "outputId": "a26d695b-6cc0-4c8e-d65b-753dab195062"
      },
      "execution_count": null,
      "outputs": [
        {
          "output_type": "execute_result",
          "data": {
            "text/plain": [
              "이름      홍길동\n",
              "몸무게    76.4\n",
              "Name: 0, dtype: object"
            ]
          },
          "metadata": {},
          "execution_count": 45
        }
      ]
    },
    {
      "cell_type": "code",
      "source": [
        "# 행도 가능\n",
        "rawData.loc[[1,3,5], ['이름', '몸무게'] ]"
      ],
      "metadata": {
        "colab": {
          "base_uri": "https://localhost:8080/",
          "height": 144
        },
        "id": "HTdrYg9AYt6Q",
        "outputId": "038ca538-7e73-40a2-a4ce-a344b1b799ef"
      },
      "execution_count": null,
      "outputs": [
        {
          "output_type": "execute_result",
          "data": {
            "text/html": [
              "<div>\n",
              "<style scoped>\n",
              "    .dataframe tbody tr th:only-of-type {\n",
              "        vertical-align: middle;\n",
              "    }\n",
              "\n",
              "    .dataframe tbody tr th {\n",
              "        vertical-align: top;\n",
              "    }\n",
              "\n",
              "    .dataframe thead th {\n",
              "        text-align: right;\n",
              "    }\n",
              "</style>\n",
              "<table border=\"1\" class=\"dataframe\">\n",
              "  <thead>\n",
              "    <tr style=\"text-align: right;\">\n",
              "      <th></th>\n",
              "      <th>이름</th>\n",
              "      <th>몸무게</th>\n",
              "    </tr>\n",
              "  </thead>\n",
              "  <tbody>\n",
              "    <tr>\n",
              "      <th>1</th>\n",
              "      <td>홍길동</td>\n",
              "      <td>75.7</td>\n",
              "    </tr>\n",
              "    <tr>\n",
              "      <th>3</th>\n",
              "      <td>홍길동</td>\n",
              "      <td>NaN</td>\n",
              "    </tr>\n",
              "    <tr>\n",
              "      <th>5</th>\n",
              "      <td>홍길동</td>\n",
              "      <td>75.7</td>\n",
              "    </tr>\n",
              "  </tbody>\n",
              "</table>\n",
              "</div>"
            ],
            "text/plain": [
              "    이름   몸무게\n",
              "1  홍길동  75.7\n",
              "3  홍길동   NaN\n",
              "5  홍길동  75.7"
            ]
          },
          "metadata": {},
          "execution_count": 38
        }
      ]
    },
    {
      "cell_type": "code",
      "source": [
        "# 슬라이스와 함께 사용\n",
        "rawData.loc[0:3, ['이름', '몸무게']]"
      ],
      "metadata": {
        "colab": {
          "base_uri": "https://localhost:8080/",
          "height": 174
        },
        "id": "ULUe0b0TY6Ed",
        "outputId": "fda3d925-440d-47c2-bdaf-48d546d2119d"
      },
      "execution_count": null,
      "outputs": [
        {
          "output_type": "execute_result",
          "data": {
            "text/html": [
              "<div>\n",
              "<style scoped>\n",
              "    .dataframe tbody tr th:only-of-type {\n",
              "        vertical-align: middle;\n",
              "    }\n",
              "\n",
              "    .dataframe tbody tr th {\n",
              "        vertical-align: top;\n",
              "    }\n",
              "\n",
              "    .dataframe thead th {\n",
              "        text-align: right;\n",
              "    }\n",
              "</style>\n",
              "<table border=\"1\" class=\"dataframe\">\n",
              "  <thead>\n",
              "    <tr style=\"text-align: right;\">\n",
              "      <th></th>\n",
              "      <th>이름</th>\n",
              "      <th>몸무게</th>\n",
              "    </tr>\n",
              "  </thead>\n",
              "  <tbody>\n",
              "    <tr>\n",
              "      <th>0</th>\n",
              "      <td>홍길동</td>\n",
              "      <td>76.4</td>\n",
              "    </tr>\n",
              "    <tr>\n",
              "      <th>1</th>\n",
              "      <td>홍길동</td>\n",
              "      <td>75.7</td>\n",
              "    </tr>\n",
              "    <tr>\n",
              "      <th>2</th>\n",
              "      <td>홍길동</td>\n",
              "      <td>76.0</td>\n",
              "    </tr>\n",
              "    <tr>\n",
              "      <th>3</th>\n",
              "      <td>홍길동</td>\n",
              "      <td>NaN</td>\n",
              "    </tr>\n",
              "  </tbody>\n",
              "</table>\n",
              "</div>"
            ],
            "text/plain": [
              "    이름   몸무게\n",
              "0  홍길동  76.4\n",
              "1  홍길동  75.7\n",
              "2  홍길동  76.0\n",
              "3  홍길동   NaN"
            ]
          },
          "metadata": {},
          "execution_count": 39
        }
      ]
    },
    {
      "cell_type": "code",
      "source": [
        "rawData.loc[0:3, '이름':'몸무게']"
      ],
      "metadata": {
        "colab": {
          "base_uri": "https://localhost:8080/",
          "height": 174
        },
        "id": "UIKsqy1PZAAG",
        "outputId": "6214c08a-346b-4630-b9c5-22dc345462d5"
      },
      "execution_count": null,
      "outputs": [
        {
          "output_type": "execute_result",
          "data": {
            "text/html": [
              "<div>\n",
              "<style scoped>\n",
              "    .dataframe tbody tr th:only-of-type {\n",
              "        vertical-align: middle;\n",
              "    }\n",
              "\n",
              "    .dataframe tbody tr th {\n",
              "        vertical-align: top;\n",
              "    }\n",
              "\n",
              "    .dataframe thead th {\n",
              "        text-align: right;\n",
              "    }\n",
              "</style>\n",
              "<table border=\"1\" class=\"dataframe\">\n",
              "  <thead>\n",
              "    <tr style=\"text-align: right;\">\n",
              "      <th></th>\n",
              "      <th>이름</th>\n",
              "      <th>측정일</th>\n",
              "      <th>몸무게</th>\n",
              "    </tr>\n",
              "  </thead>\n",
              "  <tbody>\n",
              "    <tr>\n",
              "      <th>0</th>\n",
              "      <td>홍길동</td>\n",
              "      <td>2020-03-01</td>\n",
              "      <td>76.4</td>\n",
              "    </tr>\n",
              "    <tr>\n",
              "      <th>1</th>\n",
              "      <td>홍길동</td>\n",
              "      <td>2020-03-02</td>\n",
              "      <td>75.7</td>\n",
              "    </tr>\n",
              "    <tr>\n",
              "      <th>2</th>\n",
              "      <td>홍길동</td>\n",
              "      <td>2020-03-03</td>\n",
              "      <td>76.0</td>\n",
              "    </tr>\n",
              "    <tr>\n",
              "      <th>3</th>\n",
              "      <td>홍길동</td>\n",
              "      <td>2020-03-04</td>\n",
              "      <td>NaN</td>\n",
              "    </tr>\n",
              "  </tbody>\n",
              "</table>\n",
              "</div>"
            ],
            "text/plain": [
              "    이름         측정일   몸무게\n",
              "0  홍길동  2020-03-01  76.4\n",
              "1  홍길동  2020-03-02  75.7\n",
              "2  홍길동  2020-03-03  76.0\n",
              "3  홍길동  2020-03-04   NaN"
            ]
          },
          "metadata": {},
          "execution_count": 43
        }
      ]
    },
    {
      "cell_type": "markdown",
      "source": [
        "### loc vs. iloc\n",
        "- iloc를 사용하면 컬럼(행) 인덱스에 정수를 사용할 수 있다.\n"
      ],
      "metadata": {
        "id": "rEYapDZsaFq6"
      }
    },
    {
      "cell_type": "code",
      "source": [
        "rawData.iloc[0:3, 1:4]"
      ],
      "metadata": {
        "colab": {
          "base_uri": "https://localhost:8080/",
          "height": 144
        },
        "id": "jFTm4ZZjZGIQ",
        "outputId": "7329f0c0-167c-4bcb-cf0f-e1168ba004d5"
      },
      "execution_count": null,
      "outputs": [
        {
          "output_type": "execute_result",
          "data": {
            "text/html": [
              "<div>\n",
              "<style scoped>\n",
              "    .dataframe tbody tr th:only-of-type {\n",
              "        vertical-align: middle;\n",
              "    }\n",
              "\n",
              "    .dataframe tbody tr th {\n",
              "        vertical-align: top;\n",
              "    }\n",
              "\n",
              "    .dataframe thead th {\n",
              "        text-align: right;\n",
              "    }\n",
              "</style>\n",
              "<table border=\"1\" class=\"dataframe\">\n",
              "  <thead>\n",
              "    <tr style=\"text-align: right;\">\n",
              "      <th></th>\n",
              "      <th>이름</th>\n",
              "      <th>측정일</th>\n",
              "      <th>몸무게</th>\n",
              "    </tr>\n",
              "  </thead>\n",
              "  <tbody>\n",
              "    <tr>\n",
              "      <th>0</th>\n",
              "      <td>홍길동</td>\n",
              "      <td>2020-03-01</td>\n",
              "      <td>76.4</td>\n",
              "    </tr>\n",
              "    <tr>\n",
              "      <th>1</th>\n",
              "      <td>홍길동</td>\n",
              "      <td>2020-03-02</td>\n",
              "      <td>75.7</td>\n",
              "    </tr>\n",
              "    <tr>\n",
              "      <th>2</th>\n",
              "      <td>홍길동</td>\n",
              "      <td>2020-03-03</td>\n",
              "      <td>76.0</td>\n",
              "    </tr>\n",
              "  </tbody>\n",
              "</table>\n",
              "</div>"
            ],
            "text/plain": [
              "    이름         측정일   몸무게\n",
              "0  홍길동  2020-03-01  76.4\n",
              "1  홍길동  2020-03-02  75.7\n",
              "2  홍길동  2020-03-03  76.0"
            ]
          },
          "metadata": {},
          "execution_count": 46
        }
      ]
    },
    {
      "cell_type": "markdown",
      "source": [
        "## 조건검색\n",
        "- 불리언 인덱스의 활용\n"
      ],
      "metadata": {
        "id": "fnkq5VHXaasN"
      }
    },
    {
      "cell_type": "code",
      "source": [
        "rawData"
      ],
      "metadata": {
        "colab": {
          "base_uri": "https://localhost:8080/",
          "height": 332
        },
        "id": "qFcb6MhIaPez",
        "outputId": "03e3d7e5-83f5-4d39-ab99-885e02a5503b"
      },
      "execution_count": null,
      "outputs": [
        {
          "output_type": "execute_result",
          "data": {
            "text/html": [
              "<div>\n",
              "<style scoped>\n",
              "    .dataframe tbody tr th:only-of-type {\n",
              "        vertical-align: middle;\n",
              "    }\n",
              "\n",
              "    .dataframe tbody tr th {\n",
              "        vertical-align: top;\n",
              "    }\n",
              "\n",
              "    .dataframe thead th {\n",
              "        text-align: right;\n",
              "    }\n",
              "</style>\n",
              "<table border=\"1\" class=\"dataframe\">\n",
              "  <thead>\n",
              "    <tr style=\"text-align: right;\">\n",
              "      <th></th>\n",
              "      <th>회차</th>\n",
              "      <th>이름</th>\n",
              "      <th>측정일</th>\n",
              "      <th>몸무게</th>\n",
              "      <th>단위</th>\n",
              "      <th>담당</th>\n",
              "      <th>지점</th>\n",
              "    </tr>\n",
              "  </thead>\n",
              "  <tbody>\n",
              "    <tr>\n",
              "      <th>0</th>\n",
              "      <td>1</td>\n",
              "      <td>홍길동</td>\n",
              "      <td>2020-03-01</td>\n",
              "      <td>76.4</td>\n",
              "      <td>kg</td>\n",
              "      <td>박현경</td>\n",
              "      <td>관악구</td>\n",
              "    </tr>\n",
              "    <tr>\n",
              "      <th>1</th>\n",
              "      <td>2</td>\n",
              "      <td>홍길동</td>\n",
              "      <td>2020-03-02</td>\n",
              "      <td>75.7</td>\n",
              "      <td>kg</td>\n",
              "      <td>김현경</td>\n",
              "      <td>관악구</td>\n",
              "    </tr>\n",
              "    <tr>\n",
              "      <th>2</th>\n",
              "      <td>3</td>\n",
              "      <td>홍길동</td>\n",
              "      <td>2020-03-03</td>\n",
              "      <td>76.0</td>\n",
              "      <td>kg</td>\n",
              "      <td>최현경</td>\n",
              "      <td>여의도</td>\n",
              "    </tr>\n",
              "    <tr>\n",
              "      <th>3</th>\n",
              "      <td>4</td>\n",
              "      <td>홍길동</td>\n",
              "      <td>2020-03-04</td>\n",
              "      <td>NaN</td>\n",
              "      <td>kg</td>\n",
              "      <td>최현경</td>\n",
              "      <td>여의도</td>\n",
              "    </tr>\n",
              "    <tr>\n",
              "      <th>4</th>\n",
              "      <td>5</td>\n",
              "      <td>홍길동</td>\n",
              "      <td>2020-03-05</td>\n",
              "      <td>76.2</td>\n",
              "      <td>kg</td>\n",
              "      <td>김현경</td>\n",
              "      <td>강남구</td>\n",
              "    </tr>\n",
              "    <tr>\n",
              "      <th>5</th>\n",
              "      <td>6</td>\n",
              "      <td>홍길동</td>\n",
              "      <td>2020-03-06</td>\n",
              "      <td>75.7</td>\n",
              "      <td>kg</td>\n",
              "      <td>최현경</td>\n",
              "      <td>서초구</td>\n",
              "    </tr>\n",
              "    <tr>\n",
              "      <th>6</th>\n",
              "      <td>7</td>\n",
              "      <td>홍길동</td>\n",
              "      <td>2020-03-07</td>\n",
              "      <td>NaN</td>\n",
              "      <td>kg</td>\n",
              "      <td>최현경</td>\n",
              "      <td>서초구</td>\n",
              "    </tr>\n",
              "    <tr>\n",
              "      <th>7</th>\n",
              "      <td>8</td>\n",
              "      <td>홍길동</td>\n",
              "      <td>2020-03-08</td>\n",
              "      <td>NaN</td>\n",
              "      <td>kg</td>\n",
              "      <td>김현경</td>\n",
              "      <td>서초구</td>\n",
              "    </tr>\n",
              "    <tr>\n",
              "      <th>8</th>\n",
              "      <td>9</td>\n",
              "      <td>홍길동</td>\n",
              "      <td>2020-03-09</td>\n",
              "      <td>75.0</td>\n",
              "      <td>kg</td>\n",
              "      <td>김현경</td>\n",
              "      <td>서초구</td>\n",
              "    </tr>\n",
              "  </tbody>\n",
              "</table>\n",
              "</div>"
            ],
            "text/plain": [
              "   회차   이름         측정일   몸무게  단위   담당   지점\n",
              "0   1  홍길동  2020-03-01  76.4  kg  박현경  관악구\n",
              "1   2  홍길동  2020-03-02  75.7  kg  김현경  관악구\n",
              "2   3  홍길동  2020-03-03  76.0  kg  최현경  여의도\n",
              "3   4  홍길동  2020-03-04   NaN  kg  최현경  여의도\n",
              "4   5  홍길동  2020-03-05  76.2  kg  김현경  강남구\n",
              "5   6  홍길동  2020-03-06  75.7  kg  최현경  서초구\n",
              "6   7  홍길동  2020-03-07   NaN  kg  최현경  서초구\n",
              "7   8  홍길동  2020-03-08   NaN  kg  김현경  서초구\n",
              "8   9  홍길동  2020-03-09  75.0  kg  김현경  서초구"
            ]
          },
          "metadata": {},
          "execution_count": 47
        }
      ]
    },
    {
      "cell_type": "code",
      "source": [
        "# 지점별로 여의도 자료만 확인하고 싶다면\n",
        "rawData['지점'] == '여의도'\n",
        "# 불리언 시리즈가 반환된다.\n",
        "# 생성된 이 결과를 인덱스로 사용"
      ],
      "metadata": {
        "colab": {
          "base_uri": "https://localhost:8080/"
        },
        "id": "7_u8GVxVaj9c",
        "outputId": "cc7218c6-4d14-442a-c4c6-de0c524b681d"
      },
      "execution_count": null,
      "outputs": [
        {
          "output_type": "execute_result",
          "data": {
            "text/plain": [
              "0    False\n",
              "1    False\n",
              "2     True\n",
              "3     True\n",
              "4    False\n",
              "5    False\n",
              "6    False\n",
              "7    False\n",
              "8    False\n",
              "Name: 지점, dtype: bool"
            ]
          },
          "metadata": {},
          "execution_count": 48
        }
      ]
    },
    {
      "cell_type": "code",
      "source": [
        "rawData[ rawData['지점'] == '여의도' ]"
      ],
      "metadata": {
        "colab": {
          "base_uri": "https://localhost:8080/",
          "height": 112
        },
        "id": "7R0ZPvXQar-O",
        "outputId": "ac963ab6-75fc-4988-b16d-bb270abaf4c6"
      },
      "execution_count": null,
      "outputs": [
        {
          "output_type": "execute_result",
          "data": {
            "text/html": [
              "<div>\n",
              "<style scoped>\n",
              "    .dataframe tbody tr th:only-of-type {\n",
              "        vertical-align: middle;\n",
              "    }\n",
              "\n",
              "    .dataframe tbody tr th {\n",
              "        vertical-align: top;\n",
              "    }\n",
              "\n",
              "    .dataframe thead th {\n",
              "        text-align: right;\n",
              "    }\n",
              "</style>\n",
              "<table border=\"1\" class=\"dataframe\">\n",
              "  <thead>\n",
              "    <tr style=\"text-align: right;\">\n",
              "      <th></th>\n",
              "      <th>회차</th>\n",
              "      <th>이름</th>\n",
              "      <th>측정일</th>\n",
              "      <th>몸무게</th>\n",
              "      <th>단위</th>\n",
              "      <th>담당</th>\n",
              "      <th>지점</th>\n",
              "    </tr>\n",
              "  </thead>\n",
              "  <tbody>\n",
              "    <tr>\n",
              "      <th>2</th>\n",
              "      <td>3</td>\n",
              "      <td>홍길동</td>\n",
              "      <td>2020-03-03</td>\n",
              "      <td>76.0</td>\n",
              "      <td>kg</td>\n",
              "      <td>최현경</td>\n",
              "      <td>여의도</td>\n",
              "    </tr>\n",
              "    <tr>\n",
              "      <th>3</th>\n",
              "      <td>4</td>\n",
              "      <td>홍길동</td>\n",
              "      <td>2020-03-04</td>\n",
              "      <td>NaN</td>\n",
              "      <td>kg</td>\n",
              "      <td>최현경</td>\n",
              "      <td>여의도</td>\n",
              "    </tr>\n",
              "  </tbody>\n",
              "</table>\n",
              "</div>"
            ],
            "text/plain": [
              "   회차   이름         측정일   몸무게  단위   담당   지점\n",
              "2   3  홍길동  2020-03-03  76.0  kg  최현경  여의도\n",
              "3   4  홍길동  2020-03-04   NaN  kg  최현경  여의도"
            ]
          },
          "metadata": {},
          "execution_count": 49
        }
      ]
    },
    {
      "cell_type": "code",
      "source": [
        "rawData[ rawData['담당'] == '김현경' ]"
      ],
      "metadata": {
        "colab": {
          "base_uri": "https://localhost:8080/",
          "height": 174
        },
        "id": "9E815eRAa5Of",
        "outputId": "a1479b68-46e5-49ee-a3b5-a912e3a3b0e8"
      },
      "execution_count": null,
      "outputs": [
        {
          "output_type": "execute_result",
          "data": {
            "text/html": [
              "<div>\n",
              "<style scoped>\n",
              "    .dataframe tbody tr th:only-of-type {\n",
              "        vertical-align: middle;\n",
              "    }\n",
              "\n",
              "    .dataframe tbody tr th {\n",
              "        vertical-align: top;\n",
              "    }\n",
              "\n",
              "    .dataframe thead th {\n",
              "        text-align: right;\n",
              "    }\n",
              "</style>\n",
              "<table border=\"1\" class=\"dataframe\">\n",
              "  <thead>\n",
              "    <tr style=\"text-align: right;\">\n",
              "      <th></th>\n",
              "      <th>회차</th>\n",
              "      <th>이름</th>\n",
              "      <th>측정일</th>\n",
              "      <th>몸무게</th>\n",
              "      <th>단위</th>\n",
              "      <th>담당</th>\n",
              "      <th>지점</th>\n",
              "    </tr>\n",
              "  </thead>\n",
              "  <tbody>\n",
              "    <tr>\n",
              "      <th>1</th>\n",
              "      <td>2</td>\n",
              "      <td>홍길동</td>\n",
              "      <td>2020-03-02</td>\n",
              "      <td>75.7</td>\n",
              "      <td>kg</td>\n",
              "      <td>김현경</td>\n",
              "      <td>관악구</td>\n",
              "    </tr>\n",
              "    <tr>\n",
              "      <th>4</th>\n",
              "      <td>5</td>\n",
              "      <td>홍길동</td>\n",
              "      <td>2020-03-05</td>\n",
              "      <td>76.2</td>\n",
              "      <td>kg</td>\n",
              "      <td>김현경</td>\n",
              "      <td>강남구</td>\n",
              "    </tr>\n",
              "    <tr>\n",
              "      <th>7</th>\n",
              "      <td>8</td>\n",
              "      <td>홍길동</td>\n",
              "      <td>2020-03-08</td>\n",
              "      <td>NaN</td>\n",
              "      <td>kg</td>\n",
              "      <td>김현경</td>\n",
              "      <td>서초구</td>\n",
              "    </tr>\n",
              "    <tr>\n",
              "      <th>8</th>\n",
              "      <td>9</td>\n",
              "      <td>홍길동</td>\n",
              "      <td>2020-03-09</td>\n",
              "      <td>75.0</td>\n",
              "      <td>kg</td>\n",
              "      <td>김현경</td>\n",
              "      <td>서초구</td>\n",
              "    </tr>\n",
              "  </tbody>\n",
              "</table>\n",
              "</div>"
            ],
            "text/plain": [
              "   회차   이름         측정일   몸무게  단위   담당   지점\n",
              "1   2  홍길동  2020-03-02  75.7  kg  김현경  관악구\n",
              "4   5  홍길동  2020-03-05  76.2  kg  김현경  강남구\n",
              "7   8  홍길동  2020-03-08   NaN  kg  김현경  서초구\n",
              "8   9  홍길동  2020-03-09  75.0  kg  김현경  서초구"
            ]
          },
          "metadata": {},
          "execution_count": 51
        }
      ]
    },
    {
      "cell_type": "code",
      "source": [
        "# 숫자도 가능\n",
        "# 몸무게가 76 이상인 자료만 검색하려면\n",
        "rawData[ rawData['몸무게'] >= 76 ]"
      ],
      "metadata": {
        "colab": {
          "base_uri": "https://localhost:8080/",
          "height": 144
        },
        "id": "ByfBBm8TbMc5",
        "outputId": "dfe35a17-1475-4871-e15d-9fc6c569129c"
      },
      "execution_count": null,
      "outputs": [
        {
          "output_type": "execute_result",
          "data": {
            "text/html": [
              "<div>\n",
              "<style scoped>\n",
              "    .dataframe tbody tr th:only-of-type {\n",
              "        vertical-align: middle;\n",
              "    }\n",
              "\n",
              "    .dataframe tbody tr th {\n",
              "        vertical-align: top;\n",
              "    }\n",
              "\n",
              "    .dataframe thead th {\n",
              "        text-align: right;\n",
              "    }\n",
              "</style>\n",
              "<table border=\"1\" class=\"dataframe\">\n",
              "  <thead>\n",
              "    <tr style=\"text-align: right;\">\n",
              "      <th></th>\n",
              "      <th>회차</th>\n",
              "      <th>이름</th>\n",
              "      <th>측정일</th>\n",
              "      <th>몸무게</th>\n",
              "      <th>단위</th>\n",
              "      <th>담당</th>\n",
              "      <th>지점</th>\n",
              "    </tr>\n",
              "  </thead>\n",
              "  <tbody>\n",
              "    <tr>\n",
              "      <th>0</th>\n",
              "      <td>1</td>\n",
              "      <td>홍길동</td>\n",
              "      <td>2020-03-01</td>\n",
              "      <td>76.4</td>\n",
              "      <td>kg</td>\n",
              "      <td>박현경</td>\n",
              "      <td>관악구</td>\n",
              "    </tr>\n",
              "    <tr>\n",
              "      <th>2</th>\n",
              "      <td>3</td>\n",
              "      <td>홍길동</td>\n",
              "      <td>2020-03-03</td>\n",
              "      <td>76.0</td>\n",
              "      <td>kg</td>\n",
              "      <td>최현경</td>\n",
              "      <td>여의도</td>\n",
              "    </tr>\n",
              "    <tr>\n",
              "      <th>4</th>\n",
              "      <td>5</td>\n",
              "      <td>홍길동</td>\n",
              "      <td>2020-03-05</td>\n",
              "      <td>76.2</td>\n",
              "      <td>kg</td>\n",
              "      <td>김현경</td>\n",
              "      <td>강남구</td>\n",
              "    </tr>\n",
              "  </tbody>\n",
              "</table>\n",
              "</div>"
            ],
            "text/plain": [
              "   회차   이름         측정일   몸무게  단위   담당   지점\n",
              "0   1  홍길동  2020-03-01  76.4  kg  박현경  관악구\n",
              "2   3  홍길동  2020-03-03  76.0  kg  최현경  여의도\n",
              "4   5  홍길동  2020-03-05  76.2  kg  김현경  강남구"
            ]
          },
          "metadata": {},
          "execution_count": 52
        }
      ]
    },
    {
      "cell_type": "markdown",
      "source": [
        "### 다중 조건\n",
        "- 파이썬의 and, or, not 사용처럼\n",
        "- 판다스는 &, |, ~ 문자를 사용해서 표현\n",
        "  -&(앰퍼센드), |(파이프라인),~(틸드)\n",
        "  - 우선순위가 매우 헷갈림\n",
        "  - 그렇기 때문에 괄호를 이용해서 우선순위를 정확하게 표현하는 것이 좋다\n"
      ],
      "metadata": {
        "id": "X6ng1UPZbqv3"
      }
    },
    {
      "cell_type": "code",
      "source": [
        "# 서초구 지점의 최현경 담담의 자료만 검색하려면\n",
        "rawData[ rawData['지점'] == '서초구' & rawData['담당'] == '최현경']"
      ],
      "metadata": {
        "colab": {
          "base_uri": "https://localhost:8080/",
          "height": 556
        },
        "id": "xLMxny3vbqH4",
        "outputId": "02eb0757-62d9-4a41-d3a8-f7ae146121e3"
      },
      "execution_count": null,
      "outputs": [
        {
          "output_type": "error",
          "ename": "TypeError",
          "evalue": "ignored",
          "traceback": [
            "\u001b[0;31m---------------------------------------------------------------------------\u001b[0m",
            "\u001b[0;31mTypeError\u001b[0m                                 Traceback (most recent call last)",
            "\u001b[0;32m/usr/local/lib/python3.7/dist-packages/pandas/core/ops/array_ops.py\u001b[0m in \u001b[0;36mna_logical_op\u001b[0;34m(x, y, op)\u001b[0m\n\u001b[1;32m    265\u001b[0m         \u001b[0;31m#  (xint or xbool) and (yint or bool)\u001b[0m\u001b[0;34m\u001b[0m\u001b[0;34m\u001b[0m\u001b[0;34m\u001b[0m\u001b[0m\n\u001b[0;32m--> 266\u001b[0;31m         \u001b[0mresult\u001b[0m \u001b[0;34m=\u001b[0m \u001b[0mop\u001b[0m\u001b[0;34m(\u001b[0m\u001b[0mx\u001b[0m\u001b[0;34m,\u001b[0m \u001b[0my\u001b[0m\u001b[0;34m)\u001b[0m\u001b[0;34m\u001b[0m\u001b[0;34m\u001b[0m\u001b[0m\n\u001b[0m\u001b[1;32m    267\u001b[0m     \u001b[0;32mexcept\u001b[0m \u001b[0mTypeError\u001b[0m\u001b[0;34m:\u001b[0m\u001b[0;34m\u001b[0m\u001b[0;34m\u001b[0m\u001b[0m\n",
            "\u001b[0;32m/usr/local/lib/python3.7/dist-packages/pandas/core/ops/roperator.py\u001b[0m in \u001b[0;36mrand_\u001b[0;34m(left, right)\u001b[0m\n\u001b[1;32m     51\u001b[0m \u001b[0;32mdef\u001b[0m \u001b[0mrand_\u001b[0m\u001b[0;34m(\u001b[0m\u001b[0mleft\u001b[0m\u001b[0;34m,\u001b[0m \u001b[0mright\u001b[0m\u001b[0;34m)\u001b[0m\u001b[0;34m:\u001b[0m\u001b[0;34m\u001b[0m\u001b[0;34m\u001b[0m\u001b[0m\n\u001b[0;32m---> 52\u001b[0;31m     \u001b[0;32mreturn\u001b[0m \u001b[0moperator\u001b[0m\u001b[0;34m.\u001b[0m\u001b[0mand_\u001b[0m\u001b[0;34m(\u001b[0m\u001b[0mright\u001b[0m\u001b[0;34m,\u001b[0m \u001b[0mleft\u001b[0m\u001b[0;34m)\u001b[0m\u001b[0;34m\u001b[0m\u001b[0;34m\u001b[0m\u001b[0m\n\u001b[0m\u001b[1;32m     53\u001b[0m \u001b[0;34m\u001b[0m\u001b[0m\n",
            "\u001b[0;31mTypeError\u001b[0m: unsupported operand type(s) for &: 'str' and 'str'",
            "\nDuring handling of the above exception, another exception occurred:\n",
            "\u001b[0;31mTypeError\u001b[0m                                 Traceback (most recent call last)",
            "\u001b[0;32m/usr/local/lib/python3.7/dist-packages/pandas/core/ops/array_ops.py\u001b[0m in \u001b[0;36mna_logical_op\u001b[0;34m(x, y, op)\u001b[0m\n\u001b[1;32m    279\u001b[0m             \u001b[0;32mtry\u001b[0m\u001b[0;34m:\u001b[0m\u001b[0;34m\u001b[0m\u001b[0;34m\u001b[0m\u001b[0m\n\u001b[0;32m--> 280\u001b[0;31m                 \u001b[0mresult\u001b[0m \u001b[0;34m=\u001b[0m \u001b[0mlibops\u001b[0m\u001b[0;34m.\u001b[0m\u001b[0mscalar_binop\u001b[0m\u001b[0;34m(\u001b[0m\u001b[0mx\u001b[0m\u001b[0;34m,\u001b[0m \u001b[0my\u001b[0m\u001b[0;34m,\u001b[0m \u001b[0mop\u001b[0m\u001b[0;34m)\u001b[0m\u001b[0;34m\u001b[0m\u001b[0;34m\u001b[0m\u001b[0m\n\u001b[0m\u001b[1;32m    281\u001b[0m             except (\n",
            "\u001b[0;32mpandas/_libs/ops.pyx\u001b[0m in \u001b[0;36mpandas._libs.ops.scalar_binop\u001b[0;34m()\u001b[0m\n",
            "\u001b[0;32m/usr/local/lib/python3.7/dist-packages/pandas/core/ops/roperator.py\u001b[0m in \u001b[0;36mrand_\u001b[0;34m(left, right)\u001b[0m\n\u001b[1;32m     51\u001b[0m \u001b[0;32mdef\u001b[0m \u001b[0mrand_\u001b[0m\u001b[0;34m(\u001b[0m\u001b[0mleft\u001b[0m\u001b[0;34m,\u001b[0m \u001b[0mright\u001b[0m\u001b[0;34m)\u001b[0m\u001b[0;34m:\u001b[0m\u001b[0;34m\u001b[0m\u001b[0;34m\u001b[0m\u001b[0m\n\u001b[0;32m---> 52\u001b[0;31m     \u001b[0;32mreturn\u001b[0m \u001b[0moperator\u001b[0m\u001b[0;34m.\u001b[0m\u001b[0mand_\u001b[0m\u001b[0;34m(\u001b[0m\u001b[0mright\u001b[0m\u001b[0;34m,\u001b[0m \u001b[0mleft\u001b[0m\u001b[0;34m)\u001b[0m\u001b[0;34m\u001b[0m\u001b[0;34m\u001b[0m\u001b[0m\n\u001b[0m\u001b[1;32m     53\u001b[0m \u001b[0;34m\u001b[0m\u001b[0m\n",
            "\u001b[0;31mTypeError\u001b[0m: unsupported operand type(s) for &: 'bool' and 'str'",
            "\nThe above exception was the direct cause of the following exception:\n",
            "\u001b[0;31mTypeError\u001b[0m                                 Traceback (most recent call last)",
            "\u001b[0;32m<ipython-input-56-559d1266aa82>\u001b[0m in \u001b[0;36m<module>\u001b[0;34m()\u001b[0m\n\u001b[1;32m      1\u001b[0m \u001b[0;31m# 서초구 지점의 최현경 담담의 자료만 검색하려면\u001b[0m\u001b[0;34m\u001b[0m\u001b[0;34m\u001b[0m\u001b[0;34m\u001b[0m\u001b[0m\n\u001b[0;32m----> 2\u001b[0;31m \u001b[0mrawData\u001b[0m\u001b[0;34m[\u001b[0m \u001b[0mrawData\u001b[0m\u001b[0;34m[\u001b[0m\u001b[0;34m'지점'\u001b[0m\u001b[0;34m]\u001b[0m \u001b[0;34m==\u001b[0m \u001b[0;34m'서초구'\u001b[0m \u001b[0;34m&\u001b[0m \u001b[0mrawData\u001b[0m\u001b[0;34m[\u001b[0m\u001b[0;34m'담당'\u001b[0m\u001b[0;34m]\u001b[0m \u001b[0;34m==\u001b[0m \u001b[0;34m'최현경'\u001b[0m\u001b[0;34m]\u001b[0m\u001b[0;34m\u001b[0m\u001b[0;34m\u001b[0m\u001b[0m\n\u001b[0m",
            "\u001b[0;32m/usr/local/lib/python3.7/dist-packages/pandas/core/ops/common.py\u001b[0m in \u001b[0;36mnew_method\u001b[0;34m(self, other)\u001b[0m\n\u001b[1;32m     63\u001b[0m         \u001b[0mother\u001b[0m \u001b[0;34m=\u001b[0m \u001b[0mitem_from_zerodim\u001b[0m\u001b[0;34m(\u001b[0m\u001b[0mother\u001b[0m\u001b[0;34m)\u001b[0m\u001b[0;34m\u001b[0m\u001b[0;34m\u001b[0m\u001b[0m\n\u001b[1;32m     64\u001b[0m \u001b[0;34m\u001b[0m\u001b[0m\n\u001b[0;32m---> 65\u001b[0;31m         \u001b[0;32mreturn\u001b[0m \u001b[0mmethod\u001b[0m\u001b[0;34m(\u001b[0m\u001b[0mself\u001b[0m\u001b[0;34m,\u001b[0m \u001b[0mother\u001b[0m\u001b[0;34m)\u001b[0m\u001b[0;34m\u001b[0m\u001b[0;34m\u001b[0m\u001b[0m\n\u001b[0m\u001b[1;32m     66\u001b[0m \u001b[0;34m\u001b[0m\u001b[0m\n\u001b[1;32m     67\u001b[0m     \u001b[0;32mreturn\u001b[0m \u001b[0mnew_method\u001b[0m\u001b[0;34m\u001b[0m\u001b[0;34m\u001b[0m\u001b[0m\n",
            "\u001b[0;32m/usr/local/lib/python3.7/dist-packages/pandas/core/ops/__init__.py\u001b[0m in \u001b[0;36mwrapper\u001b[0;34m(self, other)\u001b[0m\n\u001b[1;32m    392\u001b[0m         \u001b[0mrvalues\u001b[0m \u001b[0;34m=\u001b[0m \u001b[0mextract_array\u001b[0m\u001b[0;34m(\u001b[0m\u001b[0mother\u001b[0m\u001b[0;34m,\u001b[0m \u001b[0mextract_numpy\u001b[0m\u001b[0;34m=\u001b[0m\u001b[0;32mTrue\u001b[0m\u001b[0;34m)\u001b[0m\u001b[0;34m\u001b[0m\u001b[0;34m\u001b[0m\u001b[0m\n\u001b[1;32m    393\u001b[0m \u001b[0;34m\u001b[0m\u001b[0m\n\u001b[0;32m--> 394\u001b[0;31m         \u001b[0mres_values\u001b[0m \u001b[0;34m=\u001b[0m \u001b[0mlogical_op\u001b[0m\u001b[0;34m(\u001b[0m\u001b[0mlvalues\u001b[0m\u001b[0;34m,\u001b[0m \u001b[0mrvalues\u001b[0m\u001b[0;34m,\u001b[0m \u001b[0mop\u001b[0m\u001b[0;34m)\u001b[0m\u001b[0;34m\u001b[0m\u001b[0;34m\u001b[0m\u001b[0m\n\u001b[0m\u001b[1;32m    395\u001b[0m         \u001b[0;32mreturn\u001b[0m \u001b[0mself\u001b[0m\u001b[0;34m.\u001b[0m\u001b[0m_construct_result\u001b[0m\u001b[0;34m(\u001b[0m\u001b[0mres_values\u001b[0m\u001b[0;34m,\u001b[0m \u001b[0mname\u001b[0m\u001b[0;34m=\u001b[0m\u001b[0mres_name\u001b[0m\u001b[0;34m)\u001b[0m\u001b[0;34m\u001b[0m\u001b[0;34m\u001b[0m\u001b[0m\n\u001b[1;32m    396\u001b[0m \u001b[0;34m\u001b[0m\u001b[0m\n",
            "\u001b[0;32m/usr/local/lib/python3.7/dist-packages/pandas/core/ops/array_ops.py\u001b[0m in \u001b[0;36mlogical_op\u001b[0;34m(left, right, op)\u001b[0m\n\u001b[1;32m    354\u001b[0m         \u001b[0mfiller\u001b[0m \u001b[0;34m=\u001b[0m \u001b[0mfill_int\u001b[0m \u001b[0;32mif\u001b[0m \u001b[0mis_self_int_dtype\u001b[0m \u001b[0;32mand\u001b[0m \u001b[0mis_other_int_dtype\u001b[0m \u001b[0;32melse\u001b[0m \u001b[0mfill_bool\u001b[0m\u001b[0;34m\u001b[0m\u001b[0;34m\u001b[0m\u001b[0m\n\u001b[1;32m    355\u001b[0m \u001b[0;34m\u001b[0m\u001b[0m\n\u001b[0;32m--> 356\u001b[0;31m         \u001b[0mres_values\u001b[0m \u001b[0;34m=\u001b[0m \u001b[0mna_logical_op\u001b[0m\u001b[0;34m(\u001b[0m\u001b[0mlvalues\u001b[0m\u001b[0;34m,\u001b[0m \u001b[0mrvalues\u001b[0m\u001b[0;34m,\u001b[0m \u001b[0mop\u001b[0m\u001b[0;34m)\u001b[0m\u001b[0;34m\u001b[0m\u001b[0;34m\u001b[0m\u001b[0m\n\u001b[0m\u001b[1;32m    357\u001b[0m         \u001b[0mres_values\u001b[0m \u001b[0;34m=\u001b[0m \u001b[0mfiller\u001b[0m\u001b[0;34m(\u001b[0m\u001b[0mres_values\u001b[0m\u001b[0;34m)\u001b[0m  \u001b[0;31m# type: ignore\u001b[0m\u001b[0;34m\u001b[0m\u001b[0;34m\u001b[0m\u001b[0m\n\u001b[1;32m    358\u001b[0m \u001b[0;34m\u001b[0m\u001b[0m\n",
            "\u001b[0;32m/usr/local/lib/python3.7/dist-packages/pandas/core/ops/array_ops.py\u001b[0m in \u001b[0;36mna_logical_op\u001b[0;34m(x, y, op)\u001b[0m\n\u001b[1;32m    290\u001b[0m                     \u001b[0;34mf\"Cannot perform '{op.__name__}' with a dtyped [{x.dtype}] array \"\u001b[0m\u001b[0;34m\u001b[0m\u001b[0;34m\u001b[0m\u001b[0m\n\u001b[1;32m    291\u001b[0m                     \u001b[0;34mf\"and scalar of type [{typ}]\"\u001b[0m\u001b[0;34m\u001b[0m\u001b[0;34m\u001b[0m\u001b[0m\n\u001b[0;32m--> 292\u001b[0;31m                 ) from err\n\u001b[0m\u001b[1;32m    293\u001b[0m \u001b[0;34m\u001b[0m\u001b[0m\n\u001b[1;32m    294\u001b[0m     \u001b[0;32mreturn\u001b[0m \u001b[0mresult\u001b[0m\u001b[0;34m.\u001b[0m\u001b[0mreshape\u001b[0m\u001b[0;34m(\u001b[0m\u001b[0mx\u001b[0m\u001b[0;34m.\u001b[0m\u001b[0mshape\u001b[0m\u001b[0;34m)\u001b[0m\u001b[0;34m\u001b[0m\u001b[0;34m\u001b[0m\u001b[0m\n",
            "\u001b[0;31mTypeError\u001b[0m: Cannot perform 'rand_' with a dtyped [object] array and scalar of type [bool]"
          ]
        }
      ]
    },
    {
      "cell_type": "markdown",
      "source": [
        "- 이렇게 에러가 나거나 원하는 대로 처리가 안 될 수 있음\n",
        "- 괄호로 구분지어주는게 좋음"
      ],
      "metadata": {
        "id": "JhzoQKDdciTS"
      }
    },
    {
      "cell_type": "code",
      "source": [
        "# 서초구 지점의 최현경 담담의 자료만 검색할 때 괄호를 치면\n",
        "rawData[ (rawData['지점'] == '서초구') & (rawData['담당'] == '최현경') ]"
      ],
      "metadata": {
        "colab": {
          "base_uri": "https://localhost:8080/",
          "height": 112
        },
        "id": "mYiwqeK1bYx-",
        "outputId": "82d3387a-fb7d-4e57-cb77-e8c50498f2e1"
      },
      "execution_count": null,
      "outputs": [
        {
          "output_type": "execute_result",
          "data": {
            "text/html": [
              "<div>\n",
              "<style scoped>\n",
              "    .dataframe tbody tr th:only-of-type {\n",
              "        vertical-align: middle;\n",
              "    }\n",
              "\n",
              "    .dataframe tbody tr th {\n",
              "        vertical-align: top;\n",
              "    }\n",
              "\n",
              "    .dataframe thead th {\n",
              "        text-align: right;\n",
              "    }\n",
              "</style>\n",
              "<table border=\"1\" class=\"dataframe\">\n",
              "  <thead>\n",
              "    <tr style=\"text-align: right;\">\n",
              "      <th></th>\n",
              "      <th>회차</th>\n",
              "      <th>이름</th>\n",
              "      <th>측정일</th>\n",
              "      <th>몸무게</th>\n",
              "      <th>단위</th>\n",
              "      <th>담당</th>\n",
              "      <th>지점</th>\n",
              "    </tr>\n",
              "  </thead>\n",
              "  <tbody>\n",
              "    <tr>\n",
              "      <th>5</th>\n",
              "      <td>6</td>\n",
              "      <td>홍길동</td>\n",
              "      <td>2020-03-06</td>\n",
              "      <td>75.7</td>\n",
              "      <td>kg</td>\n",
              "      <td>최현경</td>\n",
              "      <td>서초구</td>\n",
              "    </tr>\n",
              "    <tr>\n",
              "      <th>6</th>\n",
              "      <td>7</td>\n",
              "      <td>홍길동</td>\n",
              "      <td>2020-03-07</td>\n",
              "      <td>NaN</td>\n",
              "      <td>kg</td>\n",
              "      <td>최현경</td>\n",
              "      <td>서초구</td>\n",
              "    </tr>\n",
              "  </tbody>\n",
              "</table>\n",
              "</div>"
            ],
            "text/plain": [
              "   회차   이름         측정일   몸무게  단위   담당   지점\n",
              "5   6  홍길동  2020-03-06  75.7  kg  최현경  서초구\n",
              "6   7  홍길동  2020-03-07   NaN  kg  최현경  서초구"
            ]
          },
          "metadata": {},
          "execution_count": 57
        }
      ]
    },
    {
      "cell_type": "code",
      "source": [
        "# 서초구 지점의 김현경과 최현경 담당자의 자료만 검색하려면\n",
        "rawData[ (rawData['지점'] == '서초구' ) & ( (rawData['담당'] == '김현경') | (rawData['담당'] == '최현경') )]"
      ],
      "metadata": {
        "colab": {
          "base_uri": "https://localhost:8080/",
          "height": 174
        },
        "id": "yDQQk53DcvEn",
        "outputId": "29c2c172-0e5a-4b4a-db61-974e4fda97c4"
      },
      "execution_count": null,
      "outputs": [
        {
          "output_type": "execute_result",
          "data": {
            "text/html": [
              "<div>\n",
              "<style scoped>\n",
              "    .dataframe tbody tr th:only-of-type {\n",
              "        vertical-align: middle;\n",
              "    }\n",
              "\n",
              "    .dataframe tbody tr th {\n",
              "        vertical-align: top;\n",
              "    }\n",
              "\n",
              "    .dataframe thead th {\n",
              "        text-align: right;\n",
              "    }\n",
              "</style>\n",
              "<table border=\"1\" class=\"dataframe\">\n",
              "  <thead>\n",
              "    <tr style=\"text-align: right;\">\n",
              "      <th></th>\n",
              "      <th>회차</th>\n",
              "      <th>이름</th>\n",
              "      <th>측정일</th>\n",
              "      <th>몸무게</th>\n",
              "      <th>단위</th>\n",
              "      <th>담당</th>\n",
              "      <th>지점</th>\n",
              "    </tr>\n",
              "  </thead>\n",
              "  <tbody>\n",
              "    <tr>\n",
              "      <th>5</th>\n",
              "      <td>6</td>\n",
              "      <td>홍길동</td>\n",
              "      <td>2020-03-06</td>\n",
              "      <td>75.7</td>\n",
              "      <td>kg</td>\n",
              "      <td>최현경</td>\n",
              "      <td>서초구</td>\n",
              "    </tr>\n",
              "    <tr>\n",
              "      <th>6</th>\n",
              "      <td>7</td>\n",
              "      <td>홍길동</td>\n",
              "      <td>2020-03-07</td>\n",
              "      <td>NaN</td>\n",
              "      <td>kg</td>\n",
              "      <td>최현경</td>\n",
              "      <td>서초구</td>\n",
              "    </tr>\n",
              "    <tr>\n",
              "      <th>7</th>\n",
              "      <td>8</td>\n",
              "      <td>홍길동</td>\n",
              "      <td>2020-03-08</td>\n",
              "      <td>NaN</td>\n",
              "      <td>kg</td>\n",
              "      <td>김현경</td>\n",
              "      <td>서초구</td>\n",
              "    </tr>\n",
              "    <tr>\n",
              "      <th>8</th>\n",
              "      <td>9</td>\n",
              "      <td>홍길동</td>\n",
              "      <td>2020-03-09</td>\n",
              "      <td>75.0</td>\n",
              "      <td>kg</td>\n",
              "      <td>김현경</td>\n",
              "      <td>서초구</td>\n",
              "    </tr>\n",
              "  </tbody>\n",
              "</table>\n",
              "</div>"
            ],
            "text/plain": [
              "   회차   이름         측정일   몸무게  단위   담당   지점\n",
              "5   6  홍길동  2020-03-06  75.7  kg  최현경  서초구\n",
              "6   7  홍길동  2020-03-07   NaN  kg  최현경  서초구\n",
              "7   8  홍길동  2020-03-08   NaN  kg  김현경  서초구\n",
              "8   9  홍길동  2020-03-09  75.0  kg  김현경  서초구"
            ]
          },
          "metadata": {},
          "execution_count": 59
        }
      ]
    },
    {
      "cell_type": "code",
      "source": [
        "# 지점이 서초구면서, 담장자가 최현경이 아닌 자료를 검색하려면\n",
        "rawData[ (rawData['지점'] == '서초구' ) & ~ (rawData['담당'] == '최현경') ]"
      ],
      "metadata": {
        "colab": {
          "base_uri": "https://localhost:8080/",
          "height": 112
        },
        "id": "jU-vkYw-h_56",
        "outputId": "26b057af-711d-41bb-db0a-539d9626f5c9"
      },
      "execution_count": null,
      "outputs": [
        {
          "output_type": "execute_result",
          "data": {
            "text/html": [
              "<div>\n",
              "<style scoped>\n",
              "    .dataframe tbody tr th:only-of-type {\n",
              "        vertical-align: middle;\n",
              "    }\n",
              "\n",
              "    .dataframe tbody tr th {\n",
              "        vertical-align: top;\n",
              "    }\n",
              "\n",
              "    .dataframe thead th {\n",
              "        text-align: right;\n",
              "    }\n",
              "</style>\n",
              "<table border=\"1\" class=\"dataframe\">\n",
              "  <thead>\n",
              "    <tr style=\"text-align: right;\">\n",
              "      <th></th>\n",
              "      <th>회차</th>\n",
              "      <th>이름</th>\n",
              "      <th>측정일</th>\n",
              "      <th>몸무게</th>\n",
              "      <th>단위</th>\n",
              "      <th>담당</th>\n",
              "      <th>지점</th>\n",
              "    </tr>\n",
              "  </thead>\n",
              "  <tbody>\n",
              "    <tr>\n",
              "      <th>7</th>\n",
              "      <td>8</td>\n",
              "      <td>홍길동</td>\n",
              "      <td>2020-03-08</td>\n",
              "      <td>NaN</td>\n",
              "      <td>kg</td>\n",
              "      <td>김현경</td>\n",
              "      <td>서초구</td>\n",
              "    </tr>\n",
              "    <tr>\n",
              "      <th>8</th>\n",
              "      <td>9</td>\n",
              "      <td>홍길동</td>\n",
              "      <td>2020-03-09</td>\n",
              "      <td>75.0</td>\n",
              "      <td>kg</td>\n",
              "      <td>김현경</td>\n",
              "      <td>서초구</td>\n",
              "    </tr>\n",
              "  </tbody>\n",
              "</table>\n",
              "</div>"
            ],
            "text/plain": [
              "   회차   이름         측정일   몸무게  단위   담당   지점\n",
              "7   8  홍길동  2020-03-08   NaN  kg  김현경  서초구\n",
              "8   9  홍길동  2020-03-09  75.0  kg  김현경  서초구"
            ]
          },
          "metadata": {},
          "execution_count": 75
        }
      ]
    },
    {
      "cell_type": "markdown",
      "source": [
        "### 문자열 처리"
      ],
      "metadata": {
        "id": "8RGtATSZgZDe"
      }
    },
    {
      "cell_type": "code",
      "source": [
        "# isin은 리스트를 파라미터로 갖는다\n",
        "# 리스트 내의 값들 중에서 하나라도 존재하면 True, 그렇지 않으면 False\n",
        "rawData[ (rawData['지점'] == '서초구') & (rawData['담당'].isin(['최현경', '김현경']))]"
      ],
      "metadata": {
        "colab": {
          "base_uri": "https://localhost:8080/",
          "height": 174
        },
        "id": "I_lS1nK7duiL",
        "outputId": "82dc35bc-e60b-4fc7-c20d-84a773de8bd6"
      },
      "execution_count": null,
      "outputs": [
        {
          "output_type": "execute_result",
          "data": {
            "text/html": [
              "<div>\n",
              "<style scoped>\n",
              "    .dataframe tbody tr th:only-of-type {\n",
              "        vertical-align: middle;\n",
              "    }\n",
              "\n",
              "    .dataframe tbody tr th {\n",
              "        vertical-align: top;\n",
              "    }\n",
              "\n",
              "    .dataframe thead th {\n",
              "        text-align: right;\n",
              "    }\n",
              "</style>\n",
              "<table border=\"1\" class=\"dataframe\">\n",
              "  <thead>\n",
              "    <tr style=\"text-align: right;\">\n",
              "      <th></th>\n",
              "      <th>회차</th>\n",
              "      <th>이름</th>\n",
              "      <th>측정일</th>\n",
              "      <th>몸무게</th>\n",
              "      <th>단위</th>\n",
              "      <th>담당</th>\n",
              "      <th>지점</th>\n",
              "    </tr>\n",
              "  </thead>\n",
              "  <tbody>\n",
              "    <tr>\n",
              "      <th>5</th>\n",
              "      <td>6</td>\n",
              "      <td>홍길동</td>\n",
              "      <td>2020-03-06</td>\n",
              "      <td>75.7</td>\n",
              "      <td>kg</td>\n",
              "      <td>최현경</td>\n",
              "      <td>서초구</td>\n",
              "    </tr>\n",
              "    <tr>\n",
              "      <th>6</th>\n",
              "      <td>7</td>\n",
              "      <td>홍길동</td>\n",
              "      <td>2020-03-07</td>\n",
              "      <td>NaN</td>\n",
              "      <td>kg</td>\n",
              "      <td>최현경</td>\n",
              "      <td>서초구</td>\n",
              "    </tr>\n",
              "    <tr>\n",
              "      <th>7</th>\n",
              "      <td>8</td>\n",
              "      <td>홍길동</td>\n",
              "      <td>2020-03-08</td>\n",
              "      <td>NaN</td>\n",
              "      <td>kg</td>\n",
              "      <td>김현경</td>\n",
              "      <td>서초구</td>\n",
              "    </tr>\n",
              "    <tr>\n",
              "      <th>8</th>\n",
              "      <td>9</td>\n",
              "      <td>홍길동</td>\n",
              "      <td>2020-03-09</td>\n",
              "      <td>75.0</td>\n",
              "      <td>kg</td>\n",
              "      <td>김현경</td>\n",
              "      <td>서초구</td>\n",
              "    </tr>\n",
              "  </tbody>\n",
              "</table>\n",
              "</div>"
            ],
            "text/plain": [
              "   회차   이름         측정일   몸무게  단위   담당   지점\n",
              "5   6  홍길동  2020-03-06  75.7  kg  최현경  서초구\n",
              "6   7  홍길동  2020-03-07   NaN  kg  최현경  서초구\n",
              "7   8  홍길동  2020-03-08   NaN  kg  김현경  서초구\n",
              "8   9  홍길동  2020-03-09  75.0  kg  김현경  서초구"
            ]
          },
          "metadata": {},
          "execution_count": 64
        }
      ]
    },
    {
      "cell_type": "code",
      "source": [
        "# 담당자들 중에 성이 '김'씨인 자료만 검색\n",
        "# 파이썬의 문자열 메소드 이용하는 경우\n",
        "# str을 사용하면 파이썬에서 제공하는 문자열 메소드를 동일하게 사용할 수 있다\n",
        "# coantains는 문자열 내에서 특정 문자열이 존재하면 True, 그렇지 않으면 False\n",
        "rawData[ rawData['담당'].str.contains('김') ] \n"
      ],
      "metadata": {
        "colab": {
          "base_uri": "https://localhost:8080/",
          "height": 174
        },
        "id": "HGAgpphefdtD",
        "outputId": "efd8818e-6d3e-43ad-f203-e785f8435863"
      },
      "execution_count": null,
      "outputs": [
        {
          "output_type": "execute_result",
          "data": {
            "text/html": [
              "<div>\n",
              "<style scoped>\n",
              "    .dataframe tbody tr th:only-of-type {\n",
              "        vertical-align: middle;\n",
              "    }\n",
              "\n",
              "    .dataframe tbody tr th {\n",
              "        vertical-align: top;\n",
              "    }\n",
              "\n",
              "    .dataframe thead th {\n",
              "        text-align: right;\n",
              "    }\n",
              "</style>\n",
              "<table border=\"1\" class=\"dataframe\">\n",
              "  <thead>\n",
              "    <tr style=\"text-align: right;\">\n",
              "      <th></th>\n",
              "      <th>회차</th>\n",
              "      <th>이름</th>\n",
              "      <th>측정일</th>\n",
              "      <th>몸무게</th>\n",
              "      <th>단위</th>\n",
              "      <th>담당</th>\n",
              "      <th>지점</th>\n",
              "    </tr>\n",
              "  </thead>\n",
              "  <tbody>\n",
              "    <tr>\n",
              "      <th>1</th>\n",
              "      <td>2</td>\n",
              "      <td>홍길동</td>\n",
              "      <td>2020-03-02</td>\n",
              "      <td>75.7</td>\n",
              "      <td>kg</td>\n",
              "      <td>김현경</td>\n",
              "      <td>관악구</td>\n",
              "    </tr>\n",
              "    <tr>\n",
              "      <th>4</th>\n",
              "      <td>5</td>\n",
              "      <td>홍길동</td>\n",
              "      <td>2020-03-05</td>\n",
              "      <td>76.2</td>\n",
              "      <td>kg</td>\n",
              "      <td>김현경</td>\n",
              "      <td>강남구</td>\n",
              "    </tr>\n",
              "    <tr>\n",
              "      <th>7</th>\n",
              "      <td>8</td>\n",
              "      <td>홍길동</td>\n",
              "      <td>2020-03-08</td>\n",
              "      <td>NaN</td>\n",
              "      <td>kg</td>\n",
              "      <td>김현경</td>\n",
              "      <td>서초구</td>\n",
              "    </tr>\n",
              "    <tr>\n",
              "      <th>8</th>\n",
              "      <td>9</td>\n",
              "      <td>홍길동</td>\n",
              "      <td>2020-03-09</td>\n",
              "      <td>75.0</td>\n",
              "      <td>kg</td>\n",
              "      <td>김현경</td>\n",
              "      <td>서초구</td>\n",
              "    </tr>\n",
              "  </tbody>\n",
              "</table>\n",
              "</div>"
            ],
            "text/plain": [
              "   회차   이름         측정일   몸무게  단위   담당   지점\n",
              "1   2  홍길동  2020-03-02  75.7  kg  김현경  관악구\n",
              "4   5  홍길동  2020-03-05  76.2  kg  김현경  강남구\n",
              "7   8  홍길동  2020-03-08   NaN  kg  김현경  서초구\n",
              "8   9  홍길동  2020-03-09  75.0  kg  김현경  서초구"
            ]
          },
          "metadata": {},
          "execution_count": 66
        }
      ]
    },
    {
      "cell_type": "code",
      "source": [
        "# statrwith 는 문자열 내에서 특정 문자열로 시작하는 경우 True, 그렇지 않으면 False\n",
        "rawData[ rawData['담당'].str.startswith('김')]"
      ],
      "metadata": {
        "colab": {
          "base_uri": "https://localhost:8080/",
          "height": 174
        },
        "id": "fTYPwt_SgB0n",
        "outputId": "6c729ed6-713e-4c82-8346-743355a0feb9"
      },
      "execution_count": null,
      "outputs": [
        {
          "output_type": "execute_result",
          "data": {
            "text/html": [
              "<div>\n",
              "<style scoped>\n",
              "    .dataframe tbody tr th:only-of-type {\n",
              "        vertical-align: middle;\n",
              "    }\n",
              "\n",
              "    .dataframe tbody tr th {\n",
              "        vertical-align: top;\n",
              "    }\n",
              "\n",
              "    .dataframe thead th {\n",
              "        text-align: right;\n",
              "    }\n",
              "</style>\n",
              "<table border=\"1\" class=\"dataframe\">\n",
              "  <thead>\n",
              "    <tr style=\"text-align: right;\">\n",
              "      <th></th>\n",
              "      <th>회차</th>\n",
              "      <th>이름</th>\n",
              "      <th>측정일</th>\n",
              "      <th>몸무게</th>\n",
              "      <th>단위</th>\n",
              "      <th>담당</th>\n",
              "      <th>지점</th>\n",
              "    </tr>\n",
              "  </thead>\n",
              "  <tbody>\n",
              "    <tr>\n",
              "      <th>1</th>\n",
              "      <td>2</td>\n",
              "      <td>홍길동</td>\n",
              "      <td>2020-03-02</td>\n",
              "      <td>75.7</td>\n",
              "      <td>kg</td>\n",
              "      <td>김현경</td>\n",
              "      <td>관악구</td>\n",
              "    </tr>\n",
              "    <tr>\n",
              "      <th>4</th>\n",
              "      <td>5</td>\n",
              "      <td>홍길동</td>\n",
              "      <td>2020-03-05</td>\n",
              "      <td>76.2</td>\n",
              "      <td>kg</td>\n",
              "      <td>김현경</td>\n",
              "      <td>강남구</td>\n",
              "    </tr>\n",
              "    <tr>\n",
              "      <th>7</th>\n",
              "      <td>8</td>\n",
              "      <td>홍길동</td>\n",
              "      <td>2020-03-08</td>\n",
              "      <td>NaN</td>\n",
              "      <td>kg</td>\n",
              "      <td>김현경</td>\n",
              "      <td>서초구</td>\n",
              "    </tr>\n",
              "    <tr>\n",
              "      <th>8</th>\n",
              "      <td>9</td>\n",
              "      <td>홍길동</td>\n",
              "      <td>2020-03-09</td>\n",
              "      <td>75.0</td>\n",
              "      <td>kg</td>\n",
              "      <td>김현경</td>\n",
              "      <td>서초구</td>\n",
              "    </tr>\n",
              "  </tbody>\n",
              "</table>\n",
              "</div>"
            ],
            "text/plain": [
              "   회차   이름         측정일   몸무게  단위   담당   지점\n",
              "1   2  홍길동  2020-03-02  75.7  kg  김현경  관악구\n",
              "4   5  홍길동  2020-03-05  76.2  kg  김현경  강남구\n",
              "7   8  홍길동  2020-03-08   NaN  kg  김현경  서초구\n",
              "8   9  홍길동  2020-03-09  75.0  kg  김현경  서초구"
            ]
          },
          "metadata": {},
          "execution_count": 67
        }
      ]
    },
    {
      "cell_type": "markdown",
      "source": [
        "### 결측치\n",
        "- 결측치가 있으면 분석을 제대로 수행할 수없기 때문에 어떻게든 처리를 해줘야한다.\n",
        "  - 결측치를 채우든가, 지우든가\n",
        "  - 결측치를 채우는 방법\n",
        "    - 결측치를 다른 값으로 대체하는 방법\n",
        "      - 평균, 중앙값 등으로\n",
        "      - (강사님은 개인적으로 별로..)\n",
        "    - "
      ],
      "metadata": {
        "id": "WFLP7gtjkXi1"
      }
    },
    {
      "cell_type": "code",
      "source": [
        "# 결측치를 확인하는 방법\n",
        "# 결측치의 개수\n",
        "rawData['몸무게'].isnull()"
      ],
      "metadata": {
        "colab": {
          "base_uri": "https://localhost:8080/"
        },
        "id": "h3FFb-A3lmxq",
        "outputId": "ee81214b-69db-44f0-947e-4570c1dd1763"
      },
      "execution_count": null,
      "outputs": [
        {
          "output_type": "execute_result",
          "data": {
            "text/plain": [
              "0    False\n",
              "1    False\n",
              "2    False\n",
              "3     True\n",
              "4    False\n",
              "5    False\n",
              "6     True\n",
              "7     True\n",
              "8    False\n",
              "Name: 몸무게, dtype: bool"
            ]
          },
          "metadata": {},
          "execution_count": 82
        }
      ]
    },
    {
      "cell_type": "code",
      "source": [
        "rawData['몸무게'].isna()"
      ],
      "metadata": {
        "colab": {
          "base_uri": "https://localhost:8080/"
        },
        "id": "--jp7orOhwWv",
        "outputId": "1ce9930e-29eb-49f9-97b5-9651a9cd1d79"
      },
      "execution_count": null,
      "outputs": [
        {
          "output_type": "execute_result",
          "data": {
            "text/plain": [
              "0    False\n",
              "1    False\n",
              "2    False\n",
              "3     True\n",
              "4    False\n",
              "5    False\n",
              "6     True\n",
              "7     True\n",
              "8    False\n",
              "Name: 몸무게, dtype: bool"
            ]
          },
          "metadata": {},
          "execution_count": 78
        }
      ]
    },
    {
      "cell_type": "code",
      "source": [
        "# True는 1이기 때문에 다 더하면 True값을 모두 더하면 그게 개수가 됨\n",
        "rawData['몸무게'].isna().sum()\n"
      ],
      "metadata": {
        "colab": {
          "base_uri": "https://localhost:8080/"
        },
        "id": "K-XwpJQ5k_0k",
        "outputId": "6cbde1d2-753e-4add-fa10-4da9af99cf8c"
      },
      "execution_count": null,
      "outputs": [
        {
          "output_type": "execute_result",
          "data": {
            "text/plain": [
              "3"
            ]
          },
          "metadata": {},
          "execution_count": 77
        }
      ]
    },
    {
      "cell_type": "code",
      "source": [
        "# 결측치만 확인하고 싶은 경우\n",
        "rawData[rawData['몸무게'].isna() ]"
      ],
      "metadata": {
        "colab": {
          "base_uri": "https://localhost:8080/",
          "height": 144
        },
        "id": "K46bOiEHlJ-3",
        "outputId": "2b255180-795b-4f13-cd96-1bfc2da85a16"
      },
      "execution_count": null,
      "outputs": [
        {
          "output_type": "execute_result",
          "data": {
            "text/html": [
              "<div>\n",
              "<style scoped>\n",
              "    .dataframe tbody tr th:only-of-type {\n",
              "        vertical-align: middle;\n",
              "    }\n",
              "\n",
              "    .dataframe tbody tr th {\n",
              "        vertical-align: top;\n",
              "    }\n",
              "\n",
              "    .dataframe thead th {\n",
              "        text-align: right;\n",
              "    }\n",
              "</style>\n",
              "<table border=\"1\" class=\"dataframe\">\n",
              "  <thead>\n",
              "    <tr style=\"text-align: right;\">\n",
              "      <th></th>\n",
              "      <th>회차</th>\n",
              "      <th>이름</th>\n",
              "      <th>측정일</th>\n",
              "      <th>몸무게</th>\n",
              "      <th>단위</th>\n",
              "      <th>담당</th>\n",
              "      <th>지점</th>\n",
              "    </tr>\n",
              "  </thead>\n",
              "  <tbody>\n",
              "    <tr>\n",
              "      <th>3</th>\n",
              "      <td>4</td>\n",
              "      <td>홍길동</td>\n",
              "      <td>2020-03-04</td>\n",
              "      <td>NaN</td>\n",
              "      <td>kg</td>\n",
              "      <td>최현경</td>\n",
              "      <td>여의도</td>\n",
              "    </tr>\n",
              "    <tr>\n",
              "      <th>6</th>\n",
              "      <td>7</td>\n",
              "      <td>홍길동</td>\n",
              "      <td>2020-03-07</td>\n",
              "      <td>NaN</td>\n",
              "      <td>kg</td>\n",
              "      <td>최현경</td>\n",
              "      <td>서초구</td>\n",
              "    </tr>\n",
              "    <tr>\n",
              "      <th>7</th>\n",
              "      <td>8</td>\n",
              "      <td>홍길동</td>\n",
              "      <td>2020-03-08</td>\n",
              "      <td>NaN</td>\n",
              "      <td>kg</td>\n",
              "      <td>김현경</td>\n",
              "      <td>서초구</td>\n",
              "    </tr>\n",
              "  </tbody>\n",
              "</table>\n",
              "</div>"
            ],
            "text/plain": [
              "   회차   이름         측정일  몸무게  단위   담당   지점\n",
              "3   4  홍길동  2020-03-04  NaN  kg  최현경  여의도\n",
              "6   7  홍길동  2020-03-07  NaN  kg  최현경  서초구\n",
              "7   8  홍길동  2020-03-08  NaN  kg  김현경  서초구"
            ]
          },
          "metadata": {},
          "execution_count": 79
        }
      ]
    },
    {
      "cell_type": "code",
      "source": [
        "# 결측치를 제외하고 확인하고 싶은 경우\n",
        "# 부정을 해도 되고\n",
        "rawData[ ~ rawData['몸무게'].isna() ]"
      ],
      "metadata": {
        "colab": {
          "base_uri": "https://localhost:8080/",
          "height": 237
        },
        "id": "9UACA3bPlU85",
        "outputId": "dedd918f-662f-4a35-c767-632f2975dec6"
      },
      "execution_count": null,
      "outputs": [
        {
          "output_type": "execute_result",
          "data": {
            "text/html": [
              "<div>\n",
              "<style scoped>\n",
              "    .dataframe tbody tr th:only-of-type {\n",
              "        vertical-align: middle;\n",
              "    }\n",
              "\n",
              "    .dataframe tbody tr th {\n",
              "        vertical-align: top;\n",
              "    }\n",
              "\n",
              "    .dataframe thead th {\n",
              "        text-align: right;\n",
              "    }\n",
              "</style>\n",
              "<table border=\"1\" class=\"dataframe\">\n",
              "  <thead>\n",
              "    <tr style=\"text-align: right;\">\n",
              "      <th></th>\n",
              "      <th>회차</th>\n",
              "      <th>이름</th>\n",
              "      <th>측정일</th>\n",
              "      <th>몸무게</th>\n",
              "      <th>단위</th>\n",
              "      <th>담당</th>\n",
              "      <th>지점</th>\n",
              "    </tr>\n",
              "  </thead>\n",
              "  <tbody>\n",
              "    <tr>\n",
              "      <th>0</th>\n",
              "      <td>1</td>\n",
              "      <td>홍길동</td>\n",
              "      <td>2020-03-01</td>\n",
              "      <td>76.4</td>\n",
              "      <td>kg</td>\n",
              "      <td>박현경</td>\n",
              "      <td>관악구</td>\n",
              "    </tr>\n",
              "    <tr>\n",
              "      <th>1</th>\n",
              "      <td>2</td>\n",
              "      <td>홍길동</td>\n",
              "      <td>2020-03-02</td>\n",
              "      <td>75.7</td>\n",
              "      <td>kg</td>\n",
              "      <td>김현경</td>\n",
              "      <td>관악구</td>\n",
              "    </tr>\n",
              "    <tr>\n",
              "      <th>2</th>\n",
              "      <td>3</td>\n",
              "      <td>홍길동</td>\n",
              "      <td>2020-03-03</td>\n",
              "      <td>76.0</td>\n",
              "      <td>kg</td>\n",
              "      <td>최현경</td>\n",
              "      <td>여의도</td>\n",
              "    </tr>\n",
              "    <tr>\n",
              "      <th>4</th>\n",
              "      <td>5</td>\n",
              "      <td>홍길동</td>\n",
              "      <td>2020-03-05</td>\n",
              "      <td>76.2</td>\n",
              "      <td>kg</td>\n",
              "      <td>김현경</td>\n",
              "      <td>강남구</td>\n",
              "    </tr>\n",
              "    <tr>\n",
              "      <th>5</th>\n",
              "      <td>6</td>\n",
              "      <td>홍길동</td>\n",
              "      <td>2020-03-06</td>\n",
              "      <td>75.7</td>\n",
              "      <td>kg</td>\n",
              "      <td>최현경</td>\n",
              "      <td>서초구</td>\n",
              "    </tr>\n",
              "    <tr>\n",
              "      <th>8</th>\n",
              "      <td>9</td>\n",
              "      <td>홍길동</td>\n",
              "      <td>2020-03-09</td>\n",
              "      <td>75.0</td>\n",
              "      <td>kg</td>\n",
              "      <td>김현경</td>\n",
              "      <td>서초구</td>\n",
              "    </tr>\n",
              "  </tbody>\n",
              "</table>\n",
              "</div>"
            ],
            "text/plain": [
              "   회차   이름         측정일   몸무게  단위   담당   지점\n",
              "0   1  홍길동  2020-03-01  76.4  kg  박현경  관악구\n",
              "1   2  홍길동  2020-03-02  75.7  kg  김현경  관악구\n",
              "2   3  홍길동  2020-03-03  76.0  kg  최현경  여의도\n",
              "4   5  홍길동  2020-03-05  76.2  kg  김현경  강남구\n",
              "5   6  홍길동  2020-03-06  75.7  kg  최현경  서초구\n",
              "8   9  홍길동  2020-03-09  75.0  kg  김현경  서초구"
            ]
          },
          "metadata": {},
          "execution_count": 80
        }
      ]
    },
    {
      "cell_type": "code",
      "source": [
        "# 메소드를 사용해도 되고\n",
        "rawData[rawData['몸무게'].notna() ]"
      ],
      "metadata": {
        "colab": {
          "base_uri": "https://localhost:8080/",
          "height": 237
        },
        "id": "w4EBw05albNr",
        "outputId": "713f6e6d-81bd-456b-8860-c3c2ee613379"
      },
      "execution_count": null,
      "outputs": [
        {
          "output_type": "execute_result",
          "data": {
            "text/html": [
              "<div>\n",
              "<style scoped>\n",
              "    .dataframe tbody tr th:only-of-type {\n",
              "        vertical-align: middle;\n",
              "    }\n",
              "\n",
              "    .dataframe tbody tr th {\n",
              "        vertical-align: top;\n",
              "    }\n",
              "\n",
              "    .dataframe thead th {\n",
              "        text-align: right;\n",
              "    }\n",
              "</style>\n",
              "<table border=\"1\" class=\"dataframe\">\n",
              "  <thead>\n",
              "    <tr style=\"text-align: right;\">\n",
              "      <th></th>\n",
              "      <th>회차</th>\n",
              "      <th>이름</th>\n",
              "      <th>측정일</th>\n",
              "      <th>몸무게</th>\n",
              "      <th>단위</th>\n",
              "      <th>담당</th>\n",
              "      <th>지점</th>\n",
              "    </tr>\n",
              "  </thead>\n",
              "  <tbody>\n",
              "    <tr>\n",
              "      <th>0</th>\n",
              "      <td>1</td>\n",
              "      <td>홍길동</td>\n",
              "      <td>2020-03-01</td>\n",
              "      <td>76.4</td>\n",
              "      <td>kg</td>\n",
              "      <td>박현경</td>\n",
              "      <td>관악구</td>\n",
              "    </tr>\n",
              "    <tr>\n",
              "      <th>1</th>\n",
              "      <td>2</td>\n",
              "      <td>홍길동</td>\n",
              "      <td>2020-03-02</td>\n",
              "      <td>75.7</td>\n",
              "      <td>kg</td>\n",
              "      <td>김현경</td>\n",
              "      <td>관악구</td>\n",
              "    </tr>\n",
              "    <tr>\n",
              "      <th>2</th>\n",
              "      <td>3</td>\n",
              "      <td>홍길동</td>\n",
              "      <td>2020-03-03</td>\n",
              "      <td>76.0</td>\n",
              "      <td>kg</td>\n",
              "      <td>최현경</td>\n",
              "      <td>여의도</td>\n",
              "    </tr>\n",
              "    <tr>\n",
              "      <th>4</th>\n",
              "      <td>5</td>\n",
              "      <td>홍길동</td>\n",
              "      <td>2020-03-05</td>\n",
              "      <td>76.2</td>\n",
              "      <td>kg</td>\n",
              "      <td>김현경</td>\n",
              "      <td>강남구</td>\n",
              "    </tr>\n",
              "    <tr>\n",
              "      <th>5</th>\n",
              "      <td>6</td>\n",
              "      <td>홍길동</td>\n",
              "      <td>2020-03-06</td>\n",
              "      <td>75.7</td>\n",
              "      <td>kg</td>\n",
              "      <td>최현경</td>\n",
              "      <td>서초구</td>\n",
              "    </tr>\n",
              "    <tr>\n",
              "      <th>8</th>\n",
              "      <td>9</td>\n",
              "      <td>홍길동</td>\n",
              "      <td>2020-03-09</td>\n",
              "      <td>75.0</td>\n",
              "      <td>kg</td>\n",
              "      <td>김현경</td>\n",
              "      <td>서초구</td>\n",
              "    </tr>\n",
              "  </tbody>\n",
              "</table>\n",
              "</div>"
            ],
            "text/plain": [
              "   회차   이름         측정일   몸무게  단위   담당   지점\n",
              "0   1  홍길동  2020-03-01  76.4  kg  박현경  관악구\n",
              "1   2  홍길동  2020-03-02  75.7  kg  김현경  관악구\n",
              "2   3  홍길동  2020-03-03  76.0  kg  최현경  여의도\n",
              "4   5  홍길동  2020-03-05  76.2  kg  김현경  강남구\n",
              "5   6  홍길동  2020-03-06  75.7  kg  최현경  서초구\n",
              "8   9  홍길동  2020-03-09  75.0  kg  김현경  서초구"
            ]
          },
          "metadata": {},
          "execution_count": 81
        }
      ]
    },
    {
      "cell_type": "code",
      "source": [
        "# 조건에 맞는 자료등 중에서 내가 원하는 컬럼만 확인하려면\n",
        "# 결측치인 경우의 이름만 확인하는 법\n",
        "# 로케이트를 같이 써줘야 함\n",
        "rawData.loc[rawData['몸무게'].isna(), '이름' ]"
      ],
      "metadata": {
        "colab": {
          "base_uri": "https://localhost:8080/"
        },
        "id": "GKFWNPzHlfmx",
        "outputId": "667687d6-683d-4b73-d081-52c23ffdeb39"
      },
      "execution_count": null,
      "outputs": [
        {
          "output_type": "execute_result",
          "data": {
            "text/plain": [
              "3    홍길동\n",
              "6    홍길동\n",
              "7    홍길동\n",
              "Name: 이름, dtype: object"
            ]
          },
          "metadata": {},
          "execution_count": 83
        }
      ]
    },
    {
      "cell_type": "code",
      "source": [
        "# 몸무게를 측정하지 않은 자료들의 지점, 담당, 측정일을 확인하려면\n",
        "rawData.loc[rawData['몸무게'].isna(), ['지점', '담당', '측정일'] ]"
      ],
      "metadata": {
        "colab": {
          "base_uri": "https://localhost:8080/",
          "height": 144
        },
        "id": "thIh9_KAl6q4",
        "outputId": "4ef1dc89-a29c-4660-9722-8618d7932a39"
      },
      "execution_count": null,
      "outputs": [
        {
          "output_type": "execute_result",
          "data": {
            "text/html": [
              "<div>\n",
              "<style scoped>\n",
              "    .dataframe tbody tr th:only-of-type {\n",
              "        vertical-align: middle;\n",
              "    }\n",
              "\n",
              "    .dataframe tbody tr th {\n",
              "        vertical-align: top;\n",
              "    }\n",
              "\n",
              "    .dataframe thead th {\n",
              "        text-align: right;\n",
              "    }\n",
              "</style>\n",
              "<table border=\"1\" class=\"dataframe\">\n",
              "  <thead>\n",
              "    <tr style=\"text-align: right;\">\n",
              "      <th></th>\n",
              "      <th>지점</th>\n",
              "      <th>담당</th>\n",
              "      <th>측정일</th>\n",
              "    </tr>\n",
              "  </thead>\n",
              "  <tbody>\n",
              "    <tr>\n",
              "      <th>3</th>\n",
              "      <td>여의도</td>\n",
              "      <td>최현경</td>\n",
              "      <td>2020-03-04</td>\n",
              "    </tr>\n",
              "    <tr>\n",
              "      <th>6</th>\n",
              "      <td>서초구</td>\n",
              "      <td>최현경</td>\n",
              "      <td>2020-03-07</td>\n",
              "    </tr>\n",
              "    <tr>\n",
              "      <th>7</th>\n",
              "      <td>서초구</td>\n",
              "      <td>김현경</td>\n",
              "      <td>2020-03-08</td>\n",
              "    </tr>\n",
              "  </tbody>\n",
              "</table>\n",
              "</div>"
            ],
            "text/plain": [
              "    지점   담당         측정일\n",
              "3  여의도  최현경  2020-03-04\n",
              "6  서초구  최현경  2020-03-07\n",
              "7  서초구  김현경  2020-03-08"
            ]
          },
          "metadata": {},
          "execution_count": 84
        }
      ]
    },
    {
      "cell_type": "markdown",
      "source": [
        "### 이상치 (outlier)\n",
        "- 특별히 크거나, 작은 값\n",
        "  - 얼마나 크거나 작아야 이상치라고 할  수있을까?\n",
        "    - 이건 분석자가 정하든..?\n",
        "- 이상치를 찾는 경우가 아니라면, 이상치는 제거하고 분석을 진행한다.\n",
        "\n",
        "- 자료의 분포를 봤을 때 이건 너무 크구나 싶은 경우엔 이상치를 제거한다는 듯?"
      ],
      "metadata": {
        "id": "MVEofh7InfOx"
      }
    },
    {
      "cell_type": "code",
      "source": [
        "rawData['몸무게'].describe()"
      ],
      "metadata": {
        "colab": {
          "base_uri": "https://localhost:8080/"
        },
        "id": "jbKd4X0lmCvg",
        "outputId": "6e88d05b-c6a5-4fe0-9833-b0cad8d08bad"
      },
      "execution_count": null,
      "outputs": [
        {
          "output_type": "execute_result",
          "data": {
            "text/plain": [
              "count     6.000000\n",
              "mean     75.833333\n",
              "std       0.492612\n",
              "min      75.000000\n",
              "25%      75.700000\n",
              "50%      75.850000\n",
              "75%      76.150000\n",
              "max      76.400000\n",
              "Name: 몸무게, dtype: float64"
            ]
          },
          "metadata": {},
          "execution_count": 86
        }
      ]
    },
    {
      "cell_type": "code",
      "source": [
        "# 위의 값이 이상치가 있진 않지만 억지로 이상치를 설정해본다면,\n",
        "# 76을 넘어가면 이상치로 판단한다고 가정한다면\n",
        "rawData[ rawData['몸무게'] > 76.15 ]"
      ],
      "metadata": {
        "colab": {
          "base_uri": "https://localhost:8080/",
          "height": 112
        },
        "id": "JpwIsvzwn3yn",
        "outputId": "87c32523-1fbe-4acf-a196-84c46d3b0e87"
      },
      "execution_count": null,
      "outputs": [
        {
          "output_type": "execute_result",
          "data": {
            "text/html": [
              "<div>\n",
              "<style scoped>\n",
              "    .dataframe tbody tr th:only-of-type {\n",
              "        vertical-align: middle;\n",
              "    }\n",
              "\n",
              "    .dataframe tbody tr th {\n",
              "        vertical-align: top;\n",
              "    }\n",
              "\n",
              "    .dataframe thead th {\n",
              "        text-align: right;\n",
              "    }\n",
              "</style>\n",
              "<table border=\"1\" class=\"dataframe\">\n",
              "  <thead>\n",
              "    <tr style=\"text-align: right;\">\n",
              "      <th></th>\n",
              "      <th>회차</th>\n",
              "      <th>이름</th>\n",
              "      <th>측정일</th>\n",
              "      <th>몸무게</th>\n",
              "      <th>단위</th>\n",
              "      <th>담당</th>\n",
              "      <th>지점</th>\n",
              "    </tr>\n",
              "  </thead>\n",
              "  <tbody>\n",
              "    <tr>\n",
              "      <th>0</th>\n",
              "      <td>1</td>\n",
              "      <td>홍길동</td>\n",
              "      <td>2020-03-01</td>\n",
              "      <td>76.4</td>\n",
              "      <td>kg</td>\n",
              "      <td>박현경</td>\n",
              "      <td>관악구</td>\n",
              "    </tr>\n",
              "    <tr>\n",
              "      <th>4</th>\n",
              "      <td>5</td>\n",
              "      <td>홍길동</td>\n",
              "      <td>2020-03-05</td>\n",
              "      <td>76.2</td>\n",
              "      <td>kg</td>\n",
              "      <td>김현경</td>\n",
              "      <td>강남구</td>\n",
              "    </tr>\n",
              "  </tbody>\n",
              "</table>\n",
              "</div>"
            ],
            "text/plain": [
              "   회차   이름         측정일   몸무게  단위   담당   지점\n",
              "0   1  홍길동  2020-03-01  76.4  kg  박현경  관악구\n",
              "4   5  홍길동  2020-03-05  76.2  kg  김현경  강남구"
            ]
          },
          "metadata": {},
          "execution_count": 87
        }
      ]
    },
    {
      "cell_type": "code",
      "source": [
        "# 4분위수를 이용한 방법\n",
        "rawData['몸무게'].sort_values()\n",
        "# 분포도에서 중간의 50%, 상위/하위 25%씩, 그리고 최대값/최소값 1% 4개로 나눈건가\n",
        "# 자세한 건 추후에 다룰 거임..."
      ],
      "metadata": {
        "colab": {
          "base_uri": "https://localhost:8080/"
        },
        "id": "Oe44LEj8oKiA",
        "outputId": "924f2bc3-251f-44eb-c94b-4b547c36f733"
      },
      "execution_count": null,
      "outputs": [
        {
          "output_type": "execute_result",
          "data": {
            "text/plain": [
              "8    75.0\n",
              "1    75.7\n",
              "5    75.7\n",
              "2    76.0\n",
              "4    76.2\n",
              "0    76.4\n",
              "3     NaN\n",
              "6     NaN\n",
              "7     NaN\n",
              "Name: 몸무게, dtype: float64"
            ]
          },
          "metadata": {},
          "execution_count": 90
        }
      ]
    },
    {
      "cell_type": "code",
      "source": [
        "display(rawData['몸무게'].quantile(0.25))\n",
        "display(rawData['몸무게'].quantile(0.50))\n",
        "display(rawData['몸무게'].quantile(0.75))\n",
        "display(rawData['몸무게'].quantile(0.99))\n"
      ],
      "metadata": {
        "colab": {
          "base_uri": "https://localhost:8080/",
          "height": 86
        },
        "id": "OkdmktRZoRwx",
        "outputId": "6bd8b1cb-ac7b-4b0d-947a-0f556401b87d"
      },
      "execution_count": null,
      "outputs": [
        {
          "output_type": "display_data",
          "data": {
            "text/plain": [
              "75.7"
            ]
          },
          "metadata": {}
        },
        {
          "output_type": "display_data",
          "data": {
            "text/plain": [
              "75.85"
            ]
          },
          "metadata": {}
        },
        {
          "output_type": "display_data",
          "data": {
            "text/plain": [
              "76.15"
            ]
          },
          "metadata": {}
        },
        {
          "output_type": "display_data",
          "data": {
            "text/plain": [
              "76.39"
            ]
          },
          "metadata": {}
        }
      ]
    },
    {
      "cell_type": "code",
      "source": [
        "# 이상치를 상위 99%를 넘어가는 값이라고 지정한다면\n",
        "# 하위 0.1%보다 낮은 값도 이상치로 지정한다면\n",
        "# 이상치는 제거하는 방법\n",
        "low = rawData['몸무게'].quantile(0.01)\n",
        "high = rawData['몸무게'].quantile(0.99)\n",
        "rawData[ (rawData['몸무게'] < high) & (rawData['몸무게'] > low) ]"
      ],
      "metadata": {
        "colab": {
          "base_uri": "https://localhost:8080/",
          "height": 174
        },
        "id": "7EhAZwk5o56w",
        "outputId": "5dbc221a-c7fb-4edd-d026-fd1a58ac1274"
      },
      "execution_count": null,
      "outputs": [
        {
          "output_type": "execute_result",
          "data": {
            "text/html": [
              "<div>\n",
              "<style scoped>\n",
              "    .dataframe tbody tr th:only-of-type {\n",
              "        vertical-align: middle;\n",
              "    }\n",
              "\n",
              "    .dataframe tbody tr th {\n",
              "        vertical-align: top;\n",
              "    }\n",
              "\n",
              "    .dataframe thead th {\n",
              "        text-align: right;\n",
              "    }\n",
              "</style>\n",
              "<table border=\"1\" class=\"dataframe\">\n",
              "  <thead>\n",
              "    <tr style=\"text-align: right;\">\n",
              "      <th></th>\n",
              "      <th>회차</th>\n",
              "      <th>이름</th>\n",
              "      <th>측정일</th>\n",
              "      <th>몸무게</th>\n",
              "      <th>단위</th>\n",
              "      <th>담당</th>\n",
              "      <th>지점</th>\n",
              "    </tr>\n",
              "  </thead>\n",
              "  <tbody>\n",
              "    <tr>\n",
              "      <th>1</th>\n",
              "      <td>2</td>\n",
              "      <td>홍길동</td>\n",
              "      <td>2020-03-02</td>\n",
              "      <td>75.7</td>\n",
              "      <td>kg</td>\n",
              "      <td>김현경</td>\n",
              "      <td>관악구</td>\n",
              "    </tr>\n",
              "    <tr>\n",
              "      <th>2</th>\n",
              "      <td>3</td>\n",
              "      <td>홍길동</td>\n",
              "      <td>2020-03-03</td>\n",
              "      <td>76.0</td>\n",
              "      <td>kg</td>\n",
              "      <td>최현경</td>\n",
              "      <td>여의도</td>\n",
              "    </tr>\n",
              "    <tr>\n",
              "      <th>4</th>\n",
              "      <td>5</td>\n",
              "      <td>홍길동</td>\n",
              "      <td>2020-03-05</td>\n",
              "      <td>76.2</td>\n",
              "      <td>kg</td>\n",
              "      <td>김현경</td>\n",
              "      <td>강남구</td>\n",
              "    </tr>\n",
              "    <tr>\n",
              "      <th>5</th>\n",
              "      <td>6</td>\n",
              "      <td>홍길동</td>\n",
              "      <td>2020-03-06</td>\n",
              "      <td>75.7</td>\n",
              "      <td>kg</td>\n",
              "      <td>최현경</td>\n",
              "      <td>서초구</td>\n",
              "    </tr>\n",
              "  </tbody>\n",
              "</table>\n",
              "</div>"
            ],
            "text/plain": [
              "   회차   이름         측정일   몸무게  단위   담당   지점\n",
              "1   2  홍길동  2020-03-02  75.7  kg  김현경  관악구\n",
              "2   3  홍길동  2020-03-03  76.0  kg  최현경  여의도\n",
              "4   5  홍길동  2020-03-05  76.2  kg  김현경  강남구\n",
              "5   6  홍길동  2020-03-06  75.7  kg  최현경  서초구"
            ]
          },
          "metadata": {},
          "execution_count": 92
        }
      ]
    },
    {
      "cell_type": "markdown",
      "source": [
        "### 중복 데이터 검사\n",
        "- duplicated 를 이용해서 중복된 자료를 검사\n",
        "  - 중복된 자료를 삭제하거나 합쳐주거나"
      ],
      "metadata": {
        "id": "kv8zbCa0pyxF"
      }
    },
    {
      "cell_type": "code",
      "source": [
        "rawData.duplicated(subset=['지점'])"
      ],
      "metadata": {
        "colab": {
          "base_uri": "https://localhost:8080/"
        },
        "id": "gTI7NdX8parc",
        "outputId": "7ceb9f80-628d-4097-f7d6-4312dd0f2e44"
      },
      "execution_count": null,
      "outputs": [
        {
          "output_type": "execute_result",
          "data": {
            "text/plain": [
              "0    False\n",
              "1     True\n",
              "2    False\n",
              "3     True\n",
              "4    False\n",
              "5    False\n",
              "6     True\n",
              "7     True\n",
              "8     True\n",
              "dtype: bool"
            ]
          },
          "metadata": {},
          "execution_count": 93
        }
      ]
    },
    {
      "cell_type": "code",
      "source": [
        "rawData[ rawData.duplicated(subset=['지점'])]\n",
        "# 중복되는 값들 중 제일 먼저의 값 말고 그 다음부터 중복되는 값들을 보여준 듯!"
      ],
      "metadata": {
        "colab": {
          "base_uri": "https://localhost:8080/",
          "height": 206
        },
        "id": "rueNEJfEqC8B",
        "outputId": "abddd4c3-2baf-4ac8-e105-fe1018d31060"
      },
      "execution_count": null,
      "outputs": [
        {
          "output_type": "execute_result",
          "data": {
            "text/html": [
              "<div>\n",
              "<style scoped>\n",
              "    .dataframe tbody tr th:only-of-type {\n",
              "        vertical-align: middle;\n",
              "    }\n",
              "\n",
              "    .dataframe tbody tr th {\n",
              "        vertical-align: top;\n",
              "    }\n",
              "\n",
              "    .dataframe thead th {\n",
              "        text-align: right;\n",
              "    }\n",
              "</style>\n",
              "<table border=\"1\" class=\"dataframe\">\n",
              "  <thead>\n",
              "    <tr style=\"text-align: right;\">\n",
              "      <th></th>\n",
              "      <th>회차</th>\n",
              "      <th>이름</th>\n",
              "      <th>측정일</th>\n",
              "      <th>몸무게</th>\n",
              "      <th>단위</th>\n",
              "      <th>담당</th>\n",
              "      <th>지점</th>\n",
              "    </tr>\n",
              "  </thead>\n",
              "  <tbody>\n",
              "    <tr>\n",
              "      <th>1</th>\n",
              "      <td>2</td>\n",
              "      <td>홍길동</td>\n",
              "      <td>2020-03-02</td>\n",
              "      <td>75.7</td>\n",
              "      <td>kg</td>\n",
              "      <td>김현경</td>\n",
              "      <td>관악구</td>\n",
              "    </tr>\n",
              "    <tr>\n",
              "      <th>3</th>\n",
              "      <td>4</td>\n",
              "      <td>홍길동</td>\n",
              "      <td>2020-03-04</td>\n",
              "      <td>NaN</td>\n",
              "      <td>kg</td>\n",
              "      <td>최현경</td>\n",
              "      <td>여의도</td>\n",
              "    </tr>\n",
              "    <tr>\n",
              "      <th>6</th>\n",
              "      <td>7</td>\n",
              "      <td>홍길동</td>\n",
              "      <td>2020-03-07</td>\n",
              "      <td>NaN</td>\n",
              "      <td>kg</td>\n",
              "      <td>최현경</td>\n",
              "      <td>서초구</td>\n",
              "    </tr>\n",
              "    <tr>\n",
              "      <th>7</th>\n",
              "      <td>8</td>\n",
              "      <td>홍길동</td>\n",
              "      <td>2020-03-08</td>\n",
              "      <td>NaN</td>\n",
              "      <td>kg</td>\n",
              "      <td>김현경</td>\n",
              "      <td>서초구</td>\n",
              "    </tr>\n",
              "    <tr>\n",
              "      <th>8</th>\n",
              "      <td>9</td>\n",
              "      <td>홍길동</td>\n",
              "      <td>2020-03-09</td>\n",
              "      <td>75.0</td>\n",
              "      <td>kg</td>\n",
              "      <td>김현경</td>\n",
              "      <td>서초구</td>\n",
              "    </tr>\n",
              "  </tbody>\n",
              "</table>\n",
              "</div>"
            ],
            "text/plain": [
              "   회차   이름         측정일   몸무게  단위   담당   지점\n",
              "1   2  홍길동  2020-03-02  75.7  kg  김현경  관악구\n",
              "3   4  홍길동  2020-03-04   NaN  kg  최현경  여의도\n",
              "6   7  홍길동  2020-03-07   NaN  kg  최현경  서초구\n",
              "7   8  홍길동  2020-03-08   NaN  kg  김현경  서초구\n",
              "8   9  홍길동  2020-03-09  75.0  kg  김현경  서초구"
            ]
          },
          "metadata": {},
          "execution_count": 95
        }
      ]
    },
    {
      "cell_type": "code",
      "source": [
        "# keep=False 로 파라미터를 지정해주면\n",
        "# 모든 중복된 데이터를 보여줌\n",
        "rawData[ rawData.duplicated(subset=['지점'], keep=False) ]"
      ],
      "metadata": {
        "colab": {
          "base_uri": "https://localhost:8080/",
          "height": 300
        },
        "id": "_IAuFGSSqJip",
        "outputId": "d58b6235-0381-4c6a-9374-73ef84c78ad5"
      },
      "execution_count": null,
      "outputs": [
        {
          "output_type": "execute_result",
          "data": {
            "text/html": [
              "<div>\n",
              "<style scoped>\n",
              "    .dataframe tbody tr th:only-of-type {\n",
              "        vertical-align: middle;\n",
              "    }\n",
              "\n",
              "    .dataframe tbody tr th {\n",
              "        vertical-align: top;\n",
              "    }\n",
              "\n",
              "    .dataframe thead th {\n",
              "        text-align: right;\n",
              "    }\n",
              "</style>\n",
              "<table border=\"1\" class=\"dataframe\">\n",
              "  <thead>\n",
              "    <tr style=\"text-align: right;\">\n",
              "      <th></th>\n",
              "      <th>회차</th>\n",
              "      <th>이름</th>\n",
              "      <th>측정일</th>\n",
              "      <th>몸무게</th>\n",
              "      <th>단위</th>\n",
              "      <th>담당</th>\n",
              "      <th>지점</th>\n",
              "    </tr>\n",
              "  </thead>\n",
              "  <tbody>\n",
              "    <tr>\n",
              "      <th>0</th>\n",
              "      <td>1</td>\n",
              "      <td>홍길동</td>\n",
              "      <td>2020-03-01</td>\n",
              "      <td>76.4</td>\n",
              "      <td>kg</td>\n",
              "      <td>박현경</td>\n",
              "      <td>관악구</td>\n",
              "    </tr>\n",
              "    <tr>\n",
              "      <th>1</th>\n",
              "      <td>2</td>\n",
              "      <td>홍길동</td>\n",
              "      <td>2020-03-02</td>\n",
              "      <td>75.7</td>\n",
              "      <td>kg</td>\n",
              "      <td>김현경</td>\n",
              "      <td>관악구</td>\n",
              "    </tr>\n",
              "    <tr>\n",
              "      <th>2</th>\n",
              "      <td>3</td>\n",
              "      <td>홍길동</td>\n",
              "      <td>2020-03-03</td>\n",
              "      <td>76.0</td>\n",
              "      <td>kg</td>\n",
              "      <td>최현경</td>\n",
              "      <td>여의도</td>\n",
              "    </tr>\n",
              "    <tr>\n",
              "      <th>3</th>\n",
              "      <td>4</td>\n",
              "      <td>홍길동</td>\n",
              "      <td>2020-03-04</td>\n",
              "      <td>NaN</td>\n",
              "      <td>kg</td>\n",
              "      <td>최현경</td>\n",
              "      <td>여의도</td>\n",
              "    </tr>\n",
              "    <tr>\n",
              "      <th>5</th>\n",
              "      <td>6</td>\n",
              "      <td>홍길동</td>\n",
              "      <td>2020-03-06</td>\n",
              "      <td>75.7</td>\n",
              "      <td>kg</td>\n",
              "      <td>최현경</td>\n",
              "      <td>서초구</td>\n",
              "    </tr>\n",
              "    <tr>\n",
              "      <th>6</th>\n",
              "      <td>7</td>\n",
              "      <td>홍길동</td>\n",
              "      <td>2020-03-07</td>\n",
              "      <td>NaN</td>\n",
              "      <td>kg</td>\n",
              "      <td>최현경</td>\n",
              "      <td>서초구</td>\n",
              "    </tr>\n",
              "    <tr>\n",
              "      <th>7</th>\n",
              "      <td>8</td>\n",
              "      <td>홍길동</td>\n",
              "      <td>2020-03-08</td>\n",
              "      <td>NaN</td>\n",
              "      <td>kg</td>\n",
              "      <td>김현경</td>\n",
              "      <td>서초구</td>\n",
              "    </tr>\n",
              "    <tr>\n",
              "      <th>8</th>\n",
              "      <td>9</td>\n",
              "      <td>홍길동</td>\n",
              "      <td>2020-03-09</td>\n",
              "      <td>75.0</td>\n",
              "      <td>kg</td>\n",
              "      <td>김현경</td>\n",
              "      <td>서초구</td>\n",
              "    </tr>\n",
              "  </tbody>\n",
              "</table>\n",
              "</div>"
            ],
            "text/plain": [
              "   회차   이름         측정일   몸무게  단위   담당   지점\n",
              "0   1  홍길동  2020-03-01  76.4  kg  박현경  관악구\n",
              "1   2  홍길동  2020-03-02  75.7  kg  김현경  관악구\n",
              "2   3  홍길동  2020-03-03  76.0  kg  최현경  여의도\n",
              "3   4  홍길동  2020-03-04   NaN  kg  최현경  여의도\n",
              "5   6  홍길동  2020-03-06  75.7  kg  최현경  서초구\n",
              "6   7  홍길동  2020-03-07   NaN  kg  최현경  서초구\n",
              "7   8  홍길동  2020-03-08   NaN  kg  김현경  서초구\n",
              "8   9  홍길동  2020-03-09  75.0  kg  김현경  서초구"
            ]
          },
          "metadata": {},
          "execution_count": 98
        }
      ]
    },
    {
      "cell_type": "markdown",
      "source": [
        "##통계분석\n",
        "- 판다스에서 제공하는 통게관련된 기능들\n",
        "  - pivot\n",
        "    - (엑셀에서 사용하는 피봇 기능과 동일)(피벗 말하는 듯?..)\n",
        "  - crosstab \n",
        "    - 변수가 두개 이상?\n",
        "  - 그룹화"
      ],
      "metadata": {
        "id": "uMFLlzJTq4HV"
      }
    },
    {
      "cell_type": "code",
      "source": [
        "# 지점별 몸무게 평균\n",
        "pd.pivot_table( rawData, index='지점', values='몸무게' )\n",
        "# 기본값이 평균을 구해주는 거임"
      ],
      "metadata": {
        "colab": {
          "base_uri": "https://localhost:8080/",
          "height": 206
        },
        "id": "nVNLP9Aeqf5C",
        "outputId": "6072b891-a32e-4a19-883f-a56e80a41efa"
      },
      "execution_count": null,
      "outputs": [
        {
          "output_type": "execute_result",
          "data": {
            "text/html": [
              "<div>\n",
              "<style scoped>\n",
              "    .dataframe tbody tr th:only-of-type {\n",
              "        vertical-align: middle;\n",
              "    }\n",
              "\n",
              "    .dataframe tbody tr th {\n",
              "        vertical-align: top;\n",
              "    }\n",
              "\n",
              "    .dataframe thead th {\n",
              "        text-align: right;\n",
              "    }\n",
              "</style>\n",
              "<table border=\"1\" class=\"dataframe\">\n",
              "  <thead>\n",
              "    <tr style=\"text-align: right;\">\n",
              "      <th></th>\n",
              "      <th>몸무게</th>\n",
              "    </tr>\n",
              "    <tr>\n",
              "      <th>지점</th>\n",
              "      <th></th>\n",
              "    </tr>\n",
              "  </thead>\n",
              "  <tbody>\n",
              "    <tr>\n",
              "      <th>강남구</th>\n",
              "      <td>76.20</td>\n",
              "    </tr>\n",
              "    <tr>\n",
              "      <th>관악구</th>\n",
              "      <td>76.05</td>\n",
              "    </tr>\n",
              "    <tr>\n",
              "      <th>서초구</th>\n",
              "      <td>75.35</td>\n",
              "    </tr>\n",
              "    <tr>\n",
              "      <th>여의도</th>\n",
              "      <td>76.00</td>\n",
              "    </tr>\n",
              "  </tbody>\n",
              "</table>\n",
              "</div>"
            ],
            "text/plain": [
              "       몸무게\n",
              "지점        \n",
              "강남구  76.20\n",
              "관악구  76.05\n",
              "서초구  75.35\n",
              "여의도  76.00"
            ]
          },
          "metadata": {},
          "execution_count": 99
        }
      ]
    },
    {
      "cell_type": "code",
      "source": [
        "pd.pivot_table( rawData, index='담당', values='몸무게', aggfunc=np.sum )"
      ],
      "metadata": {
        "colab": {
          "base_uri": "https://localhost:8080/",
          "height": 174
        },
        "id": "CE3aBL3t9Js3",
        "outputId": "0008118b-c72a-4638-beae-7d6efb2de5ba"
      },
      "execution_count": null,
      "outputs": [
        {
          "output_type": "execute_result",
          "data": {
            "text/html": [
              "<div>\n",
              "<style scoped>\n",
              "    .dataframe tbody tr th:only-of-type {\n",
              "        vertical-align: middle;\n",
              "    }\n",
              "\n",
              "    .dataframe tbody tr th {\n",
              "        vertical-align: top;\n",
              "    }\n",
              "\n",
              "    .dataframe thead th {\n",
              "        text-align: right;\n",
              "    }\n",
              "</style>\n",
              "<table border=\"1\" class=\"dataframe\">\n",
              "  <thead>\n",
              "    <tr style=\"text-align: right;\">\n",
              "      <th></th>\n",
              "      <th>몸무게</th>\n",
              "    </tr>\n",
              "    <tr>\n",
              "      <th>담당</th>\n",
              "      <th></th>\n",
              "    </tr>\n",
              "  </thead>\n",
              "  <tbody>\n",
              "    <tr>\n",
              "      <th>김현경</th>\n",
              "      <td>226.9</td>\n",
              "    </tr>\n",
              "    <tr>\n",
              "      <th>박현경</th>\n",
              "      <td>153.4</td>\n",
              "    </tr>\n",
              "    <tr>\n",
              "      <th>최현경</th>\n",
              "      <td>151.7</td>\n",
              "    </tr>\n",
              "  </tbody>\n",
              "</table>\n",
              "</div>"
            ],
            "text/plain": [
              "       몸무게\n",
              "담당        \n",
              "김현경  226.9\n",
              "박현경  153.4\n",
              "최현경  151.7"
            ]
          },
          "metadata": {},
          "execution_count": 157
        }
      ]
    },
    {
      "cell_type": "code",
      "source": [
        "# 지점별 몸무게 총합\n",
        "pd.pivot_table( rawData, index='지점', values='몸무게', aggfunc=np.sum )"
      ],
      "metadata": {
        "colab": {
          "base_uri": "https://localhost:8080/",
          "height": 206
        },
        "id": "E1csbLcFrhpY",
        "outputId": "6bc2740b-c29a-47b1-a9a3-c2a0959f78fe"
      },
      "execution_count": null,
      "outputs": [
        {
          "output_type": "execute_result",
          "data": {
            "text/html": [
              "<div>\n",
              "<style scoped>\n",
              "    .dataframe tbody tr th:only-of-type {\n",
              "        vertical-align: middle;\n",
              "    }\n",
              "\n",
              "    .dataframe tbody tr th {\n",
              "        vertical-align: top;\n",
              "    }\n",
              "\n",
              "    .dataframe thead th {\n",
              "        text-align: right;\n",
              "    }\n",
              "</style>\n",
              "<table border=\"1\" class=\"dataframe\">\n",
              "  <thead>\n",
              "    <tr style=\"text-align: right;\">\n",
              "      <th></th>\n",
              "      <th>몸무게</th>\n",
              "    </tr>\n",
              "    <tr>\n",
              "      <th>지점</th>\n",
              "      <th></th>\n",
              "    </tr>\n",
              "  </thead>\n",
              "  <tbody>\n",
              "    <tr>\n",
              "      <th>강남구</th>\n",
              "      <td>76.2</td>\n",
              "    </tr>\n",
              "    <tr>\n",
              "      <th>관악구</th>\n",
              "      <td>152.1</td>\n",
              "    </tr>\n",
              "    <tr>\n",
              "      <th>서초구</th>\n",
              "      <td>150.7</td>\n",
              "    </tr>\n",
              "    <tr>\n",
              "      <th>여의도</th>\n",
              "      <td>76.0</td>\n",
              "    </tr>\n",
              "  </tbody>\n",
              "</table>\n",
              "</div>"
            ],
            "text/plain": [
              "       몸무게\n",
              "지점        \n",
              "강남구   76.2\n",
              "관악구  152.1\n",
              "서초구  150.7\n",
              "여의도   76.0"
            ]
          },
          "metadata": {},
          "execution_count": 100
        }
      ]
    },
    {
      "cell_type": "code",
      "source": [
        "# 지점별 담당자별 몸무게의 평균\n",
        "# 인덱스 부분을 리스트로 만들어줌..?\n",
        "pd.pivot_table( rawData, index=['지점', '담당'], values='몸무게', aggfunc=np.sum )"
      ],
      "metadata": {
        "colab": {
          "base_uri": "https://localhost:8080/",
          "height": 269
        },
        "id": "EPVGDaAArmjK",
        "outputId": "d1803a3d-445d-4f8c-c86e-645f64fc7678"
      },
      "execution_count": null,
      "outputs": [
        {
          "output_type": "execute_result",
          "data": {
            "text/html": [
              "<div>\n",
              "<style scoped>\n",
              "    .dataframe tbody tr th:only-of-type {\n",
              "        vertical-align: middle;\n",
              "    }\n",
              "\n",
              "    .dataframe tbody tr th {\n",
              "        vertical-align: top;\n",
              "    }\n",
              "\n",
              "    .dataframe thead th {\n",
              "        text-align: right;\n",
              "    }\n",
              "</style>\n",
              "<table border=\"1\" class=\"dataframe\">\n",
              "  <thead>\n",
              "    <tr style=\"text-align: right;\">\n",
              "      <th></th>\n",
              "      <th></th>\n",
              "      <th>몸무게</th>\n",
              "    </tr>\n",
              "    <tr>\n",
              "      <th>지점</th>\n",
              "      <th>담당</th>\n",
              "      <th></th>\n",
              "    </tr>\n",
              "  </thead>\n",
              "  <tbody>\n",
              "    <tr>\n",
              "      <th>강남구</th>\n",
              "      <th>김현경</th>\n",
              "      <td>76.2</td>\n",
              "    </tr>\n",
              "    <tr>\n",
              "      <th rowspan=\"2\" valign=\"top\">관악구</th>\n",
              "      <th>김현경</th>\n",
              "      <td>75.7</td>\n",
              "    </tr>\n",
              "    <tr>\n",
              "      <th>박현경</th>\n",
              "      <td>76.4</td>\n",
              "    </tr>\n",
              "    <tr>\n",
              "      <th rowspan=\"2\" valign=\"top\">서초구</th>\n",
              "      <th>김현경</th>\n",
              "      <td>75.0</td>\n",
              "    </tr>\n",
              "    <tr>\n",
              "      <th>최현경</th>\n",
              "      <td>75.7</td>\n",
              "    </tr>\n",
              "    <tr>\n",
              "      <th>여의도</th>\n",
              "      <th>최현경</th>\n",
              "      <td>76.0</td>\n",
              "    </tr>\n",
              "  </tbody>\n",
              "</table>\n",
              "</div>"
            ],
            "text/plain": [
              "          몸무게\n",
              "지점  담당       \n",
              "강남구 김현경  76.2\n",
              "관악구 김현경  75.7\n",
              "    박현경  76.4\n",
              "서초구 김현경  75.0\n",
              "    최현경  75.7\n",
              "여의도 최현경  76.0"
            ]
          },
          "metadata": {},
          "execution_count": 101
        }
      ]
    },
    {
      "cell_type": "code",
      "source": [
        "# 지점별 담당자별 평균\n",
        "pd.crosstab( index=rawData['지점'], columns=rawData['담당'], values=rawData['몸무게'], aggfunc=np.mean )"
      ],
      "metadata": {
        "colab": {
          "base_uri": "https://localhost:8080/",
          "height": 206
        },
        "id": "HsDQdI0vr0f1",
        "outputId": "79e05f84-2c91-4272-e43c-bc6e11e09fc3"
      },
      "execution_count": null,
      "outputs": [
        {
          "output_type": "execute_result",
          "data": {
            "text/html": [
              "<div>\n",
              "<style scoped>\n",
              "    .dataframe tbody tr th:only-of-type {\n",
              "        vertical-align: middle;\n",
              "    }\n",
              "\n",
              "    .dataframe tbody tr th {\n",
              "        vertical-align: top;\n",
              "    }\n",
              "\n",
              "    .dataframe thead th {\n",
              "        text-align: right;\n",
              "    }\n",
              "</style>\n",
              "<table border=\"1\" class=\"dataframe\">\n",
              "  <thead>\n",
              "    <tr style=\"text-align: right;\">\n",
              "      <th>담당</th>\n",
              "      <th>김현경</th>\n",
              "      <th>박현경</th>\n",
              "      <th>최현경</th>\n",
              "    </tr>\n",
              "    <tr>\n",
              "      <th>지점</th>\n",
              "      <th></th>\n",
              "      <th></th>\n",
              "      <th></th>\n",
              "    </tr>\n",
              "  </thead>\n",
              "  <tbody>\n",
              "    <tr>\n",
              "      <th>강남구</th>\n",
              "      <td>76.2</td>\n",
              "      <td>NaN</td>\n",
              "      <td>NaN</td>\n",
              "    </tr>\n",
              "    <tr>\n",
              "      <th>관악구</th>\n",
              "      <td>75.7</td>\n",
              "      <td>76.4</td>\n",
              "      <td>NaN</td>\n",
              "    </tr>\n",
              "    <tr>\n",
              "      <th>서초구</th>\n",
              "      <td>75.0</td>\n",
              "      <td>NaN</td>\n",
              "      <td>75.7</td>\n",
              "    </tr>\n",
              "    <tr>\n",
              "      <th>여의도</th>\n",
              "      <td>NaN</td>\n",
              "      <td>NaN</td>\n",
              "      <td>76.0</td>\n",
              "    </tr>\n",
              "  </tbody>\n",
              "</table>\n",
              "</div>"
            ],
            "text/plain": [
              "담당    김현경   박현경   최현경\n",
              "지점                   \n",
              "강남구  76.2   NaN   NaN\n",
              "관악구  75.7  76.4   NaN\n",
              "서초구  75.0   NaN  75.7\n",
              "여의도   NaN   NaN  76.0"
            ]
          },
          "metadata": {},
          "execution_count": 104
        }
      ]
    },
    {
      "cell_type": "code",
      "source": [
        "# 그룹화를 통한 통계 수치\n",
        "# 그룹 객체를 반환\n",
        "rawData.groupby(['지점'])"
      ],
      "metadata": {
        "colab": {
          "base_uri": "https://localhost:8080/"
        },
        "id": "Kb5gfr93snsQ",
        "outputId": "a89b8c8d-7b4b-4190-9c97-47da07f5b037"
      },
      "execution_count": null,
      "outputs": [
        {
          "output_type": "execute_result",
          "data": {
            "text/plain": [
              "<pandas.core.groupby.generic.DataFrameGroupBy object at 0x7f52700b1c50>"
            ]
          },
          "metadata": {},
          "execution_count": 106
        }
      ]
    },
    {
      "cell_type": "code",
      "source": [
        "# 그룹화를 통한 지점별 몸무게 평균\n",
        "rawData.groupby(['지점'])['몸무게'].mean()\n"
      ],
      "metadata": {
        "colab": {
          "base_uri": "https://localhost:8080/"
        },
        "id": "WReVZrqmsWxt",
        "outputId": "78d20983-6e25-4de1-a481-f017fcb8d549"
      },
      "execution_count": null,
      "outputs": [
        {
          "output_type": "execute_result",
          "data": {
            "text/plain": [
              "지점\n",
              "강남구    76.20\n",
              "관악구    76.05\n",
              "서초구    75.35\n",
              "여의도    76.00\n",
              "Name: 몸무게, dtype: float64"
            ]
          },
          "metadata": {},
          "execution_count": 107
        }
      ]
    },
    {
      "cell_type": "code",
      "source": [
        "# 지점별 담당자별 몸무게 평균\n",
        "rawData.groupby(['지점', '담당'])[['몸무게']].mean()\n",
        "# 몸무게가 1차원이어도 [[]] 처럼 2차원으로 표현한다면 프레임 할 수 ㅣㅆ다?"
      ],
      "metadata": {
        "colab": {
          "base_uri": "https://localhost:8080/",
          "height": 269
        },
        "id": "vUcfBA_-tOaZ",
        "outputId": "1f57fdc7-0ba4-490e-ded9-f43fa2ce193f"
      },
      "execution_count": null,
      "outputs": [
        {
          "output_type": "execute_result",
          "data": {
            "text/html": [
              "<div>\n",
              "<style scoped>\n",
              "    .dataframe tbody tr th:only-of-type {\n",
              "        vertical-align: middle;\n",
              "    }\n",
              "\n",
              "    .dataframe tbody tr th {\n",
              "        vertical-align: top;\n",
              "    }\n",
              "\n",
              "    .dataframe thead th {\n",
              "        text-align: right;\n",
              "    }\n",
              "</style>\n",
              "<table border=\"1\" class=\"dataframe\">\n",
              "  <thead>\n",
              "    <tr style=\"text-align: right;\">\n",
              "      <th></th>\n",
              "      <th></th>\n",
              "      <th>몸무게</th>\n",
              "    </tr>\n",
              "    <tr>\n",
              "      <th>지점</th>\n",
              "      <th>담당</th>\n",
              "      <th></th>\n",
              "    </tr>\n",
              "  </thead>\n",
              "  <tbody>\n",
              "    <tr>\n",
              "      <th>강남구</th>\n",
              "      <th>김현경</th>\n",
              "      <td>76.2</td>\n",
              "    </tr>\n",
              "    <tr>\n",
              "      <th rowspan=\"2\" valign=\"top\">관악구</th>\n",
              "      <th>김현경</th>\n",
              "      <td>75.7</td>\n",
              "    </tr>\n",
              "    <tr>\n",
              "      <th>박현경</th>\n",
              "      <td>76.4</td>\n",
              "    </tr>\n",
              "    <tr>\n",
              "      <th rowspan=\"2\" valign=\"top\">서초구</th>\n",
              "      <th>김현경</th>\n",
              "      <td>75.0</td>\n",
              "    </tr>\n",
              "    <tr>\n",
              "      <th>최현경</th>\n",
              "      <td>75.7</td>\n",
              "    </tr>\n",
              "    <tr>\n",
              "      <th>여의도</th>\n",
              "      <th>최현경</th>\n",
              "      <td>76.0</td>\n",
              "    </tr>\n",
              "  </tbody>\n",
              "</table>\n",
              "</div>"
            ],
            "text/plain": [
              "          몸무게\n",
              "지점  담당       \n",
              "강남구 김현경  76.2\n",
              "관악구 김현경  75.7\n",
              "    박현경  76.4\n",
              "서초구 김현경  75.0\n",
              "    최현경  75.7\n",
              "여의도 최현경  76.0"
            ]
          },
          "metadata": {},
          "execution_count": 108
        }
      ]
    },
    {
      "cell_type": "code",
      "source": [
        "# 컬럼별로 집계를 다르게 하고 싶다면\n",
        "# 지점별 몸무게 평균과 담당의 수\n",
        "# count가 없어서 문자열로 처리했는데 되네?...\n",
        "# np.mean 도 'mean'으로 해도 된다고 함...왜지?\n",
        "rawData.groupby('지점').agg({\n",
        "    '몸무게':np.mean, '담당': 'count'\n",
        "})"
      ],
      "metadata": {
        "colab": {
          "base_uri": "https://localhost:8080/",
          "height": 206
        },
        "id": "zTL6VW0utYXE",
        "outputId": "b08c520f-4ea3-4e47-e578-58d628739b40"
      },
      "execution_count": null,
      "outputs": [
        {
          "output_type": "execute_result",
          "data": {
            "text/html": [
              "<div>\n",
              "<style scoped>\n",
              "    .dataframe tbody tr th:only-of-type {\n",
              "        vertical-align: middle;\n",
              "    }\n",
              "\n",
              "    .dataframe tbody tr th {\n",
              "        vertical-align: top;\n",
              "    }\n",
              "\n",
              "    .dataframe thead th {\n",
              "        text-align: right;\n",
              "    }\n",
              "</style>\n",
              "<table border=\"1\" class=\"dataframe\">\n",
              "  <thead>\n",
              "    <tr style=\"text-align: right;\">\n",
              "      <th></th>\n",
              "      <th>몸무게</th>\n",
              "      <th>담당</th>\n",
              "    </tr>\n",
              "    <tr>\n",
              "      <th>지점</th>\n",
              "      <th></th>\n",
              "      <th></th>\n",
              "    </tr>\n",
              "  </thead>\n",
              "  <tbody>\n",
              "    <tr>\n",
              "      <th>강남구</th>\n",
              "      <td>76.20</td>\n",
              "      <td>1</td>\n",
              "    </tr>\n",
              "    <tr>\n",
              "      <th>관악구</th>\n",
              "      <td>76.05</td>\n",
              "      <td>2</td>\n",
              "    </tr>\n",
              "    <tr>\n",
              "      <th>서초구</th>\n",
              "      <td>75.35</td>\n",
              "      <td>4</td>\n",
              "    </tr>\n",
              "    <tr>\n",
              "      <th>여의도</th>\n",
              "      <td>76.00</td>\n",
              "      <td>2</td>\n",
              "    </tr>\n",
              "  </tbody>\n",
              "</table>\n",
              "</div>"
            ],
            "text/plain": [
              "       몸무게  담당\n",
              "지점            \n",
              "강남구  76.20   1\n",
              "관악구  76.05   2\n",
              "서초구  75.35   4\n",
              "여의도  76.00   2"
            ]
          },
          "metadata": {},
          "execution_count": 111
        }
      ]
    },
    {
      "cell_type": "markdown",
      "source": [
        "# 데이터 프ㅔ임 조작하기\n",
        "- 추가, 수정 ,삭제"
      ],
      "metadata": {
        "id": "fFrao-ssyTBv"
      }
    },
    {
      "cell_type": "markdown",
      "source": [
        "## 컬럼의 추가와 수정\n",
        "- 컬럼을 추가하거나 수정하는데 큰 기능이 필요하진 않다.\n",
        "- 그냥 쓰면 됨?"
      ],
      "metadata": {
        "id": "t076HbETyWt6"
      }
    },
    {
      "cell_type": "code",
      "source": [
        "# 데이터 프레임에 컬럼이 존재하지 않으면 새로 생성\n",
        "# 지역이라는 컬럼을 추가해보자\n",
        "rawData['지역'] = '서울'\n",
        "rawData"
      ],
      "metadata": {
        "colab": {
          "base_uri": "https://localhost:8080/",
          "height": 332
        },
        "id": "LXmYYur5t3NV",
        "outputId": "2b829ee9-7661-448d-a072-b35c88b61c31"
      },
      "execution_count": null,
      "outputs": [
        {
          "output_type": "execute_result",
          "data": {
            "text/html": [
              "<div>\n",
              "<style scoped>\n",
              "    .dataframe tbody tr th:only-of-type {\n",
              "        vertical-align: middle;\n",
              "    }\n",
              "\n",
              "    .dataframe tbody tr th {\n",
              "        vertical-align: top;\n",
              "    }\n",
              "\n",
              "    .dataframe thead th {\n",
              "        text-align: right;\n",
              "    }\n",
              "</style>\n",
              "<table border=\"1\" class=\"dataframe\">\n",
              "  <thead>\n",
              "    <tr style=\"text-align: right;\">\n",
              "      <th></th>\n",
              "      <th>회차</th>\n",
              "      <th>이름</th>\n",
              "      <th>측정일</th>\n",
              "      <th>몸무게</th>\n",
              "      <th>단위</th>\n",
              "      <th>담당</th>\n",
              "      <th>지점</th>\n",
              "      <th>지역</th>\n",
              "    </tr>\n",
              "  </thead>\n",
              "  <tbody>\n",
              "    <tr>\n",
              "      <th>0</th>\n",
              "      <td>1</td>\n",
              "      <td>홍길동</td>\n",
              "      <td>2020-03-01</td>\n",
              "      <td>76.4</td>\n",
              "      <td>kg</td>\n",
              "      <td>박현경</td>\n",
              "      <td>관악구</td>\n",
              "      <td>서울</td>\n",
              "    </tr>\n",
              "    <tr>\n",
              "      <th>1</th>\n",
              "      <td>2</td>\n",
              "      <td>홍길동</td>\n",
              "      <td>2020-03-02</td>\n",
              "      <td>75.7</td>\n",
              "      <td>kg</td>\n",
              "      <td>김현경</td>\n",
              "      <td>관악구</td>\n",
              "      <td>서울</td>\n",
              "    </tr>\n",
              "    <tr>\n",
              "      <th>2</th>\n",
              "      <td>3</td>\n",
              "      <td>홍길동</td>\n",
              "      <td>2020-03-03</td>\n",
              "      <td>76.0</td>\n",
              "      <td>kg</td>\n",
              "      <td>최현경</td>\n",
              "      <td>여의도</td>\n",
              "      <td>서울</td>\n",
              "    </tr>\n",
              "    <tr>\n",
              "      <th>3</th>\n",
              "      <td>4</td>\n",
              "      <td>홍길동</td>\n",
              "      <td>2020-03-04</td>\n",
              "      <td>NaN</td>\n",
              "      <td>kg</td>\n",
              "      <td>최현경</td>\n",
              "      <td>여의도</td>\n",
              "      <td>서울</td>\n",
              "    </tr>\n",
              "    <tr>\n",
              "      <th>4</th>\n",
              "      <td>5</td>\n",
              "      <td>홍길동</td>\n",
              "      <td>2020-03-05</td>\n",
              "      <td>76.2</td>\n",
              "      <td>kg</td>\n",
              "      <td>김현경</td>\n",
              "      <td>강남구</td>\n",
              "      <td>서울</td>\n",
              "    </tr>\n",
              "    <tr>\n",
              "      <th>5</th>\n",
              "      <td>6</td>\n",
              "      <td>홍길동</td>\n",
              "      <td>2020-03-06</td>\n",
              "      <td>75.7</td>\n",
              "      <td>kg</td>\n",
              "      <td>최현경</td>\n",
              "      <td>서초구</td>\n",
              "      <td>서울</td>\n",
              "    </tr>\n",
              "    <tr>\n",
              "      <th>6</th>\n",
              "      <td>7</td>\n",
              "      <td>홍길동</td>\n",
              "      <td>2020-03-07</td>\n",
              "      <td>NaN</td>\n",
              "      <td>kg</td>\n",
              "      <td>최현경</td>\n",
              "      <td>서초구</td>\n",
              "      <td>서울</td>\n",
              "    </tr>\n",
              "    <tr>\n",
              "      <th>7</th>\n",
              "      <td>8</td>\n",
              "      <td>홍길동</td>\n",
              "      <td>2020-03-08</td>\n",
              "      <td>NaN</td>\n",
              "      <td>kg</td>\n",
              "      <td>김현경</td>\n",
              "      <td>서초구</td>\n",
              "      <td>서울</td>\n",
              "    </tr>\n",
              "    <tr>\n",
              "      <th>8</th>\n",
              "      <td>9</td>\n",
              "      <td>홍길동</td>\n",
              "      <td>2020-03-09</td>\n",
              "      <td>75.0</td>\n",
              "      <td>kg</td>\n",
              "      <td>김현경</td>\n",
              "      <td>서초구</td>\n",
              "      <td>서울</td>\n",
              "    </tr>\n",
              "  </tbody>\n",
              "</table>\n",
              "</div>"
            ],
            "text/plain": [
              "   회차   이름         측정일   몸무게  단위   담당   지점  지역\n",
              "0   1  홍길동  2020-03-01  76.4  kg  박현경  관악구  서울\n",
              "1   2  홍길동  2020-03-02  75.7  kg  김현경  관악구  서울\n",
              "2   3  홍길동  2020-03-03  76.0  kg  최현경  여의도  서울\n",
              "3   4  홍길동  2020-03-04   NaN  kg  최현경  여의도  서울\n",
              "4   5  홍길동  2020-03-05  76.2  kg  김현경  강남구  서울\n",
              "5   6  홍길동  2020-03-06  75.7  kg  최현경  서초구  서울\n",
              "6   7  홍길동  2020-03-07   NaN  kg  최현경  서초구  서울\n",
              "7   8  홍길동  2020-03-08   NaN  kg  김현경  서초구  서울\n",
              "8   9  홍길동  2020-03-09  75.0  kg  김현경  서초구  서울"
            ]
          },
          "metadata": {},
          "execution_count": 135
        }
      ]
    },
    {
      "cell_type": "code",
      "source": [
        "# 해당 컬럼이 존재하면 수정이 된다\n",
        "rawData['지역'] = 'Soeul'\n",
        "rawData"
      ],
      "metadata": {
        "colab": {
          "base_uri": "https://localhost:8080/",
          "height": 332
        },
        "id": "lFruntCxyjBZ",
        "outputId": "5d05befe-1f49-4d49-ef41-7880abf716cd"
      },
      "execution_count": null,
      "outputs": [
        {
          "output_type": "execute_result",
          "data": {
            "text/html": [
              "<div>\n",
              "<style scoped>\n",
              "    .dataframe tbody tr th:only-of-type {\n",
              "        vertical-align: middle;\n",
              "    }\n",
              "\n",
              "    .dataframe tbody tr th {\n",
              "        vertical-align: top;\n",
              "    }\n",
              "\n",
              "    .dataframe thead th {\n",
              "        text-align: right;\n",
              "    }\n",
              "</style>\n",
              "<table border=\"1\" class=\"dataframe\">\n",
              "  <thead>\n",
              "    <tr style=\"text-align: right;\">\n",
              "      <th></th>\n",
              "      <th>회차</th>\n",
              "      <th>이름</th>\n",
              "      <th>측정일</th>\n",
              "      <th>몸무게</th>\n",
              "      <th>단위</th>\n",
              "      <th>담당</th>\n",
              "      <th>지점</th>\n",
              "      <th>지역</th>\n",
              "    </tr>\n",
              "  </thead>\n",
              "  <tbody>\n",
              "    <tr>\n",
              "      <th>0</th>\n",
              "      <td>1</td>\n",
              "      <td>홍길동</td>\n",
              "      <td>2020-03-01</td>\n",
              "      <td>76.4</td>\n",
              "      <td>kg</td>\n",
              "      <td>박현경</td>\n",
              "      <td>관악구</td>\n",
              "      <td>Soeul</td>\n",
              "    </tr>\n",
              "    <tr>\n",
              "      <th>1</th>\n",
              "      <td>2</td>\n",
              "      <td>홍길동</td>\n",
              "      <td>2020-03-02</td>\n",
              "      <td>75.7</td>\n",
              "      <td>kg</td>\n",
              "      <td>김현경</td>\n",
              "      <td>관악구</td>\n",
              "      <td>Soeul</td>\n",
              "    </tr>\n",
              "    <tr>\n",
              "      <th>2</th>\n",
              "      <td>3</td>\n",
              "      <td>홍길동</td>\n",
              "      <td>2020-03-03</td>\n",
              "      <td>76.0</td>\n",
              "      <td>kg</td>\n",
              "      <td>최현경</td>\n",
              "      <td>여의도</td>\n",
              "      <td>Soeul</td>\n",
              "    </tr>\n",
              "    <tr>\n",
              "      <th>3</th>\n",
              "      <td>4</td>\n",
              "      <td>홍길동</td>\n",
              "      <td>2020-03-04</td>\n",
              "      <td>NaN</td>\n",
              "      <td>kg</td>\n",
              "      <td>최현경</td>\n",
              "      <td>여의도</td>\n",
              "      <td>Soeul</td>\n",
              "    </tr>\n",
              "    <tr>\n",
              "      <th>4</th>\n",
              "      <td>5</td>\n",
              "      <td>홍길동</td>\n",
              "      <td>2020-03-05</td>\n",
              "      <td>76.2</td>\n",
              "      <td>kg</td>\n",
              "      <td>김현경</td>\n",
              "      <td>강남구</td>\n",
              "      <td>Soeul</td>\n",
              "    </tr>\n",
              "    <tr>\n",
              "      <th>5</th>\n",
              "      <td>6</td>\n",
              "      <td>홍길동</td>\n",
              "      <td>2020-03-06</td>\n",
              "      <td>75.7</td>\n",
              "      <td>kg</td>\n",
              "      <td>최현경</td>\n",
              "      <td>서초구</td>\n",
              "      <td>Soeul</td>\n",
              "    </tr>\n",
              "    <tr>\n",
              "      <th>6</th>\n",
              "      <td>7</td>\n",
              "      <td>홍길동</td>\n",
              "      <td>2020-03-07</td>\n",
              "      <td>NaN</td>\n",
              "      <td>kg</td>\n",
              "      <td>최현경</td>\n",
              "      <td>서초구</td>\n",
              "      <td>Soeul</td>\n",
              "    </tr>\n",
              "    <tr>\n",
              "      <th>7</th>\n",
              "      <td>8</td>\n",
              "      <td>홍길동</td>\n",
              "      <td>2020-03-08</td>\n",
              "      <td>NaN</td>\n",
              "      <td>kg</td>\n",
              "      <td>김현경</td>\n",
              "      <td>서초구</td>\n",
              "      <td>Soeul</td>\n",
              "    </tr>\n",
              "    <tr>\n",
              "      <th>8</th>\n",
              "      <td>9</td>\n",
              "      <td>홍길동</td>\n",
              "      <td>2020-03-09</td>\n",
              "      <td>75.0</td>\n",
              "      <td>kg</td>\n",
              "      <td>김현경</td>\n",
              "      <td>서초구</td>\n",
              "      <td>Soeul</td>\n",
              "    </tr>\n",
              "  </tbody>\n",
              "</table>\n",
              "</div>"
            ],
            "text/plain": [
              "   회차   이름         측정일   몸무게  단위   담당   지점     지역\n",
              "0   1  홍길동  2020-03-01  76.4  kg  박현경  관악구  Soeul\n",
              "1   2  홍길동  2020-03-02  75.7  kg  김현경  관악구  Soeul\n",
              "2   3  홍길동  2020-03-03  76.0  kg  최현경  여의도  Soeul\n",
              "3   4  홍길동  2020-03-04   NaN  kg  최현경  여의도  Soeul\n",
              "4   5  홍길동  2020-03-05  76.2  kg  김현경  강남구  Soeul\n",
              "5   6  홍길동  2020-03-06  75.7  kg  최현경  서초구  Soeul\n",
              "6   7  홍길동  2020-03-07   NaN  kg  최현경  서초구  Soeul\n",
              "7   8  홍길동  2020-03-08   NaN  kg  김현경  서초구  Soeul\n",
              "8   9  홍길동  2020-03-09  75.0  kg  김현경  서초구  Soeul"
            ]
          },
          "metadata": {},
          "execution_count": 136
        }
      ]
    },
    {
      "cell_type": "code",
      "source": [
        "# 조건에 맞춰서 컬럼을 만들어 보지\n",
        "# 몸무게가 특정값 이상이면 '비만', 그렇지 않으면 '정상'을 갖는 '상태' 컬럼을 추가\n",
        "# 조건검색과 함께 사용\n",
        "rawData.loc[ rawData['몸무게'] >= 76, '상태'] = '비만'\n",
        "rawData"
      ],
      "metadata": {
        "colab": {
          "base_uri": "https://localhost:8080/",
          "height": 332
        },
        "id": "noVzsI93y3n8",
        "outputId": "d6b82e85-77f1-4157-a755-431eaa4bdc3f"
      },
      "execution_count": null,
      "outputs": [
        {
          "output_type": "execute_result",
          "data": {
            "text/html": [
              "<div>\n",
              "<style scoped>\n",
              "    .dataframe tbody tr th:only-of-type {\n",
              "        vertical-align: middle;\n",
              "    }\n",
              "\n",
              "    .dataframe tbody tr th {\n",
              "        vertical-align: top;\n",
              "    }\n",
              "\n",
              "    .dataframe thead th {\n",
              "        text-align: right;\n",
              "    }\n",
              "</style>\n",
              "<table border=\"1\" class=\"dataframe\">\n",
              "  <thead>\n",
              "    <tr style=\"text-align: right;\">\n",
              "      <th></th>\n",
              "      <th>회차</th>\n",
              "      <th>이름</th>\n",
              "      <th>측정일</th>\n",
              "      <th>몸무게</th>\n",
              "      <th>단위</th>\n",
              "      <th>담당</th>\n",
              "      <th>지점</th>\n",
              "      <th>지역</th>\n",
              "      <th>상태</th>\n",
              "    </tr>\n",
              "  </thead>\n",
              "  <tbody>\n",
              "    <tr>\n",
              "      <th>0</th>\n",
              "      <td>1</td>\n",
              "      <td>홍길동</td>\n",
              "      <td>2020-03-01</td>\n",
              "      <td>76.4</td>\n",
              "      <td>kg</td>\n",
              "      <td>박현경</td>\n",
              "      <td>관악구</td>\n",
              "      <td>Soeul</td>\n",
              "      <td>비만</td>\n",
              "    </tr>\n",
              "    <tr>\n",
              "      <th>1</th>\n",
              "      <td>2</td>\n",
              "      <td>홍길동</td>\n",
              "      <td>2020-03-02</td>\n",
              "      <td>75.7</td>\n",
              "      <td>kg</td>\n",
              "      <td>김현경</td>\n",
              "      <td>관악구</td>\n",
              "      <td>Soeul</td>\n",
              "      <td>NaN</td>\n",
              "    </tr>\n",
              "    <tr>\n",
              "      <th>2</th>\n",
              "      <td>3</td>\n",
              "      <td>홍길동</td>\n",
              "      <td>2020-03-03</td>\n",
              "      <td>76.0</td>\n",
              "      <td>kg</td>\n",
              "      <td>최현경</td>\n",
              "      <td>여의도</td>\n",
              "      <td>Soeul</td>\n",
              "      <td>비만</td>\n",
              "    </tr>\n",
              "    <tr>\n",
              "      <th>3</th>\n",
              "      <td>4</td>\n",
              "      <td>홍길동</td>\n",
              "      <td>2020-03-04</td>\n",
              "      <td>NaN</td>\n",
              "      <td>kg</td>\n",
              "      <td>최현경</td>\n",
              "      <td>여의도</td>\n",
              "      <td>Soeul</td>\n",
              "      <td>NaN</td>\n",
              "    </tr>\n",
              "    <tr>\n",
              "      <th>4</th>\n",
              "      <td>5</td>\n",
              "      <td>홍길동</td>\n",
              "      <td>2020-03-05</td>\n",
              "      <td>76.2</td>\n",
              "      <td>kg</td>\n",
              "      <td>김현경</td>\n",
              "      <td>강남구</td>\n",
              "      <td>Soeul</td>\n",
              "      <td>비만</td>\n",
              "    </tr>\n",
              "    <tr>\n",
              "      <th>5</th>\n",
              "      <td>6</td>\n",
              "      <td>홍길동</td>\n",
              "      <td>2020-03-06</td>\n",
              "      <td>75.7</td>\n",
              "      <td>kg</td>\n",
              "      <td>최현경</td>\n",
              "      <td>서초구</td>\n",
              "      <td>Soeul</td>\n",
              "      <td>NaN</td>\n",
              "    </tr>\n",
              "    <tr>\n",
              "      <th>6</th>\n",
              "      <td>7</td>\n",
              "      <td>홍길동</td>\n",
              "      <td>2020-03-07</td>\n",
              "      <td>NaN</td>\n",
              "      <td>kg</td>\n",
              "      <td>최현경</td>\n",
              "      <td>서초구</td>\n",
              "      <td>Soeul</td>\n",
              "      <td>NaN</td>\n",
              "    </tr>\n",
              "    <tr>\n",
              "      <th>7</th>\n",
              "      <td>8</td>\n",
              "      <td>홍길동</td>\n",
              "      <td>2020-03-08</td>\n",
              "      <td>NaN</td>\n",
              "      <td>kg</td>\n",
              "      <td>김현경</td>\n",
              "      <td>서초구</td>\n",
              "      <td>Soeul</td>\n",
              "      <td>NaN</td>\n",
              "    </tr>\n",
              "    <tr>\n",
              "      <th>8</th>\n",
              "      <td>9</td>\n",
              "      <td>홍길동</td>\n",
              "      <td>2020-03-09</td>\n",
              "      <td>75.0</td>\n",
              "      <td>kg</td>\n",
              "      <td>김현경</td>\n",
              "      <td>서초구</td>\n",
              "      <td>Soeul</td>\n",
              "      <td>NaN</td>\n",
              "    </tr>\n",
              "  </tbody>\n",
              "</table>\n",
              "</div>"
            ],
            "text/plain": [
              "   회차   이름         측정일   몸무게  단위   담당   지점     지역   상태\n",
              "0   1  홍길동  2020-03-01  76.4  kg  박현경  관악구  Soeul   비만\n",
              "1   2  홍길동  2020-03-02  75.7  kg  김현경  관악구  Soeul  NaN\n",
              "2   3  홍길동  2020-03-03  76.0  kg  최현경  여의도  Soeul   비만\n",
              "3   4  홍길동  2020-03-04   NaN  kg  최현경  여의도  Soeul  NaN\n",
              "4   5  홍길동  2020-03-05  76.2  kg  김현경  강남구  Soeul   비만\n",
              "5   6  홍길동  2020-03-06  75.7  kg  최현경  서초구  Soeul  NaN\n",
              "6   7  홍길동  2020-03-07   NaN  kg  최현경  서초구  Soeul  NaN\n",
              "7   8  홍길동  2020-03-08   NaN  kg  김현경  서초구  Soeul  NaN\n",
              "8   9  홍길동  2020-03-09  75.0  kg  김현경  서초구  Soeul  NaN"
            ]
          },
          "metadata": {},
          "execution_count": 137
        }
      ]
    },
    {
      "cell_type": "code",
      "source": [
        "rawData.loc[ rawData['몸무게'] < 76, '상태' ] = '정상'\n",
        "rawData"
      ],
      "metadata": {
        "colab": {
          "base_uri": "https://localhost:8080/",
          "height": 332
        },
        "id": "A9cDefPkzuUt",
        "outputId": "5d7700f0-075b-495e-d5e8-22e14b796dc8"
      },
      "execution_count": null,
      "outputs": [
        {
          "output_type": "execute_result",
          "data": {
            "text/html": [
              "<div>\n",
              "<style scoped>\n",
              "    .dataframe tbody tr th:only-of-type {\n",
              "        vertical-align: middle;\n",
              "    }\n",
              "\n",
              "    .dataframe tbody tr th {\n",
              "        vertical-align: top;\n",
              "    }\n",
              "\n",
              "    .dataframe thead th {\n",
              "        text-align: right;\n",
              "    }\n",
              "</style>\n",
              "<table border=\"1\" class=\"dataframe\">\n",
              "  <thead>\n",
              "    <tr style=\"text-align: right;\">\n",
              "      <th></th>\n",
              "      <th>회차</th>\n",
              "      <th>이름</th>\n",
              "      <th>측정일</th>\n",
              "      <th>몸무게</th>\n",
              "      <th>단위</th>\n",
              "      <th>담당</th>\n",
              "      <th>지점</th>\n",
              "      <th>지역</th>\n",
              "      <th>상태</th>\n",
              "    </tr>\n",
              "  </thead>\n",
              "  <tbody>\n",
              "    <tr>\n",
              "      <th>0</th>\n",
              "      <td>1</td>\n",
              "      <td>홍길동</td>\n",
              "      <td>2020-03-01</td>\n",
              "      <td>76.4</td>\n",
              "      <td>kg</td>\n",
              "      <td>박현경</td>\n",
              "      <td>관악구</td>\n",
              "      <td>Soeul</td>\n",
              "      <td>비만</td>\n",
              "    </tr>\n",
              "    <tr>\n",
              "      <th>1</th>\n",
              "      <td>2</td>\n",
              "      <td>홍길동</td>\n",
              "      <td>2020-03-02</td>\n",
              "      <td>75.7</td>\n",
              "      <td>kg</td>\n",
              "      <td>김현경</td>\n",
              "      <td>관악구</td>\n",
              "      <td>Soeul</td>\n",
              "      <td>정상</td>\n",
              "    </tr>\n",
              "    <tr>\n",
              "      <th>2</th>\n",
              "      <td>3</td>\n",
              "      <td>홍길동</td>\n",
              "      <td>2020-03-03</td>\n",
              "      <td>76.0</td>\n",
              "      <td>kg</td>\n",
              "      <td>최현경</td>\n",
              "      <td>여의도</td>\n",
              "      <td>Soeul</td>\n",
              "      <td>비만</td>\n",
              "    </tr>\n",
              "    <tr>\n",
              "      <th>3</th>\n",
              "      <td>4</td>\n",
              "      <td>홍길동</td>\n",
              "      <td>2020-03-04</td>\n",
              "      <td>NaN</td>\n",
              "      <td>kg</td>\n",
              "      <td>최현경</td>\n",
              "      <td>여의도</td>\n",
              "      <td>Soeul</td>\n",
              "      <td>NaN</td>\n",
              "    </tr>\n",
              "    <tr>\n",
              "      <th>4</th>\n",
              "      <td>5</td>\n",
              "      <td>홍길동</td>\n",
              "      <td>2020-03-05</td>\n",
              "      <td>76.2</td>\n",
              "      <td>kg</td>\n",
              "      <td>김현경</td>\n",
              "      <td>강남구</td>\n",
              "      <td>Soeul</td>\n",
              "      <td>비만</td>\n",
              "    </tr>\n",
              "    <tr>\n",
              "      <th>5</th>\n",
              "      <td>6</td>\n",
              "      <td>홍길동</td>\n",
              "      <td>2020-03-06</td>\n",
              "      <td>75.7</td>\n",
              "      <td>kg</td>\n",
              "      <td>최현경</td>\n",
              "      <td>서초구</td>\n",
              "      <td>Soeul</td>\n",
              "      <td>정상</td>\n",
              "    </tr>\n",
              "    <tr>\n",
              "      <th>6</th>\n",
              "      <td>7</td>\n",
              "      <td>홍길동</td>\n",
              "      <td>2020-03-07</td>\n",
              "      <td>NaN</td>\n",
              "      <td>kg</td>\n",
              "      <td>최현경</td>\n",
              "      <td>서초구</td>\n",
              "      <td>Soeul</td>\n",
              "      <td>NaN</td>\n",
              "    </tr>\n",
              "    <tr>\n",
              "      <th>7</th>\n",
              "      <td>8</td>\n",
              "      <td>홍길동</td>\n",
              "      <td>2020-03-08</td>\n",
              "      <td>NaN</td>\n",
              "      <td>kg</td>\n",
              "      <td>김현경</td>\n",
              "      <td>서초구</td>\n",
              "      <td>Soeul</td>\n",
              "      <td>NaN</td>\n",
              "    </tr>\n",
              "    <tr>\n",
              "      <th>8</th>\n",
              "      <td>9</td>\n",
              "      <td>홍길동</td>\n",
              "      <td>2020-03-09</td>\n",
              "      <td>75.0</td>\n",
              "      <td>kg</td>\n",
              "      <td>김현경</td>\n",
              "      <td>서초구</td>\n",
              "      <td>Soeul</td>\n",
              "      <td>정상</td>\n",
              "    </tr>\n",
              "  </tbody>\n",
              "</table>\n",
              "</div>"
            ],
            "text/plain": [
              "   회차   이름         측정일   몸무게  단위   담당   지점     지역   상태\n",
              "0   1  홍길동  2020-03-01  76.4  kg  박현경  관악구  Soeul   비만\n",
              "1   2  홍길동  2020-03-02  75.7  kg  김현경  관악구  Soeul   정상\n",
              "2   3  홍길동  2020-03-03  76.0  kg  최현경  여의도  Soeul   비만\n",
              "3   4  홍길동  2020-03-04   NaN  kg  최현경  여의도  Soeul  NaN\n",
              "4   5  홍길동  2020-03-05  76.2  kg  김현경  강남구  Soeul   비만\n",
              "5   6  홍길동  2020-03-06  75.7  kg  최현경  서초구  Soeul   정상\n",
              "6   7  홍길동  2020-03-07   NaN  kg  최현경  서초구  Soeul  NaN\n",
              "7   8  홍길동  2020-03-08   NaN  kg  김현경  서초구  Soeul  NaN\n",
              "8   9  홍길동  2020-03-09  75.0  kg  김현경  서초구  Soeul   정상"
            ]
          },
          "metadata": {},
          "execution_count": 138
        }
      ]
    },
    {
      "cell_type": "code",
      "source": [
        "#########몸무게가 float 상태가 아니거나 그런 듯 일단 넘어가고 이따 다시 확인해보자\n",
        "부등호는 숫자랑 숫자 비교해야되니까"
      ],
      "metadata": {
        "id": "avJ9HY1bz1Qm"
      },
      "execution_count": null,
      "outputs": []
    },
    {
      "cell_type": "markdown",
      "source": [
        "## 컬럼삭제\n",
        "- 삭제는 신중하게 진행해야 한다\n",
        "  - 귀찮아도 원본 데이터는 삭제하지 않는 것이 좋다"
      ],
      "metadata": {
        "id": "v3S5F3Ef1hIT"
      }
    },
    {
      "cell_type": "code",
      "source": [
        "# drop를 이용해 특정 컬럼을 삭제할 수 있다.\n",
        "# drop를 사용하는 경우 특정 컬럼이 삭제된 새로운 데이터프레임을 반환\n",
        "rawData.drop(columns=['지역'])"
      ],
      "metadata": {
        "colab": {
          "base_uri": "https://localhost:8080/",
          "height": 332
        },
        "id": "skAqgfqm1pEy",
        "outputId": "ae87eeb2-8078-4c72-e7fa-d61bac1bd599"
      },
      "execution_count": null,
      "outputs": [
        {
          "output_type": "execute_result",
          "data": {
            "text/html": [
              "<div>\n",
              "<style scoped>\n",
              "    .dataframe tbody tr th:only-of-type {\n",
              "        vertical-align: middle;\n",
              "    }\n",
              "\n",
              "    .dataframe tbody tr th {\n",
              "        vertical-align: top;\n",
              "    }\n",
              "\n",
              "    .dataframe thead th {\n",
              "        text-align: right;\n",
              "    }\n",
              "</style>\n",
              "<table border=\"1\" class=\"dataframe\">\n",
              "  <thead>\n",
              "    <tr style=\"text-align: right;\">\n",
              "      <th></th>\n",
              "      <th>회차</th>\n",
              "      <th>이름</th>\n",
              "      <th>측정일</th>\n",
              "      <th>몸무게</th>\n",
              "      <th>단위</th>\n",
              "      <th>담당</th>\n",
              "      <th>지점</th>\n",
              "      <th>상태</th>\n",
              "    </tr>\n",
              "  </thead>\n",
              "  <tbody>\n",
              "    <tr>\n",
              "      <th>0</th>\n",
              "      <td>1</td>\n",
              "      <td>홍길동</td>\n",
              "      <td>2020-03-01</td>\n",
              "      <td>76.4</td>\n",
              "      <td>kg</td>\n",
              "      <td>박현경</td>\n",
              "      <td>관악구</td>\n",
              "      <td>비만</td>\n",
              "    </tr>\n",
              "    <tr>\n",
              "      <th>1</th>\n",
              "      <td>2</td>\n",
              "      <td>홍길동</td>\n",
              "      <td>2020-03-02</td>\n",
              "      <td>75.7</td>\n",
              "      <td>kg</td>\n",
              "      <td>김현경</td>\n",
              "      <td>관악구</td>\n",
              "      <td>정상</td>\n",
              "    </tr>\n",
              "    <tr>\n",
              "      <th>2</th>\n",
              "      <td>3</td>\n",
              "      <td>홍길동</td>\n",
              "      <td>2020-03-03</td>\n",
              "      <td>76.0</td>\n",
              "      <td>kg</td>\n",
              "      <td>최현경</td>\n",
              "      <td>여의도</td>\n",
              "      <td>비만</td>\n",
              "    </tr>\n",
              "    <tr>\n",
              "      <th>3</th>\n",
              "      <td>4</td>\n",
              "      <td>홍길동</td>\n",
              "      <td>2020-03-04</td>\n",
              "      <td>NaN</td>\n",
              "      <td>kg</td>\n",
              "      <td>최현경</td>\n",
              "      <td>여의도</td>\n",
              "      <td>NaN</td>\n",
              "    </tr>\n",
              "    <tr>\n",
              "      <th>4</th>\n",
              "      <td>5</td>\n",
              "      <td>홍길동</td>\n",
              "      <td>2020-03-05</td>\n",
              "      <td>76.2</td>\n",
              "      <td>kg</td>\n",
              "      <td>김현경</td>\n",
              "      <td>강남구</td>\n",
              "      <td>비만</td>\n",
              "    </tr>\n",
              "    <tr>\n",
              "      <th>5</th>\n",
              "      <td>6</td>\n",
              "      <td>홍길동</td>\n",
              "      <td>2020-03-06</td>\n",
              "      <td>75.7</td>\n",
              "      <td>kg</td>\n",
              "      <td>최현경</td>\n",
              "      <td>서초구</td>\n",
              "      <td>정상</td>\n",
              "    </tr>\n",
              "    <tr>\n",
              "      <th>6</th>\n",
              "      <td>7</td>\n",
              "      <td>홍길동</td>\n",
              "      <td>2020-03-07</td>\n",
              "      <td>NaN</td>\n",
              "      <td>kg</td>\n",
              "      <td>최현경</td>\n",
              "      <td>서초구</td>\n",
              "      <td>NaN</td>\n",
              "    </tr>\n",
              "    <tr>\n",
              "      <th>7</th>\n",
              "      <td>8</td>\n",
              "      <td>홍길동</td>\n",
              "      <td>2020-03-08</td>\n",
              "      <td>NaN</td>\n",
              "      <td>kg</td>\n",
              "      <td>김현경</td>\n",
              "      <td>서초구</td>\n",
              "      <td>NaN</td>\n",
              "    </tr>\n",
              "    <tr>\n",
              "      <th>8</th>\n",
              "      <td>9</td>\n",
              "      <td>홍길동</td>\n",
              "      <td>2020-03-09</td>\n",
              "      <td>75.0</td>\n",
              "      <td>kg</td>\n",
              "      <td>김현경</td>\n",
              "      <td>서초구</td>\n",
              "      <td>정상</td>\n",
              "    </tr>\n",
              "  </tbody>\n",
              "</table>\n",
              "</div>"
            ],
            "text/plain": [
              "   회차   이름         측정일   몸무게  단위   담당   지점   상태\n",
              "0   1  홍길동  2020-03-01  76.4  kg  박현경  관악구   비만\n",
              "1   2  홍길동  2020-03-02  75.7  kg  김현경  관악구   정상\n",
              "2   3  홍길동  2020-03-03  76.0  kg  최현경  여의도   비만\n",
              "3   4  홍길동  2020-03-04   NaN  kg  최현경  여의도  NaN\n",
              "4   5  홍길동  2020-03-05  76.2  kg  김현경  강남구   비만\n",
              "5   6  홍길동  2020-03-06  75.7  kg  최현경  서초구   정상\n",
              "6   7  홍길동  2020-03-07   NaN  kg  최현경  서초구  NaN\n",
              "7   8  홍길동  2020-03-08   NaN  kg  김현경  서초구  NaN\n",
              "8   9  홍길동  2020-03-09  75.0  kg  김현경  서초구   정상"
            ]
          },
          "metadata": {},
          "execution_count": 139
        }
      ]
    },
    {
      "cell_type": "code",
      "source": [
        "# 원본은 바뀌지 않는다\n",
        "rawData"
      ],
      "metadata": {
        "colab": {
          "base_uri": "https://localhost:8080/",
          "height": 332
        },
        "id": "9eexRkoW11Mx",
        "outputId": "cf8314a6-9798-479e-f59b-e82239f238fb"
      },
      "execution_count": null,
      "outputs": [
        {
          "output_type": "execute_result",
          "data": {
            "text/html": [
              "<div>\n",
              "<style scoped>\n",
              "    .dataframe tbody tr th:only-of-type {\n",
              "        vertical-align: middle;\n",
              "    }\n",
              "\n",
              "    .dataframe tbody tr th {\n",
              "        vertical-align: top;\n",
              "    }\n",
              "\n",
              "    .dataframe thead th {\n",
              "        text-align: right;\n",
              "    }\n",
              "</style>\n",
              "<table border=\"1\" class=\"dataframe\">\n",
              "  <thead>\n",
              "    <tr style=\"text-align: right;\">\n",
              "      <th></th>\n",
              "      <th>회차</th>\n",
              "      <th>이름</th>\n",
              "      <th>측정일</th>\n",
              "      <th>몸무게</th>\n",
              "      <th>단위</th>\n",
              "      <th>담당</th>\n",
              "      <th>지점</th>\n",
              "      <th>지역</th>\n",
              "      <th>상태</th>\n",
              "    </tr>\n",
              "  </thead>\n",
              "  <tbody>\n",
              "    <tr>\n",
              "      <th>0</th>\n",
              "      <td>1</td>\n",
              "      <td>홍길동</td>\n",
              "      <td>2020-03-01</td>\n",
              "      <td>76.4</td>\n",
              "      <td>kg</td>\n",
              "      <td>박현경</td>\n",
              "      <td>관악구</td>\n",
              "      <td>Soeul</td>\n",
              "      <td>비만</td>\n",
              "    </tr>\n",
              "    <tr>\n",
              "      <th>1</th>\n",
              "      <td>2</td>\n",
              "      <td>홍길동</td>\n",
              "      <td>2020-03-02</td>\n",
              "      <td>75.7</td>\n",
              "      <td>kg</td>\n",
              "      <td>김현경</td>\n",
              "      <td>관악구</td>\n",
              "      <td>Soeul</td>\n",
              "      <td>정상</td>\n",
              "    </tr>\n",
              "    <tr>\n",
              "      <th>2</th>\n",
              "      <td>3</td>\n",
              "      <td>홍길동</td>\n",
              "      <td>2020-03-03</td>\n",
              "      <td>76.0</td>\n",
              "      <td>kg</td>\n",
              "      <td>최현경</td>\n",
              "      <td>여의도</td>\n",
              "      <td>Soeul</td>\n",
              "      <td>비만</td>\n",
              "    </tr>\n",
              "    <tr>\n",
              "      <th>3</th>\n",
              "      <td>4</td>\n",
              "      <td>홍길동</td>\n",
              "      <td>2020-03-04</td>\n",
              "      <td>NaN</td>\n",
              "      <td>kg</td>\n",
              "      <td>최현경</td>\n",
              "      <td>여의도</td>\n",
              "      <td>Soeul</td>\n",
              "      <td>NaN</td>\n",
              "    </tr>\n",
              "    <tr>\n",
              "      <th>4</th>\n",
              "      <td>5</td>\n",
              "      <td>홍길동</td>\n",
              "      <td>2020-03-05</td>\n",
              "      <td>76.2</td>\n",
              "      <td>kg</td>\n",
              "      <td>김현경</td>\n",
              "      <td>강남구</td>\n",
              "      <td>Soeul</td>\n",
              "      <td>비만</td>\n",
              "    </tr>\n",
              "    <tr>\n",
              "      <th>5</th>\n",
              "      <td>6</td>\n",
              "      <td>홍길동</td>\n",
              "      <td>2020-03-06</td>\n",
              "      <td>75.7</td>\n",
              "      <td>kg</td>\n",
              "      <td>최현경</td>\n",
              "      <td>서초구</td>\n",
              "      <td>Soeul</td>\n",
              "      <td>정상</td>\n",
              "    </tr>\n",
              "    <tr>\n",
              "      <th>6</th>\n",
              "      <td>7</td>\n",
              "      <td>홍길동</td>\n",
              "      <td>2020-03-07</td>\n",
              "      <td>NaN</td>\n",
              "      <td>kg</td>\n",
              "      <td>최현경</td>\n",
              "      <td>서초구</td>\n",
              "      <td>Soeul</td>\n",
              "      <td>NaN</td>\n",
              "    </tr>\n",
              "    <tr>\n",
              "      <th>7</th>\n",
              "      <td>8</td>\n",
              "      <td>홍길동</td>\n",
              "      <td>2020-03-08</td>\n",
              "      <td>NaN</td>\n",
              "      <td>kg</td>\n",
              "      <td>김현경</td>\n",
              "      <td>서초구</td>\n",
              "      <td>Soeul</td>\n",
              "      <td>NaN</td>\n",
              "    </tr>\n",
              "    <tr>\n",
              "      <th>8</th>\n",
              "      <td>9</td>\n",
              "      <td>홍길동</td>\n",
              "      <td>2020-03-09</td>\n",
              "      <td>75.0</td>\n",
              "      <td>kg</td>\n",
              "      <td>김현경</td>\n",
              "      <td>서초구</td>\n",
              "      <td>Soeul</td>\n",
              "      <td>정상</td>\n",
              "    </tr>\n",
              "  </tbody>\n",
              "</table>\n",
              "</div>"
            ],
            "text/plain": [
              "   회차   이름         측정일   몸무게  단위   담당   지점     지역   상태\n",
              "0   1  홍길동  2020-03-01  76.4  kg  박현경  관악구  Soeul   비만\n",
              "1   2  홍길동  2020-03-02  75.7  kg  김현경  관악구  Soeul   정상\n",
              "2   3  홍길동  2020-03-03  76.0  kg  최현경  여의도  Soeul   비만\n",
              "3   4  홍길동  2020-03-04   NaN  kg  최현경  여의도  Soeul  NaN\n",
              "4   5  홍길동  2020-03-05  76.2  kg  김현경  강남구  Soeul   비만\n",
              "5   6  홍길동  2020-03-06  75.7  kg  최현경  서초구  Soeul   정상\n",
              "6   7  홍길동  2020-03-07   NaN  kg  최현경  서초구  Soeul  NaN\n",
              "7   8  홍길동  2020-03-08   NaN  kg  김현경  서초구  Soeul  NaN\n",
              "8   9  홍길동  2020-03-09  75.0  kg  김현경  서초구  Soeul   정상"
            ]
          },
          "metadata": {},
          "execution_count": 140
        }
      ]
    },
    {
      "cell_type": "code",
      "source": [
        "# 원본에서 바로 삭제할 수 있다\n",
        "# 따로 반환되지 않는다\n",
        "rawData.drop( columns=['지역'], inplace=True)"
      ],
      "metadata": {
        "id": "FADzMalA184r"
      },
      "execution_count": null,
      "outputs": []
    },
    {
      "cell_type": "code",
      "source": [
        "# inplace 파라미터를 True로 하면, 해당 데이터프레임에서 바로 삭제\n",
        "rawData"
      ],
      "metadata": {
        "colab": {
          "base_uri": "https://localhost:8080/",
          "height": 332
        },
        "id": "x1ps1fG82i3j",
        "outputId": "91973f78-1901-48c6-e0f3-87f3589b3847"
      },
      "execution_count": null,
      "outputs": [
        {
          "output_type": "execute_result",
          "data": {
            "text/html": [
              "<div>\n",
              "<style scoped>\n",
              "    .dataframe tbody tr th:only-of-type {\n",
              "        vertical-align: middle;\n",
              "    }\n",
              "\n",
              "    .dataframe tbody tr th {\n",
              "        vertical-align: top;\n",
              "    }\n",
              "\n",
              "    .dataframe thead th {\n",
              "        text-align: right;\n",
              "    }\n",
              "</style>\n",
              "<table border=\"1\" class=\"dataframe\">\n",
              "  <thead>\n",
              "    <tr style=\"text-align: right;\">\n",
              "      <th></th>\n",
              "      <th>회차</th>\n",
              "      <th>이름</th>\n",
              "      <th>측정일</th>\n",
              "      <th>몸무게</th>\n",
              "      <th>단위</th>\n",
              "      <th>담당</th>\n",
              "      <th>지점</th>\n",
              "      <th>상태</th>\n",
              "    </tr>\n",
              "  </thead>\n",
              "  <tbody>\n",
              "    <tr>\n",
              "      <th>0</th>\n",
              "      <td>1</td>\n",
              "      <td>홍길동</td>\n",
              "      <td>2020-03-01</td>\n",
              "      <td>76.4</td>\n",
              "      <td>kg</td>\n",
              "      <td>박현경</td>\n",
              "      <td>관악구</td>\n",
              "      <td>비만</td>\n",
              "    </tr>\n",
              "    <tr>\n",
              "      <th>1</th>\n",
              "      <td>2</td>\n",
              "      <td>홍길동</td>\n",
              "      <td>2020-03-02</td>\n",
              "      <td>75.7</td>\n",
              "      <td>kg</td>\n",
              "      <td>김현경</td>\n",
              "      <td>관악구</td>\n",
              "      <td>정상</td>\n",
              "    </tr>\n",
              "    <tr>\n",
              "      <th>2</th>\n",
              "      <td>3</td>\n",
              "      <td>홍길동</td>\n",
              "      <td>2020-03-03</td>\n",
              "      <td>76.0</td>\n",
              "      <td>kg</td>\n",
              "      <td>최현경</td>\n",
              "      <td>여의도</td>\n",
              "      <td>비만</td>\n",
              "    </tr>\n",
              "    <tr>\n",
              "      <th>3</th>\n",
              "      <td>4</td>\n",
              "      <td>홍길동</td>\n",
              "      <td>2020-03-04</td>\n",
              "      <td>NaN</td>\n",
              "      <td>kg</td>\n",
              "      <td>최현경</td>\n",
              "      <td>여의도</td>\n",
              "      <td>NaN</td>\n",
              "    </tr>\n",
              "    <tr>\n",
              "      <th>4</th>\n",
              "      <td>5</td>\n",
              "      <td>홍길동</td>\n",
              "      <td>2020-03-05</td>\n",
              "      <td>76.2</td>\n",
              "      <td>kg</td>\n",
              "      <td>김현경</td>\n",
              "      <td>강남구</td>\n",
              "      <td>비만</td>\n",
              "    </tr>\n",
              "    <tr>\n",
              "      <th>5</th>\n",
              "      <td>6</td>\n",
              "      <td>홍길동</td>\n",
              "      <td>2020-03-06</td>\n",
              "      <td>75.7</td>\n",
              "      <td>kg</td>\n",
              "      <td>최현경</td>\n",
              "      <td>서초구</td>\n",
              "      <td>정상</td>\n",
              "    </tr>\n",
              "    <tr>\n",
              "      <th>6</th>\n",
              "      <td>7</td>\n",
              "      <td>홍길동</td>\n",
              "      <td>2020-03-07</td>\n",
              "      <td>NaN</td>\n",
              "      <td>kg</td>\n",
              "      <td>최현경</td>\n",
              "      <td>서초구</td>\n",
              "      <td>NaN</td>\n",
              "    </tr>\n",
              "    <tr>\n",
              "      <th>7</th>\n",
              "      <td>8</td>\n",
              "      <td>홍길동</td>\n",
              "      <td>2020-03-08</td>\n",
              "      <td>NaN</td>\n",
              "      <td>kg</td>\n",
              "      <td>김현경</td>\n",
              "      <td>서초구</td>\n",
              "      <td>NaN</td>\n",
              "    </tr>\n",
              "    <tr>\n",
              "      <th>8</th>\n",
              "      <td>9</td>\n",
              "      <td>홍길동</td>\n",
              "      <td>2020-03-09</td>\n",
              "      <td>75.0</td>\n",
              "      <td>kg</td>\n",
              "      <td>김현경</td>\n",
              "      <td>서초구</td>\n",
              "      <td>정상</td>\n",
              "    </tr>\n",
              "  </tbody>\n",
              "</table>\n",
              "</div>"
            ],
            "text/plain": [
              "   회차   이름         측정일   몸무게  단위   담당   지점   상태\n",
              "0   1  홍길동  2020-03-01  76.4  kg  박현경  관악구   비만\n",
              "1   2  홍길동  2020-03-02  75.7  kg  김현경  관악구   정상\n",
              "2   3  홍길동  2020-03-03  76.0  kg  최현경  여의도   비만\n",
              "3   4  홍길동  2020-03-04   NaN  kg  최현경  여의도  NaN\n",
              "4   5  홍길동  2020-03-05  76.2  kg  김현경  강남구   비만\n",
              "5   6  홍길동  2020-03-06  75.7  kg  최현경  서초구   정상\n",
              "6   7  홍길동  2020-03-07   NaN  kg  최현경  서초구  NaN\n",
              "7   8  홍길동  2020-03-08   NaN  kg  김현경  서초구  NaN\n",
              "8   9  홍길동  2020-03-09  75.0  kg  김현경  서초구   정상"
            ]
          },
          "metadata": {},
          "execution_count": 142
        }
      ]
    },
    {
      "cell_type": "code",
      "source": [
        ""
      ],
      "metadata": {
        "id": "irgYmxa32o9l"
      },
      "execution_count": null,
      "outputs": []
    },
    {
      "cell_type": "markdown",
      "source": [
        "## 행 추가와 수정, 삭제"
      ],
      "metadata": {
        "id": "zEJA3KVh2rH-"
      }
    },
    {
      "cell_type": "code",
      "source": [
        "# 행이 존재하지 않으면 그냥 추가가 됨\n",
        "rawData\n",
        "# 행인덱스가 0부터 8번까지 있네"
      ],
      "metadata": {
        "colab": {
          "base_uri": "https://localhost:8080/",
          "height": 332
        },
        "id": "t6aqvigp2tX1",
        "outputId": "1078dc25-3759-4ab1-bf6f-83453b1a15ac"
      },
      "execution_count": null,
      "outputs": [
        {
          "output_type": "execute_result",
          "data": {
            "text/html": [
              "<div>\n",
              "<style scoped>\n",
              "    .dataframe tbody tr th:only-of-type {\n",
              "        vertical-align: middle;\n",
              "    }\n",
              "\n",
              "    .dataframe tbody tr th {\n",
              "        vertical-align: top;\n",
              "    }\n",
              "\n",
              "    .dataframe thead th {\n",
              "        text-align: right;\n",
              "    }\n",
              "</style>\n",
              "<table border=\"1\" class=\"dataframe\">\n",
              "  <thead>\n",
              "    <tr style=\"text-align: right;\">\n",
              "      <th></th>\n",
              "      <th>회차</th>\n",
              "      <th>이름</th>\n",
              "      <th>측정일</th>\n",
              "      <th>몸무게</th>\n",
              "      <th>단위</th>\n",
              "      <th>담당</th>\n",
              "      <th>지점</th>\n",
              "      <th>상태</th>\n",
              "    </tr>\n",
              "  </thead>\n",
              "  <tbody>\n",
              "    <tr>\n",
              "      <th>0</th>\n",
              "      <td>1</td>\n",
              "      <td>홍길동</td>\n",
              "      <td>2020-03-01</td>\n",
              "      <td>76.4</td>\n",
              "      <td>kg</td>\n",
              "      <td>박현경</td>\n",
              "      <td>관악구</td>\n",
              "      <td>비만</td>\n",
              "    </tr>\n",
              "    <tr>\n",
              "      <th>1</th>\n",
              "      <td>2</td>\n",
              "      <td>홍길동</td>\n",
              "      <td>2020-03-02</td>\n",
              "      <td>75.7</td>\n",
              "      <td>kg</td>\n",
              "      <td>김현경</td>\n",
              "      <td>관악구</td>\n",
              "      <td>정상</td>\n",
              "    </tr>\n",
              "    <tr>\n",
              "      <th>2</th>\n",
              "      <td>3</td>\n",
              "      <td>홍길동</td>\n",
              "      <td>2020-03-03</td>\n",
              "      <td>76.0</td>\n",
              "      <td>kg</td>\n",
              "      <td>최현경</td>\n",
              "      <td>여의도</td>\n",
              "      <td>비만</td>\n",
              "    </tr>\n",
              "    <tr>\n",
              "      <th>3</th>\n",
              "      <td>4</td>\n",
              "      <td>홍길동</td>\n",
              "      <td>2020-03-04</td>\n",
              "      <td>NaN</td>\n",
              "      <td>kg</td>\n",
              "      <td>최현경</td>\n",
              "      <td>여의도</td>\n",
              "      <td>NaN</td>\n",
              "    </tr>\n",
              "    <tr>\n",
              "      <th>4</th>\n",
              "      <td>5</td>\n",
              "      <td>홍길동</td>\n",
              "      <td>2020-03-05</td>\n",
              "      <td>76.2</td>\n",
              "      <td>kg</td>\n",
              "      <td>김현경</td>\n",
              "      <td>강남구</td>\n",
              "      <td>비만</td>\n",
              "    </tr>\n",
              "    <tr>\n",
              "      <th>5</th>\n",
              "      <td>6</td>\n",
              "      <td>홍길동</td>\n",
              "      <td>2020-03-06</td>\n",
              "      <td>75.7</td>\n",
              "      <td>kg</td>\n",
              "      <td>최현경</td>\n",
              "      <td>서초구</td>\n",
              "      <td>정상</td>\n",
              "    </tr>\n",
              "    <tr>\n",
              "      <th>6</th>\n",
              "      <td>7</td>\n",
              "      <td>홍길동</td>\n",
              "      <td>2020-03-07</td>\n",
              "      <td>NaN</td>\n",
              "      <td>kg</td>\n",
              "      <td>최현경</td>\n",
              "      <td>서초구</td>\n",
              "      <td>NaN</td>\n",
              "    </tr>\n",
              "    <tr>\n",
              "      <th>7</th>\n",
              "      <td>8</td>\n",
              "      <td>홍길동</td>\n",
              "      <td>2020-03-08</td>\n",
              "      <td>NaN</td>\n",
              "      <td>kg</td>\n",
              "      <td>김현경</td>\n",
              "      <td>서초구</td>\n",
              "      <td>NaN</td>\n",
              "    </tr>\n",
              "    <tr>\n",
              "      <th>8</th>\n",
              "      <td>9</td>\n",
              "      <td>홍길동</td>\n",
              "      <td>2020-03-09</td>\n",
              "      <td>75.0</td>\n",
              "      <td>kg</td>\n",
              "      <td>김현경</td>\n",
              "      <td>서초구</td>\n",
              "      <td>정상</td>\n",
              "    </tr>\n",
              "  </tbody>\n",
              "</table>\n",
              "</div>"
            ],
            "text/plain": [
              "   회차   이름         측정일   몸무게  단위   담당   지점   상태\n",
              "0   1  홍길동  2020-03-01  76.4  kg  박현경  관악구   비만\n",
              "1   2  홍길동  2020-03-02  75.7  kg  김현경  관악구   정상\n",
              "2   3  홍길동  2020-03-03  76.0  kg  최현경  여의도   비만\n",
              "3   4  홍길동  2020-03-04   NaN  kg  최현경  여의도  NaN\n",
              "4   5  홍길동  2020-03-05  76.2  kg  김현경  강남구   비만\n",
              "5   6  홍길동  2020-03-06  75.7  kg  최현경  서초구   정상\n",
              "6   7  홍길동  2020-03-07   NaN  kg  최현경  서초구  NaN\n",
              "7   8  홍길동  2020-03-08   NaN  kg  김현경  서초구  NaN\n",
              "8   9  홍길동  2020-03-09  75.0  kg  김현경  서초구   정상"
            ]
          },
          "metadata": {},
          "execution_count": 143
        }
      ]
    },
    {
      "cell_type": "code",
      "source": [
        "rawData.loc[9]=[10, '홍길동', '2020-03-10', 77, 'kg', '박현경', '관악구', '비만',]\n",
        "rawData\n",
        "# 행이 추가 됨"
      ],
      "metadata": {
        "colab": {
          "base_uri": "https://localhost:8080/",
          "height": 362
        },
        "id": "YNbnNW2-2vyT",
        "outputId": "0f30e9be-25a2-4910-a421-b50f1cd1695b"
      },
      "execution_count": null,
      "outputs": [
        {
          "output_type": "execute_result",
          "data": {
            "text/html": [
              "<div>\n",
              "<style scoped>\n",
              "    .dataframe tbody tr th:only-of-type {\n",
              "        vertical-align: middle;\n",
              "    }\n",
              "\n",
              "    .dataframe tbody tr th {\n",
              "        vertical-align: top;\n",
              "    }\n",
              "\n",
              "    .dataframe thead th {\n",
              "        text-align: right;\n",
              "    }\n",
              "</style>\n",
              "<table border=\"1\" class=\"dataframe\">\n",
              "  <thead>\n",
              "    <tr style=\"text-align: right;\">\n",
              "      <th></th>\n",
              "      <th>회차</th>\n",
              "      <th>이름</th>\n",
              "      <th>측정일</th>\n",
              "      <th>몸무게</th>\n",
              "      <th>단위</th>\n",
              "      <th>담당</th>\n",
              "      <th>지점</th>\n",
              "      <th>상태</th>\n",
              "    </tr>\n",
              "  </thead>\n",
              "  <tbody>\n",
              "    <tr>\n",
              "      <th>0</th>\n",
              "      <td>1</td>\n",
              "      <td>홍길동</td>\n",
              "      <td>2020-03-01</td>\n",
              "      <td>76.4</td>\n",
              "      <td>kg</td>\n",
              "      <td>박현경</td>\n",
              "      <td>관악구</td>\n",
              "      <td>비만</td>\n",
              "    </tr>\n",
              "    <tr>\n",
              "      <th>1</th>\n",
              "      <td>2</td>\n",
              "      <td>홍길동</td>\n",
              "      <td>2020-03-02</td>\n",
              "      <td>75.7</td>\n",
              "      <td>kg</td>\n",
              "      <td>김현경</td>\n",
              "      <td>관악구</td>\n",
              "      <td>정상</td>\n",
              "    </tr>\n",
              "    <tr>\n",
              "      <th>2</th>\n",
              "      <td>3</td>\n",
              "      <td>홍길동</td>\n",
              "      <td>2020-03-03</td>\n",
              "      <td>76.0</td>\n",
              "      <td>kg</td>\n",
              "      <td>최현경</td>\n",
              "      <td>여의도</td>\n",
              "      <td>비만</td>\n",
              "    </tr>\n",
              "    <tr>\n",
              "      <th>3</th>\n",
              "      <td>4</td>\n",
              "      <td>홍길동</td>\n",
              "      <td>2020-03-04</td>\n",
              "      <td>NaN</td>\n",
              "      <td>kg</td>\n",
              "      <td>최현경</td>\n",
              "      <td>여의도</td>\n",
              "      <td>NaN</td>\n",
              "    </tr>\n",
              "    <tr>\n",
              "      <th>4</th>\n",
              "      <td>5</td>\n",
              "      <td>홍길동</td>\n",
              "      <td>2020-03-05</td>\n",
              "      <td>76.2</td>\n",
              "      <td>kg</td>\n",
              "      <td>김현경</td>\n",
              "      <td>강남구</td>\n",
              "      <td>비만</td>\n",
              "    </tr>\n",
              "    <tr>\n",
              "      <th>5</th>\n",
              "      <td>6</td>\n",
              "      <td>홍길동</td>\n",
              "      <td>2020-03-06</td>\n",
              "      <td>75.7</td>\n",
              "      <td>kg</td>\n",
              "      <td>최현경</td>\n",
              "      <td>서초구</td>\n",
              "      <td>정상</td>\n",
              "    </tr>\n",
              "    <tr>\n",
              "      <th>6</th>\n",
              "      <td>7</td>\n",
              "      <td>홍길동</td>\n",
              "      <td>2020-03-07</td>\n",
              "      <td>NaN</td>\n",
              "      <td>kg</td>\n",
              "      <td>최현경</td>\n",
              "      <td>서초구</td>\n",
              "      <td>NaN</td>\n",
              "    </tr>\n",
              "    <tr>\n",
              "      <th>7</th>\n",
              "      <td>8</td>\n",
              "      <td>홍길동</td>\n",
              "      <td>2020-03-08</td>\n",
              "      <td>NaN</td>\n",
              "      <td>kg</td>\n",
              "      <td>김현경</td>\n",
              "      <td>서초구</td>\n",
              "      <td>NaN</td>\n",
              "    </tr>\n",
              "    <tr>\n",
              "      <th>8</th>\n",
              "      <td>9</td>\n",
              "      <td>홍길동</td>\n",
              "      <td>2020-03-09</td>\n",
              "      <td>75.0</td>\n",
              "      <td>kg</td>\n",
              "      <td>김현경</td>\n",
              "      <td>서초구</td>\n",
              "      <td>정상</td>\n",
              "    </tr>\n",
              "    <tr>\n",
              "      <th>9</th>\n",
              "      <td>10</td>\n",
              "      <td>홍길동</td>\n",
              "      <td>2020-03-10</td>\n",
              "      <td>77.0</td>\n",
              "      <td>kg</td>\n",
              "      <td>박현경</td>\n",
              "      <td>관악구</td>\n",
              "      <td>비만</td>\n",
              "    </tr>\n",
              "  </tbody>\n",
              "</table>\n",
              "</div>"
            ],
            "text/plain": [
              "   회차   이름         측정일   몸무게  단위   담당   지점   상태\n",
              "0   1  홍길동  2020-03-01  76.4  kg  박현경  관악구   비만\n",
              "1   2  홍길동  2020-03-02  75.7  kg  김현경  관악구   정상\n",
              "2   3  홍길동  2020-03-03  76.0  kg  최현경  여의도   비만\n",
              "3   4  홍길동  2020-03-04   NaN  kg  최현경  여의도  NaN\n",
              "4   5  홍길동  2020-03-05  76.2  kg  김현경  강남구   비만\n",
              "5   6  홍길동  2020-03-06  75.7  kg  최현경  서초구   정상\n",
              "6   7  홍길동  2020-03-07   NaN  kg  최현경  서초구  NaN\n",
              "7   8  홍길동  2020-03-08   NaN  kg  김현경  서초구  NaN\n",
              "8   9  홍길동  2020-03-09  75.0  kg  김현경  서초구   정상\n",
              "9  10  홍길동  2020-03-10  77.0  kg  박현경  관악구   비만"
            ]
          },
          "metadata": {},
          "execution_count": 144
        }
      ]
    },
    {
      "cell_type": "code",
      "source": [
        "# 삭제는 컬럼과 마찬가지로 drop을 동일하게 사용\n",
        "# 대신 파라미터가 columns 대신 index 파라미터를 사용\n",
        "rawData.drop(index=[0, 1, 2])\n",
        "# [0], [1], [2] 의 행 삭제됨"
      ],
      "metadata": {
        "colab": {
          "base_uri": "https://localhost:8080/",
          "height": 269
        },
        "id": "oTgyflLt2_c_",
        "outputId": "c351cc55-f08d-48ac-d986-d085eb8fc315"
      },
      "execution_count": null,
      "outputs": [
        {
          "output_type": "execute_result",
          "data": {
            "text/html": [
              "<div>\n",
              "<style scoped>\n",
              "    .dataframe tbody tr th:only-of-type {\n",
              "        vertical-align: middle;\n",
              "    }\n",
              "\n",
              "    .dataframe tbody tr th {\n",
              "        vertical-align: top;\n",
              "    }\n",
              "\n",
              "    .dataframe thead th {\n",
              "        text-align: right;\n",
              "    }\n",
              "</style>\n",
              "<table border=\"1\" class=\"dataframe\">\n",
              "  <thead>\n",
              "    <tr style=\"text-align: right;\">\n",
              "      <th></th>\n",
              "      <th>회차</th>\n",
              "      <th>이름</th>\n",
              "      <th>측정일</th>\n",
              "      <th>몸무게</th>\n",
              "      <th>단위</th>\n",
              "      <th>담당</th>\n",
              "      <th>지점</th>\n",
              "      <th>상태</th>\n",
              "    </tr>\n",
              "  </thead>\n",
              "  <tbody>\n",
              "    <tr>\n",
              "      <th>3</th>\n",
              "      <td>4</td>\n",
              "      <td>홍길동</td>\n",
              "      <td>2020-03-04</td>\n",
              "      <td>NaN</td>\n",
              "      <td>kg</td>\n",
              "      <td>최현경</td>\n",
              "      <td>여의도</td>\n",
              "      <td>NaN</td>\n",
              "    </tr>\n",
              "    <tr>\n",
              "      <th>4</th>\n",
              "      <td>5</td>\n",
              "      <td>홍길동</td>\n",
              "      <td>2020-03-05</td>\n",
              "      <td>76.2</td>\n",
              "      <td>kg</td>\n",
              "      <td>김현경</td>\n",
              "      <td>강남구</td>\n",
              "      <td>비만</td>\n",
              "    </tr>\n",
              "    <tr>\n",
              "      <th>5</th>\n",
              "      <td>6</td>\n",
              "      <td>홍길동</td>\n",
              "      <td>2020-03-06</td>\n",
              "      <td>75.7</td>\n",
              "      <td>kg</td>\n",
              "      <td>최현경</td>\n",
              "      <td>서초구</td>\n",
              "      <td>정상</td>\n",
              "    </tr>\n",
              "    <tr>\n",
              "      <th>6</th>\n",
              "      <td>7</td>\n",
              "      <td>홍길동</td>\n",
              "      <td>2020-03-07</td>\n",
              "      <td>NaN</td>\n",
              "      <td>kg</td>\n",
              "      <td>최현경</td>\n",
              "      <td>서초구</td>\n",
              "      <td>NaN</td>\n",
              "    </tr>\n",
              "    <tr>\n",
              "      <th>7</th>\n",
              "      <td>8</td>\n",
              "      <td>홍길동</td>\n",
              "      <td>2020-03-08</td>\n",
              "      <td>NaN</td>\n",
              "      <td>kg</td>\n",
              "      <td>김현경</td>\n",
              "      <td>서초구</td>\n",
              "      <td>NaN</td>\n",
              "    </tr>\n",
              "    <tr>\n",
              "      <th>8</th>\n",
              "      <td>9</td>\n",
              "      <td>홍길동</td>\n",
              "      <td>2020-03-09</td>\n",
              "      <td>75.0</td>\n",
              "      <td>kg</td>\n",
              "      <td>김현경</td>\n",
              "      <td>서초구</td>\n",
              "      <td>정상</td>\n",
              "    </tr>\n",
              "    <tr>\n",
              "      <th>9</th>\n",
              "      <td>10</td>\n",
              "      <td>홍길동</td>\n",
              "      <td>2020-03-10</td>\n",
              "      <td>77.0</td>\n",
              "      <td>kg</td>\n",
              "      <td>박현경</td>\n",
              "      <td>관악구</td>\n",
              "      <td>비만</td>\n",
              "    </tr>\n",
              "  </tbody>\n",
              "</table>\n",
              "</div>"
            ],
            "text/plain": [
              "   회차   이름         측정일   몸무게  단위   담당   지점   상태\n",
              "3   4  홍길동  2020-03-04   NaN  kg  최현경  여의도  NaN\n",
              "4   5  홍길동  2020-03-05  76.2  kg  김현경  강남구   비만\n",
              "5   6  홍길동  2020-03-06  75.7  kg  최현경  서초구   정상\n",
              "6   7  홍길동  2020-03-07   NaN  kg  최현경  서초구  NaN\n",
              "7   8  홍길동  2020-03-08   NaN  kg  김현경  서초구  NaN\n",
              "8   9  홍길동  2020-03-09  75.0  kg  김현경  서초구   정상\n",
              "9  10  홍길동  2020-03-10  77.0  kg  박현경  관악구   비만"
            ]
          },
          "metadata": {},
          "execution_count": 146
        }
      ]
    },
    {
      "cell_type": "markdown",
      "source": [
        "## apply\n",
        "  -  (많이 쓰이는 기능임)\n",
        "  - 자료를 내가 원하는 대로 다루기는 쉽지 않음\n",
        "  -실제로 자료를 다뤄보면 내 생각처러 쉽게 다뤄지지 않음. 상당히 어려움\n",
        "  - 자료의 형태가 천차만별이고, 지저분한 경우도 많음\n",
        "- 판다스에서 사용가능한 반복문 정도로 이해\n",
        "- **모든 행, 열에 대해서 동일한 함수를 반복적으로 적용할 수 있다.**\n"
      ],
      "metadata": {
        "id": "YprNXY-y4tpV"
      }
    },
    {
      "cell_type": "code",
      "source": [
        "# apply의 기본적인 사용방법\n",
        "def func(x):\n",
        "  print('함수가 호출되었습니다')\n",
        "  print('x: {}'.format(x) )\n",
        "\n",
        "# 기본적으로는 데이터 프레임의 각 컬럼들이 시리즈 형태로 전달된다고 보면 됨\n",
        "  return\n",
        "#apply를 통해서 호출되는 함수는 정의할 때 return을 꼭 넣어줄 것\n",
        "rawData.apply( func )\n",
        "# 마지막에 회차가 넘어갔을 때 리턴값이 없어서 None이 나오는 것이라고 함\n",
        "# 이따 확인.. 일단 넘어감"
      ],
      "metadata": {
        "colab": {
          "base_uri": "https://localhost:8080/"
        },
        "id": "QDnyfpoO3cwe",
        "outputId": "bcc3e3d6-a7d9-4bc4-8261-0b9a6fa15bef"
      },
      "execution_count": null,
      "outputs": [
        {
          "output_type": "stream",
          "name": "stdout",
          "text": [
            "함수가 호출되었습니다\n",
            "x: 0     1\n",
            "1     2\n",
            "2     3\n",
            "3     4\n",
            "4     5\n",
            "5     6\n",
            "6     7\n",
            "7     8\n",
            "8     9\n",
            "9    10\n",
            "Name: 회차, dtype: int64\n",
            "함수가 호출되었습니다\n",
            "x: 0    홍길동\n",
            "1    홍길동\n",
            "2    홍길동\n",
            "3    홍길동\n",
            "4    홍길동\n",
            "5    홍길동\n",
            "6    홍길동\n",
            "7    홍길동\n",
            "8    홍길동\n",
            "9    홍길동\n",
            "Name: 이름, dtype: object\n",
            "함수가 호출되었습니다\n",
            "x: 0    2020-03-01\n",
            "1    2020-03-02\n",
            "2    2020-03-03\n",
            "3    2020-03-04\n",
            "4    2020-03-05\n",
            "5    2020-03-06\n",
            "6    2020-03-07\n",
            "7    2020-03-08\n",
            "8    2020-03-09\n",
            "9    2020-03-10\n",
            "Name: 측정일, dtype: object\n",
            "함수가 호출되었습니다\n",
            "x: 0    76.4\n",
            "1    75.7\n",
            "2    76.0\n",
            "3     NaN\n",
            "4    76.2\n",
            "5    75.7\n",
            "6     NaN\n",
            "7     NaN\n",
            "8    75.0\n",
            "9    77.0\n",
            "Name: 몸무게, dtype: float64\n",
            "함수가 호출되었습니다\n",
            "x: 0    kg\n",
            "1    kg\n",
            "2    kg\n",
            "3    kg\n",
            "4    kg\n",
            "5    kg\n",
            "6    kg\n",
            "7    kg\n",
            "8    kg\n",
            "9    kg\n",
            "Name: 단위, dtype: object\n",
            "함수가 호출되었습니다\n",
            "x: 0    박현경\n",
            "1    김현경\n",
            "2    최현경\n",
            "3    최현경\n",
            "4    김현경\n",
            "5    최현경\n",
            "6    최현경\n",
            "7    김현경\n",
            "8    김현경\n",
            "9    박현경\n",
            "Name: 담당, dtype: object\n",
            "함수가 호출되었습니다\n",
            "x: 0    관악구\n",
            "1    관악구\n",
            "2    여의도\n",
            "3    여의도\n",
            "4    강남구\n",
            "5    서초구\n",
            "6    서초구\n",
            "7    서초구\n",
            "8    서초구\n",
            "9    관악구\n",
            "Name: 지점, dtype: object\n",
            "함수가 호출되었습니다\n",
            "x: 0     비만\n",
            "1     정상\n",
            "2     비만\n",
            "3    NaN\n",
            "4     비만\n",
            "5     정상\n",
            "6    NaN\n",
            "7    NaN\n",
            "8     정상\n",
            "9     비만\n",
            "Name: 상태, dtype: object\n"
          ]
        },
        {
          "output_type": "execute_result",
          "data": {
            "text/plain": [
              "회차     None\n",
              "이름     None\n",
              "측정일    None\n",
              "몸무게    None\n",
              "단위     None\n",
              "담당     None\n",
              "지점     None\n",
              "상태     None\n",
              "dtype: object"
            ]
          },
          "metadata": {},
          "execution_count": 149
        }
      ]
    },
    {
      "cell_type": "code",
      "source": [
        "# 컬럼이 아니라 행을 전달하고 싶다면\n",
        "def func(x):\n",
        "  print('함수가 호출되었습니다')\n",
        "  print('x: {}'.format(x) )\n",
        "\n",
        "# 디폴트 값이 컬럼으로 되어 있어서 axis 파라미터에 지정하면 됨\n",
        "# 0이면 컬럼, 1이면 행\n",
        "rawData.apply( func, axis=1 )"
      ],
      "metadata": {
        "colab": {
          "base_uri": "https://localhost:8080/"
        },
        "id": "t_YcahHv5asG",
        "outputId": "3bf9d298-7cb5-45bc-dc95-79392a0a6b70"
      },
      "execution_count": null,
      "outputs": [
        {
          "output_type": "stream",
          "name": "stdout",
          "text": [
            "함수가 호출되었습니다\n",
            "x: 회차              1\n",
            "이름            홍길동\n",
            "측정일    2020-03-01\n",
            "몸무게          76.4\n",
            "단위             kg\n",
            "담당            박현경\n",
            "지점            관악구\n",
            "상태             비만\n",
            "Name: 0, dtype: object\n",
            "함수가 호출되었습니다\n",
            "x: 회차              2\n",
            "이름            홍길동\n",
            "측정일    2020-03-02\n",
            "몸무게          75.7\n",
            "단위             kg\n",
            "담당            김현경\n",
            "지점            관악구\n",
            "상태             정상\n",
            "Name: 1, dtype: object\n",
            "함수가 호출되었습니다\n",
            "x: 회차              3\n",
            "이름            홍길동\n",
            "측정일    2020-03-03\n",
            "몸무게            76\n",
            "단위             kg\n",
            "담당            최현경\n",
            "지점            여의도\n",
            "상태             비만\n",
            "Name: 2, dtype: object\n",
            "함수가 호출되었습니다\n",
            "x: 회차              4\n",
            "이름            홍길동\n",
            "측정일    2020-03-04\n",
            "몸무게           NaN\n",
            "단위             kg\n",
            "담당            최현경\n",
            "지점            여의도\n",
            "상태            NaN\n",
            "Name: 3, dtype: object\n",
            "함수가 호출되었습니다\n",
            "x: 회차              5\n",
            "이름            홍길동\n",
            "측정일    2020-03-05\n",
            "몸무게          76.2\n",
            "단위             kg\n",
            "담당            김현경\n",
            "지점            강남구\n",
            "상태             비만\n",
            "Name: 4, dtype: object\n",
            "함수가 호출되었습니다\n",
            "x: 회차              6\n",
            "이름            홍길동\n",
            "측정일    2020-03-06\n",
            "몸무게          75.7\n",
            "단위             kg\n",
            "담당            최현경\n",
            "지점            서초구\n",
            "상태             정상\n",
            "Name: 5, dtype: object\n",
            "함수가 호출되었습니다\n",
            "x: 회차              7\n",
            "이름            홍길동\n",
            "측정일    2020-03-07\n",
            "몸무게           NaN\n",
            "단위             kg\n",
            "담당            최현경\n",
            "지점            서초구\n",
            "상태            NaN\n",
            "Name: 6, dtype: object\n",
            "함수가 호출되었습니다\n",
            "x: 회차              8\n",
            "이름            홍길동\n",
            "측정일    2020-03-08\n",
            "몸무게           NaN\n",
            "단위             kg\n",
            "담당            김현경\n",
            "지점            서초구\n",
            "상태            NaN\n",
            "Name: 7, dtype: object\n",
            "함수가 호출되었습니다\n",
            "x: 회차              9\n",
            "이름            홍길동\n",
            "측정일    2020-03-09\n",
            "몸무게            75\n",
            "단위             kg\n",
            "담당            김현경\n",
            "지점            서초구\n",
            "상태             정상\n",
            "Name: 8, dtype: object\n",
            "함수가 호출되었습니다\n",
            "x: 회차             10\n",
            "이름            홍길동\n",
            "측정일    2020-03-10\n",
            "몸무게            77\n",
            "단위             kg\n",
            "담당            박현경\n",
            "지점            관악구\n",
            "상태             비만\n",
            "Name: 9, dtype: object\n"
          ]
        },
        {
          "output_type": "execute_result",
          "data": {
            "text/plain": [
              "0    None\n",
              "1    None\n",
              "2    None\n",
              "3    None\n",
              "4    None\n",
              "5    None\n",
              "6    None\n",
              "7    None\n",
              "8    None\n",
              "9    None\n",
              "dtype: object"
            ]
          },
          "metadata": {},
          "execution_count": 150
        }
      ]
    },
    {
      "cell_type": "code",
      "source": [
        "# 지점별로 지역을 새로 만들어 보려면\n",
        "def func(x):\n",
        "  if x['지점'] == '관악구': return '강서'\n",
        "  elif x['지점'] == '여의도': return '강서'\n",
        "  elif x['지점'] == '강남구' : return '강동'\n",
        "  elif x['지점'] == '서초구' : return '강동'\n",
        "\n",
        "rawData.apply( func, axis=1 )\n",
        "# apply가 리턴해주는 값도 시리즈라서 바로 프레임에 추가할 수도 있음\n",
        "# 그래서 이 시리즈에도 인덱스가 붙음\n",
        "# 해당 인덱스에 컬럼을 추가할 수도 있음"
      ],
      "metadata": {
        "colab": {
          "base_uri": "https://localhost:8080/"
        },
        "id": "AZBFV16h6gNZ",
        "outputId": "fdae97ab-37a2-48da-a699-6667285bdb6f"
      },
      "execution_count": null,
      "outputs": [
        {
          "output_type": "execute_result",
          "data": {
            "text/plain": [
              "0    강서\n",
              "1    강서\n",
              "2    강서\n",
              "3    강서\n",
              "4    강동\n",
              "5    강동\n",
              "6    강동\n",
              "7    강동\n",
              "8    강동\n",
              "9    강서\n",
              "dtype: object"
            ]
          },
          "metadata": {},
          "execution_count": 151
        }
      ]
    },
    {
      "cell_type": "code",
      "source": [
        "# 리턴해준 인덱스에 새로운 컬럼을 추가\n",
        "rawData['지역'] = rawData.apply( func, axis=1 )\n",
        "rawData"
      ],
      "metadata": {
        "colab": {
          "base_uri": "https://localhost:8080/",
          "height": 362
        },
        "id": "YZaZZo_n6UZ6",
        "outputId": "e5b86fd7-6cfa-4f8e-e07a-257e49747664"
      },
      "execution_count": null,
      "outputs": [
        {
          "output_type": "execute_result",
          "data": {
            "text/html": [
              "<div>\n",
              "<style scoped>\n",
              "    .dataframe tbody tr th:only-of-type {\n",
              "        vertical-align: middle;\n",
              "    }\n",
              "\n",
              "    .dataframe tbody tr th {\n",
              "        vertical-align: top;\n",
              "    }\n",
              "\n",
              "    .dataframe thead th {\n",
              "        text-align: right;\n",
              "    }\n",
              "</style>\n",
              "<table border=\"1\" class=\"dataframe\">\n",
              "  <thead>\n",
              "    <tr style=\"text-align: right;\">\n",
              "      <th></th>\n",
              "      <th>회차</th>\n",
              "      <th>이름</th>\n",
              "      <th>측정일</th>\n",
              "      <th>몸무게</th>\n",
              "      <th>단위</th>\n",
              "      <th>담당</th>\n",
              "      <th>지점</th>\n",
              "      <th>상태</th>\n",
              "      <th>지역</th>\n",
              "    </tr>\n",
              "  </thead>\n",
              "  <tbody>\n",
              "    <tr>\n",
              "      <th>0</th>\n",
              "      <td>1</td>\n",
              "      <td>홍길동</td>\n",
              "      <td>2020-03-01</td>\n",
              "      <td>76.4</td>\n",
              "      <td>kg</td>\n",
              "      <td>박현경</td>\n",
              "      <td>관악구</td>\n",
              "      <td>비만</td>\n",
              "      <td>강서</td>\n",
              "    </tr>\n",
              "    <tr>\n",
              "      <th>1</th>\n",
              "      <td>2</td>\n",
              "      <td>홍길동</td>\n",
              "      <td>2020-03-02</td>\n",
              "      <td>75.7</td>\n",
              "      <td>kg</td>\n",
              "      <td>김현경</td>\n",
              "      <td>관악구</td>\n",
              "      <td>정상</td>\n",
              "      <td>강서</td>\n",
              "    </tr>\n",
              "    <tr>\n",
              "      <th>2</th>\n",
              "      <td>3</td>\n",
              "      <td>홍길동</td>\n",
              "      <td>2020-03-03</td>\n",
              "      <td>76.0</td>\n",
              "      <td>kg</td>\n",
              "      <td>최현경</td>\n",
              "      <td>여의도</td>\n",
              "      <td>비만</td>\n",
              "      <td>강서</td>\n",
              "    </tr>\n",
              "    <tr>\n",
              "      <th>3</th>\n",
              "      <td>4</td>\n",
              "      <td>홍길동</td>\n",
              "      <td>2020-03-04</td>\n",
              "      <td>NaN</td>\n",
              "      <td>kg</td>\n",
              "      <td>최현경</td>\n",
              "      <td>여의도</td>\n",
              "      <td>NaN</td>\n",
              "      <td>강서</td>\n",
              "    </tr>\n",
              "    <tr>\n",
              "      <th>4</th>\n",
              "      <td>5</td>\n",
              "      <td>홍길동</td>\n",
              "      <td>2020-03-05</td>\n",
              "      <td>76.2</td>\n",
              "      <td>kg</td>\n",
              "      <td>김현경</td>\n",
              "      <td>강남구</td>\n",
              "      <td>비만</td>\n",
              "      <td>강동</td>\n",
              "    </tr>\n",
              "    <tr>\n",
              "      <th>5</th>\n",
              "      <td>6</td>\n",
              "      <td>홍길동</td>\n",
              "      <td>2020-03-06</td>\n",
              "      <td>75.7</td>\n",
              "      <td>kg</td>\n",
              "      <td>최현경</td>\n",
              "      <td>서초구</td>\n",
              "      <td>정상</td>\n",
              "      <td>강동</td>\n",
              "    </tr>\n",
              "    <tr>\n",
              "      <th>6</th>\n",
              "      <td>7</td>\n",
              "      <td>홍길동</td>\n",
              "      <td>2020-03-07</td>\n",
              "      <td>NaN</td>\n",
              "      <td>kg</td>\n",
              "      <td>최현경</td>\n",
              "      <td>서초구</td>\n",
              "      <td>NaN</td>\n",
              "      <td>강동</td>\n",
              "    </tr>\n",
              "    <tr>\n",
              "      <th>7</th>\n",
              "      <td>8</td>\n",
              "      <td>홍길동</td>\n",
              "      <td>2020-03-08</td>\n",
              "      <td>NaN</td>\n",
              "      <td>kg</td>\n",
              "      <td>김현경</td>\n",
              "      <td>서초구</td>\n",
              "      <td>NaN</td>\n",
              "      <td>강동</td>\n",
              "    </tr>\n",
              "    <tr>\n",
              "      <th>8</th>\n",
              "      <td>9</td>\n",
              "      <td>홍길동</td>\n",
              "      <td>2020-03-09</td>\n",
              "      <td>75.0</td>\n",
              "      <td>kg</td>\n",
              "      <td>김현경</td>\n",
              "      <td>서초구</td>\n",
              "      <td>정상</td>\n",
              "      <td>강동</td>\n",
              "    </tr>\n",
              "    <tr>\n",
              "      <th>9</th>\n",
              "      <td>10</td>\n",
              "      <td>홍길동</td>\n",
              "      <td>2020-03-10</td>\n",
              "      <td>77.0</td>\n",
              "      <td>kg</td>\n",
              "      <td>박현경</td>\n",
              "      <td>관악구</td>\n",
              "      <td>비만</td>\n",
              "      <td>강서</td>\n",
              "    </tr>\n",
              "  </tbody>\n",
              "</table>\n",
              "</div>"
            ],
            "text/plain": [
              "   회차   이름         측정일   몸무게  단위   담당   지점   상태  지역\n",
              "0   1  홍길동  2020-03-01  76.4  kg  박현경  관악구   비만  강서\n",
              "1   2  홍길동  2020-03-02  75.7  kg  김현경  관악구   정상  강서\n",
              "2   3  홍길동  2020-03-03  76.0  kg  최현경  여의도   비만  강서\n",
              "3   4  홍길동  2020-03-04   NaN  kg  최현경  여의도  NaN  강서\n",
              "4   5  홍길동  2020-03-05  76.2  kg  김현경  강남구   비만  강동\n",
              "5   6  홍길동  2020-03-06  75.7  kg  최현경  서초구   정상  강동\n",
              "6   7  홍길동  2020-03-07   NaN  kg  최현경  서초구  NaN  강동\n",
              "7   8  홍길동  2020-03-08   NaN  kg  김현경  서초구  NaN  강동\n",
              "8   9  홍길동  2020-03-09  75.0  kg  김현경  서초구   정상  강동\n",
              "9  10  홍길동  2020-03-10  77.0  kg  박현경  관악구   비만  강서"
            ]
          },
          "metadata": {},
          "execution_count": 153
        }
      ]
    },
    {
      "cell_type": "markdown",
      "source": [
        "# 데이터프레임 합치기\n",
        "- 서로 다른 두 데이터프레임이 있을 때,\n",
        "- 하나의 데이터 프레임으로 합치는 방법\n",
        "- 여러 소스(출처)로부터 가져온 데이터를 분석을 하기위해서는 반드시 하나의 데이터 프레임이어야만 한다\n",
        "- 데이터를 합치는 방법\n",
        "\n",
        "![](https://img1.daumcdn.net/thumb/R1280x0/?scode=mtistory2&fname=https%3A%2F%2Fblog.kakaocdn.net%2Fdn%2Foecbm%2FbtqRolfgnC4%2FROZxkKlASUIqWLx1SLd7xK%2Fimg.png)"
      ],
      "metadata": {
        "id": "8TgYR8_Q_txg"
      }
    },
    {
      "cell_type": "code",
      "source": [
        "user_device = pd.read_csv('/content/drive/MyDrive/멀티캠퍼스/Data폴더/user_device.csv')"
      ],
      "metadata": {
        "id": "5OcztjRz7Scg"
      },
      "execution_count": null,
      "outputs": []
    },
    {
      "cell_type": "code",
      "source": [
        "user_usage = pd.read_csv('/content/drive/MyDrive/멀티캠퍼스/Data폴더/user_usage.csv')"
      ],
      "metadata": {
        "id": "lqO7wMOuEBPC"
      },
      "execution_count": null,
      "outputs": []
    },
    {
      "cell_type": "code",
      "source": [
        "user_usage.head(2)"
      ],
      "metadata": {
        "colab": {
          "base_uri": "https://localhost:8080/",
          "height": 112
        },
        "id": "GWbGKUb1B8Zu",
        "outputId": "2a3a133a-b647-4fb1-c2cc-63fae3dc5194"
      },
      "execution_count": null,
      "outputs": [
        {
          "output_type": "execute_result",
          "data": {
            "text/html": [
              "<div>\n",
              "<style scoped>\n",
              "    .dataframe tbody tr th:only-of-type {\n",
              "        vertical-align: middle;\n",
              "    }\n",
              "\n",
              "    .dataframe tbody tr th {\n",
              "        vertical-align: top;\n",
              "    }\n",
              "\n",
              "    .dataframe thead th {\n",
              "        text-align: right;\n",
              "    }\n",
              "</style>\n",
              "<table border=\"1\" class=\"dataframe\">\n",
              "  <thead>\n",
              "    <tr style=\"text-align: right;\">\n",
              "      <th></th>\n",
              "      <th>outgoing_mins_per_month</th>\n",
              "      <th>outgoing_sms_per_month</th>\n",
              "      <th>monthly_mb</th>\n",
              "      <th>use_id</th>\n",
              "    </tr>\n",
              "  </thead>\n",
              "  <tbody>\n",
              "    <tr>\n",
              "      <th>0</th>\n",
              "      <td>21.97</td>\n",
              "      <td>4.82</td>\n",
              "      <td>1557.33</td>\n",
              "      <td>22787</td>\n",
              "    </tr>\n",
              "    <tr>\n",
              "      <th>1</th>\n",
              "      <td>1710.08</td>\n",
              "      <td>136.88</td>\n",
              "      <td>7267.55</td>\n",
              "      <td>22788</td>\n",
              "    </tr>\n",
              "  </tbody>\n",
              "</table>\n",
              "</div>"
            ],
            "text/plain": [
              "   outgoing_mins_per_month  outgoing_sms_per_month  monthly_mb  use_id\n",
              "0                    21.97                    4.82     1557.33   22787\n",
              "1                  1710.08                  136.88     7267.55   22788"
            ]
          },
          "metadata": {},
          "execution_count": 196
        }
      ]
    },
    {
      "cell_type": "code",
      "source": [
        "user_device.head(2)"
      ],
      "metadata": {
        "colab": {
          "base_uri": "https://localhost:8080/",
          "height": 112
        },
        "id": "eM22uog-B_KG",
        "outputId": "7d7c741b-290a-47f0-e606-5004ada12d8e"
      },
      "execution_count": null,
      "outputs": [
        {
          "output_type": "execute_result",
          "data": {
            "text/html": [
              "<div>\n",
              "<style scoped>\n",
              "    .dataframe tbody tr th:only-of-type {\n",
              "        vertical-align: middle;\n",
              "    }\n",
              "\n",
              "    .dataframe tbody tr th {\n",
              "        vertical-align: top;\n",
              "    }\n",
              "\n",
              "    .dataframe thead th {\n",
              "        text-align: right;\n",
              "    }\n",
              "</style>\n",
              "<table border=\"1\" class=\"dataframe\">\n",
              "  <thead>\n",
              "    <tr style=\"text-align: right;\">\n",
              "      <th></th>\n",
              "      <th>use_id</th>\n",
              "      <th>user_id</th>\n",
              "      <th>platform</th>\n",
              "      <th>platform_version</th>\n",
              "      <th>device</th>\n",
              "      <th>use_type_id</th>\n",
              "    </tr>\n",
              "  </thead>\n",
              "  <tbody>\n",
              "    <tr>\n",
              "      <th>0</th>\n",
              "      <td>22782</td>\n",
              "      <td>26980</td>\n",
              "      <td>ios</td>\n",
              "      <td>10.2</td>\n",
              "      <td>iPhone7,2</td>\n",
              "      <td>2</td>\n",
              "    </tr>\n",
              "    <tr>\n",
              "      <th>1</th>\n",
              "      <td>22783</td>\n",
              "      <td>29628</td>\n",
              "      <td>android</td>\n",
              "      <td>6.0</td>\n",
              "      <td>Nexus 5</td>\n",
              "      <td>3</td>\n",
              "    </tr>\n",
              "  </tbody>\n",
              "</table>\n",
              "</div>"
            ],
            "text/plain": [
              "   use_id  user_id platform  platform_version     device  use_type_id\n",
              "0   22782    26980      ios              10.2  iPhone7,2            2\n",
              "1   22783    29628  android               6.0    Nexus 5            3"
            ]
          },
          "metadata": {},
          "execution_count": 197
        }
      ]
    },
    {
      "cell_type": "code",
      "source": [
        "display( len(user_usage) )\n",
        "display( len(user_device) )"
      ],
      "metadata": {
        "id": "g2MIKfI5CL8f",
        "colab": {
          "base_uri": "https://localhost:8080/",
          "height": 52
        },
        "outputId": "62dce51f-df97-4c5a-ce33-0d15da62baa0"
      },
      "execution_count": null,
      "outputs": [
        {
          "output_type": "display_data",
          "data": {
            "text/plain": [
              "240"
            ]
          },
          "metadata": {}
        },
        {
          "output_type": "display_data",
          "data": {
            "text/plain": [
              "272"
            ]
          },
          "metadata": {}
        }
      ]
    },
    {
      "cell_type": "markdown",
      "source": [
        "## inner join\n",
        "- merge 함수를 통해서 `join`을 해볼 수 있습니다. \n",
        "  - merge의 기본 동작은 `inner join` 입니다. \n",
        "\n",
        "- inner join은 기본적으로 자료의 크기가 훨씬 줄어들게 됩니다. \n",
        "  - user_usage: 240개\n",
        "  - user_device: 272개\n",
        "    - 두 자료를 하나로 합쳤을 경우 240개를 넘어가지는 않습니다. \n",
        "    - 양쪽자료 모두에 존재하지 않는 자료가 있다면? "
      ],
      "metadata": {
        "id": "ojy-BUQRC66d"
      }
    },
    {
      "cell_type": "code",
      "source": [
        "display( len(user_usage) )\n",
        "display( len(user_device) )"
      ],
      "metadata": {
        "colab": {
          "base_uri": "https://localhost:8080/",
          "height": 52
        },
        "id": "9BnYBf9cEWJ4",
        "outputId": "d972edc5-b5e9-480e-ed78-c4693f704df0"
      },
      "execution_count": null,
      "outputs": [
        {
          "output_type": "display_data",
          "data": {
            "text/plain": [
              "240"
            ]
          },
          "metadata": {}
        },
        {
          "output_type": "display_data",
          "data": {
            "text/plain": [
              "272"
            ]
          },
          "metadata": {}
        }
      ]
    },
    {
      "cell_type": "code",
      "source": [
        "pd.merge(left=user_usage, right=user_device, on='use_id')"
      ],
      "metadata": {
        "colab": {
          "base_uri": "https://localhost:8080/",
          "height": 600
        },
        "id": "enzd4-4bDOrs",
        "outputId": "f0eb9ca2-9c29-4db2-9b3a-a9f711e93703"
      },
      "execution_count": null,
      "outputs": [
        {
          "output_type": "execute_result",
          "data": {
            "text/html": [
              "<div>\n",
              "<style scoped>\n",
              "    .dataframe tbody tr th:only-of-type {\n",
              "        vertical-align: middle;\n",
              "    }\n",
              "\n",
              "    .dataframe tbody tr th {\n",
              "        vertical-align: top;\n",
              "    }\n",
              "\n",
              "    .dataframe thead th {\n",
              "        text-align: right;\n",
              "    }\n",
              "</style>\n",
              "<table border=\"1\" class=\"dataframe\">\n",
              "  <thead>\n",
              "    <tr style=\"text-align: right;\">\n",
              "      <th></th>\n",
              "      <th>outgoing_mins_per_month</th>\n",
              "      <th>outgoing_sms_per_month</th>\n",
              "      <th>monthly_mb</th>\n",
              "      <th>use_id</th>\n",
              "      <th>user_id</th>\n",
              "      <th>platform</th>\n",
              "      <th>platform_version</th>\n",
              "      <th>device</th>\n",
              "      <th>use_type_id</th>\n",
              "    </tr>\n",
              "  </thead>\n",
              "  <tbody>\n",
              "    <tr>\n",
              "      <th>0</th>\n",
              "      <td>21.97</td>\n",
              "      <td>4.82</td>\n",
              "      <td>1557.33</td>\n",
              "      <td>22787</td>\n",
              "      <td>12921</td>\n",
              "      <td>android</td>\n",
              "      <td>4.3</td>\n",
              "      <td>GT-I9505</td>\n",
              "      <td>1</td>\n",
              "    </tr>\n",
              "    <tr>\n",
              "      <th>1</th>\n",
              "      <td>1710.08</td>\n",
              "      <td>136.88</td>\n",
              "      <td>7267.55</td>\n",
              "      <td>22788</td>\n",
              "      <td>28714</td>\n",
              "      <td>android</td>\n",
              "      <td>6.0</td>\n",
              "      <td>SM-G930F</td>\n",
              "      <td>1</td>\n",
              "    </tr>\n",
              "    <tr>\n",
              "      <th>2</th>\n",
              "      <td>1710.08</td>\n",
              "      <td>136.88</td>\n",
              "      <td>7267.55</td>\n",
              "      <td>22789</td>\n",
              "      <td>28714</td>\n",
              "      <td>android</td>\n",
              "      <td>6.0</td>\n",
              "      <td>SM-G930F</td>\n",
              "      <td>1</td>\n",
              "    </tr>\n",
              "    <tr>\n",
              "      <th>3</th>\n",
              "      <td>94.46</td>\n",
              "      <td>35.17</td>\n",
              "      <td>519.12</td>\n",
              "      <td>22790</td>\n",
              "      <td>29592</td>\n",
              "      <td>android</td>\n",
              "      <td>5.1</td>\n",
              "      <td>D2303</td>\n",
              "      <td>1</td>\n",
              "    </tr>\n",
              "    <tr>\n",
              "      <th>4</th>\n",
              "      <td>71.59</td>\n",
              "      <td>79.26</td>\n",
              "      <td>1557.33</td>\n",
              "      <td>22792</td>\n",
              "      <td>28217</td>\n",
              "      <td>android</td>\n",
              "      <td>5.1</td>\n",
              "      <td>SM-G361F</td>\n",
              "      <td>1</td>\n",
              "    </tr>\n",
              "    <tr>\n",
              "      <th>...</th>\n",
              "      <td>...</td>\n",
              "      <td>...</td>\n",
              "      <td>...</td>\n",
              "      <td>...</td>\n",
              "      <td>...</td>\n",
              "      <td>...</td>\n",
              "      <td>...</td>\n",
              "      <td>...</td>\n",
              "      <td>...</td>\n",
              "    </tr>\n",
              "    <tr>\n",
              "      <th>154</th>\n",
              "      <td>198.59</td>\n",
              "      <td>90.49</td>\n",
              "      <td>5191.12</td>\n",
              "      <td>23043</td>\n",
              "      <td>28953</td>\n",
              "      <td>android</td>\n",
              "      <td>6.0</td>\n",
              "      <td>SM-G900F</td>\n",
              "      <td>1</td>\n",
              "    </tr>\n",
              "    <tr>\n",
              "      <th>155</th>\n",
              "      <td>198.59</td>\n",
              "      <td>90.49</td>\n",
              "      <td>3114.67</td>\n",
              "      <td>23044</td>\n",
              "      <td>28953</td>\n",
              "      <td>android</td>\n",
              "      <td>6.0</td>\n",
              "      <td>SM-G900F</td>\n",
              "      <td>1</td>\n",
              "    </tr>\n",
              "    <tr>\n",
              "      <th>156</th>\n",
              "      <td>106.65</td>\n",
              "      <td>82.13</td>\n",
              "      <td>5191.12</td>\n",
              "      <td>23046</td>\n",
              "      <td>29454</td>\n",
              "      <td>android</td>\n",
              "      <td>6.0</td>\n",
              "      <td>Moto G (4)</td>\n",
              "      <td>1</td>\n",
              "    </tr>\n",
              "    <tr>\n",
              "      <th>157</th>\n",
              "      <td>344.53</td>\n",
              "      <td>20.53</td>\n",
              "      <td>519.12</td>\n",
              "      <td>23049</td>\n",
              "      <td>29725</td>\n",
              "      <td>android</td>\n",
              "      <td>6.0</td>\n",
              "      <td>SM-G900F</td>\n",
              "      <td>1</td>\n",
              "    </tr>\n",
              "    <tr>\n",
              "      <th>158</th>\n",
              "      <td>42.75</td>\n",
              "      <td>46.83</td>\n",
              "      <td>5191.12</td>\n",
              "      <td>23053</td>\n",
              "      <td>20257</td>\n",
              "      <td>android</td>\n",
              "      <td>5.1</td>\n",
              "      <td>Vodafone Smart ultra 6</td>\n",
              "      <td>1</td>\n",
              "    </tr>\n",
              "  </tbody>\n",
              "</table>\n",
              "<p>159 rows × 9 columns</p>\n",
              "</div>"
            ],
            "text/plain": [
              "     outgoing_mins_per_month  ...  use_type_id\n",
              "0                      21.97  ...            1\n",
              "1                    1710.08  ...            1\n",
              "2                    1710.08  ...            1\n",
              "3                      94.46  ...            1\n",
              "4                      71.59  ...            1\n",
              "..                       ...  ...          ...\n",
              "154                   198.59  ...            1\n",
              "155                   198.59  ...            1\n",
              "156                   106.65  ...            1\n",
              "157                   344.53  ...            1\n",
              "158                    42.75  ...            1\n",
              "\n",
              "[159 rows x 9 columns]"
            ]
          },
          "metadata": {},
          "execution_count": 200
        }
      ]
    },
    {
      "cell_type": "markdown",
      "source": [
        "## left join\n",
        "- left 자료를 기준으로 합쳐줍니다. \n",
        "- 결측치가 발생할 수 있습니다. \n",
        "  - right에 없는 자료는 결측치로 채워지게 됩니다. "
      ],
      "metadata": {
        "id": "a0_b6jJcEWm7"
      }
    },
    {
      "cell_type": "code",
      "source": [
        "# how의 기본 파라미터는 inner join\n",
        "pd.merge(left=user_usage, right=user_device, on='use_id', how='left')"
      ],
      "metadata": {
        "colab": {
          "base_uri": "https://localhost:8080/",
          "height": 513
        },
        "id": "hPq2hMvsEZqe",
        "outputId": "e1d73e27-626f-4437-c9f2-8b81fe7ec629"
      },
      "execution_count": null,
      "outputs": [
        {
          "output_type": "execute_result",
          "data": {
            "text/html": [
              "<div>\n",
              "<style scoped>\n",
              "    .dataframe tbody tr th:only-of-type {\n",
              "        vertical-align: middle;\n",
              "    }\n",
              "\n",
              "    .dataframe tbody tr th {\n",
              "        vertical-align: top;\n",
              "    }\n",
              "\n",
              "    .dataframe thead th {\n",
              "        text-align: right;\n",
              "    }\n",
              "</style>\n",
              "<table border=\"1\" class=\"dataframe\">\n",
              "  <thead>\n",
              "    <tr style=\"text-align: right;\">\n",
              "      <th></th>\n",
              "      <th>outgoing_mins_per_month</th>\n",
              "      <th>outgoing_sms_per_month</th>\n",
              "      <th>monthly_mb</th>\n",
              "      <th>use_id</th>\n",
              "      <th>user_id</th>\n",
              "      <th>platform</th>\n",
              "      <th>platform_version</th>\n",
              "      <th>device</th>\n",
              "      <th>use_type_id</th>\n",
              "    </tr>\n",
              "  </thead>\n",
              "  <tbody>\n",
              "    <tr>\n",
              "      <th>0</th>\n",
              "      <td>21.97</td>\n",
              "      <td>4.82</td>\n",
              "      <td>1557.33</td>\n",
              "      <td>22787</td>\n",
              "      <td>12921.0</td>\n",
              "      <td>android</td>\n",
              "      <td>4.3</td>\n",
              "      <td>GT-I9505</td>\n",
              "      <td>1.0</td>\n",
              "    </tr>\n",
              "    <tr>\n",
              "      <th>1</th>\n",
              "      <td>1710.08</td>\n",
              "      <td>136.88</td>\n",
              "      <td>7267.55</td>\n",
              "      <td>22788</td>\n",
              "      <td>28714.0</td>\n",
              "      <td>android</td>\n",
              "      <td>6.0</td>\n",
              "      <td>SM-G930F</td>\n",
              "      <td>1.0</td>\n",
              "    </tr>\n",
              "    <tr>\n",
              "      <th>2</th>\n",
              "      <td>1710.08</td>\n",
              "      <td>136.88</td>\n",
              "      <td>7267.55</td>\n",
              "      <td>22789</td>\n",
              "      <td>28714.0</td>\n",
              "      <td>android</td>\n",
              "      <td>6.0</td>\n",
              "      <td>SM-G930F</td>\n",
              "      <td>1.0</td>\n",
              "    </tr>\n",
              "    <tr>\n",
              "      <th>3</th>\n",
              "      <td>94.46</td>\n",
              "      <td>35.17</td>\n",
              "      <td>519.12</td>\n",
              "      <td>22790</td>\n",
              "      <td>29592.0</td>\n",
              "      <td>android</td>\n",
              "      <td>5.1</td>\n",
              "      <td>D2303</td>\n",
              "      <td>1.0</td>\n",
              "    </tr>\n",
              "    <tr>\n",
              "      <th>4</th>\n",
              "      <td>71.59</td>\n",
              "      <td>79.26</td>\n",
              "      <td>1557.33</td>\n",
              "      <td>22792</td>\n",
              "      <td>28217.0</td>\n",
              "      <td>android</td>\n",
              "      <td>5.1</td>\n",
              "      <td>SM-G361F</td>\n",
              "      <td>1.0</td>\n",
              "    </tr>\n",
              "    <tr>\n",
              "      <th>...</th>\n",
              "      <td>...</td>\n",
              "      <td>...</td>\n",
              "      <td>...</td>\n",
              "      <td>...</td>\n",
              "      <td>...</td>\n",
              "      <td>...</td>\n",
              "      <td>...</td>\n",
              "      <td>...</td>\n",
              "      <td>...</td>\n",
              "    </tr>\n",
              "    <tr>\n",
              "      <th>235</th>\n",
              "      <td>260.66</td>\n",
              "      <td>68.44</td>\n",
              "      <td>896.96</td>\n",
              "      <td>25008</td>\n",
              "      <td>NaN</td>\n",
              "      <td>NaN</td>\n",
              "      <td>NaN</td>\n",
              "      <td>NaN</td>\n",
              "      <td>NaN</td>\n",
              "    </tr>\n",
              "    <tr>\n",
              "      <th>236</th>\n",
              "      <td>97.12</td>\n",
              "      <td>36.50</td>\n",
              "      <td>2815.00</td>\n",
              "      <td>25040</td>\n",
              "      <td>NaN</td>\n",
              "      <td>NaN</td>\n",
              "      <td>NaN</td>\n",
              "      <td>NaN</td>\n",
              "      <td>NaN</td>\n",
              "    </tr>\n",
              "    <tr>\n",
              "      <th>237</th>\n",
              "      <td>355.93</td>\n",
              "      <td>12.37</td>\n",
              "      <td>6828.09</td>\n",
              "      <td>25046</td>\n",
              "      <td>NaN</td>\n",
              "      <td>NaN</td>\n",
              "      <td>NaN</td>\n",
              "      <td>NaN</td>\n",
              "      <td>NaN</td>\n",
              "    </tr>\n",
              "    <tr>\n",
              "      <th>238</th>\n",
              "      <td>632.06</td>\n",
              "      <td>120.46</td>\n",
              "      <td>1453.16</td>\n",
              "      <td>25058</td>\n",
              "      <td>NaN</td>\n",
              "      <td>NaN</td>\n",
              "      <td>NaN</td>\n",
              "      <td>NaN</td>\n",
              "      <td>NaN</td>\n",
              "    </tr>\n",
              "    <tr>\n",
              "      <th>239</th>\n",
              "      <td>488.70</td>\n",
              "      <td>906.92</td>\n",
              "      <td>3089.85</td>\n",
              "      <td>25220</td>\n",
              "      <td>NaN</td>\n",
              "      <td>NaN</td>\n",
              "      <td>NaN</td>\n",
              "      <td>NaN</td>\n",
              "      <td>NaN</td>\n",
              "    </tr>\n",
              "  </tbody>\n",
              "</table>\n",
              "<p>240 rows × 9 columns</p>\n",
              "</div>"
            ],
            "text/plain": [
              "     outgoing_mins_per_month  outgoing_sms_per_month  ...    device  use_type_id\n",
              "0                      21.97                    4.82  ...  GT-I9505          1.0\n",
              "1                    1710.08                  136.88  ...  SM-G930F          1.0\n",
              "2                    1710.08                  136.88  ...  SM-G930F          1.0\n",
              "3                      94.46                   35.17  ...     D2303          1.0\n",
              "4                      71.59                   79.26  ...  SM-G361F          1.0\n",
              "..                       ...                     ...  ...       ...          ...\n",
              "235                   260.66                   68.44  ...       NaN          NaN\n",
              "236                    97.12                   36.50  ...       NaN          NaN\n",
              "237                   355.93                   12.37  ...       NaN          NaN\n",
              "238                   632.06                  120.46  ...       NaN          NaN\n",
              "239                   488.70                  906.92  ...       NaN          NaN\n",
              "\n",
              "[240 rows x 9 columns]"
            ]
          },
          "metadata": {},
          "execution_count": 201
        }
      ]
    },
    {
      "cell_type": "markdown",
      "source": [
        "## full outer join"
      ],
      "metadata": {
        "id": "0TwU4D8dEzPE"
      }
    },
    {
      "cell_type": "code",
      "source": [
        "pd.merge(left=user_usage, right=user_device, on='use_id', how='outer')"
      ],
      "metadata": {
        "colab": {
          "base_uri": "https://localhost:8080/",
          "height": 513
        },
        "id": "tuvocy25FRKY",
        "outputId": "093a5cc0-0440-4a7b-b595-f36aa3c1d565"
      },
      "execution_count": null,
      "outputs": [
        {
          "output_type": "execute_result",
          "data": {
            "text/html": [
              "<div>\n",
              "<style scoped>\n",
              "    .dataframe tbody tr th:only-of-type {\n",
              "        vertical-align: middle;\n",
              "    }\n",
              "\n",
              "    .dataframe tbody tr th {\n",
              "        vertical-align: top;\n",
              "    }\n",
              "\n",
              "    .dataframe thead th {\n",
              "        text-align: right;\n",
              "    }\n",
              "</style>\n",
              "<table border=\"1\" class=\"dataframe\">\n",
              "  <thead>\n",
              "    <tr style=\"text-align: right;\">\n",
              "      <th></th>\n",
              "      <th>outgoing_mins_per_month</th>\n",
              "      <th>outgoing_sms_per_month</th>\n",
              "      <th>monthly_mb</th>\n",
              "      <th>use_id</th>\n",
              "      <th>user_id</th>\n",
              "      <th>platform</th>\n",
              "      <th>platform_version</th>\n",
              "      <th>device</th>\n",
              "      <th>use_type_id</th>\n",
              "    </tr>\n",
              "  </thead>\n",
              "  <tbody>\n",
              "    <tr>\n",
              "      <th>0</th>\n",
              "      <td>21.97</td>\n",
              "      <td>4.82</td>\n",
              "      <td>1557.33</td>\n",
              "      <td>22787</td>\n",
              "      <td>12921.0</td>\n",
              "      <td>android</td>\n",
              "      <td>4.3</td>\n",
              "      <td>GT-I9505</td>\n",
              "      <td>1.0</td>\n",
              "    </tr>\n",
              "    <tr>\n",
              "      <th>1</th>\n",
              "      <td>1710.08</td>\n",
              "      <td>136.88</td>\n",
              "      <td>7267.55</td>\n",
              "      <td>22788</td>\n",
              "      <td>28714.0</td>\n",
              "      <td>android</td>\n",
              "      <td>6.0</td>\n",
              "      <td>SM-G930F</td>\n",
              "      <td>1.0</td>\n",
              "    </tr>\n",
              "    <tr>\n",
              "      <th>2</th>\n",
              "      <td>1710.08</td>\n",
              "      <td>136.88</td>\n",
              "      <td>7267.55</td>\n",
              "      <td>22789</td>\n",
              "      <td>28714.0</td>\n",
              "      <td>android</td>\n",
              "      <td>6.0</td>\n",
              "      <td>SM-G930F</td>\n",
              "      <td>1.0</td>\n",
              "    </tr>\n",
              "    <tr>\n",
              "      <th>3</th>\n",
              "      <td>94.46</td>\n",
              "      <td>35.17</td>\n",
              "      <td>519.12</td>\n",
              "      <td>22790</td>\n",
              "      <td>29592.0</td>\n",
              "      <td>android</td>\n",
              "      <td>5.1</td>\n",
              "      <td>D2303</td>\n",
              "      <td>1.0</td>\n",
              "    </tr>\n",
              "    <tr>\n",
              "      <th>4</th>\n",
              "      <td>71.59</td>\n",
              "      <td>79.26</td>\n",
              "      <td>1557.33</td>\n",
              "      <td>22792</td>\n",
              "      <td>28217.0</td>\n",
              "      <td>android</td>\n",
              "      <td>5.1</td>\n",
              "      <td>SM-G361F</td>\n",
              "      <td>1.0</td>\n",
              "    </tr>\n",
              "    <tr>\n",
              "      <th>...</th>\n",
              "      <td>...</td>\n",
              "      <td>...</td>\n",
              "      <td>...</td>\n",
              "      <td>...</td>\n",
              "      <td>...</td>\n",
              "      <td>...</td>\n",
              "      <td>...</td>\n",
              "      <td>...</td>\n",
              "      <td>...</td>\n",
              "    </tr>\n",
              "    <tr>\n",
              "      <th>348</th>\n",
              "      <td>NaN</td>\n",
              "      <td>NaN</td>\n",
              "      <td>NaN</td>\n",
              "      <td>23047</td>\n",
              "      <td>29720.0</td>\n",
              "      <td>ios</td>\n",
              "      <td>10.2</td>\n",
              "      <td>iPhone7,1</td>\n",
              "      <td>2.0</td>\n",
              "    </tr>\n",
              "    <tr>\n",
              "      <th>349</th>\n",
              "      <td>NaN</td>\n",
              "      <td>NaN</td>\n",
              "      <td>NaN</td>\n",
              "      <td>23048</td>\n",
              "      <td>29724.0</td>\n",
              "      <td>android</td>\n",
              "      <td>6.0</td>\n",
              "      <td>ONEPLUS A3003</td>\n",
              "      <td>3.0</td>\n",
              "    </tr>\n",
              "    <tr>\n",
              "      <th>350</th>\n",
              "      <td>NaN</td>\n",
              "      <td>NaN</td>\n",
              "      <td>NaN</td>\n",
              "      <td>23050</td>\n",
              "      <td>29726.0</td>\n",
              "      <td>ios</td>\n",
              "      <td>10.2</td>\n",
              "      <td>iPhone7,2</td>\n",
              "      <td>3.0</td>\n",
              "    </tr>\n",
              "    <tr>\n",
              "      <th>351</th>\n",
              "      <td>NaN</td>\n",
              "      <td>NaN</td>\n",
              "      <td>NaN</td>\n",
              "      <td>23051</td>\n",
              "      <td>29726.0</td>\n",
              "      <td>ios</td>\n",
              "      <td>10.2</td>\n",
              "      <td>iPhone7,2</td>\n",
              "      <td>3.0</td>\n",
              "    </tr>\n",
              "    <tr>\n",
              "      <th>352</th>\n",
              "      <td>NaN</td>\n",
              "      <td>NaN</td>\n",
              "      <td>NaN</td>\n",
              "      <td>23052</td>\n",
              "      <td>29727.0</td>\n",
              "      <td>ios</td>\n",
              "      <td>10.1</td>\n",
              "      <td>iPhone8,4</td>\n",
              "      <td>3.0</td>\n",
              "    </tr>\n",
              "  </tbody>\n",
              "</table>\n",
              "<p>353 rows × 9 columns</p>\n",
              "</div>"
            ],
            "text/plain": [
              "     outgoing_mins_per_month  ...  use_type_id\n",
              "0                      21.97  ...          1.0\n",
              "1                    1710.08  ...          1.0\n",
              "2                    1710.08  ...          1.0\n",
              "3                      94.46  ...          1.0\n",
              "4                      71.59  ...          1.0\n",
              "..                       ...  ...          ...\n",
              "348                      NaN  ...          2.0\n",
              "349                      NaN  ...          3.0\n",
              "350                      NaN  ...          3.0\n",
              "351                      NaN  ...          3.0\n",
              "352                      NaN  ...          3.0\n",
              "\n",
              "[353 rows x 9 columns]"
            ]
          },
          "metadata": {},
          "execution_count": 202
        }
      ]
    },
    {
      "cell_type": "markdown",
      "source": [
        "# 결론\n",
        "- 데이터 전처리 작업의 핵심은 합치고, 나누고, 붙이고, 자르는 작업\n",
        "  - 무한히 반복\n",
        "  - `인공지능`이라는 개념이 나오면서 더더욱 오해가 심해져 가고 있는데\n",
        "    - 뭔가 업무가 스마트할 것 같고, 있어 보이는 이런 작업\n",
        "    - 실제 작업은 그렇게 스마트 하지 않다"
      ],
      "metadata": {
        "id": "EkAc_SjeF2rv"
      }
    },
    {
      "cell_type": "code",
      "source": [
        ""
      ],
      "metadata": {
        "id": "RtBQiP8QJDaZ"
      },
      "execution_count": null,
      "outputs": []
    }
  ]
}