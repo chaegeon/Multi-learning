{
  "nbformat": 4,
  "nbformat_minor": 0,
  "metadata": {
    "colab": {
      "name": "기초통계.ipynb",
      "provenance": [],
      "collapsed_sections": [],
      "mount_file_id": "1mU5QQS-usLgisbEqfRerFKP1SXVZoWPS",
      "authorship_tag": "ABX9TyPFLj9jyPKEpCrWfhZ0QmN9",
      "include_colab_link": true
    },
    "kernelspec": {
      "name": "python3",
      "display_name": "Python 3"
    },
    "language_info": {
      "name": "python"
    }
  },
  "cells": [
    {
      "cell_type": "markdown",
      "metadata": {
        "id": "view-in-github",
        "colab_type": "text"
      },
      "source": [
        "<a href=\"https://colab.research.google.com/github/chaegeon/Multi-learning/blob/main/%EA%B8%B0%EC%B4%88%ED%86%B5%EA%B3%84.ipynb\" target=\"_parent\"><img src=\"https://colab.research.google.com/assets/colab-badge.svg\" alt=\"Open In Colab\"/></a>"
      ]
    },
    {
      "cell_type": "code",
      "execution_count": null,
      "metadata": {
        "id": "GeEeGTJwUedJ"
      },
      "outputs": [],
      "source": [
        "import warnings\n",
        "warnings.filterwarnings('always')\n",
        "warnings.filterwarnings('ignore')\n",
        "\n",
        "import numpy as np\n",
        "import pandas as pd\n",
        "\n",
        "import matplotlib.pyplot as plt\n",
        "import seaborn as sns"
      ]
    },
    {
      "cell_type": "markdown",
      "source": [
        "# 통계\n",
        "- 교재로는 챕터2 부터\n",
        "- 예제는 교재 맽 앞 책표지뒤의 아래쪽 소스코드\n",
        "  - 예제는 직접 다운로드\n",
        "- 기본적으로는 교재를 바탕으로 수업할 건데, 확률분포를 직접하더라고. 수업에서 그건 라이브러리를 사용해서 할 것\n",
        "\n",
        "- 통계란?\n",
        "  - 관찰(수집)된 잘(현상/상태)에 대해서 통계적(수치적)으로 처리하고 연구\n",
        "  - 기술통계와 추론통계"
      ],
      "metadata": {
        "id": "OhM9R7KjW_Ib"
      }
    },
    {
      "cell_type": "markdown",
      "source": [
        "## 기술통계\n",
        "- 기초통계를 이용해서 자료의 성질(특성)을 확인(설명)하는 것\n",
        "- 자료의 요약된 정보\n",
        "  - 자료의 자세한 정보까지는 확인할 수 없습니다.\n",
        "    - 자료의 세세한 정봏까지 확인이 가능하면, 통계없이 확인가능한 정도로 아주 자근 파일\n",
        "    - 즉, 빅데이터에서 아주아주 큰 파일에 대해서 확인할 수 있는 방법은 통계외에는 접근하는 방법조차 없다.\n",
        "    - 자료의 아주 세세한 정보는 통곙에 있어서는 큰 관심사가 되지 않는다\n",
        "  - 자료의 커다란 특성을 확인할 수 있다.\n",
        "  - 통계가 아니고서는 대용량의 자료를 설명할 방법이 없다.\n",
        "\n",
        "\n",
        "- 분석에 사용하는 기술적인 통계적 수치(통계량)\n",
        "  - 중심에 대한 통계 ( 교재 2.1)\n",
        "  - 산포에 대한 통계 ( 교재 2.2)\n",
        "  - 관계에 대한 통계 ( 교재 3.1)\n",
        "  - 형태에 대한 통계\n"
      ],
      "metadata": {
        "id": "EA1a0GZuaATJ"
      }
    },
    {
      "cell_type": "markdown",
      "source": [
        " 자료에 대한 평균"
      ],
      "metadata": {
        "id": "329CJVp-bsjb"
      }
    },
    {
      "cell_type": "markdown",
      "source": [
        ""
      ],
      "metadata": {
        "id": "E6T59cIZbpaa"
      }
    },
    {
      "cell_type": "markdown",
      "source": [
        "### 중심에 대한 통계\n",
        "- 자료의 중심에 대한 경향을 나타내는 수치\n",
        "- 중심성에 관한\n",
        "- 평균 : 자료에 대한 평균(모평균/표본평균/샘플평균)\n",
        "- 중앙값 : 자료의 50%에 해당하는 값\n",
        "  - 자료를 정렬 했을 때, 가운데 오는 값\n",
        "- 최빈값 : 가장 많이 등장하는 값\n"
      ],
      "metadata": {
        "id": "osJDupmGblE5"
      }
    },
    {
      "cell_type": "code",
      "source": [
        "df = pd.read_csv('/content/drive/MyDrive/멀티캠퍼스/기초통계/ch2_scores_em.csv')\n",
        "df.head(2)"
      ],
      "metadata": {
        "colab": {
          "base_uri": "https://localhost:8080/",
          "height": 112
        },
        "id": "LFbGKfsIbgzn",
        "outputId": "181d7235-4cfe-42c2-fda3-5a93075abb86"
      },
      "execution_count": null,
      "outputs": [
        {
          "output_type": "execute_result",
          "data": {
            "text/html": [
              "<div>\n",
              "<style scoped>\n",
              "    .dataframe tbody tr th:only-of-type {\n",
              "        vertical-align: middle;\n",
              "    }\n",
              "\n",
              "    .dataframe tbody tr th {\n",
              "        vertical-align: top;\n",
              "    }\n",
              "\n",
              "    .dataframe thead th {\n",
              "        text-align: right;\n",
              "    }\n",
              "</style>\n",
              "<table border=\"1\" class=\"dataframe\">\n",
              "  <thead>\n",
              "    <tr style=\"text-align: right;\">\n",
              "      <th></th>\n",
              "      <th>student number</th>\n",
              "      <th>english</th>\n",
              "      <th>mathematics</th>\n",
              "    </tr>\n",
              "  </thead>\n",
              "  <tbody>\n",
              "    <tr>\n",
              "      <th>0</th>\n",
              "      <td>1</td>\n",
              "      <td>42</td>\n",
              "      <td>65</td>\n",
              "    </tr>\n",
              "    <tr>\n",
              "      <th>1</th>\n",
              "      <td>2</td>\n",
              "      <td>69</td>\n",
              "      <td>80</td>\n",
              "    </tr>\n",
              "  </tbody>\n",
              "</table>\n",
              "</div>"
            ],
            "text/plain": [
              "   student number  english  mathematics\n",
              "0               1       42           65\n",
              "1               2       69           80"
            ]
          },
          "metadata": {},
          "execution_count": 2
        }
      ]
    },
    {
      "cell_type": "code",
      "source": [
        "# 학생 10명의 영어점수\n",
        "# 를 넘파이로 바꿔서 배열로 보\n",
        "scores = np.array( df['english'][:10] )\n",
        "scores"
      ],
      "metadata": {
        "colab": {
          "base_uri": "https://localhost:8080/"
        },
        "id": "B8MQhmoXc2V0",
        "outputId": "a6ed8d8a-8404-47a0-b359-d818ab88edaa"
      },
      "execution_count": null,
      "outputs": [
        {
          "output_type": "execute_result",
          "data": {
            "text/plain": [
              "array([42, 69, 56, 41, 57, 48, 65, 49, 65, 58])"
            ]
          },
          "metadata": {},
          "execution_count": 3
        }
      ]
    },
    {
      "cell_type": "code",
      "source": [
        "# 평균구하기\n",
        "sum(scores) / len(scores)"
      ],
      "metadata": {
        "colab": {
          "base_uri": "https://localhost:8080/"
        },
        "id": "MJLqFDxvdEjF",
        "outputId": "8ec3a676-442b-4f25-d72a-34701cf4ba23"
      },
      "execution_count": null,
      "outputs": [
        {
          "output_type": "execute_result",
          "data": {
            "text/plain": [
              "55.0"
            ]
          },
          "metadata": {},
          "execution_count": 4
        }
      ]
    },
    {
      "cell_type": "code",
      "source": [
        "# 넘파이의 mean은 평균을 구함\n",
        "np.mean( scores )"
      ],
      "metadata": {
        "colab": {
          "base_uri": "https://localhost:8080/"
        },
        "id": "HlE1AN2xdMgY",
        "outputId": "469144cc-e357-4a6a-84b6-7a41dec7f1fc"
      },
      "execution_count": null,
      "outputs": [
        {
          "output_type": "execute_result",
          "data": {
            "text/plain": [
              "55.0"
            ]
          },
          "metadata": {},
          "execution_count": 5
        }
      ]
    },
    {
      "cell_type": "code",
      "source": [
        "# 판다스에서 평균\n",
        "df['english'][:10].mean()"
      ],
      "metadata": {
        "colab": {
          "base_uri": "https://localhost:8080/"
        },
        "id": "gUXwEMmGdRdJ",
        "outputId": "aeb6bbf5-ddac-4f1d-f39e-8d7447952224"
      },
      "execution_count": null,
      "outputs": [
        {
          "output_type": "execute_result",
          "data": {
            "text/plain": [
              "55.0"
            ]
          },
          "metadata": {},
          "execution_count": 6
        }
      ]
    },
    {
      "cell_type": "markdown",
      "source": [
        "#### 중앙값 구하기"
      ],
      "metadata": {
        "id": "QAYSMXjSePGf"
      }
    },
    {
      "cell_type": "code",
      "source": [
        "np.sort( scores)\n",
        "# 가운데 오는 56, 57이 중앙값이 된다?"
      ],
      "metadata": {
        "colab": {
          "base_uri": "https://localhost:8080/"
        },
        "id": "hPwoep08dWQP",
        "outputId": "31338080-8eee-43ed-c5ba-76a117abadc5"
      },
      "execution_count": null,
      "outputs": [
        {
          "output_type": "execute_result",
          "data": {
            "text/plain": [
              "array([41, 42, 48, 49, 56, 57, 58, 65, 65, 69])"
            ]
          },
          "metadata": {},
          "execution_count": 7
        }
      ]
    },
    {
      "cell_type": "code",
      "source": [
        "sort_scores = np.sort(scores)\n",
        "sort_scores"
      ],
      "metadata": {
        "colab": {
          "base_uri": "https://localhost:8080/"
        },
        "id": "DwFLVGODeSNS",
        "outputId": "dd83dc4e-1827-4fed-8fde-e484569ab27f"
      },
      "execution_count": null,
      "outputs": [
        {
          "output_type": "execute_result",
          "data": {
            "text/plain": [
              "array([41, 42, 48, 49, 56, 57, 58, 65, 65, 69])"
            ]
          },
          "metadata": {},
          "execution_count": 8
        }
      ]
    },
    {
      "cell_type": "code",
      "source": [
        "len(sort_scores) // 2"
      ],
      "metadata": {
        "colab": {
          "base_uri": "https://localhost:8080/"
        },
        "id": "xkDOnmq5eqBE",
        "outputId": "2503fd32-17dc-41f7-e9a5-08ffe5e4d4d7"
      },
      "execution_count": null,
      "outputs": [
        {
          "output_type": "execute_result",
          "data": {
            "text/plain": [
              "5"
            ]
          },
          "metadata": {},
          "execution_count": 9
        }
      ]
    },
    {
      "cell_type": "code",
      "source": [
        "size = len(sort_scores)\n",
        "if size % 2 == 0:\n",
        "  m0 = sort_scores[size//2-1]\n",
        "  m1 = sort_scores[size//2]\n",
        "  mid = (m0 + m1) / 2\n",
        "  # 사이즈?가 짝수라면 딱 가운데 수가 없는 거잖아.\n",
        "  # 그럼 가운데 수를 두개를 m0, m1로 정해서 이 평균값을 중앙값으로 정함\n",
        "  # Ex). 1, 2, 3, 4, 5라면 중앙값이 3일텐데\n",
        "  # 1, 2, 3, 4, 5, 6 이라면 가운데의 두 수인 3, 4의 평균을 중앙값으로 삼음\n",
        "else :\n",
        "  mid = sort_scores[ (size+1) // 2-1 ]\n"
      ],
      "metadata": {
        "id": "uVYiK911ecxk"
      },
      "execution_count": null,
      "outputs": []
    },
    {
      "cell_type": "code",
      "source": [
        "mid\n",
        "# 56 과 57의 평균으로 56.5를 나온 듯"
      ],
      "metadata": {
        "colab": {
          "base_uri": "https://localhost:8080/"
        },
        "id": "NNkojI6QepVX",
        "outputId": "7f41703e-b470-45a4-83eb-035eb5bc0761"
      },
      "execution_count": null,
      "outputs": [
        {
          "output_type": "execute_result",
          "data": {
            "text/plain": [
              "56.5"
            ]
          },
          "metadata": {},
          "execution_count": 11
        }
      ]
    },
    {
      "cell_type": "code",
      "source": [
        "np.median(scores)"
      ],
      "metadata": {
        "colab": {
          "base_uri": "https://localhost:8080/"
        },
        "id": "jJLcnHrLfDGT",
        "outputId": "881f2cc7-0a27-43d2-e204-d130b64019cf"
      },
      "execution_count": null,
      "outputs": [
        {
          "output_type": "execute_result",
          "data": {
            "text/plain": [
              "56.5"
            ]
          },
          "metadata": {},
          "execution_count": 12
        }
      ]
    },
    {
      "cell_type": "code",
      "source": [
        "df['english'][:10].median()"
      ],
      "metadata": {
        "colab": {
          "base_uri": "https://localhost:8080/"
        },
        "id": "_h9h5NvSftaq",
        "outputId": "fa76b056-32be-43f3-ee4b-a629fd637454"
      },
      "execution_count": null,
      "outputs": [
        {
          "output_type": "execute_result",
          "data": {
            "text/plain": [
              "56.5"
            ]
          },
          "metadata": {},
          "execution_count": 13
        }
      ]
    },
    {
      "cell_type": "markdown",
      "source": [
        "#### 최빈값 구하기\n",
        "- 넘파이에서는 최빈값을 구하는 함수가 없다.\n",
        "- 시리즈는 있음\n",
        "\n",
        "\n"
      ],
      "metadata": {
        "id": "oYN9ds7og-cu"
      }
    },
    {
      "cell_type": "code",
      "source": [
        "# 시리즈 형태로 바꾸고 mode 로 값을 구하는 방법\n",
        "pd.Series(scores). mode()\n"
      ],
      "metadata": {
        "colab": {
          "base_uri": "https://localhost:8080/"
        },
        "id": "Fcn6dXzIfxQv",
        "outputId": "cd1d0ce9-d811-487e-cf5f-3e6821ee36a5"
      },
      "execution_count": null,
      "outputs": [
        {
          "output_type": "execute_result",
          "data": {
            "text/plain": [
              "0    65\n",
              "dtype: int64"
            ]
          },
          "metadata": {},
          "execution_count": 14
        }
      ]
    },
    {
      "cell_type": "code",
      "source": [
        "df['english'][:10].mode()"
      ],
      "metadata": {
        "colab": {
          "base_uri": "https://localhost:8080/"
        },
        "id": "-nGWEdP-hKV7",
        "outputId": "801da1ce-1877-4f62-c8f0-eb961c06d1ba"
      },
      "execution_count": null,
      "outputs": [
        {
          "output_type": "execute_result",
          "data": {
            "text/plain": [
              "0    65\n",
              "dtype: int64"
            ]
          },
          "metadata": {},
          "execution_count": 15
        }
      ]
    },
    {
      "cell_type": "markdown",
      "source": [
        "### 산포에 대한 통계\n",
        "- 자료의 변동성을 나타해는 수치\n",
        "  - 자료들이 중심으로부터 얼마나 멀리 떨어져 있는가의 정도를 나타내는 수치\n",
        "- 편차 : 관측(수집)된 값과 평균의 차이\n",
        "  - 평균(중심)으로부터 얼마나 멀리 떨어져 있는가\n",
        "- 변동 : 편차의 제곱합 (제곱해서 다 합친 값)\n",
        "- 분산 : 변동을 데이터의 수로 나눈 값\n",
        "- 표준편차 : 분산의 제곱근\n"
      ],
      "metadata": {
        "id": "ikVIL8JzhrWF"
      }
    },
    {
      "cell_type": "markdown",
      "source": [
        "#### 편차구하기"
      ],
      "metadata": {
        "id": "hYirnLmiiTFj"
      }
    },
    {
      "cell_type": "code",
      "source": [
        "mean = np. mean(scores) # 평균 \n",
        "diviation = mean - scores  # 디비에이션은 ( 평균 - 값 )\n",
        "diviation"
      ],
      "metadata": {
        "colab": {
          "base_uri": "https://localhost:8080/"
        },
        "id": "0wRWa7QshNWU",
        "outputId": "ea8e98e3-0a4a-4eb8-f605-2192839c1239"
      },
      "execution_count": null,
      "outputs": [
        {
          "output_type": "execute_result",
          "data": {
            "text/plain": [
              "array([ 13., -14.,  -1.,  14.,  -2.,   7., -10.,   6., -10.,  -3.])"
            ]
          },
          "metadata": {},
          "execution_count": 16
        }
      ]
    },
    {
      "cell_type": "code",
      "source": [
        "# 위의 편차를 제곱해서 합친 값이 변동"
      ],
      "metadata": {
        "id": "oaBLV9p6igF2"
      },
      "execution_count": null,
      "outputs": []
    },
    {
      "cell_type": "markdown",
      "source": [
        "#### 변동 구하기"
      ],
      "metadata": {
        "id": "yuBywd_CixHa"
      }
    },
    {
      "cell_type": "code",
      "source": [
        "variation = np.sum(diviation ** 2 ) # 제곱하는 경우는 부호를 없애거나\n",
        "variation      # +13 이나 -14나 멀리 떨어진 건 같은데, 0이 나오면 차이가 없다는 뜻이 나와버리니까\n",
        "              # 부호를 없애는 것"
      ],
      "metadata": {
        "colab": {
          "base_uri": "https://localhost:8080/"
        },
        "id": "N55TbYQBiwIr",
        "outputId": "d4823172-c96b-46d8-f58a-aedcb8051626"
      },
      "execution_count": null,
      "outputs": [
        {
          "output_type": "execute_result",
          "data": {
            "text/plain": [
              "860.0"
            ]
          },
          "metadata": {},
          "execution_count": 18
        }
      ]
    },
    {
      "cell_type": "code",
      "source": [
        "# 넘파이가 분산을 구하는 방식\n",
        "variation / len(scores)\n"
      ],
      "metadata": {
        "colab": {
          "base_uri": "https://localhost:8080/"
        },
        "id": "RzIoeNXhi4Wf",
        "outputId": "7d1540cd-c9b0-40e2-ff0e-4e9140fcb3af"
      },
      "execution_count": null,
      "outputs": [
        {
          "output_type": "execute_result",
          "data": {
            "text/plain": [
              "86.0"
            ]
          },
          "metadata": {},
          "execution_count": 19
        }
      ]
    },
    {
      "cell_type": "code",
      "source": [
        "# 시리즈나 프레임이 분산을 구하는 방식?\n",
        "variation / ( len(scores) - 1 ) # -1 을 자유로라고 해석하기도 하고..\n",
        "# 표본과 모집단 사이의 차이를 줄이기 위한 방편\n",
        "# 일반적으로 표본에서 말하는 분산은 -1 한 분산이라고 보면 될 듯"
      ],
      "metadata": {
        "colab": {
          "base_uri": "https://localhost:8080/"
        },
        "id": "rB3ayTWNmNtZ",
        "outputId": "2c0beaaf-0416-46e2-de59-e993077a124e"
      },
      "execution_count": null,
      "outputs": [
        {
          "output_type": "execute_result",
          "data": {
            "text/plain": [
              "95.55555555555556"
            ]
          },
          "metadata": {},
          "execution_count": 20
        }
      ]
    },
    {
      "cell_type": "code",
      "source": [
        "np.var(scores)"
      ],
      "metadata": {
        "colab": {
          "base_uri": "https://localhost:8080/"
        },
        "id": "udEEubxNmRqq",
        "outputId": "df1d135b-ec4d-4ab3-ba95-dd8dc5f29473"
      },
      "execution_count": null,
      "outputs": [
        {
          "output_type": "execute_result",
          "data": {
            "text/plain": [
              "86.0"
            ]
          },
          "metadata": {},
          "execution_count": 21
        }
      ]
    },
    {
      "cell_type": "code",
      "source": [
        "# 파라미터로 조절\n",
        "np.var(scores, ddof = 1)"
      ],
      "metadata": {
        "colab": {
          "base_uri": "https://localhost:8080/"
        },
        "id": "y_lNZFYYm2nB",
        "outputId": "2c7e2966-23cc-499c-f63d-e83c645fd97e"
      },
      "execution_count": null,
      "outputs": [
        {
          "output_type": "execute_result",
          "data": {
            "text/plain": [
              "95.55555555555556"
            ]
          },
          "metadata": {},
          "execution_count": 22
        }
      ]
    },
    {
      "cell_type": "code",
      "source": [
        "df['english'][:10].var()"
      ],
      "metadata": {
        "colab": {
          "base_uri": "https://localhost:8080/"
        },
        "id": "ucoJp8OkmWHO",
        "outputId": "42a4c725-4546-40d2-af25-28331324d0f2"
      },
      "execution_count": null,
      "outputs": [
        {
          "output_type": "execute_result",
          "data": {
            "text/plain": [
              "95.55555555555556"
            ]
          },
          "metadata": {},
          "execution_count": 23
        }
      ]
    },
    {
      "cell_type": "code",
      "source": [
        "# 이것도 파라미터로 조절 가능\n",
        "df['english'][:10].var(ddof=0)"
      ],
      "metadata": {
        "colab": {
          "base_uri": "https://localhost:8080/"
        },
        "id": "ZzUfeLMKmZH4",
        "outputId": "f4350a83-dd27-4e90-a943-21f318d7217e"
      },
      "execution_count": null,
      "outputs": [
        {
          "output_type": "execute_result",
          "data": {
            "text/plain": [
              "86.0"
            ]
          },
          "metadata": {},
          "execution_count": 24
        }
      ]
    },
    {
      "cell_type": "markdown",
      "source": [
        "#### 표준편차 구하기\n",
        "- 분산에 루트를 씌운 것"
      ],
      "metadata": {
        "id": "4H_MIBrTnHtj"
      }
    },
    {
      "cell_type": "code",
      "source": [
        "np.std(scores)"
      ],
      "metadata": {
        "colab": {
          "base_uri": "https://localhost:8080/"
        },
        "id": "dWbAvag8nAYt",
        "outputId": "c12750cd-e3cc-4277-8870-5f2cfd0b5dbd"
      },
      "execution_count": null,
      "outputs": [
        {
          "output_type": "execute_result",
          "data": {
            "text/plain": [
              "9.273618495495704"
            ]
          },
          "metadata": {},
          "execution_count": 25
        }
      ]
    },
    {
      "cell_type": "code",
      "source": [
        "df['english'][:10].std()"
      ],
      "metadata": {
        "colab": {
          "base_uri": "https://localhost:8080/"
        },
        "id": "5zSdhTPmnSMv",
        "outputId": "24918490-0d45-4251-c4a4-c7666c66f22d"
      },
      "execution_count": null,
      "outputs": [
        {
          "output_type": "execute_result",
          "data": {
            "text/plain": [
              "9.775252199076787"
            ]
          },
          "metadata": {},
          "execution_count": 26
        }
      ]
    },
    {
      "cell_type": "markdown",
      "source": [
        "판다스는 이러한 통계값을 한번에 계산할 수 있다.\n",
        "- describe를 통해"
      ],
      "metadata": {
        "id": "YYBFqWj6naTv"
      }
    },
    {
      "cell_type": "code",
      "source": [
        "df['english'][:10].describe()\n",
        "#개수, 평군, 표준편차, 최소최대 값 등등\n",
        "# 근데 median. 최빈값은 없네"
      ],
      "metadata": {
        "colab": {
          "base_uri": "https://localhost:8080/"
        },
        "id": "fBNQGieKnVPs",
        "outputId": "7f9484a1-c6ff-4c0c-bce4-4b6567bce605"
      },
      "execution_count": null,
      "outputs": [
        {
          "output_type": "execute_result",
          "data": {
            "text/plain": [
              "count    10.000000\n",
              "mean     55.000000\n",
              "std       9.775252\n",
              "min      41.000000\n",
              "25%      48.250000\n",
              "50%      56.500000\n",
              "75%      63.250000\n",
              "max      69.000000\n",
              "Name: english, dtype: float64"
            ]
          },
          "metadata": {},
          "execution_count": 27
        }
      ]
    },
    {
      "cell_type": "markdown",
      "source": [
        "#### 표준화와 편차\n",
        "- 일반적인 표준화는\n",
        "  - 데이터에서 평균을 빼고, 표준편차러 나누는 작업\n",
        "    - 자료들이 서로 다른 분포를 가지고 있다면, 비교작업이 어렵기 때문에\n",
        "    - 단점은\n",
        "      - 자료들이 정규분포임이 가정. 아니라면 최선이 아닐 수 있음\n",
        "    - 장점은 평균이나 분산에 상관없이 표준화된 지표를 얻을 수 있다.\n",
        "- 다른 방법은\n",
        "  - 최소/최대로 스케일링 하는 방법\n",
        "  - Robust 등"
      ],
      "metadata": {
        "id": "zHAo_3Lzo0FC"
      }
    },
    {
      "cell_type": "code",
      "source": [
        "z = (scores-mean) / np.std(scores)\n",
        "z # 표준화된 데이터\n",
        "#평균이 0이고, 편차는 +- 1이 된다."
      ],
      "metadata": {
        "colab": {
          "base_uri": "https://localhost:8080/"
        },
        "id": "-JBeky6bni6h",
        "outputId": "69a0b1c0-b30a-43b2-d308-d1e77cd77761"
      },
      "execution_count": null,
      "outputs": [
        {
          "output_type": "execute_result",
          "data": {
            "text/plain": [
              "array([-1.40182605,  1.50965882,  0.10783277, -1.50965882,  0.21566555,\n",
              "       -0.75482941,  1.07832773, -0.64699664,  1.07832773,  0.32349832])"
            ]
          },
          "metadata": {},
          "execution_count": 28
        }
      ]
    },
    {
      "cell_type": "markdown",
      "source": [
        "평균은 0이고, 편차는 1이 된다."
      ],
      "metadata": {
        "id": "QrVY5yJ1pwYO"
      }
    },
    {
      "cell_type": "code",
      "source": [
        "np.mean(z), np.std(z)"
      ],
      "metadata": {
        "colab": {
          "base_uri": "https://localhost:8080/"
        },
        "id": "_8XuJukPpkmN",
        "outputId": "09cb1b7a-0f2f-4e4d-891f-4148363e949f"
      },
      "execution_count": null,
      "outputs": [
        {
          "output_type": "execute_result",
          "data": {
            "text/plain": [
              "(-1.6653345369377347e-17, 0.9999999999999999)"
            ]
          },
          "metadata": {},
          "execution_count": 29
        }
      ]
    },
    {
      "cell_type": "markdown",
      "source": [
        "편차값\n",
        "- 편균이 50, 표준편차가 10이 되도록 정규화\n",
        "- 편차값이 50이면 평균적인 결과\n",
        "- 50보다 클 수록 상위 결과라는 의미로 해석"
      ],
      "metadata": {
        "id": "zsJEoAvqqMLI"
      }
    },
    {
      "cell_type": "code",
      "source": [
        "z = 50 + 10 * (scores-mean) / np.std(scores)\n",
        "z\n",
        "# 첫번째는 평균보다 훨씬 낮구나\n",
        "# 두번째는 평균보다 높은 점수를 냈구나\n",
        "# 3번째는 거의 뭐 평균이구나\n",
        "# 이런 식으로 해석 가능"
      ],
      "metadata": {
        "colab": {
          "base_uri": "https://localhost:8080/"
        },
        "id": "VP5OOUnhp25e",
        "outputId": "697a2ea3-2ca2-42ff-e3bf-808ac4da2b41"
      },
      "execution_count": null,
      "outputs": [
        {
          "output_type": "execute_result",
          "data": {
            "text/plain": [
              "array([35.98173948, 65.09658825, 51.07832773, 34.90341175, 52.15665546,\n",
              "       42.45170588, 60.78327732, 43.53003361, 60.78327732, 53.2349832 ])"
            ]
          },
          "metadata": {},
          "execution_count": 30
        }
      ]
    },
    {
      "cell_type": "markdown",
      "source": [
        "### 관계에 대한 통계\n",
        "- 자료와 자료같의 관게를 낱타내는 수치\n",
        "  - 수치일 뿐, 실제 관계를 수치만 가지고 정확하게 표현할 수 없다.\n",
        "  - 수치를 가지고 해석하는 것은 분석하는 사람의 몫\n",
        "- 2변수\n",
        "\n",
        "1. 상관관계\n",
        "- 공분산(Co-variance)\n",
        "- 두 변수 사이의 분산을 보는 것\n",
        "  - 결과적으로 두 변수의 분산이 같이 커지거나, 작아지면 상관성이 있다라고 해석\n",
        "  - 혹은 반대로, 분산이 커지는데 반대로 작아지거나, 분산이 작아지는데 반대로 커지거나 상관성이 있다고 해석\n",
        "\n",
        "- 공분산의 해석은 다음과 같다\n",
        "  - **cov > 0** : x가 큰값(혹은 작은값)을 가질 때, y도 큰값(혹은 작은값)을 가지는 경우\n",
        "    - x의 분산이 커질 때, y의 분산 또한 커지는 경우\n",
        "    - x의 분산이 작아질 때, y의 분산이 같이 작아지는 경우\n",
        "    - 두 변수를 곱하면 양수가 나옴\n",
        "    - 즉, x와 y사이에 양의 상관성이 있다고 해석\n",
        "  - **cov < 0** : x와 y가 반대인 경우\n",
        "    - x의 분산이 작아질 떄, y의 분산이 커지거나\n",
        "    - x의 분산이 커질 때, y의 분산이 작아지거나\n",
        "    - 한 쪽이 양수 일 때 다른 한쪽은 음수니까 곱하면 음수가 나옴\n",
        "    - 이런 경우에는 x와 y의 사이에 음의 상관성이 있다로 해석\n",
        "  - **cov = 0** 인 경우 (0에 가까울 경우)\n",
        "    - x의 분산과 상관없이 y가 존재하는 경우(그 반대도 마찬가지)\n",
        "    - 음수와 양수가 섞이기 때문에 0에 가까운 값을 가지게 된다.\n",
        "    - 두 변수는 상관성이 적다라고 봄\n",
        "\n",
        "- 단점\n",
        "  - 두 변수 사이의 상관성이 낮아도, 수치가 크면 ,공분산 값이 크게 나올 수 있다.\n",
        "  - 반대로 두 변수 사이의 상관서어ㅣ 높아도, 수치가 낮으면, 공분산 값은 작게 나올 가능성이 있다.\n",
        "  - **상관계수** : 공분산의 값을 -1과 1 사이의 값으로 표준화한 값\n",
        "    - -1 과 1에 가까울 수록 상관성이 높다고 해석\n",
        "    - 0에 가까울 수록 상관성이 낮다고 해석\n",
        "\n",
        "\n",
        "2. 인과관계\n",
        "- 추론통계에서 확인하고자 하는 것이 인과성이 될 수 있다.\n",
        "- 어떤 자료가 다른 자료의 원인이 되는 경우\n",
        "  - 모든 변수가 무조건 원인이 될 수 있는 것은 아니다\n"
      ],
      "metadata": {
        "id": "ecU2ImZIq3gl"
      }
    },
    {
      "cell_type": "code",
      "source": [
        "# 영어점수와 수학점수의 공분산을 계산\n",
        "en_scores = np.array(df['english'][:10])\n",
        "ma_scores = np.array(df['mathematics'][:10])"
      ],
      "metadata": {
        "id": "hJod11MFqcjv"
      },
      "execution_count": null,
      "outputs": []
    },
    {
      "cell_type": "code",
      "source": [
        "cov = np.cov( en_scores, ma_scores, ddof =0 ) # 책 예제와 동일하게 하려면 ddof=0\n",
        "cov"
      ],
      "metadata": {
        "colab": {
          "base_uri": "https://localhost:8080/"
        },
        "id": "W5dmK-P4tsjp",
        "outputId": "43b0a5fd-dfe7-4725-a3f1-7aae93fe6ea3"
      },
      "execution_count": null,
      "outputs": [
        {
          "output_type": "execute_result",
          "data": {
            "text/plain": [
              "array([[86.  , 62.8 ],\n",
              "       [62.8 , 68.44]])"
            ]
          },
          "metadata": {},
          "execution_count": 32
        }
      ]
    },
    {
      "cell_type": "code",
      "source": [
        "np.corrcoef( en_scores, ma_scores)\n",
        "# 상관이 있어보이네"
      ],
      "metadata": {
        "colab": {
          "base_uri": "https://localhost:8080/"
        },
        "id": "tz0iCWv5t2XQ",
        "outputId": "37acc0cf-00a6-40f2-8ef8-90cdb34bf32d"
      },
      "execution_count": null,
      "outputs": [
        {
          "output_type": "execute_result",
          "data": {
            "text/plain": [
              "array([[1.        , 0.81856923],\n",
              "       [0.81856923, 1.        ]])"
            ]
          },
          "metadata": {},
          "execution_count": 33
        }
      ]
    },
    {
      "cell_type": "code",
      "source": [
        "df[['english', 'mathematics']].corr()\n",
        "# 상관이 있어보여"
      ],
      "metadata": {
        "colab": {
          "base_uri": "https://localhost:8080/",
          "height": 112
        },
        "id": "EPh8zL9cuFUg",
        "outputId": "664b1466-45a0-40f6-db62-2118be7065f6"
      },
      "execution_count": null,
      "outputs": [
        {
          "output_type": "execute_result",
          "data": {
            "text/html": [
              "<div>\n",
              "<style scoped>\n",
              "    .dataframe tbody tr th:only-of-type {\n",
              "        vertical-align: middle;\n",
              "    }\n",
              "\n",
              "    .dataframe tbody tr th {\n",
              "        vertical-align: top;\n",
              "    }\n",
              "\n",
              "    .dataframe thead th {\n",
              "        text-align: right;\n",
              "    }\n",
              "</style>\n",
              "<table border=\"1\" class=\"dataframe\">\n",
              "  <thead>\n",
              "    <tr style=\"text-align: right;\">\n",
              "      <th></th>\n",
              "      <th>english</th>\n",
              "      <th>mathematics</th>\n",
              "    </tr>\n",
              "  </thead>\n",
              "  <tbody>\n",
              "    <tr>\n",
              "      <th>english</th>\n",
              "      <td>1.000000</td>\n",
              "      <td>0.723741</td>\n",
              "    </tr>\n",
              "    <tr>\n",
              "      <th>mathematics</th>\n",
              "      <td>0.723741</td>\n",
              "      <td>1.000000</td>\n",
              "    </tr>\n",
              "  </tbody>\n",
              "</table>\n",
              "</div>"
            ],
            "text/plain": [
              "              english  mathematics\n",
              "english      1.000000     0.723741\n",
              "mathematics  0.723741     1.000000"
            ]
          },
          "metadata": {},
          "execution_count": 34
        }
      ]
    },
    {
      "cell_type": "markdown",
      "source": [
        "두 변수의 상관성을 확인하기 좋은 시각화 'pair_plot'을 이용해 볼 수 있다\n",
        "- pait_plot은 변수가 많아지면, 굉장히 느려지기 때문에, 주의해야한다.\n"
      ],
      "metadata": {
        "id": "MdKcCZeIuW_R"
      }
    },
    {
      "cell_type": "code",
      "source": [
        "sns.pairplot( df[['english', 'mathematics']] )"
      ],
      "metadata": {
        "colab": {
          "base_uri": "https://localhost:8080/",
          "height": 392
        },
        "id": "EDieh-o1uQzE",
        "outputId": "8193d937-8665-4250-e43e-6b16f5921fcf"
      },
      "execution_count": null,
      "outputs": [
        {
          "output_type": "execute_result",
          "data": {
            "text/plain": [
              "<seaborn.axisgrid.PairGrid at 0x7fec55b12890>"
            ]
          },
          "metadata": {},
          "execution_count": 35
        },
        {
          "output_type": "display_data",
          "data": {
            "image/png": "[encoded data removed]",
            "text/plain": [
              "<Figure size 360x360 with 6 Axes>"
            ]
          },
          "metadata": {
            "needs_background": "light"
          }
        }
      ]
    },
    {
      "cell_type": "markdown",
      "source": [
        "### 형태에 대한 통계\n",
        "- 형태를 수치화한 것\n",
        "- 자료의 분포나 왜곡된 형태\n",
        "  - 왜도 : 편향. 중심을 기준으로 좌우의 데이터가 편향되어 있는 형태를 나타내는 수치\n",
        "    - 왼쪽으로 차우쳐져 있다-> 꼬리가 오른쪽\n",
        "\n",
        "  - 첨도 : 뾰족함의 정도\n",
        "    - 뾰족한 게 높을 수록 자료가 중심으로 모여있는. ^\n"
      ],
      "metadata": {
        "id": "Sne82cOLvznS"
      }
    },
    {
      "cell_type": "markdown",
      "source": [
        "## 추론통계\n",
        "- 표본을 통해서 모집단을 추론하는 과정\n",
        "  - ( 모집단 : 우리가 알고자 하는 것 )\n",
        "  \n",
        "  1. population을 모집단이라고 보고\n",
        "  2. 여기서 표본을 추출 - sample data\n",
        "  3. \n",
        "  4. 추정\n",
        "\n",
        "- 통계를 대하는 자세\n",
        "  - 마크트웨인\n",
        "    - 거짓말의 3가지 종류 : 거짓말 ,새빨간 거짓말, 통계\n",
        "    - 통계가 모집단의 모든 특징을 전부 설명할 수는 없다.\n",
        "  - 통계의 한계\n",
        "    - 일단! 모집단의 특성을 표본을 통해서 통계로 설명한다는 것은 매우 괜찮은 생각이다\n",
        "    - 표본의 특성이 꼭 모집단과 같을 거라는 보장이 없다.\n",
        "      - 표본이 모집단을 대표하는 특성인자 아닌지, 알 수 있는 방법도 없다.\n",
        "      - 누구도 알 수 없다.\n",
        "    - 표본을 통해서 모집단의 평균을 알 수 없지만, 추론(추측, 추정)은 가능하다\n",
        "      - 추측이니까.. 99%의 확률로 맞을 수도 있지만 , 1%의 확률로 틀릴 가능성 또한 반드시 존재\n",
        "  - 모집단을 알 수 없다.\n",
        "    - 모집단은 시간이 지나면서 변하기 때문에\n",
        "\n",
        "    - 일반적으로 ML/DL에서 하려는 건 과거의 데이터를 이용해서 현재나, 미래를 설명하고 싶은건데(이게 말이 되는가?)\n",
        "\n",
        "- 이후에 수업시간에 얘기하는 확률과 통계는 모집단을 가정하고 진행\n",
        "\n",
        "\n",
        "- 하지만 우리는 통계를 사용하지 않을 수는 없다.\n",
        "  - 통계가 아니고서는 대규모의 데이터를 해석할 수도, 설명할 수도 없다.\n",
        "  - 자료간의 다소의 차이는 있겠지만, 공통적인 특징은 확인할 수 있다.\n",
        "\n",
        "\n"
      ],
      "metadata": {
        "id": "HhrsZ9dfzs7Z"
      }
    },
    {
      "cell_type": "markdown",
      "source": [
        "## 모집단과 표본\n"
      ],
      "metadata": {
        "id": "gVGhDC6U7v8n"
      }
    },
    {
      "cell_type": "code",
      "source": [
        "df = pd.read_csv('/content/drive/MyDrive/멀티캠퍼스/기초통계/ch4_scores400.csv')\n",
        "scores = np.array(df['score'])\n",
        "scores[:10]"
      ],
      "metadata": {
        "colab": {
          "base_uri": "https://localhost:8080/"
        },
        "id": "dCLda_L3uj3G",
        "outputId": "b11d1885-842f-41c1-9a50-b78e284ea583"
      },
      "execution_count": null,
      "outputs": [
        {
          "output_type": "execute_result",
          "data": {
            "text/plain": [
              "array([76, 55, 80, 80, 74, 61, 81, 76, 23, 80])"
            ]
          },
          "metadata": {},
          "execution_count": 36
        }
      ]
    },
    {
      "cell_type": "markdown",
      "source": [
        "복원 추출과 비복원 추출"
      ],
      "metadata": {
        "id": "XJQI61w58wnr"
      }
    },
    {
      "cell_type": "code",
      "source": [
        "np.random.choice(scores, 20)\n",
        "# 중복가능 - 복원추출"
      ],
      "metadata": {
        "colab": {
          "base_uri": "https://localhost:8080/"
        },
        "id": "7iP1KEbW8Spe",
        "outputId": "c92b66f9-4631-43d2-97c0-f959bee856b8"
      },
      "execution_count": null,
      "outputs": [
        {
          "output_type": "execute_result",
          "data": {
            "text/plain": [
              "array([81, 76, 77, 76, 67, 54, 69, 79, 74, 87, 52, 59, 46, 41, 80, 47, 72,\n",
              "       45, 96, 28])"
            ]
          },
          "metadata": {},
          "execution_count": 37
        }
      ]
    },
    {
      "cell_type": "code",
      "source": [
        "np.random.choice(scores, 20, replace=False)\n",
        "# 중복되지 않는 - 비복원 추출"
      ],
      "metadata": {
        "colab": {
          "base_uri": "https://localhost:8080/"
        },
        "id": "NeoTIgfW8219",
        "outputId": "038ba7f9-86cc-4b28-e9db-f97f2bbef8c5"
      },
      "execution_count": null,
      "outputs": [
        {
          "output_type": "execute_result",
          "data": {
            "text/plain": [
              "array([76, 82, 79, 86, 67, 71, 97, 52, 63, 99, 74, 58, 63, 74, 85, 29, 76,\n",
              "       54, 52, 76])"
            ]
          },
          "metadata": {},
          "execution_count": 38
        }
      ]
    },
    {
      "cell_type": "code",
      "source": [
        "for i in range(5):\n",
        "  sample = np.random.choice(scores, 20)\n",
        "  print('{}번째 무작위 추출 얻은 표본 평균: {}'. format( i+1, sample.mean()))"
      ],
      "metadata": {
        "colab": {
          "base_uri": "https://localhost:8080/"
        },
        "id": "ogKZbciy8_Zt",
        "outputId": "f5cc0ff1-b7d9-472a-b69f-fe02d39f7dd5"
      },
      "execution_count": null,
      "outputs": [
        {
          "output_type": "stream",
          "name": "stdout",
          "text": [
            "1번째 무작위 추출 얻은 표본 평균: 67.4\n",
            "2번째 무작위 추출 얻은 표본 평균: 66.85\n",
            "3번째 무작위 추출 얻은 표본 평균: 68.4\n",
            "4번째 무작위 추출 얻은 표본 평균: 69.65\n",
            "5번째 무작위 추출 얻은 표본 평균: 73.35\n"
          ]
        }
      ]
    },
    {
      "cell_type": "code",
      "source": [
        "# 실제 모집단의 평균\n",
        "scores.mean()"
      ],
      "metadata": {
        "colab": {
          "base_uri": "https://localhost:8080/"
        },
        "id": "6aWZYVL79Rrp",
        "outputId": "5bf66aba-dedf-4ca2-be66-0425f724424f"
      },
      "execution_count": null,
      "outputs": [
        {
          "output_type": "execute_result",
          "data": {
            "text/plain": [
              "69.53"
            ]
          },
          "metadata": {},
          "execution_count": 40
        }
      ]
    },
    {
      "cell_type": "markdown",
      "source": [
        "# 확률\n",
        "- 미래에 발생할 사건에 대한 믿음에 대한 측정값\n",
        "  - 내일 비가 올 확률이 70%다\n",
        "- 물리, 화학, 사회 과학 등에서 발생하는 관심 현상의 측정값을 불확실성에 의해 예측할 수 없는 경우에 사용\n",
        "  - 동전을 던졌을 때(앞,뒤|1/2)\n",
        "  - 동전을 던졌을 때 앞이 나오면 앞으로 한칸 이동 뒷면이 나오면 뒤로 한칸 이동\n",
        "  - 동전을 던지는 시행을 여러번(무한히)했을 경우, 결국 원점으로 돌아와야 한다. \n",
        "- 이런 상환을 랜덤이라고 하며, 랜덤이라고 해도, 이 사건에 대한 상대 빈도 정보가 이미 있다면 예측도 가능"
      ],
      "metadata": {
        "id": "KWAj1-ArSyna"
      }
    },
    {
      "cell_type": "markdown",
      "source": [
        "## 빈도론적 확률\n",
        "- 우리한테 일반적으로 잘 알려져 있는 확률(고전 확률)\n",
        "- 어떤 사건을 반복해서 관찰(수집)했을 때, 발생하는 상대 빈도수를 확률로 정의\n",
        "- 어떤 사건이 무한히 반복된다고 가정 했을 때, 이 사건이 발생할 확률을 상대빈도로 정의\n",
        "  - 시행을 한 번도 안했거나, 한 번뿐인 사건은 정의가 되지 않는다.\n",
        "  - 현실적으로, 무한히 시행을 하는 것은 불가능하기 때문에, 실제 확률값을 알 수 없는 경우가 더 많다.\n",
        "\n",
        "- 수집된 자료들의 변수들도, 확률적으로 주어지는 값으로 해석\n",
        "  - 꼭, 주사위를 던지거나 동전을 던져서 관찰된 값만 확률적인 값으로 보지 않습니다. \n",
        "  - 수집된 자료의 변수 x들도 전부 확률적으로 주어진 값으로 해석 \n",
        "  - 변수 x들을 `확률변수`라고 부릅니다. \n",
        "\n",
        "- 동전 던지기의 역사\n",
        "  - 앞면이 나왔을 때를 성공이라고 가정\n",
        "  - 1707-1788(Count Buffon): 4040번 동전 던지기 실험 앞(2048회) = 0.5069\n",
        "  - 1900(Karl Pearson): 24,000번 동전 던지기 앞(12,012) = 0.5005\n",
        "  - John Kerrich: 10,000번 던지기 앞(5067) = 0.5067"
      ],
      "metadata": {
        "id": "FNppK1g3S1Zg"
      }
    },
    {
      "cell_type": "markdown",
      "source": [
        "## Laplace 확률\n",
        "- 고전적 확률에 대한 정의\n",
        "- 표본공간의 각 원소들이 일어날 가능성이 같다고 가정하여 확률을 정의\n",
        "- 주사위를 던져서 짝수가 나올 확률은 3/6 = 2/1로 정의\n",
        "  - 표본공간의 원소의 개수는 6개이고, 짝수 사건의 원소는 3개 이므로, 짝수가 발생한 확률은 0.이다. \n",
        "  - 각 원소(주사위 눈금)가 모두 동일한 확률(1/6)에 의해서 나타남을 가정\n",
        "- 일반적으로 표본공간의 개수가 유한하고, 원소 모두를 알고 있을 때, 사용할 수 있다. "
      ],
      "metadata": {
        "id": "yTWxVoh4VGM-"
      }
    },
    {
      "cell_type": "markdown",
      "source": [
        "## 확률의 공리\n",
        "- 확률의 단순한 정의\n",
        "- 확률은 항상 0보다 크거나 같고, 1보다 작거나 같다. \n",
        "\n",
        "$$\n",
        "  0 \\le \\mathbb{P} \\le 1\n",
        "$$\n",
        "\n",
        "- 전체사건을 S에 대해서, 각각의 사건들이 상호배반적($A \\cap B = \\phi$) 이라면, 각 사건들이 발생하는 확률은 각 확률을 더한것과 같다. \n",
        "\n",
        "$$\n",
        "  \\mathbb{P}(S) = 1\n",
        "$$\n",
        "\n",
        "- 주사위를 던졌을 때, 1 또는 2가 나올 확률은 1이 나올 확률과 2가 나올 확률을 더한것과 같다. \n",
        "\n",
        "$$\n",
        "  \\begin{align}\n",
        "    \\mathbb{P}(S) & = 1/6 + 1/6 + 1/6 + 1/6 + 1/6 + 1/6 = 1 \\\\ \n",
        "    \\mathbb{P}(1) + \\mathbb{P}(2) & = 1/6 + 1/6\n",
        "  \\end{align}\n",
        "$$"
      ],
      "metadata": {
        "id": "VpOENw6WXqnM"
      }
    },
    {
      "cell_type": "code",
      "source": [
        ""
      ],
      "metadata": {
        "id": "ZyeKKWThZapk"
      },
      "execution_count": null,
      "outputs": []
    },
    {
      "cell_type": "markdown",
      "source": [
        "## 확률분포\n",
        "- 교재 p.98 4.2"
      ],
      "metadata": {
        "id": "YwCI_7C2Y-Zf"
      }
    },
    {
      "cell_type": "code",
      "source": [
        "dice = [ 1, 2, 3, 4, 5, 6 ]\n",
        "prob = [ 1/21, 2/21, 3/21, 4/21, 5/21, 6/21 ]"
      ],
      "metadata": {
        "id": "CsNUHiEfY_wj"
      },
      "execution_count": null,
      "outputs": []
    },
    {
      "cell_type": "code",
      "source": [
        "num_trial = 100\n",
        "sample = np.random.choice( dice, num_trial, p=prob)\n",
        "sample"
      ],
      "metadata": {
        "colab": {
          "base_uri": "https://localhost:8080/"
        },
        "id": "SyPQUFieZfmy",
        "outputId": "04ef25a3-cca1-40f1-9baa-7056a1bd15a0"
      },
      "execution_count": null,
      "outputs": [
        {
          "output_type": "execute_result",
          "data": {
            "text/plain": [
              "array([4, 5, 6, 6, 6, 6, 4, 3, 6, 2, 2, 1, 4, 3, 6, 5, 6, 3, 5, 5, 2, 5,\n",
              "       6, 3, 6, 6, 3, 5, 4, 6, 6, 4, 5, 2, 4, 2, 6, 5, 3, 3, 4, 5, 6, 4,\n",
              "       3, 1, 3, 3, 2, 6, 3, 6, 6, 2, 4, 6, 3, 6, 6, 2, 1, 6, 4, 4, 4, 6,\n",
              "       4, 6, 1, 6, 5, 6, 4, 6, 4, 5, 2, 5, 4, 6, 4, 6, 3, 3, 1, 4, 6, 6,\n",
              "       3, 3, 6, 6, 6, 2, 1, 1, 1, 5, 4, 2])"
            ]
          },
          "metadata": {},
          "execution_count": 42
        }
      ]
    },
    {
      "cell_type": "code",
      "source": [
        "freq, _ = np.histogram(sample, bins=6, range=(1,7))\n",
        "pd.DataFrame( {'빈도수':freq, '상대 빈도수':freq/num_trial}, index=pd.Index(np.arange(1,7), name='dice'))\n"
      ],
      "metadata": {
        "colab": {
          "base_uri": "https://localhost:8080/",
          "height": 269
        },
        "id": "PtY8F0LVZnPZ",
        "outputId": "ec465c3f-c205-4e58-a40e-5f02626018ae"
      },
      "execution_count": null,
      "outputs": [
        {
          "output_type": "execute_result",
          "data": {
            "text/html": [
              "<div>\n",
              "<style scoped>\n",
              "    .dataframe tbody tr th:only-of-type {\n",
              "        vertical-align: middle;\n",
              "    }\n",
              "\n",
              "    .dataframe tbody tr th {\n",
              "        vertical-align: top;\n",
              "    }\n",
              "\n",
              "    .dataframe thead th {\n",
              "        text-align: right;\n",
              "    }\n",
              "</style>\n",
              "<table border=\"1\" class=\"dataframe\">\n",
              "  <thead>\n",
              "    <tr style=\"text-align: right;\">\n",
              "      <th></th>\n",
              "      <th>빈도수</th>\n",
              "      <th>상대 빈도수</th>\n",
              "    </tr>\n",
              "    <tr>\n",
              "      <th>dice</th>\n",
              "      <th></th>\n",
              "      <th></th>\n",
              "    </tr>\n",
              "  </thead>\n",
              "  <tbody>\n",
              "    <tr>\n",
              "      <th>1</th>\n",
              "      <td>8</td>\n",
              "      <td>0.08</td>\n",
              "    </tr>\n",
              "    <tr>\n",
              "      <th>2</th>\n",
              "      <td>11</td>\n",
              "      <td>0.11</td>\n",
              "    </tr>\n",
              "    <tr>\n",
              "      <th>3</th>\n",
              "      <td>16</td>\n",
              "      <td>0.16</td>\n",
              "    </tr>\n",
              "    <tr>\n",
              "      <th>4</th>\n",
              "      <td>19</td>\n",
              "      <td>0.19</td>\n",
              "    </tr>\n",
              "    <tr>\n",
              "      <th>5</th>\n",
              "      <td>13</td>\n",
              "      <td>0.13</td>\n",
              "    </tr>\n",
              "    <tr>\n",
              "      <th>6</th>\n",
              "      <td>33</td>\n",
              "      <td>0.33</td>\n",
              "    </tr>\n",
              "  </tbody>\n",
              "</table>\n",
              "</div>"
            ],
            "text/plain": [
              "      빈도수  상대 빈도수\n",
              "dice             \n",
              "1       8    0.08\n",
              "2      11    0.11\n",
              "3      16    0.16\n",
              "4      19    0.19\n",
              "5      13    0.13\n",
              "6      33    0.33"
            ]
          },
          "metadata": {},
          "execution_count": 43
        }
      ]
    },
    {
      "cell_type": "markdown",
      "source": [
        "파이썬에서 _ 가 붙는 경우\n",
        "- 변수에 자리하는 경우\n",
        "  - 암묵적인 의미\n",
        "  - 사용하지 않는 변수\n"
      ],
      "metadata": {
        "id": "z34SE319al4I"
      }
    },
    {
      "cell_type": "code",
      "source": [
        ""
      ],
      "metadata": {
        "id": "Ly8DwMnPaKCT"
      },
      "execution_count": null,
      "outputs": []
    },
    {
      "cell_type": "markdown",
      "source": [
        "### 대수의 법칙 ( 큰 수의 법칙)\n",
        "- 시행횟수가 많아질 수록 모집단의 분포를 따라갈 것이다.\n",
        "- 아래는 책의 내용"
      ],
      "metadata": {
        "id": "iccGMadAeb9W"
      }
    },
    {
      "cell_type": "code",
      "source": [
        "fig = plt.figure(figsize=(10, 6))\n",
        "ax = fig.add_subplot(111)\n",
        "ax.hist(sample, bins=6, range=(1, 7), density=True, rwidth=0.8)\n",
        "# 실제의 확률분포를 가로선으로 표시\n",
        "ax.hlines(prob, np.arange(1, 7), np.arange(2, 8), colors='gray')\n",
        "\n",
        "# 막대 그래프의 [1.5, 2.5, ..., 6.5]에 눈금을 표시\n",
        "ax.set_xticks(np.linspace(1.5, 6.5, 6))\n",
        "\n",
        "# 주사위 눈의 값은 [1, 2, 3, 4, 5, 6]\n",
        "ax.set_xticklabels(np.arange(1, 7))\n",
        "ax.set_xlabel('dice')\n",
        "ax.set_ylabel('relative frequency')\n",
        "plt.show()"
      ],
      "metadata": {
        "colab": {
          "base_uri": "https://localhost:8080/",
          "height": 388
        },
        "id": "37xccSYmaZ1G",
        "outputId": "95418cf0-00b3-45d7-919f-6eb0f9efb9f3"
      },
      "execution_count": null,
      "outputs": [
        {
          "output_type": "display_data",
          "data": {
            "image/png": "[encoded data removed]",
            "text/plain": [
              "<Figure size 720x432 with 1 Axes>"
            ]
          },
          "metadata": {
            "needs_background": "light"
          }
        }
      ]
    },
    {
      "cell_type": "code",
      "source": [
        "num_trial = 100000   #100번할 때랑 1000번할 때도 다름\n",
        "sample = np.random.choice( dice, num_trial, p=prob)\n",
        "\n",
        "fig = plt.figure(figsize=(10, 6))\n",
        "ax = fig.add_subplot(111)\n",
        "ax.hist(sample, bins=6, range=(1, 7), density=True, rwidth=0.8)\n",
        "# 실제의 확률분포를 가로선으로 표시\n",
        "ax.hlines(prob, np.arange(1, 7), np.arange(2, 8), colors='gray')\n",
        "# 막대 그래프의 [1.5, 2.5, ..., 6.5]에 눈금을 표시\n",
        "ax.set_xticks(np.linspace(1.5, 6.5, 6))\n",
        "# 주사위 눈의 값은 [1, 2, 3, 4, 5, 6]\n",
        "ax.set_xticklabels(np.arange(1, 7))\n",
        "ax.set_xlabel('dice')\n",
        "ax.set_ylabel('relative frequency')\n",
        "plt.show()"
      ],
      "metadata": {
        "colab": {
          "base_uri": "https://localhost:8080/",
          "height": 390
        },
        "id": "2V22ET-GeBoj",
        "outputId": "056f3fa4-a2ac-4b9f-96c8-ab6441d105df"
      },
      "execution_count": null,
      "outputs": [
        {
          "output_type": "display_data",
          "data": {
            "image/png": "[encoded data removed]",
            "text/plain": [
              "<Figure size 720x432 with 1 Axes>"
            ]
          },
          "metadata": {
            "needs_background": "light"
          }
        }
      ]
    },
    {
      "cell_type": "markdown",
      "source": [
        "### 추론통계에서의 확률\n",
        "- 교재 p.106 4.3"
      ],
      "metadata": {
        "id": "Fe4aGqjPhwPR"
      }
    },
    {
      "cell_type": "code",
      "source": [
        "scores"
      ],
      "metadata": {
        "colab": {
          "base_uri": "https://localhost:8080/"
        },
        "id": "NAPh9vUAfdwM",
        "outputId": "be66ce87-8c9e-42af-eb25-9830af2745ae"
      },
      "execution_count": null,
      "outputs": [
        {
          "output_type": "execute_result",
          "data": {
            "text/plain": [
              "array([ 76,  55,  80,  80,  74,  61,  81,  76,  23,  80,  41,  80,  68,\n",
              "        88,  69,  57,  68,  86,  70,  68,  81,  73,  70,  90,  93,  79,\n",
              "        66,  92,  88,  81,  52,  72,  59,  68,  74,  72,  63,  89,  45,\n",
              "        81,  42,  76,  57,  83,  71,  74,  55,  60,  73,  79, 100,  73,\n",
              "        85,  47,  50,  65,  52,  92,  64,  91,  92,  71,  78,  69,  78,\n",
              "        77,  68,  78,  96,  81,  75,  72,  55,  55,  75,  49,  59,  89,\n",
              "        99,  45,  94,  67,  70,  68,  86,  46,  77,  56,  79,  93,  70,\n",
              "        76,  76,  58,  93,  96,  81,  71,  63,  61,  96,  91,  69,  46,\n",
              "        28,  54,  68,  91,  60,  78,  90,  72,  68,  50,  52,  76,  67,\n",
              "        72,  69,  80,  58,  65,  98,  58,  66,  61,  77,  85,  63,  64,\n",
              "        66,  78,  59,  64,  34,  49,  68,  83,  74,  54,  49,  73,  45,\n",
              "        86,  71,  46,  56,  59,  58,  48,  57,  60,  59,  87,  72,  55,\n",
              "        65,  57,  65,  83,  74, 100,  76,  56,  82,  86,  86,  54,  68,\n",
              "        87,  45,  63,  49,  56,  55,  89,  66,  57,  54,  72,  70,  90,\n",
              "        78,  49,  61,  86,  61,  96,  54,  79,  57,  62,  86,  68,  82,\n",
              "        77,  81,  57,  67,  76,  57,  94,  58,  65,  55,  38,  97,  67,\n",
              "        63,  67,  91,  56,  80,  64,  61,  79,  85,  62,  58,  52,  87,\n",
              "        61,  42,  91,  49,  82,  73,  74,  61,  75,  45,  79,  93,  83,\n",
              "        40,  55,  67,  77,  68,  63,  79,  87,  67,  81,  31,  56,  65,\n",
              "        63,  75,  85,  78,  61,  47,  78,  42,  80,  67,  52,  74,  70,\n",
              "        69,  69,  76,  84,  77,  85,  69,  94,  79,  62,  54,  73,  50,\n",
              "        55,  74,  61,  56,  69,  71,  67,  64,  83,  75,  67, 100,  73,\n",
              "        87,  62,  50,  58,  66,  63,  90,  68,  77,  69,  63,  71,  96,\n",
              "        58,  82,  55,  63,  70,  75,  92,  69,  57,  80,  65,  74,  68,\n",
              "        41,  78,  79,  84,  97,  52,  78,  76,  64,  76,  77,  52,  74,\n",
              "        56,  60,  43,  63,  67,  78,  70,  47,  83,  68,  77,  84,  91,\n",
              "        99,  69,  75,  54,  86,  52,  43,  82,  62,  82,  76,  46,  29,\n",
              "        54,  70,  52,  60,  48,  73,  71,  63,  91,  92,  78,  43,  53,\n",
              "        76,  61,  63,  83,  78,  90,  64,  91,  62,  92,  72,  57,  46,\n",
              "        65,  66,  83,  68,  64,  86,  67,  61,  79,  63,  80,  61,  67,\n",
              "        72,  64,  70,  82,  76,  77,  60,  83,  80,  85])"
            ]
          },
          "metadata": {},
          "execution_count": 46
        }
      ]
    },
    {
      "cell_type": "code",
      "source": [
        "# 책\n",
        "fig = plt.figure(figsize=(10, 6))\n",
        "ax = fig.add_subplot(111)\n",
        "ax.hist(scores, bins=100, range=(0, 100), density=True)\n",
        "ax.set_xlim(20, 100)\n",
        "ax.set_ylim(0, 0.042)\n",
        "ax.set_xlabel('score')\n",
        "ax.set_ylabel('relative frequency')\n",
        "plt.show()"
      ],
      "metadata": {
        "colab": {
          "base_uri": "https://localhost:8080/",
          "height": 386
        },
        "id": "b86kT0acihnk",
        "outputId": "cb7b88b7-0b29-4912-a96c-b465374a9403"
      },
      "execution_count": null,
      "outputs": [
        {
          "output_type": "display_data",
          "data": {
            "image/png": "[encoded data removed]",
            "text/plain": [
              "<Figure size 720x432 with 1 Axes>"
            ]
          },
          "metadata": {
            "needs_background": "light"
          }
        }
      ]
    },
    {
      "cell_type": "markdown",
      "source": [
        "표본추출을 통한 확률분포"
      ],
      "metadata": {
        "id": "tPHx564nizTE"
      }
    },
    {
      "cell_type": "code",
      "source": [
        "sample = np.random.choice(scores, 10000)\n",
        "#스코어에서 10000개 를 랜덤으로 뽑아서 샘플로 삼음\n",
        "fig = plt.figure(figsize=(10, 6))\n",
        "ax = fig.add_subplot(111)\n",
        "\n",
        "#이번엔 스코어가 아니라 샘플로\n",
        "ax.hist(sample, bins=100, range=(0, 100), density=True)\n",
        "ax.set_xlim(20, 100)\n",
        "ax.set_ylim(0, 0.042)\n",
        "ax.set_xlabel('score')\n",
        "ax.set_ylabel('relative frequency')\n",
        "plt.show()\n",
        "\n",
        "# 위의 모집단과 비슷하게 나온다\n",
        "# 모집단에서 표본을 추출해도 모집단과 비슷하게 나온다."
      ],
      "metadata": {
        "colab": {
          "base_uri": "https://localhost:8080/",
          "height": 386
        },
        "id": "IaA4e7ZsipEk",
        "outputId": "36d0981f-63cb-423a-b6b6-2e9fe9022d10"
      },
      "execution_count": null,
      "outputs": [
        {
          "output_type": "display_data",
          "data": {
            "image/png": "[encoded data removed]",
            "text/plain": [
              "<Figure size 720x432 with 1 Axes>"
            ]
          },
          "metadata": {
            "needs_background": "light"
          }
        }
      ]
    },
    {
      "cell_type": "markdown",
      "source": [
        "과연 표본들의 평균은 모평균을 잘 설명할 수 있을까?\n",
        "- (책)주어진 점수에서 20개의 표본을 골라서 평균을 내어 표본평균을 계산\n",
        "  - 이걸 10000번 수행했을 때의 표본평균의 분포는?\n",
        "  \n"
      ],
      "metadata": {
        "id": "DY-T_5b8jki-"
      }
    },
    {
      "cell_type": "code",
      "source": [
        "sample_means = []\n",
        "#책에서는 리스트컴프레이션????을 이용했는데 강사님은 좀 더 쉽게\n",
        "for _ in range(10000):\n",
        "  sample_means.append(np.random.choice(scores, 20).mean())\n",
        "  # 주어진 표본의 평균을 20번 추출한 뒤 그걸 10000번 수행"
      ],
      "metadata": {
        "id": "E_vXNN83jDUb"
      },
      "execution_count": null,
      "outputs": []
    },
    {
      "cell_type": "code",
      "source": [
        "fig = plt.figure(figsize=(10, 6))\n",
        "ax = fig.add_subplot(111)\n",
        "ax.hist(sample_means, bins=100, range=(0, 100), density=True)\n",
        "# 모평균을 세로선으로 표시\n",
        "ax.vlines(np.mean(scores), 0, 1, 'gray')\n",
        "ax.set_xlim(50, 90)\n",
        "ax.set_ylim(0, 0.13)\n",
        "ax.set_xlabel('score')\n",
        "ax.set_ylabel('relative frequency')\n",
        "plt.show()\n",
        "# 가운데 회색선이 모평균\n",
        "# 표본들의 평균은 모평균을 중심으로 분포"
      ],
      "metadata": {
        "colab": {
          "base_uri": "https://localhost:8080/",
          "height": 388
        },
        "id": "6SITCHbfkMyn",
        "outputId": "b3ac3d52-2479-4626-eade-1e60f089eb75"
      },
      "execution_count": null,
      "outputs": [
        {
          "output_type": "display_data",
          "data": {
            "image/png": "[encoded data removed]",
            "text/plain": [
              "<Figure size 720x432 with 1 Axes>"
            ]
          },
          "metadata": {
            "needs_background": "light"
          }
        }
      ]
    },
    {
      "cell_type": "markdown",
      "source": [
        "## 확률 변수와 확률분포\n",
        "- 수업에서는 잘 알려진 확룰 분포들에 대해서만 확인\n",
        "- 교재 챕터6, 챕터8"
      ],
      "metadata": {
        "id": "HVD8MnWrlmtp"
      }
    },
    {
      "cell_type": "markdown",
      "source": [
        "### 확률변수\n",
        "- 확률적인 과정에 따라서 값이 결정되는 변수/함수를 **확률변수**라고 한다\n",
        "  - 수집된 자료의 변수(Feature) x들도 어떤 확률적인 과정에 따라서 주어지는 값으로 해석"
      ],
      "metadata": {
        "id": "egT0IPLcl7Du"
      }
    },
    {
      "cell_type": "markdown",
      "source": [
        "### 확률분포\n",
        "- 확률변수가 특정한 값을 가지게 될 확률을 나타내는 함수를 **확률분포**라고 한다.\n",
        "- 현실 게계의 자료는 확률분포를 알 수 없는 경우가 더 많기 떄문에, 일반적으로 잘 알려진 확률분포를 가정\n",
        "- 변수의 형태 (양적변수-이산형/연속형) 에 따라서 달라짐"
      ],
      "metadata": {
        "id": "TkdOAN11mv4P"
      }
    },
    {
      "cell_type": "markdown",
      "source": [
        "##### 이산확률 변수\n",
        "- 확률변수가 이산적인 값을 가질 때, 이 변수를 **이산확률변수**라고 한다.\n",
        "  - 셀 수 있는 값이거나, 범주형 자료들이 해당\n",
        "  - 대표적인 분포는 '베르누이 분포', '이항분포' 등이 있다\n",
        "- 이 떄의 확률분포를 확률변수 x의 '확률질량함수' 라고 한다.\n",
        "- 일반적으로 확률분포를 알 수 있으면 확률질량함수를 알 수 있고,\n",
        "- 반대로 확률질량함수를 알고 있으면 확률분포를 알 수 있다.\n"
      ],
      "metadata": {
        "id": "g4ZN0LLEnIOO"
      }
    },
    {
      "cell_type": "markdown",
      "source": [
        "##### 이산확률분포\n",
        "- 베르누이 분포\n",
        "  - 가능한 사건의 경우가 딱 2가지로 구분되는 모든 시행을 '베르누이 시행'이라고 한다.\n",
        "    - Ex). 성공/실패로 구분되는 경우가 대표적\n",
        "    - 동전던지기 앞/뒤\n",
        "    - 복권 당첨 여부\n",
        "    - 주사위를 던졌을 때 특정 눈금이 나오는 경우(성공), 나머지가 나오는 경우(실패)\n",
        "  - 베르누이 시행은 0(실패), 1(성공)으로 구분해서 간단하게 나타나게 된다.\n"
      ],
      "metadata": {
        "id": "R9174Kg3no4x"
      }
    },
    {
      "cell_type": "code",
      "source": [
        "from scipy.stats import bernoulli, binom, poisson"
      ],
      "metadata": {
        "id": "Zi0YiaMSkm3C"
      },
      "execution_count": null,
      "outputs": []
    },
    {
      "cell_type": "markdown",
      "source": [
        "주사위를 던졌을 때, 특정 눈금이 나오는 경우를 성공이라고 가정\n",
        "  - 1이 나오는 경우를 성공이라고 가정\n",
        "  - 성공확률이 1/6인 베르누이 분포를 따른다고 할 수 있습니다. \n",
        "  - 표본의 자료가 베르누이 분포를 따른다면, 모집단에서의 성공확률을 알고 싶은거죠"
      ],
      "metadata": {
        "id": "FnxewlCgq0OY"
      }
    },
    {
      "cell_type": "code",
      "source": [
        "rv = bernoulli(1/6)"
      ],
      "metadata": {
        "id": "DOsO42CVoUmG"
      },
      "execution_count": null,
      "outputs": []
    },
    {
      "cell_type": "markdown",
      "source": [
        "파이썬에서는 생성된 개체의 pmf 메소드를 통해서 확률질량함수를 계산할 수 있다"
      ],
      "metadata": {
        "id": "FsiMXR1GrYl6"
      }
    },
    {
      "cell_type": "code",
      "source": [
        "x = [0, 1]\n",
        "rv.pmf(x)\n",
        "# 저 두 개를 합치면 1이 됨"
      ],
      "metadata": {
        "colab": {
          "base_uri": "https://localhost:8080/"
        },
        "id": "RYspAKW9rizt",
        "outputId": "e509e1e9-ec13-44d6-e09d-63312859151c"
      },
      "execution_count": null,
      "outputs": [
        {
          "output_type": "execute_result",
          "data": {
            "text/plain": [
              "array([0.83333333, 0.16666667])"
            ]
          },
          "metadata": {},
          "execution_count": 53
        }
      ]
    },
    {
      "cell_type": "markdown",
      "source": [
        "#### 모집단에서의 확률분포"
      ],
      "metadata": {
        "id": "8HUZW-FIruEE"
      }
    },
    {
      "cell_type": "code",
      "source": [
        "plt.bar(x, rv.pmf(x) )\n",
        "plt.xticks( [0,1], ['fail', 'success'] )\n",
        "plt.show()"
      ],
      "metadata": {
        "colab": {
          "base_uri": "https://localhost:8080/",
          "height": 265
        },
        "id": "UZ1ZbRhDrlKk",
        "outputId": "2014a829-0d68-4982-baa8-162323e4a297"
      },
      "execution_count": null,
      "outputs": [
        {
          "output_type": "display_data",
          "data": {
            "image/png": "[encoded data removed]",
            "text/plain": [
              "<Figure size 432x288 with 1 Axes>"
            ]
          },
          "metadata": {
            "needs_background": "light"
          }
        }
      ]
    },
    {
      "cell_type": "markdown",
      "source": [
        "표본추출\n",
        "- 파이썬에서는 각 객체들마다 난수를 생성하는 함수들을 지원\n",
        "  - 주사위를 100번 던져서 1(성공이라 가정)이 몇번 정도 나오는지\n",
        "  - 성공확률이 1/6인 베르누이 분포에서 표본을 추출하는 것과 동일하다\n",
        "  - 과연 100번 수행한 결과가 베르누이 분포를 따를것인가?"
      ],
      "metadata": {
        "id": "f78Lh9ror9zK"
      }
    },
    {
      "cell_type": "code",
      "source": [
        "count = 100\n",
        "x = rv.rvs(count) # 파이썬에서는 rvx를 통해서 샘플 추출\n",
        "x"
      ],
      "metadata": {
        "colab": {
          "base_uri": "https://localhost:8080/"
        },
        "id": "YH9qyvsyr8gn",
        "outputId": "212d9f46-c4eb-4dca-da1b-8282cfeb8ecd"
      },
      "execution_count": null,
      "outputs": [
        {
          "output_type": "execute_result",
          "data": {
            "text/plain": [
              "array([1, 0, 0, 1, 1, 0, 1, 0, 0, 1, 0, 0, 1, 0, 0, 0, 0, 1, 0, 0, 0, 0,\n",
              "       0, 1, 0, 0, 0, 1, 0, 1, 1, 1, 0, 0, 0, 0, 0, 0, 0, 0, 0, 0, 0, 0,\n",
              "       0, 0, 1, 0, 0, 0, 0, 0, 0, 1, 0, 0, 0, 0, 0, 0, 0, 1, 0, 0, 0, 0,\n",
              "       0, 0, 0, 1, 0, 0, 0, 0, 0, 0, 0, 0, 0, 0, 1, 0, 0, 0, 0, 0, 0, 1,\n",
              "       0, 0, 0, 1, 0, 0, 0, 0, 0, 0, 0, 0])"
            ]
          },
          "metadata": {},
          "execution_count": 55
        }
      ]
    },
    {
      "cell_type": "code",
      "source": [
        "sns.countplot(x)\n",
        "plt.show"
      ],
      "metadata": {
        "colab": {
          "base_uri": "https://localhost:8080/",
          "height": 282
        },
        "id": "xUzdfqPisfAH",
        "outputId": "b42d2491-06f5-4158-8e9b-5d344de490a0"
      },
      "execution_count": null,
      "outputs": [
        {
          "output_type": "execute_result",
          "data": {
            "text/plain": [
              "<function matplotlib.pyplot.show>"
            ]
          },
          "metadata": {},
          "execution_count": 56
        },
        {
          "output_type": "display_data",
          "data": {
            "image/png": "[encoded data removed]",
            "text/plain": [
              "<Figure size 432x288 with 1 Axes>"
            ]
          },
          "metadata": {
            "needs_background": "light"
          }
        }
      ]
    },
    {
      "cell_type": "code",
      "source": [
        "np.bincount(x) / count"
      ],
      "metadata": {
        "colab": {
          "base_uri": "https://localhost:8080/"
        },
        "id": "ZJmVw5IZsoc8",
        "outputId": "dc490026-3bc3-4445-b9ac-74f7750edb26"
      },
      "execution_count": null,
      "outputs": [
        {
          "output_type": "execute_result",
          "data": {
            "text/plain": [
              "array([0.81, 0.19])"
            ]
          },
          "metadata": {},
          "execution_count": 57
        }
      ]
    },
    {
      "cell_type": "markdown",
      "source": [
        "결국, 시행이 무한히 많아진다면 모집단의 분포에 근사하게 될 것"
      ],
      "metadata": {
        "id": "kPz_t1E2s3fh"
      }
    },
    {
      "cell_type": "code",
      "source": [
        "count = 100000\n",
        "x = rv.rvs(count)\n",
        "\n",
        "sns.countplot(x)\n",
        "plt.show"
      ],
      "metadata": {
        "colab": {
          "base_uri": "https://localhost:8080/",
          "height": 282
        },
        "id": "b0NhTU5Gswjk",
        "outputId": "db767fea-f43c-45ce-ff22-ef26f9b32c03"
      },
      "execution_count": null,
      "outputs": [
        {
          "output_type": "execute_result",
          "data": {
            "text/plain": [
              "<function matplotlib.pyplot.show>"
            ]
          },
          "metadata": {},
          "execution_count": 58
        },
        {
          "output_type": "display_data",
          "data": {
            "image/png": "[encoded data removed]",
            "text/plain": [
              "<Figure size 432x288 with 1 Axes>"
            ]
          },
          "metadata": {
            "needs_background": "light"
          }
        }
      ]
    },
    {
      "cell_type": "code",
      "source": [
        "np.bincount(x) / count"
      ],
      "metadata": {
        "colab": {
          "base_uri": "https://localhost:8080/"
        },
        "id": "SMGzZSN0tBvo",
        "outputId": "ff6a6099-107a-4cde-ad90-d33e2c72a2fb"
      },
      "execution_count": null,
      "outputs": [
        {
          "output_type": "execute_result",
          "data": {
            "text/plain": [
              "array([0.83417, 0.16583])"
            ]
          },
          "metadata": {},
          "execution_count": 59
        }
      ]
    },
    {
      "cell_type": "markdown",
      "source": [
        "##### 이항분포(binom distribution)\n",
        "- 베르누이 시행을 여러번 했을 경우의 분포\n",
        "- 주사위를 10번 던졌을 때 1이 나오는 경우를 성공이라고 가정"
      ],
      "metadata": {
        "id": "xABPgd4bvQ-z"
      }
    },
    {
      "cell_type": "code",
      "source": [
        "# 이항분포는 시행횟수가 1이면 베르누이 분포와 같다.\n",
        "binom(1, 1/6).pmf([0,1])\n"
      ],
      "metadata": {
        "colab": {
          "base_uri": "https://localhost:8080/"
        },
        "id": "I-JMNYnXtEou",
        "outputId": "06c1af7c-7d9a-432f-d891-a7627c478c51"
      },
      "execution_count": null,
      "outputs": [
        {
          "output_type": "execute_result",
          "data": {
            "text/plain": [
              "array([0.83333333, 0.16666667])"
            ]
          },
          "metadata": {},
          "execution_count": 60
        }
      ]
    },
    {
      "cell_type": "code",
      "source": [
        "rv = binom(10, 1/6)"
      ],
      "metadata": {
        "id": "j2MSnyz8v73S"
      },
      "execution_count": null,
      "outputs": []
    },
    {
      "cell_type": "code",
      "source": [
        "x=np.arange(11)\n",
        "rv.pmf(x)"
      ],
      "metadata": {
        "colab": {
          "base_uri": "https://localhost:8080/"
        },
        "id": "VHJNch66wIJZ",
        "outputId": "638c6230-30fc-419c-eb07-d6d516c1411a"
      },
      "execution_count": null,
      "outputs": [
        {
          "output_type": "execute_result",
          "data": {
            "text/plain": [
              "array([1.61505583e-01, 3.23011166e-01, 2.90710049e-01, 1.55045360e-01,\n",
              "       5.42658759e-02, 1.30238102e-02, 2.17063503e-03, 2.48072575e-04,\n",
              "       1.86054431e-05, 8.26908584e-07, 1.65381717e-08])"
            ]
          },
          "metadata": {},
          "execution_count": 62
        }
      ]
    },
    {
      "cell_type": "code",
      "source": [
        "plt.bar( x, rv.pmf(x) )\n",
        "plt.show()"
      ],
      "metadata": {
        "colab": {
          "base_uri": "https://localhost:8080/",
          "height": 265
        },
        "id": "VQs9s9auwWo9",
        "outputId": "add58d69-d808-460f-e1fd-f45114d8eb71"
      },
      "execution_count": null,
      "outputs": [
        {
          "output_type": "display_data",
          "data": {
            "image/png": "[encoded data removed]",
            "text/plain": [
              "<Figure size 432x288 with 1 Axes>"
            ]
          },
          "metadata": {
            "needs_background": "light"
          }
        }
      ]
    },
    {
      "cell_type": "markdown",
      "source": [
        "##### 표본추출\n"
      ],
      "metadata": {
        "id": "Hmt24t6mwyn1"
      }
    },
    {
      "cell_type": "code",
      "source": [
        "x=rv.rvs(1000000)"
      ],
      "metadata": {
        "id": "2p5EQLTYwa9X"
      },
      "execution_count": null,
      "outputs": []
    },
    {
      "cell_type": "code",
      "source": [
        "sns.countplot(x)\n",
        "plt.show()"
      ],
      "metadata": {
        "colab": {
          "base_uri": "https://localhost:8080/",
          "height": 265
        },
        "id": "xBPJt_5ow2BN",
        "outputId": "00366759-a42c-417b-f2ff-dab41b80eb1b"
      },
      "execution_count": null,
      "outputs": [
        {
          "output_type": "display_data",
          "data": {
            "image/png": "[encoded data removed]",
            "text/plain": [
              "<Figure size 432x288 with 1 Axes>"
            ]
          },
          "metadata": {
            "needs_background": "light"
          }
        }
      ]
    },
    {
      "cell_type": "markdown",
      "source": [
        "##### 누적분포함수\n",
        "- 주어진 확률 변수가 특정값보다 크거나 작아질 확률을 구할 때\n",
        " - 누적분포함수는 확률의 공리상 항상 0과 1사아의 값을 가진다.\n",
        " - 주사위를 10번 던졌을 때, 1이 3번 이하 나오게 될 확률은?"
      ],
      "metadata": {
        "id": "ddV7dPity2N6"
      }
    },
    {
      "cell_type": "code",
      "source": [
        "x = np.arange(11)\n",
        "rv.cdf(x) # 파이썬에서는 cdf로 구할 수 있음"
      ],
      "metadata": {
        "colab": {
          "base_uri": "https://localhost:8080/"
        },
        "id": "imMyb-NTw4rT",
        "outputId": "056a04a7-4deb-45d6-ae2a-f4e5b84b1a1b"
      },
      "execution_count": null,
      "outputs": [
        {
          "output_type": "execute_result",
          "data": {
            "text/plain": [
              "array([0.16150558, 0.48451675, 0.7752268 , 0.93027216, 0.98453803,\n",
              "       0.99756184, 0.99973248, 0.99998055, 0.99999916, 0.99999998,\n",
              "       1.        ])"
            ]
          },
          "metadata": {},
          "execution_count": 66
        }
      ]
    },
    {
      "cell_type": "code",
      "source": [
        "plt.plot(x, rv.cdf(x) )\n",
        "plt.show()"
      ],
      "metadata": {
        "colab": {
          "base_uri": "https://localhost:8080/",
          "height": 265
        },
        "id": "alFXm-fqzWLd",
        "outputId": "c0d1cdf5-da45-4312-d884-fa2070248687"
      },
      "execution_count": null,
      "outputs": [
        {
          "output_type": "display_data",
          "data": {
            "image/png": "[encoded data removed]",
            "text/plain": [
              "<Figure size 432x288 with 1 Axes>"
            ]
          },
          "metadata": {
            "needs_background": "light"
          }
        }
      ]
    },
    {
      "cell_type": "code",
      "source": [
        "prob = rv. cdf(x)\n",
        "prob[3]\n",
        "# 1이 세번 이하 나올 확률"
      ],
      "metadata": {
        "colab": {
          "base_uri": "https://localhost:8080/"
        },
        "id": "j4kpWYlyzagt",
        "outputId": "14e06457-bc41-41c8-b644-df83fe890a44"
      },
      "execution_count": null,
      "outputs": [
        {
          "output_type": "execute_result",
          "data": {
            "text/plain": [
              "0.9302721574455114"
            ]
          },
          "metadata": {},
          "execution_count": 68
        }
      ]
    },
    {
      "cell_type": "markdown",
      "source": [
        "##### 포아송 분포\n",
        "- 시간이나 면적 등을 구간으로 나눠서 표현\n",
        "- 각구간별 사건은 독립적이고( 다른 사건에 영향을 주지 않음), 사건의 발생확률은 동일하다.(베르누이와 동일)\n",
        "- 각 구간의 사건 발생 확률은 구간의 크기에 비례\n",
        "- 정해진 시간 안에 어떤 사건이 일어날 횟수에 대한 값을 람다라고 한다면,\n",
        "  - 사건이 k회 일어날 확률\n"
      ],
      "metadata": {
        "id": "Jdn5XSZGz3q4"
      }
    },
    {
      "cell_type": "markdown",
      "source": [
        "- 책에서 든 예시\n",
        "- 하루평균 2건의 교통사고가 발생하는 지역에서, 하루 교통사고 발생 건수"
      ],
      "metadata": {
        "id": "g6yl1oOf0VMs"
      }
    },
    {
      "cell_type": "code",
      "source": [
        "rv = poisson(2)\n",
        "# 하루 교통사고 발생건수의 평균은 2"
      ],
      "metadata": {
        "id": "tld9khkzzkPK"
      },
      "execution_count": null,
      "outputs": []
    },
    {
      "cell_type": "code",
      "source": [
        "x=np.arange(11)\n",
        "plt.bar(x, rv.pmf(x) )\n",
        "plt.show()\n",
        "# 하루 동안 발생하는 교통사고 건수"
      ],
      "metadata": {
        "colab": {
          "base_uri": "https://localhost:8080/",
          "height": 265
        },
        "id": "5Wu43PeO0bJa",
        "outputId": "abb5c3c6-c6d4-4d8a-df44-3ce8c5efd45e"
      },
      "execution_count": null,
      "outputs": [
        {
          "output_type": "display_data",
          "data": {
            "image/png": "[encoded data removed]",
            "text/plain": [
              "<Figure size 432x288 with 1 Axes>"
            ]
          },
          "metadata": {
            "needs_background": "light"
          }
        }
      ]
    },
    {
      "cell_type": "code",
      "source": [
        "x = rv.rvs(10000)\n",
        "sns.countplot(x)\n",
        "plt.show()"
      ],
      "metadata": {
        "colab": {
          "base_uri": "https://localhost:8080/",
          "height": 265
        },
        "id": "98U3CAM-0jS6",
        "outputId": "9534c2f8-809c-4b63-ae73-e2e7c0197d14"
      },
      "execution_count": null,
      "outputs": [
        {
          "output_type": "display_data",
          "data": {
            "image/png": "[encoded data removed]",
            "text/plain": [
              "<Figure size 432x288 with 1 Axes>"
            ]
          },
          "metadata": {
            "needs_background": "light"
          }
        }
      ]
    },
    {
      "cell_type": "code",
      "source": [
        "x.mean()\n",
        "# 표본의 평균도 모집단 평균에 근사"
      ],
      "metadata": {
        "colab": {
          "base_uri": "https://localhost:8080/"
        },
        "id": "wSBqCD2B03Eq",
        "outputId": "432ef643-39e0-40b2-c77f-64f3914ec02c"
      },
      "execution_count": null,
      "outputs": [
        {
          "output_type": "execute_result",
          "data": {
            "text/plain": [
              "1.9898"
            ]
          },
          "metadata": {},
          "execution_count": 72
        }
      ]
    },
    {
      "cell_type": "markdown",
      "source": [
        "##### 연속 확률 변수\n",
        "- 확률 변수가 연속적인 값을 가지는 경우를 **연속활률변수** 라고 한다.\n",
        "  - 이때의 확률분호를 확률변수의 확률밀도함수 하고 한다.\n",
        "  - 수업시간에는 가장 대ㅛ적인 정규분포를 보자"
      ],
      "metadata": {
        "id": "-wIrWCOqHkGM"
      }
    },
    {
      "cell_type": "markdown",
      "source": [
        "###### 정규분포\n",
        "- 통계학자들이 가장 사랑하는 분포\n",
        "- 수학자 가우스에 의해서 처음 알려졌고, 가우스분포로도 잘 알려져 있다.\n",
        "- 선형회귀 모형에서는 자료의 분포, 오차항의 분포를 정규분포로 가정을 한다.\n",
        "- 평균이 0이고, 표준편차가 1인 정규분포를 **표준정규분포**라고 한다."
      ],
      "metadata": {
        "id": "jxSHDqUFITbT"
      }
    },
    {
      "cell_type": "code",
      "source": [
        "# loc가 평균, scale이 표준편차를 뜻함\n",
        "from scipy.stats import norm"
      ],
      "metadata": {
        "id": "iq2RdDj408lj"
      },
      "execution_count": null,
      "outputs": []
    },
    {
      "cell_type": "code",
      "source": [
        "rv = norm( loc=0, scale=1 )"
      ],
      "metadata": {
        "id": "F8gVE4adJ-A9"
      },
      "execution_count": null,
      "outputs": []
    },
    {
      "cell_type": "code",
      "source": [
        "x = np.linspace(-5, 5, 1000)\n",
        "plt.plot(x, rv.pdf(x) )\n",
        "plt.show()"
      ],
      "metadata": {
        "colab": {
          "base_uri": "https://localhost:8080/",
          "height": 265
        },
        "id": "38xipugjId3T",
        "outputId": "4617fb80-bfa0-418c-cabc-ceb0721c8abb"
      },
      "execution_count": null,
      "outputs": [
        {
          "output_type": "display_data",
          "data": {
            "image/png": "[encoded data removed]",
            "text/plain": [
              "<Figure size 432x288 with 1 Axes>"
            ]
          },
          "metadata": {
            "needs_background": "light"
          }
        }
      ]
    },
    {
      "cell_type": "markdown",
      "source": [
        "정규분포의 누적분포함수\n",
        "- 정규분포의 누적분포함수는 구할 수 없음이 알려져 있는데 \n",
        "  - 파이썬은 근사한 결과를 돌려줍니다. \n",
        "\n",
        "- 일반화선형모형에서 logit함수나 딥러닝에서 활성화 함수 등이 정규분포의 누적분포함수를 사용을 하게 됩니다. "
      ],
      "metadata": {
        "id": "7eII9OrzIxXp"
      }
    },
    {
      "cell_type": "code",
      "source": [
        "x = np.linspace(-3, 3, 1000)\n",
        "plt.plot(x, rv.cdf(x) )\n",
        "plt.show()"
      ],
      "metadata": {
        "colab": {
          "base_uri": "https://localhost:8080/",
          "height": 265
        },
        "id": "oLrvFZ2KJE7B",
        "outputId": "ccaf706e-16c2-4edf-958e-bb56ae19091b"
      },
      "execution_count": null,
      "outputs": [
        {
          "output_type": "display_data",
          "data": {
            "image/png": "[encoded data removed]",
            "text/plain": [
              "<Figure size 432x288 with 1 Axes>"
            ]
          },
          "metadata": {
            "needs_background": "light"
          }
        }
      ]
    },
    {
      "cell_type": "markdown",
      "source": [
        "# 중심극한의 정리\n",
        "- 물론 증명도 되어 있고, 통계적 모형을 세울때, 정규분포를 사용할 수 있는 중요한 이론\n",
        "  - 너무 맹신하거나, 오해 하는 경우가 많아요\n",
        "- 모집단의 분포가 무엇이든 상관이 없이 \n",
        "  - 어떤 분포를 갖든 동일하기만 하면 상관이 없습니다. \n",
        "  - 표본들의 평균은 결국 정규분포로 수렴하게 된다.\n",
        "    - 단, 표본의 크기가 충분하다면\n",
        "  - **중요한 것은, 자료의 분포가 정규분포임을 증명하지 않는다.**"
      ],
      "metadata": {
        "id": "s7P7OWx7JyRq"
      }
    },
    {
      "cell_type": "markdown",
      "source": [
        "- 표본이 얼마나 커야 충분히 크다고 얘기할 수 있는가?\n",
        "- 표본의 크기가 정말 충분히 크다면, 그 평균들은 정말 정규분포가 되는가?\n",
        "- 수업시간에는 균등분포를 가정\n",
        "  - 각 구간마다 동일한 분포를 갖는 형태"
      ],
      "metadata": {
        "id": "8loEye-DKjxU"
      }
    },
    {
      "cell_type": "code",
      "source": [
        "from scipy.stats import uniform"
      ],
      "metadata": {
        "id": "wOUKgircJ_W5"
      },
      "execution_count": null,
      "outputs": []
    },
    {
      "cell_type": "code",
      "source": [
        "n=20\n",
        "m=100000\n",
        "mean = []\n",
        "\n",
        "rv = uniform(n)\n",
        "for _ in range(m):\n",
        "  x = rv.rvs(n)\n",
        "  mean.append(x.mean() )"
      ],
      "metadata": {
        "id": "Ku6iVRlYK6ta"
      },
      "execution_count": null,
      "outputs": []
    },
    {
      "cell_type": "code",
      "source": [
        "sns.displot(mean)"
      ],
      "metadata": {
        "colab": {
          "base_uri": "https://localhost:8080/",
          "height": 386
        },
        "id": "nn5sKb7oLFuG",
        "outputId": "3f3051bb-e8de-44ad-949d-736a3d09ee00"
      },
      "execution_count": null,
      "outputs": [
        {
          "output_type": "execute_result",
          "data": {
            "text/plain": [
              "<seaborn.axisgrid.FacetGrid at 0x7fec46997090>"
            ]
          },
          "metadata": {},
          "execution_count": 86
        },
        {
          "output_type": "display_data",
          "data": {
            "image/png": "[encoded data removed]",
            "text/plain": [
              "<Figure size 360x360 with 1 Axes>"
            ]
          },
          "metadata": {
            "needs_background": "light"
          }
        }
      ]
    },
    {
      "cell_type": "markdown",
      "source": [
        "# 몬테카를로 시뮬레이션\n",
        "- 시뮬레이션 기법\n",
        "- 난수를 이용해서 시행하는 모의 실험"
      ],
      "metadata": {
        "id": "CNMhL27nLnZ2"
      }
    },
    {
      "cell_type": "markdown",
      "source": [
        "## 도박사의 몰락\n",
        "- 도박사는 과연 얼마만에 파산을 할 것인가?\n",
        "- 이런 경우에는 확률분포를 가정하기 어렵다.\n",
        "- 이런경우에 시뮬레이션을 통해서 표본을 추출하고, 이를 통해서 모집단의 모수를 추정\n",
        "  - 모수 : 평균, 분산\n"
      ],
      "metadata": {
        "id": "79XWer9wMGfZ"
      }
    },
    {
      "cell_type": "markdown",
      "source": [
        "## 카지노의 승률\n",
        "- 카지노마다 승률이 다르게 설정 되어있고\n",
        "- 게임마다 승률이 전부 다름\n",
        "- 일반적으로 승리확률이 49%를 넘지 않음\n",
        "  - 성공확률이 49%인 베르누이 분포를 생각해볼 수 있다.\n",
        "  "
      ],
      "metadata": {
        "id": "RPrGVJFQMc8V"
      }
    },
    {
      "cell_type": "code",
      "source": [
        "# 초기 자금이 10000원\n",
        "# 49%의 확률로 100원을 따거나\n",
        "# 51%의 확률로 100원을 잃는 베르누이 분포를 가정\n",
        "# 도박사는 과연 얼마만에 파산할 것인가?(파산하지 않는 경우는 고려하지 않음)\n",
        "n = 10000\n",
        "p = 0.49\n",
        "r = []\n",
        "x = [-100, 100]\n",
        "\n",
        "while True:\n",
        "  i = bernoulli(p).rvs(1)[0]\n",
        "  n += x[i]\n",
        "  r.append(n)\n",
        "  if n < 0 : break"
      ],
      "metadata": {
        "id": "qXKGD6N4LMm-"
      },
      "execution_count": null,
      "outputs": []
    },
    {
      "cell_type": "code",
      "source": [
        "plt.plot(r)\n",
        "plt.show()"
      ],
      "metadata": {
        "colab": {
          "base_uri": "https://localhost:8080/",
          "height": 265
        },
        "id": "BaEsR7giNh1H",
        "outputId": "6943607a-c4de-4f1e-cdc3-4bf494c1079c"
      },
      "execution_count": null,
      "outputs": [
        {
          "output_type": "display_data",
          "data": {
            "image/png": "[encoded data removed]",
            "text/plain": [
              "<Figure size 432x288 with 1 Axes>"
            ]
          },
          "metadata": {
            "needs_background": "light"
          }
        }
      ]
    },
    {
      "cell_type": "markdown",
      "source": [
        "이 때, 도박사가 파산할 때까지의 게임의 횟수를 m이라고 한다면,\n",
        "- 이 때 m이 확률 변수가 된다.\n",
        "- 평균적으로 몇 회만에 파산하는지를 확인하고 싶다면\n",
        "- 충분히 시뮬레이션을 해보고 그 결과를 확인\n",
        "  - 수업시간에는 많이는 못 해보고 1000회만 해보자\n",
        "  - 1000회의 몬테카를로 시뮬레이션을 진행"
      ],
      "metadata": {
        "id": "AGlAaPw6OMNY"
      }
    },
    {
      "cell_type": "code",
      "source": [
        "p = 0.49\n",
        "m = []\n",
        "x = [-100, 100]\n",
        "for _ in range(1000):\n",
        "  n = 10000\n",
        "  cnt = 0\n",
        "  while True:\n",
        "    cnt += 1\n",
        "    i = bernoulli(p).rvs(1)[0]\n",
        "    n += x[i]\n",
        "    if n < 0 : break\n",
        "  m.append(cnt)"
      ],
      "metadata": {
        "id": "EmQHW8fnNm2w"
      },
      "execution_count": null,
      "outputs": []
    },
    {
      "cell_type": "markdown",
      "source": [
        "도박사가 파산하기 까지의 게임횟수에 대한 분포"
      ],
      "metadata": {
        "id": "1qpFZqvleuJv"
      }
    },
    {
      "cell_type": "code",
      "source": [
        "plt.plot(m)\n",
        "plt.show()"
      ],
      "metadata": {
        "colab": {
          "base_uri": "https://localhost:8080/",
          "height": 266
        },
        "id": "9Q9B7J1mPMOj",
        "outputId": "b2224a9d-46cd-4bd1-8dc1-68319e7c6222"
      },
      "execution_count": null,
      "outputs": [
        {
          "output_type": "display_data",
          "data": {
            "image/png": "[encoded data removed]",
            "text/plain": [
              "<Figure size 432x288 with 1 Axes>"
            ]
          },
          "metadata": {
            "needs_background": "light"
          }
        }
      ]
    },
    {
      "cell_type": "code",
      "source": [
        "sns.displot(m)\n",
        "plt.show()"
      ],
      "metadata": {
        "colab": {
          "base_uri": "https://localhost:8080/",
          "height": 369
        },
        "id": "Wk3e5eo6eboB",
        "outputId": "bfa6993f-27f4-45dd-b7a4-6b8c6e18a477"
      },
      "execution_count": null,
      "outputs": [
        {
          "output_type": "display_data",
          "data": {
            "image/png": "[encoded data removed]",
            "text/plain": [
              "<Figure size 360x360 with 1 Axes>"
            ]
          },
          "metadata": {
            "needs_background": "light"
          }
        }
      ]
    },
    {
      "cell_type": "markdown",
      "source": [
        "확률분호에서 평균과 분산을 확인"
      ],
      "metadata": {
        "id": "DvwF2ZIhe9TI"
      }
    },
    {
      "cell_type": "code",
      "source": [
        "print( np.mean(m) ) # 횟수의 평균\n",
        "print( np.var(m) ) # 분신\n",
        "print( np. std(m) ) # 표준편차"
      ],
      "metadata": {
        "colab": {
          "base_uri": "https://localhost:8080/"
        },
        "id": "jnXCuSAje2A6",
        "outputId": "fd30c927-cd01-462d-942f-fbcd1f9bda57"
      },
      "execution_count": null,
      "outputs": [
        {
          "output_type": "stream",
          "name": "stdout",
          "text": [
            "4852.654\n",
            "11572935.284284001\n",
            "3401.901715847182\n"
          ]
        }
      ]
    },
    {
      "cell_type": "code",
      "source": [
        ""
      ],
      "metadata": {
        "id": "UVXEaWSJfIHx"
      },
      "execution_count": null,
      "outputs": []
    }
  ]
}