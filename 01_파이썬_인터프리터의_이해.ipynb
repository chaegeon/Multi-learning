{
  "nbformat": 4,
  "nbformat_minor": 0,
  "metadata": {
    "colab": {
      "name": "파이썬 인터프리터의 이해.ipynb",
      "provenance": [],
      "collapsed_sections": [],
      "toc_visible": true,
      "authorship_tag": "ABX9TyN/r4oT+ahQ00KlxbIzXoGh",
      "include_colab_link": true
    },
    "kernelspec": {
      "name": "python3",
      "display_name": "Python 3"
    },
    "language_info": {
      "name": "python"
    }
  },
  "cells": [
    {
      "cell_type": "markdown",
      "metadata": {
        "id": "view-in-github",
        "colab_type": "text"
      },
      "source": [
        "<a href=\"https://colab.research.google.com/github/chaegeon/Multi-learning/blob/main/01_%ED%8C%8C%EC%9D%B4%EC%8D%AC_%EC%9D%B8%ED%84%B0%ED%94%84%EB%A6%AC%ED%84%B0%EC%9D%98_%EC%9D%B4%ED%95%B4.ipynb\" target=\"_parent\"><img src=\"https://colab.research.google.com/assets/colab-badge.svg\" alt=\"Open In Colab\"/></a>"
      ]
    },
    {
      "cell_type": "code",
      "execution_count": null,
      "metadata": {
        "id": "4KAVrjcuZsnW"
      },
      "outputs": [],
      "source": [
        ""
      ]
    },
    {
      "cell_type": "markdown",
      "metadata": {
        "id": "heWch_U54v1R"
      },
      "source": [
        "# 개발환경\n",
        "- IDE(Intergrated Development Environment)\n",
        "  - 통합개발환경\n",
        "  - 개발에 필요한 여러가지를 하나의 프로그램으로 다 사용할 수 있는 것\n",
        "  - 개발에 반드시 필요한 두 가지\n",
        "    - 인터프리터\n",
        "    - 에디터(텍스트 에디터), 메모장 같은거라고 보시면 됩니다. \n",
        "      - 한글이나 워드는 개발용으로는 사용할 수 없습니다. \n",
        "    - 그 외에 개발에 필요한 여러가지 유틸들\n",
        "\n",
        "- Jupyter(주피터)\n",
        "  - 지금 여러분이 보고 계시는 화면이 `주피터` 라는 개발 환경입니다. \n",
        "  - 주로, 인공지능 하시는 분들이 즐겨 사용하는 환경\n",
        "  - 파이썬 기초 시간에도 사용을 합니다. \n",
        "  - 일반적인 파이썬 개발환경과의 차이점\n",
        "    - 파일의 확장자가 `.py`가 아닌, `.ipynb`라는 확장자를 사용\n",
        "      - 이 두 파일은 호환되지 않습니다.\n",
        "    - 동작 방식도 다릅니다\n",
        "      - 일반적인 파이썬 개발환경은 파일에 있는 파이썬 명령어들을 일괄적으로 전부 실행 \n",
        "      - 주피터는 셀(블록) 단위로 실행\n",
        "      - 하나의 파일에서 명령어들을 각각의 독립된 형태로 구성해서 따로따로 실행할 수 있습니다. \n",
        "      - 명령어만 독립적으로 구성할 수 있습니다. "
      ]
    },
    {
      "cell_type": "code",
      "metadata": {
        "colab": {
          "base_uri": "https://localhost:8080/"
        },
        "id": "Zxu8Dx4x9Xl8",
        "outputId": "cff22712-b7b3-4598-c33c-db9798cde183"
      },
      "source": [
        "print('Hello, Pyt`hon')\n",
        "print('Hello, Python')\n",
        "print('Hello, Python')"
      ],
      "execution_count": null,
      "outputs": [
        {
          "output_type": "stream",
          "name": "stdout",
          "text": [
            "Hello, Python\n",
            "Hello, Python\n",
            "Hello, Python\n"
          ]
        }
      ]
    },
    {
      "cell_type": "markdown",
      "metadata": {
        "id": "ieoA2Pn3-bd8"
      },
      "source": [
        "## 셀의 실행 방법 2 가지\n",
        "1. 왼쪽 `화살표` 아이콘 클릭\n",
        "2. `ctrl + enter` 또는 `shift + enter`"
      ]
    },
    {
      "cell_type": "code",
      "metadata": {
        "colab": {
          "base_uri": "https://localhost:8080/"
        },
        "id": "6L_pAHes9axc",
        "outputId": "f8de492a-cda9-495e-a971-24cdac54ba82"
      },
      "source": [
        "print('Hello, Python')\n",
        "print('Hello, Python')\n",
        "print('Hello, Python')"
      ],
      "execution_count": null,
      "outputs": [
        {
          "output_type": "stream",
          "name": "stdout",
          "text": [
            "Hello, Python\n",
            "Hello, Python\n",
            "Hello, Python\n"
          ]
        }
      ]
    },
    {
      "cell_type": "code",
      "source": [
        ""
      ],
      "metadata": {
        "id": "AnpFPPUPaFwm"
      },
      "execution_count": null,
      "outputs": []
    },
    {
      "cell_type": "markdown",
      "metadata": {
        "id": "-Jpm_OxTCtSu"
      },
      "source": [
        "# 파이썬 인터프리터\n",
        "- 결국 기초 수업의 가장 큰 목표는 `인터프리터`가 어떻게 동작하는지? 를 익히는 과정\n",
        "  - 파이썬을 이해한다?\n",
        "    - 파이썬 인터프리터의 실행 과정을 이해하는 것과 동일\n",
        "  - 기초 과정을 처음 듣고, 전부 이해하는 것은 불가능 합니다.\n",
        "  - 하지만, 반드시 한 번은 꼭! 들어야 하는 것\n",
        "  - 인터프리터가 내가 입력한 명령어에 대해서 어떻게 해석하고, **어떤 결과를 돌려주는가?**를 이해하는 것이 가장 중요합니다. \n",
        "  - 명령어를 실행하고, 어떻게 값이 돌아오는지를 눈으로 확인\n",
        "\n",
        "- 언어의 실행에 따른 종류\n",
        "  1. 컴파일 언어\n",
        "    - C, C++, Java, ... \n",
        "    - 컴퓨터는 숫자만 입력받을 수 있습니다.\n",
        "      - 다른말로 바이너리(이진수)라고 합니다. \n",
        "      - 0과 1로 이루어진 값만 처리가 가능(기계어)\n",
        "      - 문자로 작성된 소스코드(파일)을 실행하기 위해서는 반드시 기계어로 바꿔줘야 합니다. \n",
        "      - 문자로 작성된 소스코드(파일)을 기계어로 바꾸는 작업을 일괄적으로 하면 컴파일(번역) 한다고 합니다. \n",
        "\n",
        "  2. 인터프리터 언어\n",
        "    - 파이썬, 자바스크립트, R, 루비, PHP, ... \n",
        "    - Line By LIne\n",
        "      - 소스코드(파일)을 읽어 들여서 명령어 마다 그때그때 기계어로 번역 해서 실행\n",
        "      - 그래서 컴파일 하는 과정이 없이 바로 실행이 가능 합니다. \n",
        "      - 이 과정을 인터프리터가 처리를 해줍니다. \n",
        "\n",
        "- REPL(Read, Evaluation, Print, Loop)\n",
        "  - 결국 인터프리터는 REPL 과정을 따라서 동작을 하게 됩니다. \n",
        "  - 컴파일(번역)과정이 없는것이 아니라 눈에 보이지 않을 뿐입니다. \n",
        "  - Read: 입력된 명령어를 읽고\n",
        "    - 이 과정에서 파이썬 인터프리터가 번역을 합니다 => 기계어\n",
        "    - 문자로 된 명령어를 => 숫자(기계어/binary)로 변환\n",
        "  - Evaluation: 명령어를 실행\n",
        "  - Print: 명령어를 실행한 결과를 **돌려줍니다**\n",
        "  - Loop: 이 과정을 계속 반복할 수 있습니다. \n",
        "\n",
        "- 모든 파이썬 명령어들은 인터프리터에 의해서 실행되는 것을 가정\n",
        "  - 파일에 전부 기록 => 일괄적으로 한 번에 실행\n",
        "  - 셀(블록) 단위로 나눠서 실행\n",
        "  - 파이썬 쉘에서 명령어 입력받아서 실행\n",
        "\n",
        "- 주피터는 일반적인 개발 환경과 인터프리터와 중간적인 환경을 제공\n",
        "  - 주피너틑 REPL로 동작하는 대표적인 개발도구 입니다. "
      ]
    },
    {
      "cell_type": "markdown",
      "metadata": {
        "id": "KHd5txwaGzcS"
      },
      "source": [
        "아래의 두 명령은 전혀 다른 명령어 입니다. "
      ]
    },
    {
      "cell_type": "code",
      "metadata": {
        "colab": {
          "base_uri": "https://localhost:8080/"
        },
        "id": "XFDmLb3EDWXo",
        "outputId": "70ae520f-ff75-44b9-a0bd-91a8a18f35fe"
      },
      "source": [
        "# 주피터는 일반적인 개발 환경과는 다르게 인터프리터의 동작 환경을 제공\n",
        "# print를 사용하지 않아도 결과를 확인할 수 있습니다. \n",
        "1 + 1"
      ],
      "execution_count": null,
      "outputs": [
        {
          "output_type": "execute_result",
          "data": {
            "text/plain": [
              "2"
            ]
          },
          "metadata": {},
          "execution_count": 22
        }
      ]
    },
    {
      "cell_type": "code",
      "metadata": {
        "colab": {
          "base_uri": "https://localhost:8080/"
        },
        "id": "rba5IAbOG2-6",
        "outputId": "e68103a6-e3d4-4f64-9875-47312f1b0c70"
      },
      "source": [
        "# 표준 출력 명령어 입니다.\n",
        "print( 1 + 1 )"
      ],
      "execution_count": null,
      "outputs": [
        {
          "output_type": "stream",
          "name": "stdout",
          "text": [
            "2\n"
          ]
        }
      ]
    },
    {
      "cell_type": "markdown",
      "metadata": {
        "id": "Nu7suFlaHq7R"
      },
      "source": [
        "주피터에서 결과를 확인하는 2가지 방법\n",
        "- 여러개의 명령어를 사용하는 경우 출력결과는 유지되지 않습니다. \n",
        "  - print\n",
        "  - display\n",
        "    - 주피터 에서만 사용이 가능 합니다. \n",
        "    - 다른 환경에서는 제공되지 않는 명령어"
      ]
    },
    {
      "cell_type": "code",
      "metadata": {
        "colab": {
          "base_uri": "https://localhost:8080/"
        },
        "id": "CLwpsZ-GH0oC",
        "outputId": "fb50f9a3-f8a3-44cf-83e9-42d4333c9a10"
      },
      "source": [
        "# 마지막 결과만 확인할 수 있습니다. \n",
        "# 출력이 되긴 하지만, 다음 출력 결과에 의해서 덮어진것\n",
        "# 그렇기 때문에, 마지막 결과만 남습니다. \n",
        "1 + 2\n",
        "2 + 3\n",
        "3 + 4"
      ],
      "execution_count": null,
      "outputs": [
        {
          "output_type": "execute_result",
          "data": {
            "text/plain": [
              "7"
            ]
          },
          "metadata": {},
          "execution_count": 25
        }
      ]
    },
    {
      "cell_type": "markdown",
      "metadata": {
        "id": "Tfv1EyWXIg_Q"
      },
      "source": [
        "print 또는 display를 사용하면 출력을 유지할 수 있습니다. "
      ]
    },
    {
      "cell_type": "code",
      "metadata": {
        "colab": {
          "base_uri": "https://localhost:8080/"
        },
        "id": "uthZyeEtH80I",
        "outputId": "8d6bb5e6-3bb5-4c49-8e8f-eb7a7c004220"
      },
      "source": [
        "print( 1 + 1 )\n",
        "print( 2 + 3 )\n",
        "print( 3 + 4 )"
      ],
      "execution_count": null,
      "outputs": [
        {
          "output_type": "stream",
          "name": "stdout",
          "text": [
            "2\n",
            "5\n",
            "7\n"
          ]
        }
      ]
    },
    {
      "cell_type": "code",
      "metadata": {
        "colab": {
          "base_uri": "https://localhost:8080/",
          "height": 73
        },
        "id": "wCxa3JGMIaUg",
        "outputId": "f829a3dc-6e92-4256-c108-8987cf9b24a2"
      },
      "source": [
        "display( 1 + 1 )\n",
        "display( 2 + 3 )\n",
        "display( 3 + 4 )"
      ],
      "execution_count": null,
      "outputs": [
        {
          "output_type": "display_data",
          "data": {
            "text/plain": [
              "2"
            ]
          },
          "metadata": {}
        },
        {
          "output_type": "display_data",
          "data": {
            "text/plain": [
              "5"
            ]
          },
          "metadata": {}
        },
        {
          "output_type": "display_data",
          "data": {
            "text/plain": [
              "7"
            ]
          },
          "metadata": {}
        }
      ]
    },
    {
      "cell_type": "markdown",
      "metadata": {
        "id": "tPCGurSHxP02"
      },
      "source": [
        "# 파이썬 시각화 도구\n",
        "- [파이썬튜터](https://pythontutor.com/)\n",
        "- 예린님 감사합니다!"
      ]
    },
    {
      "cell_type": "markdown",
      "metadata": {
        "id": "ZLY9vt4dIe7I"
      },
      "source": [
        "# 자료의 타입\n",
        "- 자료란 무엇인가? \n",
        "  - 프로그래밍(코딩)을 하는 대상을 `자료`라고 합니다. \n",
        "    - 파일(엑셀, 그림, 텍스트, ... ), 문자, 숫자,... \n",
        "    - 자료의 형태는 기본적으로 둘 중에 하나 입니다(문자, 숫자)\n",
        "      - 더 정확히 말하자면 `숫자` 하나이긴 하지만, ... \n",
        "      - 숫자를 RGB로 해석하면, 색정보, 문자 인코딩을 하면 문자, ... \n",
        "      - 결국, 컴퓨터에서 보여지는 모든 것들은 전부 숫자로 표현 가능\n",
        "\n",
        "- 파이썬의 타입은 여러가지가 있는데\n",
        "  - 기본 타입은 숫자( 정수, 실수 )\n",
        "  - 파이썬의 기본 타입은 자료를 구성하는 가장 기본적인 `최소 단위`가 됩니다. "
      ]
    },
    {
      "cell_type": "markdown",
      "metadata": {
        "id": "gFyJRNZ8LfHX"
      },
      "source": [
        "## 숫자\n",
        "- 정수(integer/int), 실수(float), 불리언(boolean/bool)\n",
        "  - 분수, 복소수도 표현이 가능하지만, 수업 시간엔 다루지 않겠습니다. \n",
        "  - 숫자 체계는 일반적인 숫자 체계와 거의 동일 합니다. \n",
        "  - 파이썬의 실수는 우리가 아는 그 실수는 아닙니다. \n",
        "    - 정확하게는 소수(decimal number)에 대한 표현 입니다. "
      ]
    },
    {
      "cell_type": "markdown",
      "metadata": {
        "id": "Qye667e-MDjH"
      },
      "source": [
        "### 정수(integer)\n",
        "- int로 표현\n",
        "- 음수, 0, 양수를 표현\n",
        "- 일반적인 다른 언어들도 정수 타입을 가지고 있습니다. \n",
        "  - 정수는 크기를 가지고 있습니다.(4byte)\n",
        "  - 파이썬은 정수를 표현하는데 있어서 크기가 제한되어 있지 않습니다. \n",
        "  - 아무리 큰 수라도 파이썬은 표현이 가능합니다. \n",
        "  - 다만, 표현만 가능하고, 속도는 굉장히 느려집니다. "
      ]
    },
    {
      "cell_type": "code",
      "metadata": {
        "colab": {
          "base_uri": "https://localhost:8080/"
        },
        "id": "CsbuOxqMPy0H",
        "outputId": "60ca5bbe-a364-42ce-e9cd-afe656c2ef06"
      },
      "source": [
        "99999999999999999999999999999999999999999999999999999999999999999999999999999999999999999999999999999999999999999999999999999999999"
      ],
      "execution_count": null,
      "outputs": [
        {
          "output_type": "execute_result",
          "data": {
            "text/plain": [
              "99999999999999999999999999999999999999999999999999999999999999999999999999999999999999999999999999999999999999999999999999999999999"
            ]
          },
          "metadata": {},
          "execution_count": 28
        }
      ]
    },
    {
      "cell_type": "markdown",
      "metadata": {
        "id": "zFiiYJn-P0ou"
      },
      "source": [
        "파이썬에서 타입의 확인은 type() 명령을 통해서 가능합니다. "
      ]
    },
    {
      "cell_type": "code",
      "metadata": {
        "colab": {
          "base_uri": "https://localhost:8080/"
        },
        "id": "0VflUPDNQBIw",
        "outputId": "511dfba7-9fdf-4d48-838d-d2e9b7c282e1"
      },
      "source": [
        "type(10)"
      ],
      "execution_count": null,
      "outputs": [
        {
          "output_type": "execute_result",
          "data": {
            "text/plain": [
              "int"
            ]
          },
          "metadata": {},
          "execution_count": 29
        }
      ]
    },
    {
      "cell_type": "code",
      "metadata": {
        "colab": {
          "base_uri": "https://localhost:8080/"
        },
        "id": "qffrlwIaQCJH",
        "outputId": "6f623e9d-7f4c-4426-c5f6-ea0d08bf069f"
      },
      "source": [
        "type(-10)"
      ],
      "execution_count": null,
      "outputs": [
        {
          "output_type": "execute_result",
          "data": {
            "text/plain": [
              "int"
            ]
          },
          "metadata": {},
          "execution_count": 30
        }
      ]
    },
    {
      "cell_type": "code",
      "metadata": {
        "colab": {
          "base_uri": "https://localhost:8080/"
        },
        "id": "DIiO6WSGQEPX",
        "outputId": "5546014e-1291-4e45-ca39-ef2e2e635877"
      },
      "source": [
        "type(0)"
      ],
      "execution_count": null,
      "outputs": [
        {
          "output_type": "execute_result",
          "data": {
            "text/plain": [
              "int"
            ]
          },
          "metadata": {},
          "execution_count": 31
        }
      ]
    },
    {
      "cell_type": "code",
      "metadata": {
        "colab": {
          "base_uri": "https://localhost:8080/"
        },
        "id": "7qb6HIR7QE63",
        "outputId": "ea431f08-8d25-401a-bc9c-796814bd6f2e"
      },
      "source": [
        "# 수학적으로는 -0은 정의되어 있지 않습니다만,\n",
        "# 파이썬은 -0에 대해서 오류를 내지 않고, 0으로 바꿔서 처리를 해줍니다. \n",
        "type(-0)"
      ],
      "execution_count": null,
      "outputs": [
        {
          "output_type": "execute_result",
          "data": {
            "text/plain": [
              "int"
            ]
          },
          "metadata": {},
          "execution_count": 33
        }
      ]
    },
    {
      "cell_type": "code",
      "metadata": {
        "colab": {
          "base_uri": "https://localhost:8080/"
        },
        "id": "KNMzvmhkQFsu",
        "outputId": "22e87926-238a-40ec-e566-2368e70e4f82"
      },
      "source": [
        "# -0은 존재할 수 없기 때문에, 파이썬은 0으로 해석할 뿐입니다. \n",
        "-0"
      ],
      "execution_count": null,
      "outputs": [
        {
          "output_type": "execute_result",
          "data": {
            "text/plain": [
              "0"
            ]
          },
          "metadata": {},
          "execution_count": 35
        }
      ]
    },
    {
      "cell_type": "markdown",
      "metadata": {
        "id": "cgfvIZ6GQRg4"
      },
      "source": [
        "### 실수(float)\n",
        "- 파이썬은 `float` 타입 하나만 제공\n",
        "  - 부동소수점 방식(부동은 아니 불에 움직일 동 이 아닙니다!)\n",
        "    - 움직이는 소수점 방식이라는 뜻입니다. \n",
        "    - float(floating), 부유한다, 떠다닌다는 의미\n",
        "    - 소수점의 위치가 고정되어 있지 않고, 바뀐다는 의미이고 \n",
        "    - 소수점이 앞에 위치하면, 수의 표현은 작아져도 정밀한 수의 표현\n",
        "    - 소수점이 뒤에 위치하면, 큰 수를 표현할 수 있지만, 정밀도는 낮아지게 됩니다.\n",
        "\n",
        "> 대부분의 언어는 실수형태를 정확히 처리할 수 없습니다. \n",
        "  - 항상 오차가 생겨요\n",
        "  - 아주아주 정밀한 자료를 다룬다고 해도 가장 근사된 값으로 표현\n",
        "  - 컴퓨터의 태생이 그렇습니다. "
      ]
    },
    {
      "cell_type": "code",
      "metadata": {
        "colab": {
          "base_uri": "https://localhost:8080/"
        },
        "id": "meuif2kwR7pX",
        "outputId": "fcc187b0-e755-4bfe-e0be-644a46396f24"
      },
      "source": [
        "type(10.12)"
      ],
      "execution_count": null,
      "outputs": [
        {
          "output_type": "execute_result",
          "data": {
            "text/plain": [
              "float"
            ]
          },
          "metadata": {},
          "execution_count": 36
        }
      ]
    },
    {
      "cell_type": "code",
      "metadata": {
        "colab": {
          "base_uri": "https://localhost:8080/"
        },
        "id": "NJ0E0QrqSXk1",
        "outputId": "dad70408-5b79-48dc-cd3a-f4f90ef8fd43"
      },
      "source": [
        "# 앞.뒤 에 0을 생략할 수 있습니다. \n",
        "type(10.)"
      ],
      "execution_count": null,
      "outputs": [
        {
          "output_type": "execute_result",
          "data": {
            "text/plain": [
              "float"
            ]
          },
          "metadata": {},
          "execution_count": 37
        }
      ]
    },
    {
      "cell_type": "code",
      "metadata": {
        "colab": {
          "base_uri": "https://localhost:8080/"
        },
        "id": "i4I-rDKESeiO",
        "outputId": "f621cd01-c729-4b56-f76b-8b8616feace0"
      },
      "source": [
        "type(.10)"
      ],
      "execution_count": null,
      "outputs": [
        {
          "output_type": "execute_result",
          "data": {
            "text/plain": [
              "float"
            ]
          },
          "metadata": {},
          "execution_count": 38
        }
      ]
    },
    {
      "cell_type": "code",
      "metadata": {
        "colab": {
          "base_uri": "https://localhost:8080/",
          "height": 138
        },
        "id": "UolagmU0SgPW",
        "outputId": "1617eae5-50cb-4872-c555-dd6722192af0"
      },
      "source": [
        "# 둘 다 생략하면 숫자 아닌게 되버리죠\n",
        "# 파이썬 인터프리터는 이렇게 애매한 경우 해석이 불가능 합니다. \n",
        "type(.)"
      ],
      "execution_count": null,
      "outputs": [
        {
          "output_type": "error",
          "ename": "SyntaxError",
          "evalue": "ignored",
          "traceback": [
            "\u001b[0;36m  File \u001b[0;32m\"<ipython-input-42-718d5d8150bd>\"\u001b[0;36m, line \u001b[0;32m3\u001b[0m\n\u001b[0;31m    type(.)\u001b[0m\n\u001b[0m         ^\u001b[0m\n\u001b[0;31mSyntaxError\u001b[0m\u001b[0;31m:\u001b[0m invalid syntax\n"
          ]
        }
      ]
    },
    {
      "cell_type": "markdown",
      "metadata": {
        "id": "O_tF9B_iSkmt"
      },
      "source": [
        "### 불리언(bool)\n",
        "- 참, 거짓을 표현하는 값(True, False)\n",
        "  - 숫자와 동일\n",
        "  - True는 1과 같은 숫자이고, False는 0과 같은 숫자 입니다. "
      ]
    },
    {
      "cell_type": "code",
      "metadata": {
        "colab": {
          "base_uri": "https://localhost:8080/"
        },
        "id": "tPAaUfUXTsnm",
        "outputId": "08b598b9-a6ea-4818-b851-280bf1230fec"
      },
      "source": [
        "type(True)"
      ],
      "execution_count": null,
      "outputs": [
        {
          "output_type": "execute_result",
          "data": {
            "text/plain": [
              "bool"
            ]
          },
          "metadata": {},
          "execution_count": 43
        }
      ]
    },
    {
      "cell_type": "code",
      "metadata": {
        "colab": {
          "base_uri": "https://localhost:8080/"
        },
        "id": "WhtXwF97T3Dl",
        "outputId": "b0ba47fc-f6fd-403b-ad2b-4ff738872f1e"
      },
      "source": [
        "# 그래서 이런것도 가능합니다. \n",
        "True + True + True "
      ],
      "execution_count": null,
      "outputs": [
        {
          "output_type": "execute_result",
          "data": {
            "text/plain": [
              "3"
            ]
          },
          "metadata": {},
          "execution_count": 44
        }
      ]
    },
    {
      "cell_type": "markdown",
      "metadata": {
        "id": "Ay_r_maJUk80"
      },
      "source": [
        "## 문자열\n",
        "- `문자`와 `문자열`은 구분되는 개념 입니다. \n",
        "  - 문자는 단일 문자를 의미, 단일 문자의 집합을 문자열 이라고 표현\n",
        "  - 파이썬은 문자와 문자열을 구분하지 않습니다. \n",
        "  - 파이썬은 단일 문자라는 개념이 없습니다. 그냥 다 문자열 입니다. \n",
        "\n",
        "- 파이썬에서의 문자열을 표현하는 방법은 3가지가 있습니다. \n",
        "  - '(작은 따옴표/single quotations)\n",
        "  - \"(큰 따옴표/double quotations)\n",
        "  - '''/\"\"\" (멀티라인 문자열)\n",
        "    - 멀티라인을 제외하고 작은 따옴표와 큰 따옴표의 차이는 없습니다. \n",
        "    - 맘에 드는거 쓰세요\n",
        "    - 다만, Opening Quotations와 Closing Quatations는 반드시 한 쌍으로 이루어져야 하고, 동일한 문자를 사용해야 합니다. "
      ]
    },
    {
      "cell_type": "code",
      "metadata": {
        "colab": {
          "base_uri": "https://localhost:8080/",
          "height": 54
        },
        "id": "kby88BdWVDG0",
        "outputId": "f34fe199-5839-4173-96e5-1945784552d0"
      },
      "source": [
        "# 기본적인 문자열의 표현\n",
        "print('hello python')\n",
        "display(\"hello python\")"
      ],
      "execution_count": null,
      "outputs": [
        {
          "output_type": "stream",
          "name": "stdout",
          "text": [
            "hello python\n"
          ]
        },
        {
          "output_type": "display_data",
          "data": {
            "application/vnd.google.colaboratory.intrinsic+json": {
              "type": "string"
            },
            "text/plain": [
              "'hello python'"
            ]
          },
          "metadata": {}
        }
      ]
    },
    {
      "cell_type": "markdown",
      "metadata": {
        "id": "vfNEwVyhVZo1"
      },
      "source": [
        "> 파이썬은 기본적으로 실행결과에 타입도 함께 명시해줍니다. \n",
        "  - print는 기본적으로 `문자열` 출력임을 가정\n",
        "  - display는 출력된 결과의 타입도 함께 표현"
      ]
    },
    {
      "cell_type": "code",
      "metadata": {
        "colab": {
          "base_uri": "https://localhost:8080/",
          "height": 54
        },
        "id": "5yrmjqvYVr0t",
        "outputId": "ecbf9ed6-d079-4079-d716-2b9c4484c6a4"
      },
      "source": [
        "# 이 2개의 자료는 명확히 구분 가능합니다. \n",
        "display(2)\n",
        "display('2')"
      ],
      "execution_count": null,
      "outputs": [
        {
          "output_type": "display_data",
          "data": {
            "text/plain": [
              "2"
            ]
          },
          "metadata": {}
        },
        {
          "output_type": "display_data",
          "data": {
            "application/vnd.google.colaboratory.intrinsic+json": {
              "type": "string"
            },
            "text/plain": [
              "'2'"
            ]
          },
          "metadata": {}
        }
      ]
    },
    {
      "cell_type": "code",
      "metadata": {
        "colab": {
          "base_uri": "https://localhost:8080/"
        },
        "id": "soHN9JIiWDuV",
        "outputId": "ea2b7a9a-6687-4fd9-b748-ed36794f4b5c"
      },
      "source": [
        "# print는 구분이 안됩니다. \n",
        "# 무조건 문자열 형태의 출력을 가정\n",
        "print(2)\n",
        "print('2')"
      ],
      "execution_count": null,
      "outputs": [
        {
          "output_type": "stream",
          "name": "stdout",
          "text": [
            "2\n",
            "2\n"
          ]
        }
      ]
    },
    {
      "cell_type": "markdown",
      "metadata": {
        "id": "1Fu2PyyFW5eX"
      },
      "source": [
        "여는 따옴표와 닫는 따옴표가 다른 경우"
      ]
    },
    {
      "cell_type": "code",
      "metadata": {
        "colab": {
          "base_uri": "https://localhost:8080/",
          "height": 138
        },
        "id": "FDM3_40RWNYM",
        "outputId": "d8a12c6d-f44c-4fcd-abd3-a8573f97972d"
      },
      "source": [
        "# 반드시 한 쌍으로 이루어져야 합니다. \n",
        "'이렇게 열어놓고 닫아주지 않으면?"
      ],
      "execution_count": null,
      "outputs": [
        {
          "output_type": "error",
          "ename": "SyntaxError",
          "evalue": "ignored",
          "traceback": [
            "\u001b[0;36m  File \u001b[0;32m\"<ipython-input-55-ba2ab7622637>\"\u001b[0;36m, line \u001b[0;32m2\u001b[0m\n\u001b[0;31m    '이렇게 열어놓고 닫아주지 않으면?\u001b[0m\n\u001b[0m                       ^\u001b[0m\n\u001b[0;31mSyntaxError\u001b[0m\u001b[0;31m:\u001b[0m EOL while scanning string literal\n"
          ]
        }
      ]
    },
    {
      "cell_type": "code",
      "metadata": {
        "colab": {
          "base_uri": "https://localhost:8080/",
          "height": 138
        },
        "id": "Yc9lxoFXXLml",
        "outputId": "248b798b-f8b3-47f5-a23c-d1fd3ae0e23d"
      },
      "source": [
        "# 여는 따옴표와 다는 따옴표가 다른 경우에도 인터프리터는 확인할 수 없습니다. \n",
        "'이렇게 열어놓고 이렇게 닫는다고?\""
      ],
      "execution_count": null,
      "outputs": [
        {
          "output_type": "error",
          "ename": "SyntaxError",
          "evalue": "ignored",
          "traceback": [
            "\u001b[0;36m  File \u001b[0;32m\"<ipython-input-54-2e54af7cb202>\"\u001b[0;36m, line \u001b[0;32m2\u001b[0m\n\u001b[0;31m    '이렇게 열어놓고 이렇게 닫는다고?\"\u001b[0m\n\u001b[0m                        ^\u001b[0m\n\u001b[0;31mSyntaxError\u001b[0m\u001b[0;31m:\u001b[0m EOL while scanning string literal\n"
          ]
        }
      ]
    },
    {
      "cell_type": "markdown",
      "metadata": {
        "id": "QHnhgM4ZYDKa"
      },
      "source": [
        "`EOL`은 `End Of LIne`의 약자 입니다. \n",
        "  - 라인의 끝을 알 수 없다는 뜻입니다. "
      ]
    },
    {
      "cell_type": "markdown",
      "metadata": {
        "id": "vd24lxdId2bM"
      },
      "source": [
        "파이썬은 한 줄에 하나의 명령어 또는 하나의 문자열이 원칙입니다. \n",
        "- 한 줄에 여러개의 명령어를 나눠서 사용할 수 없고\n",
        "- 한 명령어를 여러줄에 나눠서 사용할 수 없습니다. "
      ]
    },
    {
      "cell_type": "code",
      "metadata": {
        "colab": {
          "base_uri": "https://localhost:8080/",
          "height": 138
        },
        "id": "vUnQtmFzXVed",
        "outputId": "015d3cab-90c7-43ef-9082-ffa2176156b2"
      },
      "source": [
        "'hello\n",
        "python'"
      ],
      "execution_count": null,
      "outputs": [
        {
          "output_type": "error",
          "ename": "SyntaxError",
          "evalue": "ignored",
          "traceback": [
            "\u001b[0;36m  File \u001b[0;32m\"<ipython-input-56-b896b2c22d53>\"\u001b[0;36m, line \u001b[0;32m1\u001b[0m\n\u001b[0;31m    'hello\u001b[0m\n\u001b[0m          ^\u001b[0m\n\u001b[0;31mSyntaxError\u001b[0m\u001b[0;31m:\u001b[0m EOL while scanning string literal\n"
          ]
        }
      ]
    },
    {
      "cell_type": "code",
      "metadata": {
        "colab": {
          "base_uri": "https://localhost:8080/",
          "height": 138
        },
        "id": "dNSaeL0zeCRW",
        "outputId": "c27308c7-8d2d-46da-a8ff-2e8c18a7af0e"
      },
      "source": [
        "print('hello') print('python')"
      ],
      "execution_count": null,
      "outputs": [
        {
          "output_type": "error",
          "ename": "SyntaxError",
          "evalue": "ignored",
          "traceback": [
            "\u001b[0;36m  File \u001b[0;32m\"<ipython-input-57-051011d0bc42>\"\u001b[0;36m, line \u001b[0;32m1\u001b[0m\n\u001b[0;31m    print('hello') print('python')\u001b[0m\n\u001b[0m                       ^\u001b[0m\n\u001b[0;31mSyntaxError\u001b[0m\u001b[0;31m:\u001b[0m invalid syntax\n"
          ]
        }
      ]
    },
    {
      "cell_type": "markdown",
      "metadata": {
        "id": "3eTs7HvmeHwS"
      },
      "source": [
        "해결할 수 있는 몇가지 방법\n",
        "- 다음 라인으로 넘어가는 경우 => 역슬래시(\\)를 붙여 줍니다. \n",
        "  - 역슬래시 => 키보드에서 백스페이스 근처(왼쪽 혹은 아래쪽)\n",
        "  - 한글 키보드인 경우 `원화`로 표현\n",
        "- 파이썬은 멀티라인 문자열을 지원합니다. \n",
        "  - 문자열인 경우에만 사용이 가능합니다. "
      ]
    },
    {
      "cell_type": "code",
      "metadata": {
        "colab": {
          "base_uri": "https://localhost:8080/",
          "height": 36
        },
        "id": "2NVnxuK1fDia",
        "outputId": "544fb6a1-10cc-43d3-88d8-e3354009504e"
      },
      "source": [
        "# 멀티라인은 싱글 또는 더블 상관없이 연속으로 3개 사용하면 됩니다. \n",
        "'''Hello\n",
        "Python'''"
      ],
      "execution_count": null,
      "outputs": [
        {
          "output_type": "execute_result",
          "data": {
            "application/vnd.google.colaboratory.intrinsic+json": {
              "type": "string"
            },
            "text/plain": [
              "'Hello\\nPython'"
            ]
          },
          "metadata": {},
          "execution_count": 58
        }
      ]
    },
    {
      "cell_type": "code",
      "metadata": {
        "colab": {
          "base_uri": "https://localhost:8080/",
          "height": 36
        },
        "id": "W7lzJsrhfMaE",
        "outputId": "6a7d0fd4-2623-48f8-8154-2c384584a682"
      },
      "source": [
        "\"\"\"Hello\n",
        "Python\"\"\""
      ],
      "execution_count": null,
      "outputs": [
        {
          "output_type": "execute_result",
          "data": {
            "application/vnd.google.colaboratory.intrinsic+json": {
              "type": "string"
            },
            "text/plain": [
              "'Hello\\nPython'"
            ]
          },
          "metadata": {},
          "execution_count": 59
        }
      ]
    },
    {
      "cell_type": "code",
      "metadata": {
        "colab": {
          "base_uri": "https://localhost:8080/",
          "height": 36
        },
        "id": "uw9KQ2V6fPcq",
        "outputId": "345b51e1-ac71-4e5b-fcc3-63ea96ad8cea"
      },
      "source": [
        "'Hello \\\n",
        "Python'"
      ],
      "execution_count": null,
      "outputs": [
        {
          "output_type": "execute_result",
          "data": {
            "application/vnd.google.colaboratory.intrinsic+json": {
              "type": "string"
            },
            "text/plain": [
              "'Hello Python'"
            ]
          },
          "metadata": {},
          "execution_count": 60
        }
      ]
    },
    {
      "cell_type": "markdown",
      "metadata": {
        "id": "mv1G_nkRfX-C"
      },
      "source": [
        "여러개의 명령어를 한 줄에 사용하고 싶은 경우 \n",
        "- 세미콜론(;)"
      ]
    },
    {
      "cell_type": "code",
      "metadata": {
        "colab": {
          "base_uri": "https://localhost:8080/"
        },
        "id": "8dh-6VpQfqx7",
        "outputId": "9a20a70a-7283-46a7-dc32-7f146201f1c1"
      },
      "source": [
        "print('Hello') ; print('Python')"
      ],
      "execution_count": null,
      "outputs": [
        {
          "output_type": "stream",
          "name": "stdout",
          "text": [
            "Hello\n",
            "Python\n"
          ]
        }
      ]
    },
    {
      "cell_type": "markdown",
      "metadata": {
        "id": "5X3fy5CMftLT"
      },
      "source": [
        "### 문자열을 처리하는 방법\n",
        "- 기본적으로 컴퓨터는 숫자만 처리할 수 있습니다.\n",
        "  - 숫자로 표현할 수 없거나, 숫자가 아닌 데이터는 처리 불가능 합니다. \n",
        "  - 컴퓨터는 문자, 그림, 영상 등 전부 인식할 수 없습니다(태생이 그래요)\n",
        "  - 정확하게는 이진수/binary(0,1)로만 처리가 가능\n",
        "  - 심지어 뺄셈도 불가능 합니다. \n",
        "    - 덧셈만 가능해요(2의 보수를 통한 뺄셈을 구현)\n",
        "\n",
        "- 그래서, 문자를 다루거나 저장을 하려면, 숫자가 아니면 안되는데... \n",
        "  - 각 문자에 해당하는 `유일한 숫자`를 정의 합니다. \n",
        "  - 영문 대/소문자, 숫자, 특수문자 대응하는 유일한 숫자 테이블\n",
        "  - 아스키 코드라고 부릅니다. \n",
        "    - 표준 입니다. 어떤 시스템이든 동일한 숫자를 이용합니다. \n",
        "\n",
        "![](https://3.bp.blogspot.com/-aw0f_TovMoU/WNxD0O5hTjI/AAAAAAAAQGU/33SBPQ-jLo4pMk0jv42YsjinfBlG4JbdgCLcB/s640/%25EC%2595%2584%25EC%258A%25A4%25ED%2582%25A4%25EC%25BD%2594%25EB%2593%259C%25ED%2591%259C_01.jpg)\n",
        "\n",
        "![](https://1.bp.blogspot.com/-NINVWqe17ug/WNxD0PQ-vnI/AAAAAAAAQGQ/13iKgvNkaocCGwqlV9BLbZf06oOVYIsWwCLcB/s640/%25EC%2595%2584%25EC%258A%25A4%25ED%2582%25A4%25EC%25BD%2594%25EB%2593%259C%25ED%2591%259C_02.jpg)\n",
        "\n",
        "- 아스키 코드는 0부터 127까지 전부 128개의 문자에 대해서 대응되는 숫자 테이블을 의미 합니다. \n",
        "  - 모든 시스템이 동일한 값을 사용을 합니다.\n",
        "  - 화성에서 감자 키우는 영화 마션에서도 아스키 코드를 이용한 통신 장면이 나옵니다. \n",
        "    - 화성에 조난당한 맷데이먼이 감자 키우다가 도저히 안되겠으니 지구와 통신을 시도 하는데 아스키 코드를 이용한 통신을 합니다. \n",
        "\n",
        "- 왜 1바이트는 8비트가 되었을까?\n",
        "  - bit: 컴퓨터가 정보를 처리하는 최소 단위\n",
        "    - 한 개의 비트는 0 또는 1을 표현\n",
        "    - 8비트는 2^8개 만큼의 수를 표현(256개의 숫자를 표현)\n",
        "\n",
        "  - MSB(Most Signature Bit/최상위부호비트)\n",
        "    - MSB를 제외한 7개의 비트로 표현을 하면 2^7개 만큼 표현이 가능하고\n",
        "    - 2^7 => 128개의 숫자를 표현할 수 있습니다. \n",
        "    - 즉, 자신들이 사용하는 문자 체계에서 모든 숫자를 다 만드는데 7개의 비트면 충분했고, 부호까지 포함해도 8개의 비트면 모두 다 표현이 가능\n",
        "    - 그래서 8비트는 1바이트가 되었다는 슬픈 전설이...\n",
        "\n",
        "- 영어권 국가들은 전혀 문제가 되지 않습니다. \n",
        "  - 아시아권 국가들은 문제가 많죠(한국, 일본, 중국, ... )\n",
        "  - 1바이트로는 절대 문자를 전부 표현할 수가 없죠\n",
        "  - 그래서 아주 오래된 언어들을 제외하면 거의 대부분의 언어들은 문자를 표현하는 최소 크기를 2바이트를 사용합니다. \n",
        "  - 파이썬도 문자 하나를 표현하는데 2바이트를 사용합니다. \n",
        "  - 심지어 파이썬은 한글 변수도 사용할 수 있어요\n",
        "\n",
        "- 한글은 어떻게 숫자로 표현하지?\n",
        "  - 아스키 테이블을 사용할 수 없어요\n",
        "  - 한글을 표현할 수 있는 새로운 문자 인코딩 셋을 만들어요\n",
        "  - 문자 => 숫자(인코딩), 숫자 => 문자(디코딩)\n",
        "  - 한글을 표현할 수 있는 인코딩 셋\n",
        "    - UTF-8, CP949, EUC-KR\n",
        "    - 파이썬은 기본 UTF-8을 기본 인코딩 셋으로 사용합니다. \n",
        "    - 한글 윈도우즈 같은 경우 기본 EUC-KR을 사용하는 경우가 많아요\n",
        "\n"
      ]
    },
    {
      "cell_type": "markdown",
      "metadata": {
        "id": "0CTgCKCikHDQ"
      },
      "source": [
        "### 눈에 보이는 것이 전부는 아닙니다\n",
        "- 키보드로부터 입력할 수 있는 모든 키는 전부 문자로 표현이 가능\n",
        "  - 즉, 엔터도 문자입니다\n",
        "- 기본적으로 엔터는 두 개의 문자로 표현을 합니다. \n",
        "  - CR(Carriage Return/해당 라인의 가장 앞으로 이동)\n",
        "  - LF(Line Feed/종이를 말아 올리는 작업)\n",
        "    - 타자기에서 사용하던 용어를 그대로 엔터의 값으로 사용\n",
        "    - 그런데 요즘은 `LF` 하나로만 표현하는게 추세\n",
        "    - 에디터의 설정이나 운영체제에 따라서 달라집니다. \n",
        "    - 윈도우즈는 CR/LF의 두 문자를 모두 사용하는 것이 일반적\n",
        "    - 맥/리눅스는 LF 한 문자로 표현\n",
        "\n",
        "- 빈 문자와 공백은 다른 문자 입니다. \n",
        "  - 공백도 문자입니다.\n",
        "    - 공백을 쓴다라고 표현하지 않고, 띄어쓰기라고 표현\n",
        "    - 공백은 그냥 문자와 문자 사이의 공백 정도로 생각, 문자라고 인식하지는 않는데, 공백도 문자 입니다. \n",
        "    - 원고지 생각해보세요, 공백도 한 문자로 취급\n",
        "  - 빈(empty) 문자도 문자에요\n",
        "    - 빈 문자와 공백은 엄연히 다른 문자입니다.\n",
        "\n",
        "- 코린이 여러분들 코드 작성시 주의사항!\n",
        "  - 파이썬 인터프리터는 코드의 띄어쓰기, 대/소문자 엄격하게 구분합니다.\n",
        "  - 코드를 작성할 때, 공백과 대/소문자 주의해서 작성을 할 수 있도록 해주세요!"
      ]
    },
    {
      "cell_type": "code",
      "metadata": {
        "colab": {
          "base_uri": "https://localhost:8080/",
          "height": 36
        },
        "id": "Nnw2YPjsw4dm",
        "outputId": "2ac4b354-f2c2-45f7-9d43-e6600586ca9f"
      },
      "source": [
        "# 빈문자의 표현은 다음과 같습니다. \n",
        "''"
      ],
      "execution_count": null,
      "outputs": [
        {
          "output_type": "execute_result",
          "data": {
            "application/vnd.google.colaboratory.intrinsic+json": {
              "type": "string"
            },
            "text/plain": [
              "''"
            ]
          },
          "metadata": {},
          "execution_count": 62
        }
      ]
    },
    {
      "cell_type": "code",
      "metadata": {
        "colab": {
          "base_uri": "https://localhost:8080/",
          "height": 36
        },
        "id": "KApnJfu4xlMV",
        "outputId": "b76387d3-e8da-4666-bb18-12d6358497a1"
      },
      "source": [
        "# 공백도 문자 입니다. \n",
        "' '"
      ],
      "execution_count": null,
      "outputs": [
        {
          "output_type": "execute_result",
          "data": {
            "application/vnd.google.colaboratory.intrinsic+json": {
              "type": "string"
            },
            "text/plain": [
              "' '"
            ]
          },
          "metadata": {},
          "execution_count": 63
        }
      ]
    },
    {
      "cell_type": "code",
      "metadata": {
        "colab": {
          "base_uri": "https://localhost:8080/"
        },
        "id": "C4ypczjBxnd9",
        "outputId": "7bdeeafe-680e-47ce-c96a-8aed4f13628b"
      },
      "source": [
        "# 빈 문자와 공백은 엄연히 다른 문자 입니다. \n",
        "'' == ' '"
      ],
      "execution_count": null,
      "outputs": [
        {
          "output_type": "execute_result",
          "data": {
            "text/plain": [
              "False"
            ]
          },
          "metadata": {},
          "execution_count": 64
        }
      ]
    },
    {
      "cell_type": "markdown",
      "metadata": {
        "id": "phcOkR1hyixt"
      },
      "source": [
        "> 아스키 코드값이 다르면, 다른 문자 입니다\n",
        "  - 다른 문자 처럼 보이지만, 같은 아스키 코드 값을 가지면, 같은 문자 입니다. \n",
        "    - 역슬래시와 원화 문자는 다르게 보이지만 같은 아스키 코드값을 가집니다. \n",
        "    - 원화라 쓰고, 역슬래시라고 읽습니다. \n",
        "  - 같은 한글이라고 하더라도 인코딩 셋이 다르면 다른 문자에요\n",
        "  \n",
        "  - 예외없이 모든 문자를 전부 정확하게 구분할 수 있습니다. "
      ]
    },
    {
      "cell_type": "code",
      "metadata": {
        "colab": {
          "base_uri": "https://localhost:8080/"
        },
        "id": "D6b8VOsOyeK9",
        "outputId": "ebf4474e-53e4-487b-8d32-0071c456eea6"
      },
      "source": [
        "# 대/소문자 엄격하게 구분합니다.\n",
        "print( 'a' == 'A' )\n",
        "print( 'apple' == 'Apple' )"
      ],
      "execution_count": null,
      "outputs": [
        {
          "output_type": "stream",
          "name": "stdout",
          "text": [
            "False\n",
            "False\n"
          ]
        }
      ]
    },
    {
      "cell_type": "markdown",
      "metadata": {
        "id": "hBXFaLt4zBK0"
      },
      "source": [
        "숫자와 문자는 다릅니다."
      ]
    },
    {
      "cell_type": "code",
      "metadata": {
        "id": "0GVIYL650p7m",
        "colab": {
          "base_uri": "https://localhost:8080/"
        },
        "outputId": "47c37397-9e2a-4595-a5a0-40b1c8f17b92"
      },
      "source": [
        "# 숫자는 문자가 아니기 때문에 대/소를 구분하지 않습니다. \n",
        "print( 10 == 0x0a )\n",
        "print( 0x0a == 0x0A )"
      ],
      "execution_count": null,
      "outputs": [
        {
          "output_type": "stream",
          "name": "stdout",
          "text": [
            "True\n",
            "True\n"
          ]
        }
      ]
    },
    {
      "cell_type": "markdown",
      "metadata": {
        "id": "PLFB0WAqUXTP"
      },
      "source": [
        "숫자 뿐만이 아니라 문자도 대소 비교가 가능\n",
        "- 문자인데 큰게 있어?\n",
        "- 아스키 코드 값으로 비교 합니다. "
      ]
    },
    {
      "cell_type": "code",
      "metadata": {
        "colab": {
          "base_uri": "https://localhost:8080/"
        },
        "id": "Y9Ut8cedTtw_",
        "outputId": "f0da9f2a-fe23-4031-bc03-2542d3b9dfb3"
      },
      "source": [
        "'a' > 'A'"
      ],
      "execution_count": null,
      "outputs": [
        {
          "output_type": "execute_result",
          "data": {
            "text/plain": [
              "True"
            ]
          },
          "metadata": {},
          "execution_count": 6
        }
      ]
    },
    {
      "cell_type": "markdown",
      "metadata": {
        "id": "-uoUoz7TUthM"
      },
      "source": [
        "문자열 내에서는 숫자를 표현할 수 없습니다. \n",
        "- 숫자 10은 16진수로 0x0a 즉, LF를 나타내는 숫자 입니다. "
      ]
    },
    {
      "cell_type": "code",
      "metadata": {
        "colab": {
          "base_uri": "https://localhost:8080/",
          "height": 35
        },
        "id": "vPnoNFOWUope",
        "outputId": "da8f65f5-3eb3-4156-9d31-2ae9b6e1b109"
      },
      "source": [
        "'hello 97 python'"
      ],
      "execution_count": null,
      "outputs": [
        {
          "output_type": "execute_result",
          "data": {
            "application/vnd.google.colaboratory.intrinsic+json": {
              "type": "string"
            },
            "text/plain": [
              "'hello 97 python'"
            ]
          },
          "metadata": {},
          "execution_count": 8
        }
      ]
    },
    {
      "cell_type": "markdown",
      "metadata": {
        "id": "bM_ugwHZVKLV"
      },
      "source": [
        "파이썬 문자열 에서는 숫자 입력을 할 수 있는 방법이 있습니다. \n",
        "- 16진수를 이용하면 표현이 가능합니다. \n",
        "- 0x61 => \\x61"
      ]
    },
    {
      "cell_type": "code",
      "metadata": {
        "colab": {
          "base_uri": "https://localhost:8080/",
          "height": 35
        },
        "id": "95HPVRRwUxya",
        "outputId": "29514e3a-6c8d-43d3-a2fd-1486a2c51332"
      },
      "source": [
        "'Hello \\x61 Python'"
      ],
      "execution_count": null,
      "outputs": [
        {
          "output_type": "execute_result",
          "data": {
            "application/vnd.google.colaboratory.intrinsic+json": {
              "type": "string"
            },
            "text/plain": [
              "'Hello a Python'"
            ]
          },
          "metadata": {},
          "execution_count": 9
        }
      ]
    },
    {
      "cell_type": "code",
      "metadata": {
        "colab": {
          "base_uri": "https://localhost:8080/",
          "height": 35
        },
        "id": "B22ZpfcSVZaX",
        "outputId": "e0e8a831-626f-4ba5-8cab-ea95c80f8cdf"
      },
      "source": [
        "'\\x68 \\x65 \\x6c \\x6c \\x6f'"
      ],
      "execution_count": null,
      "outputs": [
        {
          "output_type": "execute_result",
          "data": {
            "application/vnd.google.colaboratory.intrinsic+json": {
              "type": "string"
            },
            "text/plain": [
              "'h e l l o'"
            ]
          },
          "metadata": {},
          "execution_count": 10
        }
      ]
    },
    {
      "cell_type": "markdown",
      "metadata": {
        "id": "8PhjhIMbVyNr"
      },
      "source": [
        "### 문자열 이스케이프\n",
        "- 문자를 사용할 때, 충돌이 발생합니다. \n",
        "  - 파이썬 인터프리터는 용도가 이미 정해진 문자들이 있습니다. \n",
        "  - 대표적으로 ', \" 과 같은 문자들이 그렇습니다.\n",
        "    - 문자열의 시작과 끝을 나타내는 용도로 사용\n",
        "- 반대인 경우도 있습니다. \n",
        "  - 아무런 의미가 없는 문자인데, 특별한 의미를 부여하는 경우도 있습니다. \n",
        "  - LF(0x0a, \\n)가 그렇습니다. "
      ]
    },
    {
      "cell_type": "markdown",
      "metadata": {
        "id": "5oPc27kGXAUE"
      },
      "source": [
        "따옴표를 출력하고 싶은데 ... "
      ]
    },
    {
      "cell_type": "code",
      "metadata": {
        "colab": {
          "base_uri": "https://localhost:8080/",
          "height": 131
        },
        "id": "RWBmzMIOW9l2",
        "outputId": "b1883539-8fa0-4568-b622-544c530e5c81"
      },
      "source": [
        "# 파이썬 인터프리터는 이런 경우 해석할 수 없습니다. \n",
        "print( ''따옴표를 출력하고 싶어요'' )"
      ],
      "execution_count": null,
      "outputs": [
        {
          "output_type": "error",
          "ename": "SyntaxError",
          "evalue": "ignored",
          "traceback": [
            "\u001b[0;36m  File \u001b[0;32m\"<ipython-input-11-a766e1b5a635>\"\u001b[0;36m, line \u001b[0;32m2\u001b[0m\n\u001b[0;31m    print( ''따옴표를 출력하고 싶어요'' )\u001b[0m\n\u001b[0m                ^\u001b[0m\n\u001b[0;31mSyntaxError\u001b[0m\u001b[0;31m:\u001b[0m invalid syntax\n"
          ]
        }
      ]
    },
    {
      "cell_type": "markdown",
      "metadata": {
        "id": "VNbMu-D9XYxZ"
      },
      "source": [
        "1. 출력하려는 따옴표와 문자열을 표현하는 따옴표를 다르게 사용\n",
        "  - 따옴표인 경우에만 사용 가능한 방법으로 \n",
        "  - 문자열 내에서 모든 문자를 전부 이런식으로 표현할 수 는 없습니다. "
      ]
    },
    {
      "cell_type": "code",
      "metadata": {
        "colab": {
          "base_uri": "https://localhost:8080/"
        },
        "id": "GaAtb2DwXKVc",
        "outputId": "f0fdf645-ce70-481c-ea7e-5eadafe51425"
      },
      "source": [
        "# 작은 따옴표를 출력하고 싶다면, 문자열을 큰 따옴표로 표현\n",
        "print(\"'따옴표를 출력하고 싶어요'\")"
      ],
      "execution_count": null,
      "outputs": [
        {
          "output_type": "stream",
          "name": "stdout",
          "text": [
            "'따옴표를 출력하고 싶어요'\n"
          ]
        }
      ]
    },
    {
      "cell_type": "code",
      "metadata": {
        "colab": {
          "base_uri": "https://localhost:8080/",
          "height": 52
        },
        "id": "W9WdhgMpXnkN",
        "outputId": "e1680d64-9e72-4e0b-f162-108528f5bc96"
      },
      "source": [
        "# 반대로, 큰 따옴표를 출력하고 싶다면, 문자열을 작은 따옴표로 표현\n",
        "print('\"이번엔 큰 따옴표가 출력되게 하고 싶어요\"')\n",
        "display('\"이번엔 큰 따옴표가 출력되게 하고 싶어요\"')"
      ],
      "execution_count": null,
      "outputs": [
        {
          "output_type": "stream",
          "name": "stdout",
          "text": [
            "\"이번엔 큰 따옴표가 출력되게 하고 싶어요\"\n"
          ]
        },
        {
          "output_type": "display_data",
          "data": {
            "application/vnd.google.colaboratory.intrinsic+json": {
              "type": "string"
            },
            "text/plain": [
              "'\"이번엔 큰 따옴표가 출력되게 하고 싶어요\"'"
            ]
          },
          "metadata": {}
        }
      ]
    },
    {
      "cell_type": "markdown",
      "metadata": {
        "id": "S8PE30TUXx29"
      },
      "source": [
        "2. 탈출하고자 하는 문자 앞에 '\\\\'를 붙여줍니다. \n",
        "  - 탈출 이라는 뜻은 원래 의미를 벗어난다는 의미로 해석"
      ]
    },
    {
      "cell_type": "code",
      "metadata": {
        "colab": {
          "base_uri": "https://localhost:8080/"
        },
        "id": "uLYnrwM5YmDO",
        "outputId": "b8b3ce4b-58e7-4adb-fcac-07eb78d9572d"
      },
      "source": [
        "# 이번엔 같은 따옴표를 사용해서 출력\n",
        "print('\\'작은 따옴표가 출력이 될 것인가?\\'')"
      ],
      "execution_count": null,
      "outputs": [
        {
          "output_type": "stream",
          "name": "stdout",
          "text": [
            "'작은 따옴표가 출력이 될 것인가?'\n"
          ]
        }
      ]
    },
    {
      "cell_type": "code",
      "metadata": {
        "colab": {
          "base_uri": "https://localhost:8080/",
          "height": 52
        },
        "id": "C1nvLTqVYzBs",
        "outputId": "7eefb567-2952-44a5-9abc-d1f031d19a41"
      },
      "source": [
        "# 큰 따옴표인 경우에도 마찬가지 입니다. \n",
        "print(\"\\\"큰 따옴표를 출력하고 싶은데....\\\"\")\n",
        "display(\"\\\"큰 따옴표를 출력하고 싶은데....\\\"\")"
      ],
      "execution_count": null,
      "outputs": [
        {
          "output_type": "stream",
          "name": "stdout",
          "text": [
            "\"큰 따옴표를 출력하고 싶은데....\"\n"
          ]
        },
        {
          "output_type": "display_data",
          "data": {
            "application/vnd.google.colaboratory.intrinsic+json": {
              "type": "string"
            },
            "text/plain": [
              "'\"큰 따옴표를 출력하고 싶은데....\"'"
            ]
          },
          "metadata": {}
        }
      ]
    },
    {
      "cell_type": "markdown",
      "metadata": {
        "id": "KpAdMWKiY8KN"
      },
      "source": [
        "경로를 표현하는 경우\n",
        "- 특히, 윈도우즈에서 경로를 표현할 때, 폴더와 폴더의 구분자로 역슬래시를 사용하게 됩니다.\n",
        "- 경로란? \n",
        "  - 디스크 상에서 파일(폴더)의 위치를 문자열로 표현\n",
        "- 역슬래시도 마찬가지로 역슬래시로 탈출할 수 있습니다"
      ]
    },
    {
      "cell_type": "code",
      "metadata": {
        "colab": {
          "base_uri": "https://localhost:8080/"
        },
        "id": "dOP0WxRdZM_0",
        "outputId": "fdd4960f-bcaf-4b61-e4cc-dafba816550c"
      },
      "source": [
        "# C:\\Users\\student\\Videos\\Captures\n",
        "print('C:\\\\Users\\\\student\\\\Videos\\\\Captures')"
      ],
      "execution_count": null,
      "outputs": [
        {
          "output_type": "stream",
          "name": "stdout",
          "text": [
            "C:\\Users\\student\\Videos\\Captures\n"
          ]
        }
      ]
    },
    {
      "cell_type": "markdown",
      "metadata": {
        "id": "97CbTVaZaYPF"
      },
      "source": [
        "반대인 경우\n",
        "- 문자열 내에서 표현하기 힘든 문자들이 있습니다. \n",
        "  - 예를 들면 엔터가 그렇죠\n",
        "  - 표현하기 힘든 문자들에 대해서 입력할 수 있는 방법을 정의\n",
        "  - 엔터, 탭, 백스페이스, ... "
      ]
    },
    {
      "cell_type": "code",
      "metadata": {
        "colab": {
          "base_uri": "https://localhost:8080/",
          "height": 104
        },
        "id": "jb2yW3EPbi88",
        "outputId": "f3a98d47-43e0-4f71-d8dc-9c81a4b21a6c"
      },
      "source": [
        "# 엔터를 문자열에서 표현하고 싶은데, ... \n",
        "# \\n은 뉴라인(LF) 이라고 합니다\n",
        "print(\"다음 라인에 출력하고 싶은데 \\n 어? 되네?\")\n",
        "print(\"다음 라인에 출력하고 싶은데 \\x0a 어? 되네?\")\n",
        "\n",
        "# 파이썬 인터프리터는 이스케이프 문자를 해석하지 않습니다. \n",
        "# 그래서 display를 이용하면 입력된 문자 그대로 출력\n",
        "# display는 인터프리터의 실행 결과를 유지하는 목적\n",
        "display(\"다음 라인에 출력하고 싶은데 \\x0a 어? 되네?\")"
      ],
      "execution_count": null,
      "outputs": [
        {
          "output_type": "stream",
          "name": "stdout",
          "text": [
            "다음 라인에 출력하고 싶은데 \n",
            " 어? 되네?\n",
            "다음 라인에 출력하고 싶은데 \n",
            " 어? 되네?\n"
          ]
        },
        {
          "output_type": "display_data",
          "data": {
            "application/vnd.google.colaboratory.intrinsic+json": {
              "type": "string"
            },
            "text/plain": [
              "'다음 라인에 출력하고 싶은데 \\n 어? 되네?'"
            ]
          },
          "metadata": {}
        }
      ]
    },
    {
      "cell_type": "code",
      "metadata": {
        "colab": {
          "base_uri": "https://localhost:8080/"
        },
        "id": "pV1nB9v3brCe",
        "outputId": "3f4944f6-10d6-40b6-883f-325ff4d0db7d"
      },
      "source": [
        "print(\"잘 쓰지는 않지만 백스페이스\\b\")"
      ],
      "execution_count": null,
      "outputs": [
        {
          "output_type": "stream",
          "name": "stdout",
          "text": [
            "잘 쓰지는 않지만 백스페이스\b\n"
          ]
        }
      ]
    },
    {
      "cell_type": "code",
      "metadata": {
        "colab": {
          "base_uri": "https://localhost:8080/"
        },
        "id": "kcDB9MZVcKbd",
        "outputId": "8b2acdce-e8c7-4672-8f32-5e8de094ce18"
      },
      "source": [
        "print('탭은 \\t 많이 사용하죠?')\n",
        "print('탭은 \\x09 많이 사용하죠?')"
      ],
      "execution_count": null,
      "outputs": [
        {
          "output_type": "stream",
          "name": "stdout",
          "text": [
            "탭은 \t 많이 사용하죠?\n",
            "탭은 \t 많이 사용하죠?\n"
          ]
        }
      ]
    },
    {
      "cell_type": "markdown",
      "metadata": {
        "id": "T51LsQfek_pv"
      },
      "source": [
        "LF는 뉴라인 이라는 의미로 사용\n",
        "- `뉴라인`은 문자열의 끝을 의미 \n",
        "- 문자열에서 뉴라인 문자가 나왔다는 건 거기서 문자열이 끝났음을 의미 하는 겁니다. "
      ]
    },
    {
      "cell_type": "code",
      "metadata": {
        "colab": {
          "base_uri": "https://localhost:8080/"
        },
        "id": "PuVwLcO5lP5X",
        "outputId": "1e7245cb-a41b-48b5-96b8-27ac3d4c3e0b"
      },
      "source": [
        "print(\"hello \\n Python\")"
      ],
      "execution_count": null,
      "outputs": [
        {
          "output_type": "stream",
          "name": "stdout",
          "text": [
            "hello \n",
            " Python\n"
          ]
        }
      ]
    },
    {
      "cell_type": "markdown",
      "metadata": {
        "id": "XABZfI9TlTTu"
      },
      "source": [
        "# 연산자\n",
        "- 사칙연산(+, -, *, /)\n",
        "  - 추가적인 사칙연산: 지수연산(**), 몫연산(//), 나머지 연산(%)\n",
        "- 부호(-)\n",
        "  - 부호 연산과 뺄셈의 차이는 피연산의 개수\n",
        "- 불리언 연산자(and, or, not)\n",
        "- 비교 연산자\n",
        "  - `=` 를 같다는 의미로 사용할 수 없습니다. \n",
        "  - 다른 의미로 이미 사용이 되고 있습니다.\n",
        "  - 파이썬에서 `=` 기호는 할당(assignment) 연산자로 이미 사용\n",
        "  - 같다(==), 같지않다(!=), 크다(>), 작다(<), 크거나 같다(>=), 작거나 같다(<=)"
      ]
    },
    {
      "cell_type": "markdown",
      "metadata": {
        "id": "JGvGvDBEma5S"
      },
      "source": [
        "## 사칙연산\n",
        "- 덧셈과 곱셈은 피연산자의 타입에 따라서 결과가 달라집니다.\n",
        "  - 정수나 실수 타입 외에도 덧셈이나 곱셈이 가능합니다. "
      ]
    },
    {
      "cell_type": "markdown",
      "metadata": {
        "id": "mHDKAghVn5OI"
      },
      "source": [
        "일반적인 정수(실수)의 덧셈이나 곱셈은 여러분이 알고 계신것과 동일합니다. "
      ]
    },
    {
      "cell_type": "code",
      "metadata": {
        "colab": {
          "base_uri": "https://localhost:8080/"
        },
        "id": "ZdqJnPKJnxwQ",
        "outputId": "a7b3409a-24eb-4be6-f654-a74c018f55c6"
      },
      "source": [
        "1 + 2"
      ],
      "execution_count": null,
      "outputs": [
        {
          "output_type": "execute_result",
          "data": {
            "text/plain": [
              "3"
            ]
          },
          "metadata": {},
          "execution_count": 52
        }
      ]
    },
    {
      "cell_type": "code",
      "metadata": {
        "colab": {
          "base_uri": "https://localhost:8080/"
        },
        "id": "lzyDdh4tn-eJ",
        "outputId": "11465f68-1682-4374-b6e6-76f1d969c985"
      },
      "source": [
        "2 * 3"
      ],
      "execution_count": null,
      "outputs": [
        {
          "output_type": "execute_result",
          "data": {
            "text/plain": [
              "6"
            ]
          },
          "metadata": {},
          "execution_count": 53
        }
      ]
    },
    {
      "cell_type": "markdown",
      "metadata": {
        "id": "Xu2yYPyooAi_"
      },
      "source": [
        "문자열에 대해서 덧셈이나 곱셈이 가능합니다. "
      ]
    },
    {
      "cell_type": "code",
      "metadata": {
        "colab": {
          "base_uri": "https://localhost:8080/",
          "height": 35
        },
        "id": "V6-PmJnUn_D4",
        "outputId": "75bde37b-356d-4288-9bab-d9e200d99805"
      },
      "source": [
        "# 문자열의 덧셈은 문자열과 문자열의 결합\n",
        "# 두 개 이상의 문자열을 하나의 문자열로 합칠 수 있습니다. \n",
        "'hello' + 'python'"
      ],
      "execution_count": null,
      "outputs": [
        {
          "output_type": "execute_result",
          "data": {
            "application/vnd.google.colaboratory.intrinsic+json": {
              "type": "string"
            },
            "text/plain": [
              "'hellopython'"
            ]
          },
          "metadata": {},
          "execution_count": 54
        }
      ]
    },
    {
      "cell_type": "code",
      "metadata": {
        "colab": {
          "base_uri": "https://localhost:8080/",
          "height": 183
        },
        "id": "_rn0pJAzobB0",
        "outputId": "5f47c1a4-8870-47ad-ae80-9e0f4a426952"
      },
      "source": [
        "# 그렇기 때문에, 다음과 같은 경우에는 인터프리터가 해석할 수 없습니다. \n",
        "1 + '1'"
      ],
      "execution_count": null,
      "outputs": [
        {
          "output_type": "error",
          "ename": "TypeError",
          "evalue": "ignored",
          "traceback": [
            "\u001b[0;31m---------------------------------------------------------------------------\u001b[0m",
            "\u001b[0;31mTypeError\u001b[0m                                 Traceback (most recent call last)",
            "\u001b[0;32m<ipython-input-55-7d8da53c22df>\u001b[0m in \u001b[0;36m<module>\u001b[0;34m()\u001b[0m\n\u001b[1;32m      1\u001b[0m \u001b[0;31m# 그렇기 때문에, 다음과 같은 경우에는 인터프리터가 해석할 수 없습니다.\u001b[0m\u001b[0;34m\u001b[0m\u001b[0;34m\u001b[0m\u001b[0;34m\u001b[0m\u001b[0m\n\u001b[0;32m----> 2\u001b[0;31m \u001b[0;36m1\u001b[0m \u001b[0;34m+\u001b[0m \u001b[0;34m'1'\u001b[0m\u001b[0;34m\u001b[0m\u001b[0;34m\u001b[0m\u001b[0m\n\u001b[0m",
            "\u001b[0;31mTypeError\u001b[0m: unsupported operand type(s) for +: 'int' and 'str'"
          ]
        }
      ]
    },
    {
      "cell_type": "code",
      "metadata": {
        "colab": {
          "base_uri": "https://localhost:8080/",
          "height": 35
        },
        "id": "6kBbbXtzoqlQ",
        "outputId": "8931a620-16e0-4a9c-f23e-1537bf95f354"
      },
      "source": [
        "# 문자열의 곱셈은 반복의 의미로 해석\n",
        "# 해당 문자열을 몇번 반복할 것인가\n",
        "# 피연산자의 타입이 반드시 달라야 합니다. \n",
        "'1' * 10"
      ],
      "execution_count": null,
      "outputs": [
        {
          "output_type": "execute_result",
          "data": {
            "application/vnd.google.colaboratory.intrinsic+json": {
              "type": "string"
            },
            "text/plain": [
              "'1111111111'"
            ]
          },
          "metadata": {},
          "execution_count": 56
        }
      ]
    },
    {
      "cell_type": "code",
      "metadata": {
        "colab": {
          "base_uri": "https://localhost:8080/",
          "height": 35
        },
        "id": "ZRkSXuafpKKI",
        "outputId": "0b579990-8c11-46bb-f995-6cdd67003788"
      },
      "source": [
        "# 숫자를 먼저 써도 상관 없습니다. \n",
        "10 * '1'"
      ],
      "execution_count": null,
      "outputs": [
        {
          "output_type": "execute_result",
          "data": {
            "application/vnd.google.colaboratory.intrinsic+json": {
              "type": "string"
            },
            "text/plain": [
              "'1111111111'"
            ]
          },
          "metadata": {},
          "execution_count": 58
        }
      ]
    },
    {
      "cell_type": "code",
      "metadata": {
        "colab": {
          "base_uri": "https://localhost:8080/",
          "height": 183
        },
        "id": "_i__mUZFpLx_",
        "outputId": "31feedfe-fccf-40f6-ad3c-8641b747a51a"
      },
      "source": [
        "# 아래와 같은 경우에도 인터프리터는 해석할 수 없습니다. \n",
        "'1' * '10'"
      ],
      "execution_count": null,
      "outputs": [
        {
          "output_type": "error",
          "ename": "TypeError",
          "evalue": "ignored",
          "traceback": [
            "\u001b[0;31m---------------------------------------------------------------------------\u001b[0m",
            "\u001b[0;31mTypeError\u001b[0m                                 Traceback (most recent call last)",
            "\u001b[0;32m<ipython-input-59-58a85d7b73af>\u001b[0m in \u001b[0;36m<module>\u001b[0;34m()\u001b[0m\n\u001b[1;32m      1\u001b[0m \u001b[0;31m# 아래와 같은 경우에도 인터프리터는 해석할 수 없습니다.\u001b[0m\u001b[0;34m\u001b[0m\u001b[0;34m\u001b[0m\u001b[0;34m\u001b[0m\u001b[0m\n\u001b[0;32m----> 2\u001b[0;31m \u001b[0;34m'1'\u001b[0m \u001b[0;34m*\u001b[0m \u001b[0;34m'10'\u001b[0m\u001b[0;34m\u001b[0m\u001b[0;34m\u001b[0m\u001b[0m\n\u001b[0m",
            "\u001b[0;31mTypeError\u001b[0m: can't multiply sequence by non-int of type 'str'"
          ]
        }
      ]
    },
    {
      "cell_type": "markdown",
      "metadata": {
        "id": "0KMueF05pTz7"
      },
      "source": [
        "그 외 연산자들"
      ]
    },
    {
      "cell_type": "code",
      "metadata": {
        "colab": {
          "base_uri": "https://localhost:8080/"
        },
        "id": "dpZpykr4ppFg",
        "outputId": "c674b85a-b113-4ff6-d5dc-0a1992331cc2"
      },
      "source": [
        "print( 10 ** 2 )\n",
        "print( 10 / 3 )\n",
        "print( 10 // 3 )\n",
        "print( 10 % 3 )"
      ],
      "execution_count": null,
      "outputs": [
        {
          "output_type": "stream",
          "name": "stdout",
          "text": [
            "100\n",
            "3.3333333333333335\n",
            "3\n",
            "1\n"
          ]
        }
      ]
    },
    {
      "cell_type": "markdown",
      "metadata": {
        "id": "jUEXDr5OprUz"
      },
      "source": [
        "우선순위\n",
        "\n",
        "```\n",
        "  ()  >  **  > -(negative)  >  *, /, //, %  > +, -\n",
        "```\n",
        "\n",
        "- 우선순위를 외워두고 사용하기 보다는 `()`를 통해서 우선순위를 명확하게 명시하도록 코드를 작성 하시는게 훨씬 쉬운 방법 입니다. "
      ]
    },
    {
      "cell_type": "code",
      "metadata": {
        "colab": {
          "base_uri": "https://localhost:8080/"
        },
        "id": "PtlRTb_zqo6k",
        "outputId": "4dd2a759-1a08-4b4d-99ac-c1172471de7d"
      },
      "source": [
        "# 우선순위가 같은면, 기본적으로 좌결합을 수행 합니다. \n",
        "# 왼쪽부터 차례대로 연산이 수행\n",
        "2 - 3 - 4"
      ],
      "execution_count": null,
      "outputs": [
        {
          "output_type": "execute_result",
          "data": {
            "text/plain": [
              "-5"
            ]
          },
          "metadata": {},
          "execution_count": 74
        }
      ]
    },
    {
      "cell_type": "code",
      "metadata": {
        "colab": {
          "base_uri": "https://localhost:8080/"
        },
        "id": "U0E7BPg8ri_B",
        "outputId": "80cbb879-5ccc-4885-c5ce-ebc4d615e46c"
      },
      "source": [
        "print( 2 - (3 - 4) )\n",
        "print( 2 - (3 + 4) )"
      ],
      "execution_count": null,
      "outputs": [
        {
          "output_type": "stream",
          "name": "stdout",
          "text": [
            "3\n",
            "-5\n"
          ]
        }
      ]
    },
    {
      "cell_type": "markdown",
      "metadata": {
        "id": "bVpz7VtarxJh"
      },
      "source": [
        "## 논리연산\n",
        "- and, or, not\n",
        "- 명제들간의 연산의 결과를 논리적으로 표현\n",
        "  - 명제란? 참, 거짓을 구분할 수 있는 모든 문장\n",
        "  - 파이썬은 실행 결과가 True, False를 반환하는 모든 명령어\n",
        "\n",
        "| A | B |AND | OR | not A | not B |\n",
        "|:---:|:---:|:---:|:---:|:---:|:---:|\n",
        "|T|T|T|T|F|F|\n",
        "|T|F|F|T|F|T|\n",
        "|F|T|F|T|T|F|\n",
        "|F|F|F|F|T|T|\n",
        "\n",
        "\n",
        "- 우선순위\n",
        "\n",
        "```\n",
        "  NOT > AND > OR\n",
        "```"
      ]
    },
    {
      "cell_type": "code",
      "metadata": {
        "colab": {
          "base_uri": "https://localhost:8080/"
        },
        "id": "wVVzHTLQ-0i-",
        "outputId": "4dafe291-216f-4754-e997-9d5f70845d7a"
      },
      "source": [
        "1 == 1"
      ],
      "execution_count": null,
      "outputs": [
        {
          "output_type": "execute_result",
          "data": {
            "text/plain": [
              "True"
            ]
          },
          "metadata": {},
          "execution_count": 83
        }
      ]
    },
    {
      "cell_type": "code",
      "metadata": {
        "colab": {
          "base_uri": "https://localhost:8080/"
        },
        "id": "PIY-uWst-1sw",
        "outputId": "bbc94ff7-e624-4bcf-dc29-47a20b3e3fc7"
      },
      "source": [
        "1 == 2"
      ],
      "execution_count": null,
      "outputs": [
        {
          "output_type": "execute_result",
          "data": {
            "text/plain": [
              "False"
            ]
          },
          "metadata": {},
          "execution_count": 84
        }
      ]
    },
    {
      "cell_type": "code",
      "metadata": {
        "colab": {
          "base_uri": "https://localhost:8080/"
        },
        "id": "4tbE0cuB_y0V",
        "outputId": "e81761ed-3572-45f3-cb3e-6133cde0d5ae"
      },
      "source": [
        "1 == 1 and 1 == 2"
      ],
      "execution_count": null,
      "outputs": [
        {
          "output_type": "execute_result",
          "data": {
            "text/plain": [
              "False"
            ]
          },
          "metadata": {},
          "execution_count": 85
        }
      ]
    },
    {
      "cell_type": "code",
      "metadata": {
        "colab": {
          "base_uri": "https://localhost:8080/"
        },
        "id": "neLHxHU1_07N",
        "outputId": "7d6861a6-2bd8-4663-f41a-8f645b3f83ca"
      },
      "source": [
        "# 1과 1이 같고, 1과 2가 같거나, 또는 1과 3이 같으면\n",
        "1 == 1 and 1 == 2 or 1 == 3"
      ],
      "execution_count": null,
      "outputs": [
        {
          "output_type": "execute_result",
          "data": {
            "text/plain": [
              "False"
            ]
          },
          "metadata": {},
          "execution_count": 88
        }
      ]
    },
    {
      "cell_type": "code",
      "metadata": {
        "colab": {
          "base_uri": "https://localhost:8080/"
        },
        "id": "NjtmqcawAR1P",
        "outputId": "ac58f25a-27c0-4b49-9be9-61761101a634"
      },
      "source": [
        "# 1과 1이 같거나, 1과 2가 같고, 1과 3이 같으면\n",
        "1 == 1 or 1 == 2 and 1 == 3"
      ],
      "execution_count": null,
      "outputs": [
        {
          "output_type": "execute_result",
          "data": {
            "text/plain": [
              "True"
            ]
          },
          "metadata": {},
          "execution_count": 87
        }
      ]
    },
    {
      "cell_type": "code",
      "metadata": {
        "colab": {
          "base_uri": "https://localhost:8080/"
        },
        "id": "zE2zKHoaA3Ly",
        "outputId": "9345a01b-756f-4abb-d573-b58e672cbd6f"
      },
      "source": [
        "# 우선순위를 고려하기 보다는 ()를 이용해서 정확하게 표현해주는 것이 더 쉽습니다. \n",
        "(1 == 1 or 1 == 2) and 1 == 3"
      ],
      "execution_count": null,
      "outputs": [
        {
          "output_type": "execute_result",
          "data": {
            "text/plain": [
              "False"
            ]
          },
          "metadata": {},
          "execution_count": 89
        }
      ]
    },
    {
      "cell_type": "markdown",
      "metadata": {
        "id": "XO1Xp3ovBSyQ"
      },
      "source": [
        "## 타입변환\n",
        "- 파이썬은 비교적 자유롭게 타입을 변환할 수 있습니다. \n",
        "  - str(), int(), float(), bool()\n",
        "  - str(x): x를 문자열로 변환한 결과를 반환해줍니다.\n",
        "  - int(x): 실수, 문자열 x에 대해서 정수로 변환한 결과를 반환해줍니다. \n",
        "  - float(x): 정수, 문자열 x에 대해서 실수로 변환한 결과를 반환해줍니다. \n",
        "  - bool(x): 모든 타입의 x에 대해서 전부 참 또는 거짓으로 변환된 값을 반환해줍니다. "
      ]
    },
    {
      "cell_type": "markdown",
      "metadata": {
        "id": "rJdy4vlJByx-"
      },
      "source": [
        "문자열로 변환하는 경우\n",
        "- 대부분의 타입은 큰 문제없이 문자열로 자유롭게 변환"
      ]
    },
    {
      "cell_type": "code",
      "metadata": {
        "colab": {
          "base_uri": "https://localhost:8080/",
          "height": 35
        },
        "id": "0S5oo62tCkT4",
        "outputId": "ad8cb617-b8ea-49d1-b058-e37414d845bf"
      },
      "source": [
        "str(209384509283409580293845982039485)"
      ],
      "execution_count": null,
      "outputs": [
        {
          "output_type": "execute_result",
          "data": {
            "application/vnd.google.colaboratory.intrinsic+json": {
              "type": "string"
            },
            "text/plain": [
              "'209384509283409580293845982039485'"
            ]
          },
          "metadata": {},
          "execution_count": 91
        }
      ]
    },
    {
      "cell_type": "code",
      "metadata": {
        "colab": {
          "base_uri": "https://localhost:8080/",
          "height": 35
        },
        "id": "XmnGZ8eRCmn2",
        "outputId": "086d8e81-d6ae-4ede-8ed6-a755393d4358"
      },
      "source": [
        "str(290834759283745.0298374598027349857)"
      ],
      "execution_count": null,
      "outputs": [
        {
          "output_type": "execute_result",
          "data": {
            "application/vnd.google.colaboratory.intrinsic+json": {
              "type": "string"
            },
            "text/plain": [
              "'290834759283745.0'"
            ]
          },
          "metadata": {},
          "execution_count": 94
        }
      ]
    },
    {
      "cell_type": "code",
      "metadata": {
        "colab": {
          "base_uri": "https://localhost:8080/",
          "height": 35
        },
        "id": "a_AV65KvC3B-",
        "outputId": "895f7e16-b34a-42b2-f9e0-8f7a56b28313"
      },
      "source": [
        "str(True)"
      ],
      "execution_count": null,
      "outputs": [
        {
          "output_type": "execute_result",
          "data": {
            "application/vnd.google.colaboratory.intrinsic+json": {
              "type": "string"
            },
            "text/plain": [
              "'True'"
            ]
          },
          "metadata": {},
          "execution_count": 95
        }
      ]
    },
    {
      "cell_type": "markdown",
      "metadata": {
        "id": "ZxkzpXM8DJFv"
      },
      "source": [
        "숫자타입간의 변환"
      ]
    },
    {
      "cell_type": "code",
      "metadata": {
        "colab": {
          "base_uri": "https://localhost:8080/"
        },
        "id": "-tVkwcG_DEc-",
        "outputId": "4b32332d-e4f4-4d37-db55-d7513e423700"
      },
      "source": [
        "# 작은 타입에서 큰 타입으로 변환하려는 경우\n",
        "# 여기에서 크다는 개념은 숫자의 대/소가 아닌 표현범위를 의미합니다. \n",
        "# 정수 => 실수\n",
        "float(10)"
      ],
      "execution_count": null,
      "outputs": [
        {
          "output_type": "execute_result",
          "data": {
            "text/plain": [
              "10.0"
            ]
          },
          "metadata": {},
          "execution_count": 96
        }
      ]
    },
    {
      "cell_type": "code",
      "metadata": {
        "colab": {
          "base_uri": "https://localhost:8080/"
        },
        "id": "xeg6RnPxDSV3",
        "outputId": "2ccb3a28-66b2-4a73-dcb2-c67c1d4f5e8e"
      },
      "source": [
        "# 큰 타입에서 작은 타입으로 변환되는 경우\n",
        "# 표현의 범위가 줄어들기 때문에 유실되는 정보가 발생\n",
        "int(10.23)"
      ],
      "execution_count": null,
      "outputs": [
        {
          "output_type": "execute_result",
          "data": {
            "text/plain": [
              "10"
            ]
          },
          "metadata": {},
          "execution_count": 97
        }
      ]
    },
    {
      "cell_type": "code",
      "metadata": {
        "colab": {
          "base_uri": "https://localhost:8080/"
        },
        "id": "LSRdA-QfHTxI",
        "outputId": "5d543182-0871-4848-90ac-b5c0ae49570b"
      },
      "source": [
        "# 반올림\n",
        "print( round(10.55555) )\n",
        "print( round(10.55555555, 2) )"
      ],
      "execution_count": null,
      "outputs": [
        {
          "output_type": "stream",
          "name": "stdout",
          "text": [
            "11\n",
            "10.56\n"
          ]
        }
      ]
    },
    {
      "cell_type": "markdown",
      "metadata": {
        "id": "dlWzuL-dHbsh"
      },
      "source": [
        "문자열을 정수나 실수로 변환 하는 경우\n",
        "- 문자열 내에 문자들이 전부 10진수 정수 형태의 문자만 있어야 합니다. "
      ]
    },
    {
      "cell_type": "code",
      "metadata": {
        "colab": {
          "base_uri": "https://localhost:8080/"
        },
        "id": "gybRi5oLHNb_",
        "outputId": "7cfa678b-4021-42d6-b733-e49fbc267646"
      },
      "source": [
        "int('92837458972394857928374587293847598273948579238')"
      ],
      "execution_count": null,
      "outputs": [
        {
          "output_type": "execute_result",
          "data": {
            "text/plain": [
              "92837458972394857928374587293847598273948579238"
            ]
          },
          "metadata": {},
          "execution_count": 99
        }
      ]
    },
    {
      "cell_type": "code",
      "metadata": {
        "colab": {
          "base_uri": "https://localhost:8080/",
          "height": 166
        },
        "id": "W-LosHmdHnnw",
        "outputId": "0104fea2-d182-427a-e2a2-76524b295f55"
      },
      "source": [
        "int('a92837458972394857928374587293847598273948579238')"
      ],
      "execution_count": null,
      "outputs": [
        {
          "output_type": "error",
          "ename": "ValueError",
          "evalue": "ignored",
          "traceback": [
            "\u001b[0;31m---------------------------------------------------------------------------\u001b[0m",
            "\u001b[0;31mValueError\u001b[0m                                Traceback (most recent call last)",
            "\u001b[0;32m<ipython-input-100-5c65691931d3>\u001b[0m in \u001b[0;36m<module>\u001b[0;34m()\u001b[0m\n\u001b[0;32m----> 1\u001b[0;31m \u001b[0mint\u001b[0m\u001b[0;34m(\u001b[0m\u001b[0;34m'a92837458972394857928374587293847598273948579238'\u001b[0m\u001b[0;34m)\u001b[0m\u001b[0;34m\u001b[0m\u001b[0;34m\u001b[0m\u001b[0m\n\u001b[0m",
            "\u001b[0;31mValueError\u001b[0m: invalid literal for int() with base 10: 'a92837458972394857928374587293847598273948579238'"
          ]
        }
      ]
    },
    {
      "cell_type": "markdown",
      "metadata": {
        "id": "XWHkBfjbNAcR"
      },
      "source": [
        "불리언 타입은 변환하는데 규칙이 있습니다. \n",
        "- 타입과 상관 없이 무조건 변환이 가능합니다. \n",
        "  - 어떠한 타입이든 전부 True, False로 변환\n",
        "  - 참, 거짓을 판단할 수 없는 경우에도 변환\n",
        "\n",
        "- 불리언 타입 변환 규칙\n",
        "  - 빈문자, 빈객체, 0은 무조건 거짓이 됩니다.\n",
        "  - 제외한 나머지는 무조건 참이 됩니다."
      ]
    },
    {
      "cell_type": "code",
      "metadata": {
        "colab": {
          "base_uri": "https://localhost:8080/"
        },
        "id": "-_VJWgMqNX9x",
        "outputId": "f9073c04-92c2-4990-b5a1-04819394338e"
      },
      "source": [
        "bool( 1 + 2 )"
      ],
      "execution_count": null,
      "outputs": [
        {
          "output_type": "execute_result",
          "data": {
            "text/plain": [
              "True"
            ]
          },
          "metadata": {},
          "execution_count": 108
        }
      ]
    },
    {
      "cell_type": "markdown",
      "metadata": {
        "id": "qKVgO43GNg7p"
      },
      "source": [
        "거짓이 되는 경우를 제외하면 모두 참이 됩니다. "
      ]
    },
    {
      "cell_type": "code",
      "metadata": {
        "colab": {
          "base_uri": "https://localhost:8080/"
        },
        "id": "azdW4L-UNYp4",
        "outputId": "879663ad-5247-4d40-a552-3ab007ffd3af"
      },
      "source": [
        "print( bool('') )\n",
        "print( bool(0) )"
      ],
      "execution_count": null,
      "outputs": [
        {
          "output_type": "stream",
          "name": "stdout",
          "text": [
            "False\n",
            "False\n"
          ]
        }
      ]
    },
    {
      "cell_type": "code",
      "metadata": {
        "colab": {
          "base_uri": "https://localhost:8080/"
        },
        "id": "X-THRjbRNmp9",
        "outputId": "81fb2184-ab53-4a01-801d-387c46a35493"
      },
      "source": [
        "# 값이 존재하면 무조건 참이 됩니다. \n",
        "bool('거짓')"
      ],
      "execution_count": null,
      "outputs": [
        {
          "output_type": "execute_result",
          "data": {
            "text/plain": [
              "True"
            ]
          },
          "metadata": {},
          "execution_count": 110
        }
      ]
    },
    {
      "cell_type": "code",
      "metadata": {
        "colab": {
          "base_uri": "https://localhost:8080/"
        },
        "id": "XLcjXp0qNyv6",
        "outputId": "10eaaafd-4bb8-4124-ec01-5860721973c8"
      },
      "source": [
        "bool()"
      ],
      "execution_count": null,
      "outputs": [
        {
          "output_type": "execute_result",
          "data": {
            "text/plain": [
              "False"
            ]
          },
          "metadata": {},
          "execution_count": 115
        }
      ]
    },
    {
      "cell_type": "markdown",
      "metadata": {
        "id": "4jCLUCDdPPkK"
      },
      "source": [
        "# 메모리(Memory)\n",
        "- 여러분이 알고 있는 그 메모리 맞습니다. \n",
        "  - RAM(Random Access Memory)이라고 부르는 그 메모리요\n",
        "  - 다른 유식한 말로 `주기억장치` 라고 합니다. \n",
        "  - 하드디스크(HDD), SSD, USB, ... \n",
        "    - `보조기억장치`\n",
        "    - 어떤 자료가 보조기억장치에 있을 때 `파일` 이라고 부릅니다. \n",
        "\n",
        "- 주기억장치\n",
        "  - 프로그램이 실행중인 동안에는 반드시 메모리에 있어야 합니다. \n",
        "  - 즉, 다루려는 자료 또한, 메모리에 있어야 합니다. \n",
        "  - 메모리는 실행중인 프로그램(프로세스)에서 자료를 저장할 수 있는 공간\n",
        "  - 명령어를 실행한 결과, 보조기억장치의 파일로부터 읽어들인 내용 등을 메모리 어딘가에 저장해두고 두고두고 꺼내서 사용하는 개념\n",
        "  - 이러한 개념을 `변수`라고 합니다. \n",
        "  - 메모리 어디에, 어떻게 저장되는지는 알 필요가 없습니다. \n",
        "  - 파이썬 인터프리터가 알아서 잘 결정하고, 잘 관리 해줍니다. "
      ]
    },
    {
      "cell_type": "markdown",
      "metadata": {
        "id": "KHc6bWsc9lI-"
      },
      "source": [
        "## 주소(Address)\n",
        "- 메모리 상에서 값(자료)이 저장된 위치를 의미합니다.\n",
        "- 파이썬은 변수를 주소를 기준으로 식별하게 됩니다. \n",
        "  - 주소는 변수(값)을 식별하는 유일한 값이 됩니다.\n",
        "- 자료는 비트의 형태로 저장이 되고, 1바이트(8비트)마다, 번호를 부여\n",
        "  - 메모리의 첫 번째 바이트의 주소는 0이 됩니다. \n",
        "  - 그 이후부터 1씩 증가하면서, 번호가 부여\n",
        "\n",
        "- 메모리의 크기가 아주 크기 때문에, 주소도 굉장히 큰 값이 나오게 됩니다. \n",
        "  - 주소는 일반적으로 10진수 보다는 16진수 형태의 표현을 많이 사용하게 됩니다. "
      ]
    },
    {
      "cell_type": "markdown",
      "metadata": {
        "id": "lwiB50Y9UT_n"
      },
      "source": [
        "## 변수(Variable)\n",
        "- 메모리에 값을 저장해두고, 추후에 두고두고 다시 꺼내서 사용하거나 혹은 값을 업데이트 하는 용도로 사용하게 됩니다.\n",
        "  - 게임 캐릭터의 레벨을 한 번 생각해 봅시다. \n",
        "  - 결국 레벨 이라고 하는 것은 메모리 어딘가에 저장되어 있는 하나의 정보\n",
        "  - 게임을 플레이 하는 것은 메모리에 저장되어 있는 레벨을 업데이트 하는 것이라고 볼 수 있습니다. \n",
        "- 다시 꺼내서 사용하거나, 업데이트를 하기 위해서는 저장된 위치를 알고 있어야 합니다. \n",
        "  - 주소는 숫자로 되어 있고, 메모리의 크기는 매우 크고, 저장된 값도 너무 많기 때문에 전부 기억하는 것은 불가능\n",
        "  - 숫자 대신에 문자로 대체해서 사용하기로 합니다. \n",
        "\n",
        "- 결국 변수란, 값이 저장된 위치를 숫자 대신에 사용할 수 있는 이름\n",
        "- 일반적으로 한 번 할당된 변수(메모리)는 프로세스가 종료될 때 까지 계속 유지된다고 보면 됩니다. "
      ]
    },
    {
      "cell_type": "code",
      "metadata": {
        "id": "ZIdilVRKVWkK"
      },
      "source": [
        "# 변수를 정의한다.\n",
        "# assignment(할당) => 메모리의 공간을 만들고, 만들어진 공간에 값을 저장\n",
        "mem = 10"
      ],
      "execution_count": null,
      "outputs": []
    },
    {
      "cell_type": "code",
      "metadata": {
        "colab": {
          "base_uri": "https://localhost:8080/"
        },
        "id": "pUdXu8KDWAwG",
        "outputId": "53608a38-cd58-4073-a491-3d3b125553a7"
      },
      "source": [
        "# 실제로 메모리 어디에 10이 저장되어 있는지 모릅니다. \n",
        "# 이름을 통해서(mem) 메모리를 참조\n",
        "mem"
      ],
      "execution_count": null,
      "outputs": [
        {
          "output_type": "execute_result",
          "data": {
            "text/plain": [
              "10"
            ]
          },
          "metadata": {},
          "execution_count": 2
        }
      ]
    },
    {
      "cell_type": "code",
      "metadata": {
        "colab": {
          "base_uri": "https://localhost:8080/",
          "height": 35
        },
        "id": "V7O3okRkWP64",
        "outputId": "9ff39410-bf0b-4158-8567-4e8e905075a1"
      },
      "source": [
        "# 파이썬은 주소를 변수의 식별자를 사용\n",
        "# id 명령어를 사용하면 할당된 메모리의 실제 위치를 확인할 수 있습니다. \n",
        "# 메모리의 주소는 10진수 보다는 16진수 형태로 확인을 하는 것이 일반적입니다. \n",
        "hex(id(mem))"
      ],
      "execution_count": null,
      "outputs": [
        {
          "output_type": "execute_result",
          "data": {
            "application/vnd.google.colaboratory.intrinsic+json": {
              "type": "string"
            },
            "text/plain": [
              "'0x5647a8df1b20'"
            ]
          },
          "metadata": {},
          "execution_count": 4
        }
      ]
    },
    {
      "cell_type": "markdown",
      "metadata": {
        "id": "S2NwzVn7WpI0"
      },
      "source": [
        "### 변수의 이름을 짓는 방법\n",
        "- 변수의 이름은 임의로 직접 정해줘야 합니다. \n",
        "- 파이썬은 한글 변수명도 사용 가능합니다. \n",
        "- 영문 대/소문자, 숫자, 한글을 상용\n",
        "  - 특수문자는 몇몇 문자를 제외하면 사용할 수 없는데 \n",
        "  - 사용할 수 있는 특수문자를 기억하기 보다는, 사용 안하는게 좋습니다\n",
        "  - 파이썬은 특별하게 `_`(언더바, 언더스코어)를 사용할 수 있습니다. \n",
        "  - 숫자가 제일 앞에 올 수 없습니다. \n",
        "\n",
        "- 파이썬에서 권장하는 변수 이름을 짓는 방법\n",
        "  - 변수의 이름은 소문자로 시작하도록 합니다(권장)\n",
        "  - 인터프리터가 이미 사용하고 있는 단어는 사용하지 않는 것이 좋습니다. \n",
        "    - 예. True, int, ... \n",
        "  - 변수 이름으로 피해야 하는 단어를 외워서 피하는 방법은 너무 어렵습니다. \n",
        "    - 일반적으로 여러분이 사용하게 되는 개발환경에서 제공하는 에디터는 `컬러링`을 지원 합니다. \n",
        "    - 이미 사용중인 단어에 대해서 예쁘게 컬러링 해줍니다. \n",
        "    - 내가 어떤 단어를 변수명으로 정의를 하려고 하는데 예쁘게 나온다(?)"
      ]
    },
    {
      "cell_type": "code",
      "metadata": {
        "id": "cEExVe8tXsG1"
      },
      "source": [
        "# 다음과 같은 변수명은 피하셔야 합니다. \n",
        "int = 10"
      ],
      "execution_count": null,
      "outputs": []
    },
    {
      "cell_type": "code",
      "metadata": {
        "colab": {
          "base_uri": "https://localhost:8080/",
          "height": 201
        },
        "id": "c2btqUksYK3E",
        "outputId": "c8eda590-906b-4ac3-b25e-cd35fa791ee2"
      },
      "source": [
        "# int라는 이름이 변수명으로 사용되기 때문에 \n",
        "# 같은 이름의 int 명령어를 사용할 수 없게 됩니다.\n",
        "int('10')"
      ],
      "execution_count": null,
      "outputs": [
        {
          "output_type": "error",
          "ename": "TypeError",
          "evalue": "ignored",
          "traceback": [
            "\u001b[0;31m---------------------------------------------------------------------------\u001b[0m",
            "\u001b[0;31mTypeError\u001b[0m                                 Traceback (most recent call last)",
            "\u001b[0;32m<ipython-input-11-3784a8c1bfaf>\u001b[0m in \u001b[0;36m<module>\u001b[0;34m()\u001b[0m\n\u001b[1;32m      1\u001b[0m \u001b[0;31m# int라는 이름이 변수명으로 사용되기 때문에\u001b[0m\u001b[0;34m\u001b[0m\u001b[0;34m\u001b[0m\u001b[0;34m\u001b[0m\u001b[0m\n\u001b[1;32m      2\u001b[0m \u001b[0;31m# 같은 이름의 int 명령어를 사용할 수 없게 됩니다.\u001b[0m\u001b[0;34m\u001b[0m\u001b[0;34m\u001b[0m\u001b[0;34m\u001b[0m\u001b[0m\n\u001b[0;32m----> 3\u001b[0;31m \u001b[0mint\u001b[0m\u001b[0;34m(\u001b[0m\u001b[0;34m'10'\u001b[0m\u001b[0;34m)\u001b[0m\u001b[0;34m\u001b[0m\u001b[0;34m\u001b[0m\u001b[0m\n\u001b[0m",
            "\u001b[0;31mTypeError\u001b[0m: 'int' object is not callable"
          ]
        }
      ]
    },
    {
      "cell_type": "markdown",
      "metadata": {
        "id": "fmNkxJc_ag_d"
      },
      "source": [
        "### 타입 에러 해결방법"
      ]
    },
    {
      "cell_type": "markdown",
      "metadata": {
        "id": "_tevvAogZsiV"
      },
      "source": [
        "> TypeError: ~~~ object in not callable\n",
        "  - 어디에선가 해당 이름으로 변수를 정의한 적이 있는 겁니다. \n",
        "  - 정의된 변수를 찾아서 이름 바꿔주고 런타임 새로 실행을 해주면 해결할 수 있습니다. "
      ]
    },
    {
      "cell_type": "code",
      "metadata": {
        "id": "WGJD9a0lY_iD"
      },
      "source": [
        "# 할당된 메모리를 제거 하는 방법 del 명령어를 통해서 할 수 있습니다. \n",
        "del int"
      ],
      "execution_count": null,
      "outputs": []
    },
    {
      "cell_type": "code",
      "metadata": {
        "colab": {
          "base_uri": "https://localhost:8080/"
        },
        "id": "8xkZPVJQYLWE",
        "outputId": "2ee61aa9-5f02-4470-8899-2a864cac50ef"
      },
      "source": [
        "int('10')"
      ],
      "execution_count": null,
      "outputs": [
        {
          "output_type": "execute_result",
          "data": {
            "text/plain": [
              "10"
            ]
          },
          "metadata": {},
          "execution_count": 14
        }
      ]
    },
    {
      "cell_type": "markdown",
      "metadata": {
        "id": "hclgvOMPtM8f"
      },
      "source": [
        "## swap\n",
        "- 두 변수의 값을 교환"
      ]
    },
    {
      "cell_type": "code",
      "metadata": {
        "colab": {
          "base_uri": "https://localhost:8080/"
        },
        "id": "42LyGucxtnou",
        "outputId": "c83c134b-8f50-4ba0-a728-0ddccc63cfff"
      },
      "source": [
        "a = 10\n",
        "b = 20\n",
        "\n",
        "imsi = a\n",
        "a = b\n",
        "b = imsi\n",
        "print(a, b)"
      ],
      "execution_count": null,
      "outputs": [
        {
          "output_type": "stream",
          "name": "stdout",
          "text": [
            "20 10\n"
          ]
        }
      ]
    },
    {
      "cell_type": "code",
      "metadata": {
        "colab": {
          "base_uri": "https://localhost:8080/"
        },
        "id": "rDPRRkyIujev",
        "outputId": "3b0f3e3e-686a-4637-f657-f6f986a927e9"
      },
      "source": [
        "a = 10\n",
        "b = 20\n",
        "a, b = b, a\n",
        "print(a, b)"
      ],
      "execution_count": null,
      "outputs": [
        {
          "output_type": "stream",
          "name": "stdout",
          "text": [
            "20 10\n"
          ]
        }
      ]
    },
    {
      "cell_type": "markdown",
      "metadata": {
        "id": "KuZqR218vAHP"
      },
      "source": [
        "### 동적 바인딩"
      ]
    },
    {
      "cell_type": "code",
      "metadata": {
        "colab": {
          "base_uri": "https://localhost:8080/"
        },
        "id": "209TYQSSvCQP",
        "outputId": "9f0ec43a-5eb3-4f5e-e121-1e57140a5c7e"
      },
      "source": [
        "a = 10\n",
        "b = 20\n",
        "print( hex(id(a)))\n",
        "print( hex(id(b)))"
      ],
      "execution_count": null,
      "outputs": [
        {
          "output_type": "stream",
          "name": "stdout",
          "text": [
            "0x5634021a1b20\n",
            "0x5634021a1c60\n"
          ]
        }
      ]
    },
    {
      "cell_type": "code",
      "metadata": {
        "colab": {
          "base_uri": "https://localhost:8080/"
        },
        "id": "H3tHwSq7vWHA",
        "outputId": "c76fc363-c421-4c5e-c7ed-fa985a8493e3"
      },
      "source": [
        "a = b\n",
        "print( hex(id(a)))\n",
        "print( hex(id(b)))"
      ],
      "execution_count": null,
      "outputs": [
        {
          "output_type": "stream",
          "name": "stdout",
          "text": [
            "0x5634021a1c60\n",
            "0x5634021a1c60\n"
          ]
        }
      ]
    },
    {
      "cell_type": "code",
      "metadata": {
        "colab": {
          "base_uri": "https://localhost:8080/"
        },
        "id": "MJTeAKz8v9m_",
        "outputId": "92544f54-1022-41e0-cdfc-d7ca103a0b9d"
      },
      "source": [
        "a = 10\n",
        "print( hex(id(a)))"
      ],
      "execution_count": null,
      "outputs": [
        {
          "output_type": "stream",
          "name": "stdout",
          "text": [
            "0x5634021a1b20\n"
          ]
        }
      ]
    },
    {
      "cell_type": "markdown",
      "metadata": {
        "id": "WGwE_z5ViKCe"
      },
      "source": [
        "# 시퀀스 타입\n",
        "- 기본 타입(숫자, 문자열)으로 이루어진 여러개의 자료를 하나의 자료형으로 다루기 위한 방법\n",
        "  - 문자열은 엄밀하게 따지면, 기본 타입은 아닙니다\n",
        "  - 다른 언어에서는 `배열` 이라고 표현 합니다.\n",
        "  - 한 개의 식빵이 기본 타입이라고 한다면, 여러개의 식빵을 다루기 위한 자료의 타입중에 하나로 보면 됩니다. \n",
        "\n",
        "- 파이썬의 시퀀스 타입은 가장 기본적인 `자료구조`의 한 종류 입니다. \n",
        "  - 자료구조는 여러개의 자료를 관리하는 방법\n",
        "\n",
        "- 파이썬에서 제공하는 시퀀스 타입의 종류\n",
        "  - 리스트\n",
        "    - 다른 언어에서 제공하는 `배열`의 개념이 파이썬에서는 리스트 입니다. \n",
        "    - 가장 많이 사용하는 자료형 이기도 합니다. \n",
        "    - `선형자료구조`라고 합니다.\n",
        "  - 튜플(tuple)\n",
        "    - 리스트와 동일한데, 가장 큰 차이점은 자료의 값을 변경할 수 있느냐 없느냐의 차이가 있습니다.\n",
        "    - 이런 차이를 제외하고는 리스트와 동일\n",
        "    - 튜플은 튜플내의 자료들의 값이 변하지 않음을 보장 합니다.\n",
        "  - 레인지(range)\n",
        "    - 수열을 생성"
      ]
    },
    {
      "cell_type": "markdown",
      "metadata": {
        "id": "db7KL4q5jkls"
      },
      "source": [
        "## 불가변형 타입 Vs. 가변형 타입\n",
        "- 불가변형 타입\n",
        "  - 대표적으로 튜플이 불가변형 타입 입니다. \n",
        "  - 자료들의 값을 바꿀 수 없습니다. \n",
        "- 가변형 타입\n",
        "  - 대표적으로 리스트가 가변형 타입 입니다. \n",
        "  - 리스트 내의 자료들에 대해서 값을 변경할 수 있다.\n",
        "\n",
        "- 가변형 타입에서만 사용할 수 있는 연산자가 따로 있습니다. "
      ]
    },
    {
      "cell_type": "markdown",
      "metadata": {
        "id": "KMfm4hy5jb8F"
      },
      "source": [
        "## 튜플(tuple)\n",
        "- 불가변형의 대표적인 타입\n",
        "- 문자열을 튜플의 한 종류 입니다. \n",
        "  - 튜플의 속성을 그대로 따르면서, 문자열의 특징도 가지고 있다고 보면 됩니다. "
      ]
    },
    {
      "cell_type": "code",
      "metadata": {
        "colab": {
          "base_uri": "https://localhost:8080/"
        },
        "id": "t8M1Tfjgkexn",
        "outputId": "5da7dab3-e74e-4e4f-be7a-04f57c1785e0"
      },
      "source": [
        "# 빈 튜플을 만드는 방법\n",
        "# 원소가 한개도 없는 튜플\n",
        "# 빈 문자와 동일한 개념\n",
        "arr = ()\n",
        "type(arr)"
      ],
      "execution_count": null,
      "outputs": [
        {
          "output_type": "execute_result",
          "data": {
            "text/plain": [
              "tuple"
            ]
          },
          "metadata": {},
          "execution_count": 10
        }
      ]
    },
    {
      "cell_type": "code",
      "metadata": {
        "colab": {
          "base_uri": "https://localhost:8080/"
        },
        "id": "M9S06lpQpTb3",
        "outputId": "9faa1607-1b89-45f3-8a0d-d90e75dd10f6"
      },
      "source": [
        "bool(arr)"
      ],
      "execution_count": null,
      "outputs": [
        {
          "output_type": "execute_result",
          "data": {
            "text/plain": [
              "False"
            ]
          },
          "metadata": {},
          "execution_count": 11
        }
      ]
    },
    {
      "cell_type": "markdown",
      "metadata": {
        "id": "E0fIDbRDmxdO"
      },
      "source": [
        "튜플을 사용할 때의 주의점"
      ]
    },
    {
      "cell_type": "code",
      "metadata": {
        "colab": {
          "base_uri": "https://localhost:8080/"
        },
        "id": "ZxfBhpOjmwqu",
        "outputId": "9fbf1924-9207-4267-82a6-a8b5f62f65f0"
      },
      "source": [
        "# 다음의 명령어는 튜플이 아닙니다\n",
        "arr = (1)\n",
        "print( type(arr) )\n",
        "print( arr )"
      ],
      "execution_count": null,
      "outputs": [
        {
          "output_type": "stream",
          "name": "stdout",
          "text": [
            "<class 'int'>\n",
            "1\n"
          ]
        }
      ]
    },
    {
      "cell_type": "code",
      "metadata": {
        "colab": {
          "base_uri": "https://localhost:8080/"
        },
        "id": "Db1lfUgynNBb",
        "outputId": "5ae034f4-43f6-4470-f115-e7227c01fa05"
      },
      "source": [
        "# 튜플이 되려면 원소가 한 개 이상 존재하면 튜플이 됩니다. \n",
        "# 콤마가 있다는 것은 연속된 자료의 종류라고 판단\n",
        "arr = (1,)\n",
        "print( type(arr) )\n",
        "print( arr )"
      ],
      "execution_count": null,
      "outputs": [
        {
          "output_type": "stream",
          "name": "stdout",
          "text": [
            "<class 'tuple'>\n",
            "(1,)\n"
          ]
        }
      ]
    },
    {
      "cell_type": "code",
      "metadata": {
        "colab": {
          "base_uri": "https://localhost:8080/"
        },
        "id": "iP5HRMmvnlXw",
        "outputId": "efd24afa-56bc-48b0-f78e-1c93e1ca7fd0"
      },
      "source": [
        "arr = (1, 2, 3, 4, 5, 6, )\n",
        "print( type(arr) )\n",
        "print( arr )"
      ],
      "execution_count": null,
      "outputs": [
        {
          "output_type": "stream",
          "name": "stdout",
          "text": [
            "<class 'tuple'>\n",
            "(1, 2, 3, 4, 5, 6)\n"
          ]
        }
      ]
    },
    {
      "cell_type": "markdown",
      "metadata": {
        "id": "kyhy5L5Syv-w"
      },
      "source": [
        "### 공통 연산자\n",
        "- 가변형 타입과 불가면형 타입 모두 동일하게 사용\n",
        "- [파이썬 시퀀스 타입 공식 문서](https://docs.python.org/ko/3/library/stdtypes.html#sequence-types-list-tuple-range)"
      ]
    },
    {
      "cell_type": "code",
      "metadata": {
        "colab": {
          "base_uri": "https://localhost:8080/"
        },
        "id": "mZwRD6XxzEYP",
        "outputId": "1224ced4-8e76-484b-f7c9-e693cbc94fdf"
      },
      "source": [
        "arr = (10, 20, 30, 40, 50)\n",
        "print(arr)"
      ],
      "execution_count": null,
      "outputs": [
        {
          "output_type": "stream",
          "name": "stdout",
          "text": [
            "(10, 20, 30, 40, 50)\n"
          ]
        }
      ]
    },
    {
      "cell_type": "code",
      "metadata": {
        "colab": {
          "base_uri": "https://localhost:8080/"
        },
        "id": "BLCz_6V0zWH9",
        "outputId": "9d21c1f9-d008-4998-da87-1fb4dc33aaf4"
      },
      "source": [
        "# 시퀀스 내의 원소를 검색하는 경우\n",
        "print( 10 in arr )\n",
        "print( 100 in arr )"
      ],
      "execution_count": null,
      "outputs": [
        {
          "output_type": "stream",
          "name": "stdout",
          "text": [
            "True\n",
            "False\n"
          ]
        }
      ]
    },
    {
      "cell_type": "code",
      "metadata": {
        "colab": {
          "base_uri": "https://localhost:8080/"
        },
        "id": "V8RfdrZvzh3j",
        "outputId": "0514941c-db57-4431-d43d-10fd64913c9a"
      },
      "source": [
        "# 원소가 존재하면 False 존재하지 않으면, True\n",
        "print( 10 not in arr )\n",
        "print( 100 not in arr )"
      ],
      "execution_count": null,
      "outputs": [
        {
          "output_type": "stream",
          "name": "stdout",
          "text": [
            "False\n",
            "True\n"
          ]
        }
      ]
    },
    {
      "cell_type": "markdown",
      "metadata": {
        "id": "A_DrI4eE0dvi"
      },
      "source": [
        "튜플도 문자열과 마찬가지로 덧셈과 곱셈 연산이 가능 합니다. \n",
        "- 리스트도 동일하게 사용이 가능\n",
        "- 내용은 문자열과 동일 합니다. "
      ]
    },
    {
      "cell_type": "code",
      "metadata": {
        "colab": {
          "base_uri": "https://localhost:8080/"
        },
        "id": "O6vXdOKQ0neB",
        "outputId": "ea8fff45-d829-4382-8c95-c09b5f040584"
      },
      "source": [
        "arr + (100, 200, 300)"
      ],
      "execution_count": null,
      "outputs": [
        {
          "output_type": "execute_result",
          "data": {
            "text/plain": [
              "(10, 20, 30, 40, 50, 100, 200, 300)"
            ]
          },
          "metadata": {},
          "execution_count": 29
        }
      ]
    },
    {
      "cell_type": "code",
      "metadata": {
        "colab": {
          "base_uri": "https://localhost:8080/"
        },
        "id": "vg6ruTA40tCd",
        "outputId": "9f48fcf9-74e7-4415-eb2a-56abfddf39bb"
      },
      "source": [
        "arr * 3"
      ],
      "execution_count": null,
      "outputs": [
        {
          "output_type": "execute_result",
          "data": {
            "text/plain": [
              "(10, 20, 30, 40, 50, 10, 20, 30, 40, 50, 10, 20, 30, 40, 50)"
            ]
          },
          "metadata": {},
          "execution_count": 31
        }
      ]
    },
    {
      "cell_type": "markdown",
      "metadata": {
        "id": "ygY8MjeE1B_3"
      },
      "source": [
        "어? 튜플인데 변경이 가능한가?\n",
        "- 원본은 변하지 않습니다. \n",
        "- arr 튜플과 새로운 튜플을 합친 새로운 튜플을 반환해줍니다. "
      ]
    },
    {
      "cell_type": "code",
      "metadata": {
        "colab": {
          "base_uri": "https://localhost:8080/"
        },
        "id": "F-uEjlJ91OG2",
        "outputId": "87fe2951-c5ae-4c5d-8378-8cffc26558e5"
      },
      "source": [
        "# 원본은 변하지 않습니다. \n",
        "arr"
      ],
      "execution_count": null,
      "outputs": [
        {
          "output_type": "execute_result",
          "data": {
            "text/plain": [
              "(10, 20, 30, 40, 50)"
            ]
          },
          "metadata": {},
          "execution_count": 32
        }
      ]
    },
    {
      "cell_type": "markdown",
      "metadata": {
        "id": "HvWWdUtvIrr5"
      },
      "source": [
        "#### 인덱싱과 슬라이스\n",
        "- 파이썬의 시퀀스 타입은 자동으로 인덱스가 생성\n",
        "  - 0부터 순차적으로 1씩 증가하면서 자동으로 번호가 매겨집니다. \n",
        "  - 문제는 0부터 시작하다라는 것\n",
        "  - 튜플(리스트)의 첫 번째 원소의 인덱스는 0입니다.\n",
        "  - 인덱스는 시퀀스 내에서 참조하길 원하는 원소를 선택\n",
        "- 슬라이스는 시퀀스 내에서 원하는 범위의 요소를 선택\n",
        "  - 정확하게는 잘라서 가져오는 그런 개념인데\n",
        "\n",
        "- 프로그래밍의 핵심은\n",
        "  - 반복문과 반복문을 이용한 인덱싱에 있습니다. \n",
        "  - 반드시 익혀야 되는 부분인데\n",
        "  - 많은 연습 외에는 답이 없는 부분이라서 ... \n"
      ]
    },
    {
      "cell_type": "code",
      "metadata": {
        "colab": {
          "base_uri": "https://localhost:8080/"
        },
        "id": "W8rpYTYaIwLm",
        "outputId": "710381fa-b212-44cb-902f-b62f33fd1da4"
      },
      "source": [
        "arr"
      ],
      "execution_count": null,
      "outputs": [
        {
          "output_type": "execute_result",
          "data": {
            "text/plain": [
              "(10, 20, 30, 40, 50)"
            ]
          },
          "metadata": {},
          "execution_count": 34
        }
      ]
    },
    {
      "cell_type": "code",
      "metadata": {
        "colab": {
          "base_uri": "https://localhost:8080/"
        },
        "id": "3EB--j2bKwpG",
        "outputId": "14ff25c7-1823-43df-bf5d-906fc754df60"
      },
      "source": [
        "# 내가 원하는 원소만 선택\n",
        "print( arr[0] ) # arr 튜플의 첫 번째 원소\n",
        "print( arr[1] )\n",
        "print( arr[2] )\n",
        "print( arr[3] )\n",
        "print( arr[4] )"
      ],
      "execution_count": null,
      "outputs": [
        {
          "output_type": "stream",
          "name": "stdout",
          "text": [
            "10\n",
            "20\n",
            "30\n",
            "40\n",
            "50\n"
          ]
        }
      ]
    },
    {
      "cell_type": "markdown",
      "metadata": {
        "id": "NQFaRvGNLFLs"
      },
      "source": [
        "진짜 중요한 건 이것입니다. \n",
        "- 주어진 시퀀스 타입의 범위를 벗어나는 참조\n",
        "- `Index Out of Range`\n",
        "  - 정말 많이 발생하는 에러 중에 하나입니다. "
      ]
    },
    {
      "cell_type": "code",
      "metadata": {
        "colab": {
          "base_uri": "https://localhost:8080/",
          "height": 166
        },
        "id": "aEb-SVzMLHvJ",
        "outputId": "1f97bfc3-405a-4ea8-c7e2-3d4fff4d63df"
      },
      "source": [
        "print( arr[5] )"
      ],
      "execution_count": null,
      "outputs": [
        {
          "output_type": "error",
          "ename": "IndexError",
          "evalue": "ignored",
          "traceback": [
            "\u001b[0;31m---------------------------------------------------------------------------\u001b[0m",
            "\u001b[0;31mIndexError\u001b[0m                                Traceback (most recent call last)",
            "\u001b[0;32m<ipython-input-40-af8fab70edd1>\u001b[0m in \u001b[0;36m<module>\u001b[0;34m()\u001b[0m\n\u001b[0;32m----> 1\u001b[0;31m \u001b[0mprint\u001b[0m\u001b[0;34m(\u001b[0m \u001b[0marr\u001b[0m\u001b[0;34m[\u001b[0m\u001b[0;36m5\u001b[0m\u001b[0;34m]\u001b[0m \u001b[0;34m)\u001b[0m\u001b[0;34m\u001b[0m\u001b[0;34m\u001b[0m\u001b[0m\n\u001b[0m",
            "\u001b[0;31mIndexError\u001b[0m: tuple index out of range"
          ]
        }
      ]
    },
    {
      "cell_type": "code",
      "metadata": {
        "colab": {
          "base_uri": "https://localhost:8080/"
        },
        "id": "Eta0Bv2jLoVr",
        "outputId": "9e443daa-716f-4fe0-9dce-0c7e19092059"
      },
      "source": [
        "# len는 시퀀스의 크기(길이)를 반환해줍니다. \n",
        "# 시퀀스의 크기는 원소의 개수를 의미합니다. \n",
        "len(arr)"
      ],
      "execution_count": null,
      "outputs": [
        {
          "output_type": "execute_result",
          "data": {
            "text/plain": [
              "5"
            ]
          },
          "metadata": {},
          "execution_count": 41
        }
      ]
    },
    {
      "cell_type": "code",
      "metadata": {
        "colab": {
          "base_uri": "https://localhost:8080/"
        },
        "id": "8_OM_nIGL3pp",
        "outputId": "282e7cc1-e0b2-46e5-b359-97322de5ceb6"
      },
      "source": [
        "# 시퀀스의 크기와 상관 없이 항상 마지막 원소를 참조하고 싶다면? \n",
        "print( arr[ len(arr) - 1] )"
      ],
      "execution_count": null,
      "outputs": [
        {
          "output_type": "stream",
          "name": "stdout",
          "text": [
            "50\n"
          ]
        }
      ]
    },
    {
      "cell_type": "markdown",
      "metadata": {
        "id": "ov64FT6uNkp_"
      },
      "source": [
        "파이썬은 음수 인덱스를 지원 합니다. \n",
        "- 음수 인덱스도 자동으로 생성\n",
        "- 시퀀스 타입의 가장 마지막 원소부터 -1로 시작해서 순차적으로 1씩 감소하면서 번호가 생성"
      ]
    },
    {
      "cell_type": "code",
      "metadata": {
        "colab": {
          "base_uri": "https://localhost:8080/"
        },
        "id": "UX6PfROmOC2u",
        "outputId": "c0ba8b5b-6dd8-400d-c108-00f03332d45c"
      },
      "source": [
        "print(arr)\n",
        "print(arr[-1])\n",
        "print(arr[-2])\n",
        "print(arr[-3])\n",
        "print(arr[-4])\n",
        "print(arr[-5])"
      ],
      "execution_count": null,
      "outputs": [
        {
          "output_type": "stream",
          "name": "stdout",
          "text": [
            "(10, 20, 30, 40, 50)\n",
            "50\n",
            "40\n",
            "30\n",
            "20\n",
            "10\n"
          ]
        }
      ]
    },
    {
      "cell_type": "code",
      "metadata": {
        "colab": {
          "base_uri": "https://localhost:8080/",
          "height": 166
        },
        "id": "oGc-JO58OOhY",
        "outputId": "dfdacece-a006-4708-dc69-daeab4001cee"
      },
      "source": [
        "# 음수 인덱스를 사용하는 경우에도 범위를 벗어나지 않도록 주의해야 합니다!\n",
        "print( arr[-6] )"
      ],
      "execution_count": null,
      "outputs": [
        {
          "output_type": "error",
          "ename": "IndexError",
          "evalue": "ignored",
          "traceback": [
            "\u001b[0;31m---------------------------------------------------------------------------\u001b[0m",
            "\u001b[0;31mIndexError\u001b[0m                                Traceback (most recent call last)",
            "\u001b[0;32m<ipython-input-52-9d81086ad2aa>\u001b[0m in \u001b[0;36m<module>\u001b[0;34m()\u001b[0m\n\u001b[0;32m----> 1\u001b[0;31m \u001b[0mprint\u001b[0m\u001b[0;34m(\u001b[0m \u001b[0marr\u001b[0m\u001b[0;34m[\u001b[0m\u001b[0;34m-\u001b[0m\u001b[0;36m6\u001b[0m\u001b[0;34m]\u001b[0m \u001b[0;34m)\u001b[0m\u001b[0;34m\u001b[0m\u001b[0;34m\u001b[0m\u001b[0m\n\u001b[0m",
            "\u001b[0;31mIndexError\u001b[0m: tuple index out of range"
          ]
        }
      ]
    },
    {
      "cell_type": "code",
      "metadata": {
        "colab": {
          "base_uri": "https://localhost:8080/"
        },
        "id": "zhuDzbqxOT-w",
        "outputId": "cda035f4-7fc8-4229-a17d-b1fd678f1e62"
      },
      "source": [
        "# 시퀀스의 크기와 상관없이 항상 마지막 원소를 참조 할 수 있습니다. \n",
        "print( arr[-1] )"
      ],
      "execution_count": null,
      "outputs": [
        {
          "output_type": "stream",
          "name": "stdout",
          "text": [
            "50\n"
          ]
        }
      ]
    },
    {
      "cell_type": "markdown",
      "metadata": {
        "id": "O35P8FMxPFZx"
      },
      "source": [
        "슬라이스는 범위내의 원소를 잘라오는 기능\n",
        "- 멀티 인덱스 용도로 더 많이 사용을 합니다.\n",
        "- 파이썬의 슬라이스는 생각보다 빠릅니다.\n",
        "- 사용할 수 있다면, 적극적으로 사용해도 좋습니다. \n",
        "\n",
        "- 슬라이스의 사용법은 아래와 같습니다. \n",
        "\n",
        "```\n",
        "  s[ 시작인덱스 : 끝인덱스 ]\n",
        "```"
      ]
    },
    {
      "cell_type": "code",
      "metadata": {
        "colab": {
          "base_uri": "https://localhost:8080/"
        },
        "id": "rdCtNImkPW1Y",
        "outputId": "58c16541-a6ce-434d-cf9c-3acb9da16ec4"
      },
      "source": [
        "# 중간에 20, 30, 40 3개의 원소만 선택을 하고 싶다면? \n",
        "print(arr)\n",
        "\n",
        "# 파이썬에서 슬라이스를 하는 경우 끝인덱스의 원소는 포함하지 않습니다\n",
        "print( arr[1:4] )"
      ],
      "execution_count": null,
      "outputs": [
        {
          "output_type": "stream",
          "name": "stdout",
          "text": [
            "(10, 20, 30, 40, 50)\n",
            "(20, 30, 40)\n"
          ]
        }
      ]
    },
    {
      "cell_type": "markdown",
      "metadata": {
        "id": "HMTvEabrQDVO"
      },
      "source": [
        "슬라이스의 여러가지 형태"
      ]
    },
    {
      "cell_type": "code",
      "metadata": {
        "colab": {
          "base_uri": "https://localhost:8080/"
        },
        "id": "2uBA8B-MQFVH",
        "outputId": "003999eb-17ea-4e01-8dce-6a212ce97a04"
      },
      "source": [
        "# 전체 원소를 전부 선택\n",
        "# 슬라이스를 하는 경우에는 마지막 인덱스의 범위를 확인하지 않습니다. \n",
        "print( arr[0:5])\n",
        "\n",
        "# 그래서 이렇게 써도 되긴 합니다. \n",
        "print( arr[0:99999999999999999999] )\n",
        "\n",
        "# 시작 인덱스와 끝 인덱스는 생략 가능합니다. \n",
        "# 시작 인덱스가 생략되면 무조건 첫 번째 원소부터\n",
        "# 끝 인덱스가 생략되면 무조건 마지막 원소까지\n",
        "print( arr[:] )\n",
        "\n",
        "# 시작위치가 생략되면 첫 번째 원소부터\n",
        "print( arr[:4] )\n",
        "\n",
        "# 끝 인덱스가 생략되면 마지막 원소까지\n",
        "print( arr[1:] )"
      ],
      "execution_count": null,
      "outputs": [
        {
          "output_type": "stream",
          "name": "stdout",
          "text": [
            "(10, 20, 30, 40, 50)\n",
            "(10, 20, 30, 40, 50)\n",
            "(10, 20, 30, 40, 50)\n",
            "(10, 20, 30, 40)\n",
            "(20, 30, 40, 50)\n"
          ]
        }
      ]
    },
    {
      "cell_type": "code",
      "metadata": {
        "colab": {
          "base_uri": "https://localhost:8080/"
        },
        "id": "aTpVx4I7Uh_4",
        "outputId": "69978589-786b-40b9-a435-60cc9934ed25"
      },
      "source": [
        "# k의 기본값은 1이고, 생략 가능한 형태\n",
        "print( arr[0:4:1] )\n",
        "print( arr[::1] )\n",
        "\n",
        "# 짝수번째 인덱스의 원소만 선택\n",
        "print( arr[::2]) # 0, 2, 4, 6, 8, ... (k씩 증가)\n",
        "\n",
        "# 홀수번째 인덱스의 원소만 선택\n",
        "print( arr[1::2]) # 1, 3, 5, 7, 9, ... (k씩 증가)\n",
        "\n",
        "# 음수 인덱스\n",
        "print( arr[-1:-6:-1] ) # -1, -2, -3, -4, ... \n",
        "\n",
        "# 시퀀스에 대해서 매우 쉽게 reverse 연산이 가능합니다. \n",
        "print( arr[::-1] )"
      ],
      "execution_count": null,
      "outputs": [
        {
          "output_type": "stream",
          "name": "stdout",
          "text": [
            "(10, 20, 30, 40)\n",
            "(10, 20, 30, 40, 50)\n",
            "(10, 30, 50)\n",
            "(20, 40)\n",
            "(50, 40, 30, 20, 10)\n",
            "(50, 40, 30, 20, 10)\n"
          ]
        }
      ]
    },
    {
      "cell_type": "code",
      "metadata": {
        "colab": {
          "base_uri": "https://localhost:8080/"
        },
        "id": "wMdcis9FauML",
        "outputId": "07cd9cc3-dd25-4443-d8e5-9a7d68c140d6"
      },
      "source": [
        "print( min(arr) )\n",
        "print( max(arr) )"
      ],
      "execution_count": null,
      "outputs": [
        {
          "output_type": "stream",
          "name": "stdout",
          "text": [
            "10\n",
            "50\n"
          ]
        }
      ]
    },
    {
      "cell_type": "markdown",
      "metadata": {
        "id": "raT5T2smbAQ3"
      },
      "source": [
        "### 문자열\n",
        "- 문자열도 시퀀스 타입의 한 종류\n",
        "  - 튜플의 한 종류\n",
        "  - 그래서, 문자열도 튜플처럼 사용할 수 있습니다. \n",
        "  - 튜플의 속성과 추가적으로 문자열의 속성을 갖게 됩니다. "
      ]
    },
    {
      "cell_type": "code",
      "metadata": {
        "id": "3KysMfCgbKET"
      },
      "source": [
        "string = 'hello'"
      ],
      "execution_count": null,
      "outputs": []
    },
    {
      "cell_type": "code",
      "metadata": {
        "colab": {
          "base_uri": "https://localhost:8080/"
        },
        "id": "xOvldAKvbOFu",
        "outputId": "2a925ee3-95a2-48d9-a4a6-324200ccd67d"
      },
      "source": [
        "print( string[0] )\n",
        "print( string[::-1] )"
      ],
      "execution_count": null,
      "outputs": [
        {
          "output_type": "stream",
          "name": "stdout",
          "text": [
            "h\n",
            "olleh\n"
          ]
        }
      ]
    },
    {
      "cell_type": "markdown",
      "metadata": {
        "id": "sd8SSlvYxRIr"
      },
      "source": [
        "### 가변 연산자\n",
        "- 가변형 타입에서만 사용가능한 명령어(연산)\n",
        "- 튜플에서는 확인할 수 없습니다. "
      ]
    },
    {
      "cell_type": "markdown",
      "metadata": {
        "id": "WqJMf0CFkE2U"
      },
      "source": [
        "## 리스트(list)\n",
        "- 파이썬에서 가장 많이 사용하는 자료형\n",
        "- 다른 언어에서는 `배열`이라고 부릅니다. \n",
        "- 파이썬에서 자료를 다루는 가장 기본적인 형태이면서, 가장 기본적인 자료구조 이기도 합니다. "
      ]
    },
    {
      "cell_type": "code",
      "metadata": {
        "colab": {
          "base_uri": "https://localhost:8080/"
        },
        "id": "CoSU22NWcFmE",
        "outputId": "27551270-6675-45d1-eea2-9ff71423eb52"
      },
      "source": [
        "# 빈 리스트를 만드는 방법\n",
        "arr = []\n",
        "type( arr )"
      ],
      "execution_count": null,
      "outputs": [
        {
          "output_type": "execute_result",
          "data": {
            "text/plain": [
              "list"
            ]
          },
          "metadata": {},
          "execution_count": 94
        }
      ]
    },
    {
      "cell_type": "code",
      "metadata": {
        "colab": {
          "base_uri": "https://localhost:8080/"
        },
        "id": "AzVO6ZLZcMNq",
        "outputId": "24bf8a9a-77fc-45fe-a7d7-86fb69a17872"
      },
      "source": [
        "# 초기화된 리스트를 만드는 방법\n",
        "arr = [10, 20, 30, 40]\n",
        "print(arr)"
      ],
      "execution_count": null,
      "outputs": [
        {
          "output_type": "stream",
          "name": "stdout",
          "text": [
            "[10, 20, 30, 40]\n"
          ]
        }
      ]
    },
    {
      "cell_type": "markdown",
      "metadata": {
        "id": "R78CUqQGcX9k"
      },
      "source": [
        "### 공통 연산자\n",
        "- 튜플과 동일합니다, 똑같이 사용할 수 있습니다. "
      ]
    },
    {
      "cell_type": "markdown",
      "metadata": {
        "id": "R2FA6MILcdDc"
      },
      "source": [
        "### 가변 연산자"
      ]
    },
    {
      "cell_type": "code",
      "metadata": {
        "colab": {
          "base_uri": "https://localhost:8080/",
          "height": 218
        },
        "id": "vVWUeZLTcfya",
        "outputId": "4df27dc3-44ad-4473-debc-9d7ccd55a755"
      },
      "source": [
        "strings = 'Hello'\n",
        "print( strings[1] )\n",
        "\n",
        "# 대문자 'H'를 소문자로 바꾸고자 한다면?\n",
        "strings[0] = 'h'"
      ],
      "execution_count": null,
      "outputs": [
        {
          "output_type": "stream",
          "name": "stdout",
          "text": [
            "e\n"
          ]
        },
        {
          "output_type": "error",
          "ename": "TypeError",
          "evalue": "ignored",
          "traceback": [
            "\u001b[0;31m---------------------------------------------------------------------------\u001b[0m",
            "\u001b[0;31mTypeError\u001b[0m                                 Traceback (most recent call last)",
            "\u001b[0;32m<ipython-input-101-ea88a07ffcbd>\u001b[0m in \u001b[0;36m<module>\u001b[0;34m()\u001b[0m\n\u001b[1;32m      3\u001b[0m \u001b[0;34m\u001b[0m\u001b[0m\n\u001b[1;32m      4\u001b[0m \u001b[0;31m# 대문자 'H'를 소문자로 바꾸고자 한다면?\u001b[0m\u001b[0;34m\u001b[0m\u001b[0;34m\u001b[0m\u001b[0;34m\u001b[0m\u001b[0m\n\u001b[0;32m----> 5\u001b[0;31m \u001b[0mstrings\u001b[0m\u001b[0;34m[\u001b[0m\u001b[0;36m0\u001b[0m\u001b[0;34m]\u001b[0m \u001b[0;34m=\u001b[0m \u001b[0;34m'h'\u001b[0m\u001b[0;34m\u001b[0m\u001b[0;34m\u001b[0m\u001b[0m\n\u001b[0m",
            "\u001b[0;31mTypeError\u001b[0m: 'str' object does not support item assignment"
          ]
        }
      ]
    },
    {
      "cell_type": "code",
      "metadata": {
        "colab": {
          "base_uri": "https://localhost:8080/"
        },
        "id": "hApotlo7dat7",
        "outputId": "dcf85ab7-faaf-4b16-8790-72855df2a2ff"
      },
      "source": [
        "print( arr )\n",
        "arr[0] = 1\n",
        "print( arr )"
      ],
      "execution_count": null,
      "outputs": [
        {
          "output_type": "stream",
          "name": "stdout",
          "text": [
            "[10, 20, 30, 40]\n",
            "[1, 20, 30, 40]\n"
          ]
        }
      ]
    },
    {
      "cell_type": "markdown",
      "metadata": {
        "id": "crGnrZ3pd-Mr"
      },
      "source": [
        "#### append Vs. extend\n",
        "- 리스트에 원소를 추가하는 명령어\n",
        "- 리스트에서만 사용이 가능 합니다. \n",
        "- 원소를 하나만 추가 하는 경우와 여러개를 한 꺼번에 추가하는 경우"
      ]
    },
    {
      "cell_type": "code",
      "metadata": {
        "colab": {
          "base_uri": "https://localhost:8080/"
        },
        "id": "CVzWwfyIeAHV",
        "outputId": "fd8eca43-4e8f-4f44-b8c5-20524666d614"
      },
      "source": [
        "print( arr )\n",
        "\n",
        "# append를 이용하면 리스트에 가장 마지막(맨 끝)에 원소를 추가\n",
        "# 이때, 명령어를 실행한 결과를 반환하지 않습니다.\n",
        "arr.append(50)\n",
        "print( arr ) # 이런 경우에는 직접 확인을 해주면 됩니다. "
      ],
      "execution_count": null,
      "outputs": [
        {
          "output_type": "stream",
          "name": "stdout",
          "text": [
            "[1, 20, 30, 40, 50, 50, 50, 50, 50, 50]\n",
            "[1, 20, 30, 40, 50, 50, 50, 50, 50, 50, 50]\n"
          ]
        }
      ]
    },
    {
      "cell_type": "markdown",
      "metadata": {
        "id": "NsWj-jp5e44r"
      },
      "source": [
        "> 돌려주는 경우 Vs. 돌려주지 않는 경우\n",
        "  - 원본 자료형이 직접 바뀌는 경우에는 돌려주지 않습니다. \n",
        "  - 파이썬에서 돌려주는 경우는, 새로운 자료가 만들어진 경우에만 돌려주게 됩니다. "
      ]
    },
    {
      "cell_type": "code",
      "metadata": {
        "colab": {
          "base_uri": "https://localhost:8080/"
        },
        "id": "88VgEI2YfCzF",
        "outputId": "3361563e-6ab6-452e-d7e3-e656fceccf6d"
      },
      "source": [
        "# 원소 여러개를 추가하는 경우\n",
        "# 리스트와 리스트를 더해서 변수를 새로 할당\n",
        "# extend를 이용하는 방법은 동일한 명령어 입니다. \n",
        "arr = [1, 2, 3, 4]\n",
        "print(arr)\n",
        "\n",
        "# 마찬가지로 명령어를 실행환 결과를 반환하지 않습니다. \n",
        "arrend.extend([5, 6, 7])"
      ],
      "execution_count": null,
      "outputs": [
        {
          "output_type": "stream",
          "name": "stdout",
          "text": [
            "[1, 2, 3, 4]\n"
          ]
        }
      ]
    },
    {
      "cell_type": "code",
      "metadata": {
        "colab": {
          "base_uri": "https://localhost:8080/"
        },
        "id": "gbM-zNqljTo1",
        "outputId": "264ceed9-68b1-4a15-907b-7dd77798c47d"
      },
      "source": [
        "print(arr)"
      ],
      "execution_count": null,
      "outputs": [
        {
          "output_type": "stream",
          "name": "stdout",
          "text": [
            "[1, 2, 3, 4, 5, 6, 7]\n"
          ]
        }
      ]
    },
    {
      "cell_type": "code",
      "metadata": {
        "id": "W9XuZl3yjdUo"
      },
      "source": [
        "arr = [1, 2, 3, 4]\n",
        "\n",
        "# 새로 생성된 리스트를 참조할 방법이 없습니다. \n",
        "arr + [5, 6, 7]\n",
        "\n",
        "# 새로 변수명을 정의 해줘야 변수를 통해서 참조가 가능\n",
        "# arr = arr + [5, 6, 7]\n",
        "arr += [5, 6, 7]"
      ],
      "execution_count": null,
      "outputs": []
    },
    {
      "cell_type": "code",
      "metadata": {
        "colab": {
          "base_uri": "https://localhost:8080/"
        },
        "id": "9lkU2pnwkmBl",
        "outputId": "08a93cbd-3166-412e-f6a5-ea5a4da9caf6"
      },
      "source": [
        "print(arr)"
      ],
      "execution_count": null,
      "outputs": [
        {
          "output_type": "stream",
          "name": "stdout",
          "text": [
            "[1, 2, 3, 4, 5, 6, 7]\n"
          ]
        }
      ]
    },
    {
      "cell_type": "markdown",
      "metadata": {
        "id": "OZfuKv18k3OT"
      },
      "source": [
        "왜 출력이 되지 않을까? \n",
        "- 반환되는 경우와 반환되지 않는 경우의 차이"
      ]
    },
    {
      "cell_type": "code",
      "metadata": {
        "colab": {
          "base_uri": "https://localhost:8080/"
        },
        "id": "tZ6EiukZk2DF",
        "outputId": "aa16c9c3-f1ae-4ad3-e4fc-f15c41c49bde"
      },
      "source": [
        "arr = [1, 2, 3, 4]\n",
        "print( arr + [5, 6, 7] )"
      ],
      "execution_count": null,
      "outputs": [
        {
          "output_type": "stream",
          "name": "stdout",
          "text": [
            "[1, 2, 3, 4, 5, 6, 7]\n"
          ]
        }
      ]
    },
    {
      "cell_type": "code",
      "metadata": {
        "colab": {
          "base_uri": "https://localhost:8080/"
        },
        "id": "Tmd82vF8lBfP",
        "outputId": "619cbf14-3959-42ce-c97c-98ec144c88b3"
      },
      "source": [
        "# print 명령에 들어가는 입력이 없습니다\n",
        "print( arr.append(5) )"
      ],
      "execution_count": null,
      "outputs": [
        {
          "output_type": "stream",
          "name": "stdout",
          "text": [
            "None\n"
          ]
        }
      ]
    },
    {
      "cell_type": "markdown",
      "metadata": {
        "id": "-yzkoZ71487M"
      },
      "source": [
        "#### append Vs. insert\n",
        "- append: 리스트의 맨 뒤(끝)에 추가\n",
        "- 리스트 중간에 원하는 위치에 원소를 `삽입`하는 형태를 insert라고 합니다. "
      ]
    },
    {
      "cell_type": "code",
      "metadata": {
        "colab": {
          "base_uri": "https://localhost:8080/"
        },
        "id": "YmuMPFKR4-mh",
        "outputId": "9e243725-2170-470c-f6f2-c3c99f0fe24a"
      },
      "source": [
        "arr = [10, 20, 30, 40, 50]\n",
        "arr"
      ],
      "execution_count": null,
      "outputs": [
        {
          "output_type": "execute_result",
          "data": {
            "text/plain": [
              "[10, 20, 30, 40, 50]"
            ]
          },
          "metadata": {},
          "execution_count": 174
        }
      ]
    },
    {
      "cell_type": "code",
      "metadata": {
        "id": "aMuv_Rdo5bWs"
      },
      "source": [
        "# 역시 반환값은 없습니다\n",
        "arr.insert(2, 25)"
      ],
      "execution_count": null,
      "outputs": []
    },
    {
      "cell_type": "code",
      "metadata": {
        "colab": {
          "base_uri": "https://localhost:8080/"
        },
        "id": "fs_JROtT5gaa",
        "outputId": "f236552e-f816-4a86-e234-12405b7c2d4c"
      },
      "source": [
        "# 하지만, 확인해보면 반영이 되어 있는 것을 알 수 있습니다. \n",
        "arr"
      ],
      "execution_count": null,
      "outputs": [
        {
          "output_type": "execute_result",
          "data": {
            "text/plain": [
              "[10, 20, 25, 30, 40, 50]"
            ]
          },
          "metadata": {},
          "execution_count": 177
        }
      ]
    },
    {
      "cell_type": "markdown",
      "metadata": {
        "id": "boxA0g-L5mQm"
      },
      "source": [
        "## range\n",
        "- 범위 내의 수열을 생성\n",
        "- 정수만 가능\n",
        "- 반복문과 함께 가장 많이 쓰이는 명령어 중에 하나 입니다. \n",
        "- range의 기본적인 형태는 아래와 같습니다. \n",
        "\n",
        "```\n",
        "  range( start, end )\n",
        "```"
      ]
    },
    {
      "cell_type": "code",
      "metadata": {
        "colab": {
          "base_uri": "https://localhost:8080/"
        },
        "id": "5ndSTfk26bog",
        "outputId": "7ae9456f-cf71-429f-8d50-496199aff145"
      },
      "source": [
        "# range의 일반적인 사용법\n",
        "# 마지막 수는 포함되지 않습니다. \n",
        "range(1, 10) # 1, 2, 3, 4, 5, 6, 7, 8, 9"
      ],
      "execution_count": null,
      "outputs": [
        {
          "output_type": "execute_result",
          "data": {
            "text/plain": [
              "range(1, 10)"
            ]
          },
          "metadata": {},
          "execution_count": 178
        }
      ]
    },
    {
      "cell_type": "code",
      "metadata": {
        "colab": {
          "base_uri": "https://localhost:8080/"
        },
        "id": "etj8APVY7BI6",
        "outputId": "5167aa2a-cb66-48ca-847f-09e06fd5b4c7"
      },
      "source": [
        "# 실제로 수열을 확인해보고 싶다면?\n",
        "# 리스트로 변환 해보면 확인할 수 있습니다. \n",
        "list( range(1, 10) )"
      ],
      "execution_count": null,
      "outputs": [
        {
          "output_type": "execute_result",
          "data": {
            "text/plain": [
              "[1, 2, 3, 4, 5, 6, 7, 8, 9]"
            ]
          },
          "metadata": {},
          "execution_count": 179
        }
      ]
    },
    {
      "cell_type": "markdown",
      "metadata": {
        "id": "qIaFHZtd7WsQ"
      },
      "source": [
        "range의 여러가지 형태\n",
        "- 사용법은 슬라이스와 비슷합니다."
      ]
    },
    {
      "cell_type": "code",
      "metadata": {
        "colab": {
          "base_uri": "https://localhost:8080/"
        },
        "id": "niDAbhth-KIA",
        "outputId": "c9daf343-da22-4eda-e6d0-a6fa23011dce"
      },
      "source": [
        "# start는 생략이 가능(0부터 수열을 생성)\n",
        "# start만 생략이 가능\n",
        "range(10)"
      ],
      "execution_count": null,
      "outputs": [
        {
          "output_type": "execute_result",
          "data": {
            "text/plain": [
              "range(0, 10)"
            ]
          },
          "metadata": {},
          "execution_count": 180
        }
      ]
    },
    {
      "cell_type": "code",
      "metadata": {
        "colab": {
          "base_uri": "https://localhost:8080/"
        },
        "id": "VpKPj3xR-Vpm",
        "outputId": "dfe91e7d-f4da-4c20-f24a-350aac430bf2"
      },
      "source": [
        "# end를 생략할 수는 없습니다. \n",
        "# end가 0인 수열을 의미\n",
        "range(0)"
      ],
      "execution_count": null,
      "outputs": [
        {
          "output_type": "execute_result",
          "data": {
            "text/plain": [
              "range(0, 0)"
            ]
          },
          "metadata": {},
          "execution_count": 181
        }
      ]
    },
    {
      "cell_type": "code",
      "metadata": {
        "colab": {
          "base_uri": "https://localhost:8080/"
        },
        "id": "cv8uF0N2-n2D",
        "outputId": "163c016f-1470-4ccf-af5c-961e75019068"
      },
      "source": [
        "# step은 생략이 가능한 형태로, 기본값이 1\n",
        "range(1, 10, 1)\n",
        "\n",
        "# 짝수 수열\n",
        "print( list( range(0, 10, 2) ) )\n",
        "\n",
        "# 홀수 수열\n",
        "print( list( range(1, 10, 2) ) )"
      ],
      "execution_count": null,
      "outputs": [
        {
          "output_type": "stream",
          "name": "stdout",
          "text": [
            "[0, 2, 4, 6, 8]\n",
            "[1, 3, 5, 7, 9]\n"
          ]
        }
      ]
    },
    {
      "cell_type": "markdown",
      "metadata": {
        "id": "UmQx000I_n_J"
      },
      "source": [
        "# 매핑형 타입\n",
        "- 딕셔너리\n",
        "- `해시 자료구조`라고 표현 하기도 합니다. \n",
        "  - 파이썬은 딕셔너리로 해시 구조를 표현할 수 있다고 보면 됩니다. \n",
        "\n",
        "- 딕셔너리의 형태는 다음과 같습니다. \n",
        "\n",
        "```\n",
        "  { key:value, key:value, ... }\n",
        "```\n",
        "\n",
        "- key를 직접 정의할 수 있습니다. \n",
        "  - 튜플이나 리스트와는 다르게 인덱스가 자동으로 생성되지 않습니다. \n",
        "  - 반드시 숫자가 아니어도 됩니다. "
      ]
    },
    {
      "cell_type": "code",
      "metadata": {
        "colab": {
          "base_uri": "https://localhost:8080/"
        },
        "id": "yoMTjafL_5MS",
        "outputId": "e2da2aca-f248-4383-e424-1f9580938582"
      },
      "source": [
        "# 빈 딕셔너리를 만드는 방법\n",
        "hash = {}\n",
        "type(hash)"
      ],
      "execution_count": null,
      "outputs": [
        {
          "output_type": "execute_result",
          "data": {
            "text/plain": [
              "dict"
            ]
          },
          "metadata": {},
          "execution_count": 186
        }
      ]
    },
    {
      "cell_type": "code",
      "metadata": {
        "id": "gt4BHu9eAjca"
      },
      "source": [
        "# 딕셔너리인 경우 키가 존재하면 값을 업데이트 하고 \n",
        "# 키가 존재하지 않으면, 자동으로 추가\n",
        "# 리스트처럼 원소를 추가하기 위해서 명령어를 사용하지 않습니다.\n",
        "hash['first'] = 10"
      ],
      "execution_count": null,
      "outputs": []
    },
    {
      "cell_type": "code",
      "metadata": {
        "colab": {
          "base_uri": "https://localhost:8080/"
        },
        "id": "KuKv2IGIAzLH",
        "outputId": "7ac95b9a-5c67-4b0a-c78a-c21de3278ed9"
      },
      "source": [
        "hash"
      ],
      "execution_count": null,
      "outputs": [
        {
          "output_type": "execute_result",
          "data": {
            "text/plain": [
              "{'first': 10}"
            ]
          },
          "metadata": {},
          "execution_count": 188
        }
      ]
    },
    {
      "cell_type": "code",
      "metadata": {
        "colab": {
          "base_uri": "https://localhost:8080/",
          "height": 183
        },
        "id": "fyjlTtcXA5g5",
        "outputId": "d4aaa04c-62a4-44b4-929b-06cb87cb8d82"
      },
      "source": [
        "# 자동으로 인덱스가 생성되지 않습니다\n",
        "hash[0]"
      ],
      "execution_count": null,
      "outputs": [
        {
          "output_type": "error",
          "ename": "KeyError",
          "evalue": "ignored",
          "traceback": [
            "\u001b[0;31m---------------------------------------------------------------------------\u001b[0m",
            "\u001b[0;31mKeyError\u001b[0m                                  Traceback (most recent call last)",
            "\u001b[0;32m<ipython-input-189-bcfd0f9bac85>\u001b[0m in \u001b[0;36m<module>\u001b[0;34m()\u001b[0m\n\u001b[1;32m      1\u001b[0m \u001b[0;31m# 자동으로 인덱스가 생성되지 않습니다\u001b[0m\u001b[0;34m\u001b[0m\u001b[0;34m\u001b[0m\u001b[0;34m\u001b[0m\u001b[0m\n\u001b[0;32m----> 2\u001b[0;31m \u001b[0mhash\u001b[0m\u001b[0;34m[\u001b[0m\u001b[0;36m0\u001b[0m\u001b[0;34m]\u001b[0m\u001b[0;34m\u001b[0m\u001b[0;34m\u001b[0m\u001b[0m\n\u001b[0m",
            "\u001b[0;31mKeyError\u001b[0m: 0"
          ]
        }
      ]
    },
    {
      "cell_type": "code",
      "metadata": {
        "colab": {
          "base_uri": "https://localhost:8080/"
        },
        "id": "GGDO6mOqA8Mu",
        "outputId": "cb6233fe-b422-45b3-8740-93458acf9a19"
      },
      "source": [
        "# 다음과 같이 참조가 가능합니다\n",
        "hash['first']"
      ],
      "execution_count": null,
      "outputs": [
        {
          "output_type": "execute_result",
          "data": {
            "text/plain": [
              "10"
            ]
          },
          "metadata": {},
          "execution_count": 190
        }
      ]
    },
    {
      "cell_type": "code",
      "metadata": {
        "colab": {
          "base_uri": "https://localhost:8080/"
        },
        "id": "vT24jKAvB0PC",
        "outputId": "a210c518-4bb4-4b2f-c21e-94be851b4cc3"
      },
      "source": [
        "# 키가 존재하면 값을 업데이트 하게 됩니다. \n",
        "hash['first'] = 20\n",
        "has은"
      ],
      "execution_count": null,
      "outputs": [
        {
          "output_type": "execute_result",
          "data": {
            "text/plain": [
              "{'first': 20}"
            ]
          },
          "metadata": {},
          "execution_count": 191
        }
      ]
    },
    {
      "cell_type": "code",
      "metadata": {
        "colab": {
          "base_uri": "https://localhost:8080/"
        },
        "id": "SrWk8ADhB4-A",
        "outputId": "da3329f9-4c35-46ca-f272-637d8b53dbbd"
      },
      "source": [
        "# 키가 존재하지 않으면, 새로운 키를 추가하게 됩니다. \n",
        "hash['second'] = 30\n",
        "hash"
      ],
      "execution_count": null,
      "outputs": [
        {
          "output_type": "execute_result",
          "data": {
            "text/plain": [
              "{'first': 20, 'second': 30}"
            ]
          },
          "metadata": {},
          "execution_count": 192
        }
      ]
    },
    {
      "cell_type": "markdown",
      "metadata": {
        "id": "KjdICQEMB_el"
      },
      "source": [
        "딕셔너리는 가변하기도 하면서, 불가변 하기도 합니다. \n",
        "- 키는 수정할 수 없습니다\n",
        "- 값은 수정할 수 있습니다"
      ]
    },
    {
      "cell_type": "code",
      "metadata": {
        "id": "LhnypA8_CYmR"
      },
      "source": [
        "# 키를 삭제하는 경우\n",
        "del hash['first']\n",
        "hash"
      ],
      "execution_count": null,
      "outputs": []
    },
    {
      "cell_type": "code",
      "metadata": {
        "colab": {
          "base_uri": "https://localhost:8080/"
        },
        "id": "9Vd1-7kyCmVM",
        "outputId": "19c840bc-eafa-4102-9558-fc08ba1ea8cd"
      },
      "source": [
        "hash['first'] = 10\n",
        "hash"
      ],
      "execution_count": null,
      "outputs": [
        {
          "output_type": "execute_result",
          "data": {
            "text/plain": [
              "{'first': 10, 'second': 30}"
            ]
          },
          "metadata": {},
          "execution_count": 195
        }
      ]
    },
    {
      "cell_type": "markdown",
      "metadata": {
        "id": "L45UPnAbG9MD"
      },
      "source": [
        "딕셔너리의 연산"
      ]
    },
    {
      "cell_type": "code",
      "metadata": {
        "colab": {
          "base_uri": "https://localhost:8080/"
        },
        "id": "mEtIuhiiG8kz",
        "outputId": "9b790985-0930-4080-df63-d5c4a1d9ed36"
      },
      "source": [
        "# 키 리스트만 따로 확인할 수 있습니다. \n",
        "print( hash.keys() )\n",
        "\n",
        "# 값만 따로 확인할 수 있습니다. \n",
        "print( hash.values() )\n",
        "\n",
        "# 키와 값을 한쌍의 튜플로 하는 리스트를 얻을 수 있습니다. \n",
        "print( hash.items() )"
      ],
      "execution_count": null,
      "outputs": [
        {
          "output_type": "stream",
          "name": "stdout",
          "text": [
            "dict_keys(['second', 'first'])\n",
            "dict_values([30, 10])\n",
            "dict_items([('second', 30), ('first', 10)])\n"
          ]
        }
      ]
    },
    {
      "cell_type": "markdown",
      "metadata": {
        "id": "BUs3drjQrbzQ"
      },
      "source": [
        "# 복사\n",
        "- 얕은 복사, 깊은 복사\n",
        "  - 주소 복사, 값 복사 라고 표현하기도 합니다"
      ]
    },
    {
      "cell_type": "code",
      "metadata": {
        "id": "iCjCggx4rtpt"
      },
      "source": [
        "arr= [10, 20, 30]"
      ],
      "execution_count": null,
      "outputs": []
    },
    {
      "cell_type": "code",
      "metadata": {
        "id": "32xr0hQGrzIF"
      },
      "source": [
        "# 메모리 복사\n",
        "other = arr"
      ],
      "execution_count": null,
      "outputs": []
    },
    {
      "cell_type": "code",
      "metadata": {
        "colab": {
          "base_uri": "https://localhost:8080/"
        },
        "id": "AVo8n0RdsA7U",
        "outputId": "c1c59c73-7feb-4109-fa60-1046aed5aa0f"
      },
      "source": [
        "# 실제로 arr 리스트와 동일한 리스트를 확인할 수 있고 \n",
        "# 메모리를 복사했다고 표현 합니다. \n",
        "other"
      ],
      "execution_count": null,
      "outputs": [
        {
          "output_type": "execute_result",
          "data": {
            "text/plain": [
              "[10, 20, 30]"
            ]
          },
          "metadata": {},
          "execution_count": 6
        }
      ]
    },
    {
      "cell_type": "markdown",
      "metadata": {
        "id": "XtXwCNcmsSg9"
      },
      "source": [
        "하지만, 실제로 값이 복사가 된 것은 아닙니다(얕은복사/주소복사)"
      ]
    },
    {
      "cell_type": "code",
      "metadata": {
        "colab": {
          "base_uri": "https://localhost:8080/"
        },
        "id": "J7kHReI0ssCa",
        "outputId": "490d3b2f-5911-4252-f213-31e7048e98d3"
      },
      "source": [
        "# 실제로, 두 메모리의 위치를 확인해봅시다. \n",
        "print( hex( id(arr)))\n",
        "print( hex( id(other)))"
      ],
      "execution_count": null,
      "outputs": [
        {
          "output_type": "stream",
          "name": "stdout",
          "text": [
            "0x7f417f890c30\n",
            "0x7f417f890c30\n"
          ]
        }
      ]
    },
    {
      "cell_type": "markdown",
      "metadata": {
        "id": "U1PQa6XJtYnF"
      },
      "source": [
        "변수 이름은 다르지만, 결국 동일한 주소를 나타내는 경우\n",
        "- 즉, 두 변수는 같은 변수가 됩니다. \n",
        "- 같은 메모리를 참조할 수 있는 변수가 2개 있는 경우(2개 이상도 가능)\n",
        "- 값이 복사되길 원했지만, 주소만 서로 공유\n",
        "  - 전체 값을 항상 메모리에 복사를 하게되면, 그만큼 속도가 저하되고, 메모리도 많이 차지하게 될 겁니다. \n",
        "  - 어짜피 같은 값을 사용할 거라면, 값이 메모리의 어디에 있는지만 알고 있으면 참조 가능"
      ]
    },
    {
      "cell_type": "markdown",
      "metadata": {
        "id": "dmSlzg_Utztu"
      },
      "source": [
        "파이썬은 `얕은복사`가 기본입니다. \n",
        "- int, float, bool은 값이 복사가 됩니다.\n",
        "- 시퀀스 타입은 전부 얕은복사가 기본 입니다. "
      ]
    },
    {
      "cell_type": "markdown",
      "metadata": {
        "id": "95J7ubVq07Vp"
      },
      "source": [
        "copy()와 슬라이스는 동일한 연산 입니다. "
      ]
    },
    {
      "cell_type": "code",
      "metadata": {
        "id": "5xjfDq4Ty1iB"
      },
      "source": [
        "other = arr.copy()"
      ],
      "execution_count": null,
      "outputs": []
    },
    {
      "cell_type": "code",
      "metadata": {
        "colab": {
          "base_uri": "https://localhost:8080/"
        },
        "id": "mgSPwCq0zNy2",
        "outputId": "13274bcb-19c7-4af2-fcfd-91b10a584b64"
      },
      "source": [
        "print( hex(id(arr)))\n",
        "print( hex(id(other)))"
      ],
      "execution_count": null,
      "outputs": [
        {
          "output_type": "stream",
          "name": "stdout",
          "text": [
            "0x7f417f890c30\n",
            "0x7f417be197d0\n"
          ]
        }
      ]
    },
    {
      "cell_type": "code",
      "metadata": {
        "id": "k1lCJrQizITb"
      },
      "source": [
        "other = arr[:]"
      ],
      "execution_count": null,
      "outputs": []
    },
    {
      "cell_type": "code",
      "metadata": {
        "colab": {
          "base_uri": "https://localhost:8080/"
        },
        "id": "sKJ5mnmSzKEr",
        "outputId": "b506594e-7524-4f88-c6a4-4ffb4bd6328b"
      },
      "source": [
        "print( hex(id(arr)))\n",
        "print( hex(id(other)))"
      ],
      "execution_count": null,
      "outputs": [
        {
          "output_type": "stream",
          "name": "stdout",
          "text": [
            "0x7f417f890c30\n",
            "0x7f417be3f690\n"
          ]
        }
      ]
    },
    {
      "cell_type": "code",
      "metadata": {
        "colab": {
          "base_uri": "https://localhost:8080/"
        },
        "id": "VbEErK2_0ADY",
        "outputId": "1fe0e97a-97fb-42eb-aa45-cae2a9cd9fcc"
      },
      "source": [
        "arr[:]"
      ],
      "execution_count": null,
      "outputs": [
        {
          "output_type": "execute_result",
          "data": {
            "text/plain": [
              "[10, 20, 30]"
            ]
          },
          "metadata": {},
          "execution_count": 15
        }
      ]
    },
    {
      "cell_type": "markdown",
      "metadata": {
        "id": "S0g5NcJ20-4O"
      },
      "source": [
        "그럼왜 공식문서에서는 `얕은 복사`라고 했을까?\n",
        "- 분명히 값이 복사된 것은 맞습니다. \n",
        "- 완벽히 깊은 복사를 제공하지는 않습니다. "
      ]
    },
    {
      "cell_type": "code",
      "metadata": {
        "id": "n6dZjnuv1J7R"
      },
      "source": [
        "arr2D = [ 'Hello', 'Python', 'Java', 'C' ]"
      ],
      "execution_count": null,
      "outputs": []
    },
    {
      "cell_type": "code",
      "metadata": {
        "id": "iaZD_b9g1RDu"
      },
      "source": [
        "# 동일한 방법으로 복사\n",
        "other = arr2D[:]"
      ],
      "execution_count": null,
      "outputs": []
    },
    {
      "cell_type": "code",
      "metadata": {
        "colab": {
          "base_uri": "https://localhost:8080/"
        },
        "id": "RJJ5IL9Q1XwY",
        "outputId": "ea7bf6b0-8f2f-4073-ab6c-7e26d2ca6265"
      },
      "source": [
        "print( hex(id(arr2D)))\n",
        "print( hex(id(other)))"
      ],
      "execution_count": null,
      "outputs": [
        {
          "output_type": "stream",
          "name": "stdout",
          "text": [
            "0x7f417be376e0\n",
            "0x7f417be1ff00\n"
          ]
        }
      ]
    },
    {
      "cell_type": "code",
      "metadata": {
        "colab": {
          "base_uri": "https://localhost:8080/"
        },
        "id": "eTVM-TS_1dFn",
        "outputId": "20a5886a-f954-40ca-f8d1-50aca8c54be1"
      },
      "source": [
        "# 하지만... \n",
        "# 원본 메모리와 복사된 메모리의 첫 번째 원소의 위치를 확인해 봅시다.\n",
        "print( hex(id(arr2D[0])))\n",
        "print( hex(id(other[0])))"
      ],
      "execution_count": null,
      "outputs": [
        {
          "output_type": "stream",
          "name": "stdout",
          "text": [
            "0x7f417be28030\n",
            "0x7f417be28030\n"
          ]
        }
      ]
    },
    {
      "cell_type": "markdown",
      "metadata": {
        "id": "T2ZLfID_3Flp"
      },
      "source": [
        "그렇다면 깊은복사는 어떻게?\n",
        "- 파이썬은 깊은복사를 하기 위한 방법을 따로 준비\n",
        "- deepcopy를 이용해서 완벽하게 깊은복사를 할 수 있습니다. \n",
        "  - deepcopy를 이용하지 않는 모든 경우는 전부 얕은복사로 이해하셔도 됩니다. \n",
        "  - 불가변형 대해서는 값을 굳이 복사하지 않습니다.\n",
        "  - 하지만, 깊은복사라고 생각하고 다루시면 됩니다. "
      ]
    },
    {
      "cell_type": "code",
      "metadata": {
        "id": "YKE4TiaR4FQQ"
      },
      "source": [
        "arr2D = [\n",
        "  [1, 2, 3],\n",
        "  [4, 5, 6]\n",
        "]"
      ],
      "execution_count": null,
      "outputs": []
    },
    {
      "cell_type": "code",
      "metadata": {
        "id": "c1Sorwf_3dmP"
      },
      "source": [
        "from copy import deepcopy\n",
        "other = deepcopy( arr2D )"
      ],
      "execution_count": null,
      "outputs": []
    },
    {
      "cell_type": "code",
      "metadata": {
        "colab": {
          "base_uri": "https://localhost:8080/"
        },
        "id": "Ua3bmIQN3jhE",
        "outputId": "54fb29d3-98a5-4313-cabb-0b31fee01d21"
      },
      "source": [
        "print( hex(id(arr2D)))\n",
        "print( hex(id(other)))"
      ],
      "execution_count": null,
      "outputs": [
        {
          "output_type": "stream",
          "name": "stdout",
          "text": [
            "0x7f417bdae780\n",
            "0x7f417bdac2d0\n"
          ]
        }
      ]
    },
    {
      "cell_type": "code",
      "metadata": {
        "colab": {
          "base_uri": "https://localhost:8080/"
        },
        "id": "tCSX_9lQ3lua",
        "outputId": "67e432a8-4fa8-41f5-dd89-054f58854640"
      },
      "source": [
        "print( hex(id(arr2D[0])))\n",
        "print( hex(id(other[0])))"
      ],
      "execution_count": null,
      "outputs": [
        {
          "output_type": "stream",
          "name": "stdout",
          "text": [
            "0x7f417bdaee10\n",
            "0x7f417bdaecd0\n"
          ]
        }
      ]
    },
    {
      "cell_type": "code",
      "metadata": {
        "id": "r_UCsUjE6flv"
      },
      "source": [
        "arr = [1, 2, 3, 4]"
      ],
      "execution_count": null,
      "outputs": []
    },
    {
      "cell_type": "code",
      "metadata": {
        "id": "vTrThdGB6hb5"
      },
      "source": [
        "other = deepcopy( arr )"
      ],
      "execution_count": null,
      "outputs": []
    },
    {
      "cell_type": "code",
      "metadata": {
        "colab": {
          "base_uri": "https://localhost:8080/"
        },
        "id": "_eaPK7eq6jOd",
        "outputId": "50bbd926-6e6c-47db-e35f-366ce50f8c7c"
      },
      "source": [
        "print( hex(id(arr)))\n",
        "print( hex(id(other)))"
      ],
      "execution_count": null,
      "outputs": [
        {
          "output_type": "stream",
          "name": "stdout",
          "text": [
            "0x7f417be13460\n",
            "0x7f417bdba500\n"
          ]
        }
      ]
    }
  ]
}