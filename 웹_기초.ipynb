{
  "nbformat": 4,
  "nbformat_minor": 0,
  "metadata": {
    "colab": {
      "name": "웹 기초.ipynb",
      "provenance": [],
      "collapsed_sections": [
        "_xPUdydbmmbf",
        "hf0oHDe9oQR5",
        "9FR4OFF8RoQt",
        "ffRMOqAmWghS",
        "TKOjvxpDbaUr"
      ],
      "authorship_tag": "ABX9TyOPhpxcYtI5LFJi8a9yp/W7",
      "include_colab_link": true
    },
    "kernelspec": {
      "name": "python3",
      "display_name": "Python 3"
    },
    "language_info": {
      "name": "python"
    }
  },
  "cells": [
    {
      "cell_type": "markdown",
      "metadata": {
        "id": "view-in-github",
        "colab_type": "text"
      },
      "source": [
        "<a href=\"https://colab.research.google.com/github/chaegeon/Multi-learning/blob/main/%EC%9B%B9_%EA%B8%B0%EC%B4%88.ipynb\" target=\"_parent\"><img src=\"https://colab.research.google.com/assets/colab-badge.svg\" alt=\"Open In Colab\"/></a>"
      ]
    },
    {
      "cell_type": "markdown",
      "source": [
        "# 웹(www)이란?\n",
        "- World Wide Web\n",
        "- CERN\n",
        "  - 아주 유명한 물리연구소\n",
        "  - '힉스입자'가 발견된 곳\n",
        "  - 이 연구소에서 웹의 시초가 개발 됨( by. 팀버너스리)\n",
        "    - 문서의 공유를 쉽게 하기 위해서 만든 것(연구소 내에서)\n",
        "    - 만들고 보니 너무 괜찮아서 외부에 공개(세계 최초의 웹 페이지)\n",
        "    - [세계 최초의 웹페이지] : (http://info.cern.ch)\n",
        "    -\n",
        "\n",
        "\n"
      ],
      "metadata": {
        "id": "_xPUdydbmmbf"
      }
    },
    {
      "cell_type": "markdown",
      "source": [
        "# 웹의 원래 목적\n",
        "- 문서를 쉽게 공유하기 위한 목적으로 제일 처음 만들어졌다.\n",
        "- 최초의 웹(Web 1.0)은 정적인 페이지를 나타낸다\n",
        "  - 웹의 발전사에 따라서 버젼을 붙임\n",
        "    - Web20.0 , Web3.0 ...\n",
        "    - 명확한 기준은 없고, 사람마다 기준이 다름\n",
        "    - 웹 1.0은 문서를 표현하는 *정적인* 웹사이트\n",
        "    - 웹 2.0은 `자바스크립트`의 출현으로 정적인 페이지에서 동적인 페이지가 나오기 시작한 시대\n",
        "      - 화면상에서 움직이는 모든 것들은 모두 자바스크립트가 아니라면 표현할 수 없음\n",
        "\n",
        "    - 웹 3.0은 `CGI(Common Gateway Interface` 기술이 나오기 시작한 시대\n",
        "      - 보통은 서버가 여러개 있고 브라우저를 통해서 웹서버랑 통신하는 개념.\n",
        "      - 사용자로부터 네트워크를 통해 데이터를 전달받음. CGI라는 기숧을 통해 사용자 맞춤형 서비스를 할 수 있?\n",
        "      - 로그인 등의 처리가 가능해짐\n",
        "      - 이때의 CGI 기술이 발전하면서 C언어, PHP 등 지금의 백엔드가 됨\n",
        "      - 브라우저가 발전하면서 HTML, CSS, Javascript 등이 됨\n",
        "    - 3.0과 4.0 사이에 10년이라는 시간이 존재\n",
        "      - 이 시간동안 웹표준이 거의 변화가 없던 시절\n",
        "    - 웹 4.0은 HTML5 표준이 나온 시대. 지금으로 봄\n",
        "      - `자바스크립트`가 표준언어가 됨\n",
        "        - 자바스크립트를 이용한 라이브러리들 Vue, Node, React, Angular, JQuery ...\n",
        "        - 실시간으로 변경되는 것들 (추천수라든가 댓글이라든가 날씨 뭐 이런거?)\n",
        "        - 이것들을 배우고 다룰 수 있게 되는 것이 프론트엔드 수업의 핵심?\n",
        "      - 원래는 문서만 표현할 수 있었던 HTML이 이미지, 영상, 음악 등도 같이 표현할 수 있게 됨\n",
        "\n",
        "- 문서를 표현하던 웹페이지가 현재는 어플리케이션을 대신하고 있다.\n",
        "\n",
        "\n"
      ],
      "metadata": {
        "id": "hf0oHDe9oQR5"
      }
    },
    {
      "cell_type": "markdown",
      "source": [
        "# 웹의 기본적인 동작방식\n",
        "1. HTTP ( HHyper-Text Transfer Protocol)\n",
        "- 어떻게 전송하느냐\n",
        "- HTML로 이루어진 `텍스트`를 네트워크를 통해서 송수신 하는 방법을 정의한 것\n",
        "  - HTML로 이루어진 텍스트?\n",
        "    - 크롬 기준 F12 누르면 나오는 걸 HTML이라고 함. (소스코드 라고도 함)\n",
        "    - 이걸 `랜더러`?렌더링? 하면 브라우저에 예쁘게 나옴. 이게 브라우저의 역할\n",
        "  - HTML로 이루어진 소스파일은 실제로는 서버에 존재를 하고\n",
        "  - 브라우저는 서버로부터 이 HTML 소스파일을 전송받아서 화면에 표현\n",
        "\n",
        "\n",
        "2. HTML (Hyper-Text Markup Language)\n",
        "- 무엇을 전송하느냐\n",
        "- 하이퍼-텍스트 로 이루어진 소스코드\n",
        "  - 왜 이름이 하이퍼-텍스트인지는 모르겠..\n",
        "  - 누군가는 이 하이퍼를 `지랄같다`라고 해석을 하기도 함\n",
        "  - 즉, 하이퍼라는 단어가 큰 의미를 가지지는 않음\n",
        "  - 마크업은?\n",
        "    - 보통 `<,>` 로 이루어진 텍스트를 마크업 언어라고 한다.\n",
        "\n",
        "- 프론트 엔드 Vs. 백엔드\n",
        "  - 어디서 실행되느냐의 차이\n",
        "  - 프론트 엔드\n",
        "    - 무조건 웹브라우저에서 실행되는 것들(HTML,CSS,Javascript)\n",
        "    - 소스코드를 모두 다운로드 해서 브라우저가 실행\n",
        "    - 그렇기 때문에 소스코드가 모두 공개 됨\n",
        "  - 백엔드\n",
        "    - 서버에서 실행되는 것을 의미\n",
        "    - 그래서 코드가 공개되어 있지 않음\n",
        "    - 우리가 브라우저에서 확인할 수 있는 것은, 서버에서 실행하고 난 후에 반환된 값을 보고 있는 것이다.\n",
        "    - 자바의 스프링, 파이썬의 장고, 루비의 레일즈, ...\n",
        "    \n",
        "\n",
        "\n"
      ],
      "metadata": {
        "id": "gKwGzmmBtYff"
      }
    },
    {
      "cell_type": "markdown",
      "source": [
        "## HTTP\n",
        "- 네트워크 전송 규약\n",
        "  - 문자 프로토콜\n",
        "  - 하이퍼 텍스트를 주고 받기 위한 네트워크 표준\n",
        "- HTTP를 이해한다는 것은 결국 Header에 대한 이해를 의미한다.\n"
      ],
      "metadata": {
        "id": "ikPE2HtuzDiC"
      }
    },
    {
      "cell_type": "markdown",
      "source": [
        "### 소켓 프로그래밍\n",
        "- 네트워크를 통한 입/출력(통신)을 하기 위한 프로그래밍을 `소켓 프로그래밍`이라고 한다.\n",
        "  - `소켓`을 이용한 통신을 한다고 해서 붙여진 이름\n",
        "- 수업시간에는 `TCP socket` 을 이용한 간단한 HTTP 통신을 실습\n",
        "\n",
        "- VScode 파이썬으로 만들어 볼 것\n",
        "- client.py 파일 생성\n",
        "- 최초의 웹페이지 F12 에서 그 나오는 것처럼 만들어 볼 것.\n",
        "- 그 내용을 다운로드 해볼 것\n",
        "\n",
        "\n"
      ],
      "metadata": {
        "id": "Od5FvtIYzSvK"
      }
    },
    {
      "cell_type": "code",
      "source": [
        "# 강사님이 공유는 해주심"
      ],
      "metadata": {
        "id": "HP2q4iTfEBmZ"
      },
      "execution_count": null,
      "outputs": []
    },
    {
      "cell_type": "code",
      "execution_count": null,
      "metadata": {
        "id": "IpzWlokDmk0a"
      },
      "outputs": [],
      "source": [
        "1. import socket\n",
        "# 네트워크 통신을 하기 위한 소켓 객체를 생성"
      ]
    },
    {
      "cell_type": "code",
      "source": [
        "sock = socket.socket(socket.AF_INET, socket.SOCK_STREAM)\n",
        "# 어려우니까 그냥 이렇게 이해하면 됨\n",
        "# IPv4를 이용한 TCP 통신용 소켓\n",
        "# 이렇게 생성된 소켓 객체를 통해서 서버와 통신(입출력)을할 수 있다.\n"
      ],
      "metadata": {
        "id": "4OKgB9uo0fT-"
      },
      "execution_count": null,
      "outputs": []
    },
    {
      "cell_type": "code",
      "source": [
        "# 실행\n",
        "print('여기까지 에러없이 잘 처리되는지 확인')\n",
        "# 한글이 깨져서 나온다는 사람이 있음\n",
        "# 우하단 파란줄에 인코딩 설정이 UTF-8로 되어있는지 확인\n",
        "\n",
        "# 출력이 안 되는 사람들 저장 후 출력해보기, 껐다 켜보기 등으로 해결 됨\n",
        "\n",
        "# 파이썬인데 기본실행이 터니멀이 아니라 자꾸 출력으로 나와서 깨져서 나오는 문제도 발생\n",
        "# 에디터 우클릭- 하단 한 3~4번째에 런 파이썬 파일 인 터미널???? 뭐 그거 눌러서 확인해볼 수밖에 없?..\n",
        "print('DEBUG:::소켓 생성 완료')\n"
      ],
      "metadata": {
        "id": "TO9Az-qB0fRF"
      },
      "execution_count": null,
      "outputs": []
    },
    {
      "cell_type": "code",
      "source": [
        "# 이론수업 모듈과 예외처리, 등에서 표준 입출력과 파일 입출력을 헸었는데\n",
        "# 파일 오픈과 다르게\n",
        "# 오픈을 통해서 출력하고자 하는 파일을 얻어왔았다.\n",
        "# read 또는 print, write 를 통해서 입출력을 했었음\n",
        "# 라이트를 통해 파일에 내용을 쓰거나 리드를 통해 파일을 읽거나\n",
        "# 네트워크도 마찬가지로\n",
        "# 파일 입출력을 할 때 open을 통해서 입출력 하기 위한 파일 객체를 얻어온 것처럼\n",
        "# 똑같이 우리가 통신(입출력)을 하기 위한 서버와의 객체를 얻어와야 한다(생성)\n",
        "# 소켓 프로그래밍에서는 connect() 를 통해서 통신하기 위한 서버의 객체를 얻어올 수 있다.\n",
        "# 생성된 객체를 통해서 입출력(통신)\n",
        "\n",
        "# 읽거나 쓰기위한 파일의 경로와 유사\n",
        "# 통신하기 위한 네트워크상의 경로 정도로 이해\n",
        "serverAddress = socket.gethostbyname('info.cern.ch')\n",
        "serverPort = 80"
      ],
      "metadata": {
        "id": "HgzrCUy10fOc"
      },
      "execution_count": null,
      "outputs": []
    },
    {
      "cell_type": "code",
      "source": [
        "# 오픈하기 위한 서버의 경로는 튜플로 전달\n",
        "sock.connect( (serverAddress, serverPort) )\n",
        "print( 'DEBUG:::connect 완료')"
      ],
      "metadata": {
        "id": "qjBoFQHn0fLr"
      },
      "execution_count": null,
      "outputs": []
    },
    {
      "cell_type": "code",
      "source": [
        "# 서버에 HTML 코드를 요청 => Request Header\n",
        "# 대/소문자, 띄어쓰기 잘 확인해야 한다\n",
        "\n",
        "# GET 대신에 HEAD, OPTIONS 으로 바꿔보고 응답을 확인해보자\n",
        "request_header = 'GET /index.html HTTP/1.1\\r\\n' # \\r : CR 캐리지 리턴\n",
        "request_header += 'Host: info.cern.ch\\r\\n'      # \\n : NL 뉴라인\n",
        "request_header += '\\r\\n'\n",
        "\n",
        "# 이 부분이 중요한 부분\n",
        "# 이 부분이랑 터미널에서의 부분이랑 해서 헤더라고 한다/ 카톡 스샷 참고"
      ],
      "metadata": {
        "id": "Kf2sZRXn0fF3"
      },
      "execution_count": null,
      "outputs": []
    },
    {
      "cell_type": "code",
      "source": [
        "# 요청대로 처리가 된다면 자동으로 응답이 와야 함\n",
        "# 카톡에 스샷 보냄. 리퀘스트 어쩌고.. 오른쪽 터미널 화면에 잘 뜨는지 비교해보자\n",
        "sock.send( request_header.encode() )\n",
        "response = sock.recv(1024)\n",
        "print( response.decode() )"
      ],
      "metadata": {
        "id": "Vg7F3jGP0fC_"
      },
      "execution_count": null,
      "outputs": []
    },
    {
      "cell_type": "code",
      "source": [
        "# 그 최초의 웹페이지에 있는 HTML을 가져온게 아니라\n",
        "# 서버의 위치가 있음 info.cern.ch 라는 네트워크상의 서버의 위치?\n",
        "# 웹브라우저도 그렇고 나도 그렇고 동일한 서버와 통신을 하는 거임\n",
        "# 브라우저나 나나 HTTP 라는 통신을 통해서 서버의 HTML을 받아온 것\n",
        "# 근데 브라우저는 렌더링 까지 해서 출력을 하고 있는 거고,\n",
        "# 우리는 그냥 가져와서 터미널 출력까지만 한 상태?"
      ],
      "metadata": {
        "id": "zwSa8etjDH42"
      },
      "execution_count": null,
      "outputs": []
    },
    {
      "cell_type": "code",
      "source": [
        ""
      ],
      "metadata": {
        "id": "rpyIf4s_0fAa"
      },
      "execution_count": null,
      "outputs": []
    },
    {
      "cell_type": "code",
      "source": [
        ""
      ],
      "metadata": {
        "id": "KX7ARcIa0e9q"
      },
      "execution_count": null,
      "outputs": []
    },
    {
      "cell_type": "code",
      "source": [
        ""
      ],
      "metadata": {
        "id": "4dLBtmxf0e6t"
      },
      "execution_count": null,
      "outputs": []
    },
    {
      "cell_type": "code",
      "source": [
        ""
      ],
      "metadata": {
        "id": "2WM3IFTU0e3i"
      },
      "execution_count": null,
      "outputs": []
    },
    {
      "cell_type": "code",
      "source": [
        ""
      ],
      "metadata": {
        "id": "1B3AIRBo0e1H"
      },
      "execution_count": null,
      "outputs": []
    },
    {
      "cell_type": "code",
      "source": [
        ""
      ],
      "metadata": {
        "id": "8-XkZzPi0eyL"
      },
      "execution_count": null,
      "outputs": []
    },
    {
      "cell_type": "code",
      "source": [
        ""
      ],
      "metadata": {
        "id": "CU5_VT3K0evY"
      },
      "execution_count": null,
      "outputs": []
    },
    {
      "cell_type": "code",
      "source": [
        "# 생성된 소켓을 닫아준다\n",
        "sock.close()\n",
        "# 클로즈를 해줘야 함?\n",
        "# 안 해주면 계속 실행하다 언젠가는 가득찰 수가 있어서?... 무슨 말인진 모르겠음\n",
        "\n",
        "# 클로즈가 잘 됐는지 확인 하는 방법은 커맨드라인에서 직접 확인해야 되는데...\n",
        "# 어려우니까 그냥 확인하진 말자..\n",
        "# 그래서 미리 클로즈를 만들어 놓은 것. 문제를 최소화하는 쪽?\n",
        "\n",
        "\n",
        "# 작성은 \n",
        "# 오픈하기 위한 서버의 경로는 튜플로 전달\n",
        "# sock.connect( (serverAddress, serverPort) )\n",
        "# print( 'DEBUG:::connect 완료')\n",
        "# 다음에 작성했는데 \n",
        "# 그 사이에 새 코드들을 넣고 있음"
      ],
      "metadata": {
        "id": "6LTaRiuY0fIi"
      },
      "execution_count": null,
      "outputs": []
    },
    {
      "cell_type": "markdown",
      "source": [
        "### Request Header\n",
        "\n",
        "```\n",
        "GET /index.html HTTP/1.1\\r\\n\n",
        "Host: info.cern.ch\\n\\n\n",
        "\\r\\n\n",
        "```"
      ],
      "metadata": {
        "id": "lwI2sIBuFFC1"
      }
    },
    {
      "cell_type": "markdown",
      "source": [
        "#### 요청헤더 구성\n",
        "- 통신에 필요한 내용을 담은 걸 헤더라고 함\n",
        "- 우리가 흔히 프로토콜이라 하는 것\n",
        "\n",
        "```\n",
        "Get /index.html HTTP/1.1\\r\\n\n",
        "Host: info.cern.ch\\r\\n\n",
        "\\r\\n\n",
        "```\n",
        "이걸 만들 건데, 한 글자라도 틀리면 통신이 되지 않는다.\n",
        "- 하나씩 분해\n",
        "\n",
        "1. 요청헤더\n",
        "\n",
        "```\n",
        "\n",
        "Get /index.html HTTP/1.1\\r\\n\n",
        "----------------------------------\n",
        "스타트 라인 혹은 리퀘스트 라인\n",
        "start-line(request-line)CRLF\n",
        "# CRLF : 캐리지 리턴, 라인 피드\n",
        "# 엔터의\n",
        "\n",
        "\n",
        "Host: info.cern.ch\\r\\n\n",
        "----------------------------------\n",
        "헤더 필드: *\n",
        "\n",
        "\n",
        "\n",
        "\\r\\n\n",
        "----------------------------------\n",
        "이 헤더의 끝을 의미\n",
        "\n",
        "```\n",
        "- HTTP 헤더에서 `CRLF` 는 엔터의 의미가 아니라 `구분자`이다.\n",
        "  - 라인과 라인, 필드와 필드를 구분해주는 구분자의 역할\n",
        "  - 즉, 모든 라인은 CRLF로 끝나야 한다.\n",
        "  - 이건 규칙(?)\n",
        "\n",
        "-헤더 필드는 서버와의 통신에 필요한 여러가지 정보를 담게된다.(표현)\n",
        "  - 예제에서는 `Host`필드 하나만 사용을 했는데\n",
        "  -더 많은 값을 가질 수 있다\n",
        "\n",
        "- 수업에서는 헤더라인을 중요하게 다루지는 않음.\n",
        "- 그것보단 스타트라인이 중요?\n",
        "\n",
        "- F12에서 네트워크 탭보면 헤더라고 있음\n",
        "- cern 봤을 때,\n",
        "  - 리퀘스트헤더 옆에 view parsed 누르고\n",
        "  - GET/HTTP/1.1 이 리퀘스트,\n",
        "  - 그 밑이 쭉 헤더\n",
        "  - 라인 끝마다 CRLF는 생략돼서 안 보이는 것\n",
        "  - 수업시간에는 Host만 썼지만 cern 보면 Host 말고도 많음\n",
        "  - 만약 헤더가 안 보인다면 Ctrl+R 을 눌러보자\n",
        "\n"
      ],
      "metadata": {
        "id": "kSwrqOquFEyh"
      }
    },
    {
      "cell_type": "markdown",
      "source": [
        "#### Request-line\n",
        "```\n",
        "GET  SP  /index.html  SP   HTTP/1.1   \\r\\n\n",
        "----------------------------------\n",
        "GET : 메소드\n",
        "SP :  스페이스. 공백\n",
        "/index.html : url\n",
        "HTTP/1.1 : protocol ver\n",
        "\\r\\n : sep\n",
        "(실제로 스페이스는 한칸만 띄어썼음)\n",
        "\n",
        "```\n",
        "- 3개의 필드로 구성\n",
        "  - 각 필드의 구분자는 `ep(공백)` 이다.\n",
        "- 규칙임. 한글자라도 바뀌면 안 됨\n",
        "- (이 HTML의 메소드랑 파이썬의 메소드는 다름.)\n",
        "  - !이 메소드를 이해하는게 중요!"
      ],
      "metadata": {
        "id": "UsolCsLNFXPq"
      }
    },
    {
      "cell_type": "markdown",
      "source": [
        "##### 메소드\n",
        "- HTTP요청 메서드 검색?\n",
        "- 외울 필요는 없음\n",
        "- \n",
        "- method\n",
        "  - [위키 참조](https://ko.wikipedia.org/wiki/HTTP)\n",
        "  - [나무위키 참조](https://namu.wiki/w/HTTP)\n",
        "    - 5.1 참고\n",
        "- 지금 우리는 GET을 사용\n",
        "  - 그냥 자료의 전송을 요청하는.\n",
        "- **GET**과 **POST** 가 제일 많이 쓰이고 제일 중요\n",
        "  - Post도 요청하는건데 서버에 전달해서 요청\n",
        "    - Ex). 로그인 할 때, ID/PW 전송해서 요청\n",
        "    - 요즘은 다 암호화송신이라 확인하기는 어려움\n",
        "    - 나중에 백엔드하면 알아보자\n",
        "\n",
        "  - GET은 HTML 코드 까지 같이 받아온다면\n",
        "  - HEAD는 응답헤더만 받아오는 거??? 맞나\n",
        "- 이 메소드에 따라사 서버의 응답이 달라짐\n",
        "  \n",
        "- OPTIONS 를 입력하면 서버가 어떤 메소드를 허용하는지 알 수 있음\n",
        "   - 일반적으로 GET, POST 는 다 허용해 놓음\n",
        "- 다 외울 필요는 없지만,\n",
        "- 정보처리기사 등 자격증을 준비할 땐 외워야 할 거임\n",
        "  - 메소드와 기능을 짝짓는 등의 문제?\n",
        "  - 강사님은 차라리 이거 외울바엔 그거 포기하고 딴 거 공부하는게 나을듯 하심ㅋㅋㅋ\n",
        "  - 정보처리기사는 1년에 시험이 3번 있대"
      ],
      "metadata": {
        "id": "9FR4OFF8RoQt"
      }
    },
    {
      "cell_type": "markdown",
      "source": [
        "##### URL\n",
        "- URL/URI\n",
        "- 요새 표현 방식은 URI라고 보는 게 맞을 듯\n",
        "- URL : Uniform Resource Locator\n",
        "- URI : Uniform Resource Identifier\n",
        "\n",
        "- 리소스란 파일? 그림, 영상, 문서 등?\n",
        "- URL\n",
        "  - 주소/index.html 여기서 index.html이란 파일을 요청하고 있는 것.\n",
        "    - 그림을 요청할 수도, 영상을 요청할 수도\n",
        "  - 네트워크상에서 접근하려는 리소스(파일)의 경로를 표현하는 것 정도로 이해\n",
        "\n",
        "- URI\n",
        "  - 주소/2213124 이런거 (식별자)\n",
        "  - 백앤드 쪽에서는 이 식별자에 맞는 리소스를 돌려주는 것\n",
        "  - 동일한 경로표현이긴 한데 정확한 파일의 정보는 노출이 되지 않음\n",
        "  - 일반적으로 식별번호를 이용하면, 백엔드에서 그에 맞는 정보를 반환\n",
        "\n",
        "\n",
        "\n",
        "\n",
        "- URL이냐, URI냐는 백엔드 설정에서 설정할 수 있음\n",
        "\n",
        "- 예를 들어, \n",
        "  - http://info.cern.ch/info.ch 여기에서\n",
        "  - http://info.cern.ch/ 는 네트워크상의 서버의 위치를.\n",
        "  - info.ch는 파일의 위치를 나타내는 URL\n",
        "  - URI라면 http://info.cern.ch/12345 이런 식으로 식별자가 보임\n",
        "\n"
      ],
      "metadata": {
        "id": "ffRMOqAmWghS"
      }
    },
    {
      "cell_type": "markdown",
      "source": [
        "####응답 헤더 구성\n",
        "- 이게 응답헤더\n",
        "\n",
        "```\n",
        "HTTP/1.1 200 OK\n",
        "Date: Fri, 17 Dec 2021 08:02:02 GMT\n",
        "Server: Apache\n",
        "Last-Modified: Wed, 05 Feb 2014 16:00:31 GMT\n",
        "ETag: \"286-4f1aadb3105c0\"\n",
        "Accept-Ranges: bytes\n",
        "Content-Length: 646\n",
        "Connection: close\n",
        "Content-Type: text/html\n",
        "\n",
        "```\n",
        "```\n",
        "HTTP/1.1 200 OK\n",
        "-------------------------------\n",
        "# start-line(Request-line)이것도 CRNL 생략되어있는 것\n",
        "\n",
        "Date: Fri, 17 Dec 2021 08:02:02 GMT\n",
        "Server: Apache\n",
        "Last-Modified: Wed, 05 Feb 2014 16:00:31 GMT\n",
        "ETag: \"286-4f1aadb3105c0\"\n",
        "Accept-Ranges: bytes\n",
        "Content-Length: 646\n",
        "Connection: close\n",
        "Content-Type: text/html\n",
        "# (CRNL 생략)\n",
        "--------------------------------\n",
        "# Header-field: *\n",
        "\n",
        "\\r\\n\n",
        "-----------------\n",
        "헤더의 끝\n",
        "```"
      ],
      "metadata": {
        "id": "TKOjvxpDbaUr"
      }
    },
    {
      "cell_type": "markdown",
      "source": [
        "#### Response-line\n",
        "- 이게 뭘 나타내냐면\n",
        "- 클라이언트 요청에 대한 처리의 결과를 나타냄\n",
        "\n",
        "```\n",
        "HTTP/1.1   SP  200 OK ( \\r\\n )\n",
        "\n",
        "```\n",
        "- HTTP/1.1 : protocol ver 프로토콜 버젼\n",
        "- 200 : status code\n",
        "  - 이거 해석하는 게 중요\n",
        "- OK : status string 정도?\n",
        "- Request-line 과 마찬가지로 3개의 필드로 구성\n",
        "  - 각 필드의 구분자는 `SP(공백)`입니다.\n",
        "\n",
        "- 상태코드.... \n",
        "  - http status code 구글링?\n",
        "  - 400번대 에러들? 이것도 자격증 시험문제에 나온다는데 차라리 틀리라고 하심ㅋㅋㅋㅋ\n",
        "  - FT님은 100의 자리 숫자별 의미만 외우시고 찍으라고 하심\n",
        "  - [위키 참조](https://ko.wikipedia.org/wiki/HTTP_%EC%83%81%ED%83%9C_%EC%BD%94%EB%93%9C)\n",
        "  - [나무위키 참조](https://namu.wiki/w/HTTP/%EC%9D%91%EB%8B%B5%20%EC%BD%94%EB%93%9C)\n",
        "  - 앞자리가 1, 2, 3, 4, 5 로 시작하는 5가지로 구분 됨\n",
        "    - 기본적으로 이 5가지의 구분은 알아둘 것\n",
        "    - 1XX : 거의 볼 일이 없긴 함. 그래서 패스\n",
        "    - 2XX : 서버가 요청을 수락했을을 의미\n",
        "      - 200 OK : 클라이언트 요청을 수락했고, 처리가 잘 되었음을 의미. (이게 웹통신의 목적이지)\n",
        "    - 3XX : 요청에는 문제가 없지만, 그 요청에 대한 optional한 처리를 뜻함\n",
        "      - 301,2 : Redirection 과 관련\n",
        "        - 영구이동, 임시이동을 나타냄\n",
        "        - 지금 요청한 리소스의 위치가 바뀐 경우. 새로운 위치를 알려줄 때? \n",
        "      - 304 : Not Modifiled : 요청한 리소스가 변경되지 않았음을 의미\n",
        "    - 4XX : 클라이언트 요청 오류(요청에 문제)\n",
        "      - 400 Bad request : 오탈자, 없는 리소스 등\n",
        "         - 없는 리소스를 요청하면, 리소스가 없다는 메세지가 아니라 요청이 잘못됐다고 반환\n",
        "      - 401 Unathorized : 권한과 관련\n",
        "        - 인증키가 없는 경우\n",
        "      - 403 Forbidden : 권한과 관련\n",
        "        - 인증키와 상관없이 해당 리소스에 대한 접근 권한이 없는 경우\n",
        "      - 404 Not found : 리소스를 찾을 수 없는 경우\n",
        "        - 401이나 404 둘 중 하나가 옴?\n",
        "\n",
        "    - 5XX : 서버 에러(요청을 처리하다 서버에 오류가 발생한 경우)\n",
        "      - 500 : Internal sever Error\n",
        "        - 백엔드를 구성해놨는데 그 코드에 문제가 생겼을 때?\n",
        "        - 예를 들면 파이썬 코드에서 문제가 발생하는 경우\n",
        "\n",
        "\n"
      ],
      "metadata": {
        "id": "HNpTk7BOcRhL"
      }
    },
    {
      "cell_type": "markdown",
      "source": [
        "- Request-line 이든, Response-line이든\n",
        "- Start-line을 알고 가는 게 제일 중요\n"
      ],
      "metadata": {
        "id": "6AZ3x2hFhvNh"
      }
    },
    {
      "cell_type": "code",
      "source": [
        ""
      ],
      "metadata": {
        "id": "eMcsNDEO0em4"
      },
      "execution_count": null,
      "outputs": []
    },
    {
      "cell_type": "code",
      "source": [
        ""
      ],
      "metadata": {
        "id": "LPKOkzdK0ekR"
      },
      "execution_count": null,
      "outputs": []
    },
    {
      "cell_type": "code",
      "source": [
        "import socket\n",
        "\n",
        "serverAddress = socket.gethostbyname('info.cern.ch') # 네이버로 해봐도 됨 'www.naver.com'\n",
        "serverPort = 80\n",
        "\n",
        "sock = socket.socket( socket.AF_INET, socket.SOCK_STREAM )\n",
        "sock.connect( (serverAddress, serverPort) )\n",
        "\n",
        "method = 'GET' # GET 대신에 HEAD, OPTIONS로 바꿔보고 응답을 확인해봅시다 \n",
        "request_header = f'{method} /index.html HTTP/1.1\\r\\n'\n",
        "request_header += 'Host: info.cern.ch\\r\\n'\n",
        "request_header += '\\r\\n'\n",
        "\n",
        "sock.send( request_header.encode() )\n",
        "response = sock.recv(1024)\n",
        "print( response.decode() )\n",
        "\n",
        "sock.close()"
      ],
      "metadata": {
        "colab": {
          "base_uri": "https://localhost:8080/"
        },
        "id": "oLun1rVPJcJ5",
        "outputId": "ae681813-a07f-47d4-dca4-f05e89203748"
      },
      "execution_count": null,
      "outputs": [
        {
          "output_type": "stream",
          "name": "stdout",
          "text": [
            "HTTP/1.1 200 OK\r\n",
            "Date: Fri, 17 Dec 2021 08:02:02 GMT\r\n",
            "Server: Apache\r\n",
            "Last-Modified: Wed, 05 Feb 2014 16:00:31 GMT\r\n",
            "ETag: \"286-4f1aadb3105c0\"\r\n",
            "Accept-Ranges: bytes\r\n",
            "Content-Length: 646\r\n",
            "Connection: close\r\n",
            "Content-Type: text/html\r\n",
            "\r\n",
            "<html><head></head><body><header>\n",
            "<title>http://info.cern.ch</title>\n",
            "</header>\n",
            "\n",
            "<h1>http://info.cern.ch - home of the first website</h1>\n",
            "<p>From here you can:</p>\n",
            "<ul>\n",
            "<li><a href=\"http://info.cern.ch/hypertext/WWW/TheProject.html\">Browse the first website</a></li>\n",
            "<li><a href=\"http://line-mode.cern.ch/www/hypertext/WWW/TheProject.html\">Browse the first website using the line-mode browser simulator</a></li>\n",
            "<li><a href=\"http://home.web.cern.ch/topics/birth-web\">Learn about the birth of the web</a></li>\n",
            "<li><a href=\"http://home.web.cern.ch/about\">Learn about CERN, the physics laboratory where the web was born</a></li>\n",
            "</ul>\n",
            "</body></html>\n",
            "\n"
          ]
        }
      ]
    },
    {
      "cell_type": "markdown",
      "source": [
        "## HTML\n",
        "- Hyper-Text Markup Language\n",
        "  - '언어'라고 되어 있기는 한데 언어라고 볼 수는 없다.\n",
        "  - 왜냐면 제어문이 없다. (분기, 반복)\n",
        "  - 정확하게 표현하자면 문서의 구조를 표현\n",
        "  - 그래서 `자바스크립트`가 이 HTML의 부족한 부분을 대신하고 있다.\n"
      ],
      "metadata": {
        "id": "xNeop2wkO4H-"
      }
    },
    {
      "cell_type": "markdown",
      "source": [
        "### HTML이 기본구조\n",
        "\n",
        "- <!-- 이게 HTML의 주석-->\n",
        "\n",
        "```\n",
        "<!DOCTYPE html> <!-- HTML5라는 문서 표준을 따른다라는 표시 -->\n",
        "\n",
        "<html>  <!-- HTML 문서의 시작을 알리는 태그-->\n",
        "    <head>\n",
        "\n",
        "    </head>\n",
        "\n",
        "    <body>\n",
        "    \n",
        "    </body>\n",
        "</html>  <!-- HTML 문서의 끝을 알리는 태그-->\n",
        "```"
      ],
      "metadata": {
        "id": "VsiHeCZpPimV"
      }
    },
    {
      "cell_type": "markdown",
      "source": [
        "### TAG란?\n",
        "- 보통 알고 있는 개념과 비슷\n",
        "- ' < , > ' 꺽쇠를 이용해서 표현되는 것들\n",
        "- 보통 내용(컨텐츠)에 대한 타입을 나타내는 용도\n",
        "- 기본적으로는 1쌍으로 사용이 된다\n",
        "\n",
        "- 태그의 기본적인 구조\n",
        "```\n",
        "<opening tag> 내용 </closing tag>\n",
        "```\n",
        "- 여는 태그와 닫는 태그 사이에 내용이 들어감\n",
        "- 항상 그런 것은 아니다.\n",
        "  - 내용이 없는 경우도 있음\n",
        "    ```\n",
        "    <tagname /> self closing\n",
        "    ```\n",
        "    - self closing\n",
        "- 모든 태그들은 HTML의 하위 태그\n",
        "\n",
        "- 중첩된 구조\n",
        "\n",
        "```\n",
        "<!DOCTYPE html> <!-- HTML5라는 문서 표준을 따른다라는 표시 -->\n",
        "\n",
        "<html>  <!-- 여기 -->\n",
        "    <head>\n",
        "\n",
        "    </head>\n",
        "\n",
        "    <body>\n",
        "    \n",
        "    </body>\n",
        "</html>  <!-- 여기 -->\n",
        "```\n",
        "- 이런식으로 \\<html>로 열고 \\</html>로 닫는데 태그들은 이 안에 위치해야 함\n",
        "\n",
        "- 기본적으로 태그들은 계층적인 구조를 같이 표현\n",
        "  - 최상의 태그는 항상 `HTML`이 된다.\n",
        "  - `head`와 `body`는 `HTML`의 하위 태그가 된다.\n",
        "  - `head`와 `body` 서로는 계층적인 구조는 아님(부모자식관계가 아닌 형제관계)\n",
        "  - 하위태그는 또 다시 하위태그들을 가질 수 있다\n",
        "  - 코드에서 이 계층적인 구조는 **들여쓰기**로 구분한다\n",
        "\n",
        "\n"
      ],
      "metadata": {
        "id": "okvn7KlvSQMY"
      }
    },
    {
      "cell_type": "markdown",
      "source": [
        "- w3schools.com\n",
        "- 여기 보면 브라우저별로..\n",
        "- HTML에서 사용할 수 있는 태그들도 볼 수도 있음\n"
      ],
      "metadata": {
        "id": "nvoUDWxsYi-U"
      }
    },
    {
      "cell_type": "markdown",
      "source": [
        "### 기본태그\n",
        "- 문서의 구조를 표현\n",
        "  - 워드나 한글을 이용해서 작성할 수 있는 내용들\n",
        "  - 제목, 표, 본문, 그림, 목차, ...\n",
        "  - 웹이 발전하면서, 원래 용도보다는 현재는 응용된 형태로 사용"
      ],
      "metadata": {
        "id": "iBt0WdhJbOgi"
      }
    },
    {
      "cell_type": "markdown",
      "source": [
        "### 속성(Attribute)\n",
        "- [w3schools.com](https://www.w3schools.com/tags/ref_attributes.asp)\n",
        "\n",
        "- 태그를 표현?\n",
        "1. 일반 속성\n",
        "  - 각 태그별로 사용할 수 있는 속성들이 정해져 있다.\n",
        "  - 속성에 따라서 태그를 다르게 표현해서 화면에 표현되는 내용들을 제어할 수 있음\n",
        "  - 어떤 걸 사용할 수 있는지는 직접 찾아봐야 됨\n",
        "\n",
        "2. 글로벌 속성\n",
        "  - 모든 태그에서 공통적으로 사용할 수 있는 속성\n",
        "  - 대표적으로는 `class`, `id`... 등\n",
        "\n",
        "  3. 이벤트 속성\n",
        "    - 글로벌 속성중에 하나라고 보면 된다.\n",
        "\n",
        "  4. 스타일 속성\n",
        "    - 이것도 글로벌 속성 중 하나라고 보면 됨\n",
        "\n"
      ],
      "metadata": {
        "id": "RRd2ZlHVpU14"
      }
    },
    {
      "cell_type": "markdown",
      "source": [
        "#### Heading\n",
        "- 주로 제목을 표현하는 태그\n",
        "- 6단계로 구분\n",
        "  - <h1> ~ <h6>\n",
        "  - 각각 소제목 ,중제목 등으로 표현\n",
        "  - 사용법\n",
        "  ```\n",
        "        <h1> 가장 큰 제목 </h1>\n",
        "        <h3> 중간제목</h2>\n",
        "        <h5> 소제목 </h3>\n",
        "  ```\n",
        "  (화면에 보여지는 것이니까 `<body>`에 넣어야 됨\n"
      ],
      "metadata": {
        "id": "J805Co4_bXIn"
      }
    },
    {
      "cell_type": "markdown",
      "source": [
        "#### Paragraph\n",
        "- 보통 문단, 본문, 단락, ... 을 표현하는 용도\n",
        "- 일반적으로는 문자를 표현할 때 주로 사용\n",
        "- 사용법\n",
        "```\n",
        "  <p> 일반적으로 텍스트를 표현하는 용도로 사용이 된다 </p> \n",
        "```\n",
        "- Line Break\n",
        "  - HTML은 엔터도 태그로 표현한다\n",
        "  - 그래서 엔터를 쳐도 브라우저에서는 줄바꿈이 안 됨\n",
        "  - 그래서 `<br>`를 사용\n",
        "    - 내용이 없기 때문에 따로 태그를 닫지 않아도 된다.\n",
        "  - 사용법\n",
        "```\n",
        "  <p> 일반적으로 텍스트를 표현하는 용도로 사용이 된다.<br>\n",
        "  태그 안에 들어있는 텍스트도 CRLF를 사용할 수 없다. </p> \n",
        "  근데 텍스트를 반드시 p 태그에 넣을 필요는 없다.<br>\n",
        "  문제는 HTML은 줄바꿈(엔터) 문자로 우리가 알고 있는 CRLF를 사용하지 않는다.<br>\n",
        "  어? 왜 줄바꿈이 안 되지?\n",
        "```\n",
        "- Non-breaking Space\n",
        "  - 공백도 해석하지 않는다\n",
        "  - 이            렇게 띄어써도 실제로는 한칸만 띄어쓴 걸로 나옴\n",
        "  - 줄바꿈 없는 스페이스 정도로 해석\n",
        "  -`&nbsp;` , `&ensp;`, `&emsp;` (Tap)\n",
        "    - 차례대로 한칸, 두칸, 4칸 정도?\n",
        "  - 공백대신에 사용하는 공백문자\n",
        "  - 문자열 이스케이프 정도로 해석해도 됨\n",
        "     예를 들면, 문자열 내에서 엔터를 표현할 수 없기 때문에 `\\n`과 같은 문자가 있었던 것처럼\n",
        "  - 사용법\n",
        "```\n",
        "  <p> 공백문자도 &nbsp;  HTML은 해석하지 않는다</p> \n",
        "(; 까지가 태그)\n",
        "```\n"
      ],
      "metadata": {
        "id": "hGJ3bB4OcrZE"
      }
    },
    {
      "cell_type": "markdown",
      "source": [
        "#### 리스트\n",
        "- 목차, 목록 등을 표현할 때 사용할 수 있는 태그\n",
        "- 현재는 응용해서 많이 사용\n",
        "- 기본적인 사용법\n",
        "  - 정렬된 리스트(Ordered List)\n",
        "    - `<ol>`\n",
        "      - 아래와 같이 1, 2, 3이 붙음\n",
        "        1. \n",
        "        2. \n",
        "        3. \n",
        "  - 비정렬 리스트(Unordered List)\n",
        "    - `<ul>`\n",
        "      - 아래와 같이 점이 붙음\n",
        "        - \n",
        "        -\n",
        "        - \n",
        "```\n",
        "<ol> 순서있는 리스트\n",
        "  <li> 첫번째 </li>\n",
        "  <li> 두번째 </li>\n",
        "  <li> 세번째 </li>\n",
        "</ol>\n",
        "\n",
        "<ul> 순서없는 리스트\n",
        "  <li> 첫번째 </li>\n",
        "  <li> 두번째 </li>\n",
        "  <li> 세번째 </li>\n",
        "</ul>\n",
        "```\n",
        "\n",
        "- 현재는 목차보다는 응용해서 다른 용도로 사용됨\n",
        "  - Ex). 네비게이터 옵션?\n",
        "    - Ex). 네이버 화면에서 검색창밑에 메일, 카페, 블로그 이런 것들..\n",
        "  "
      ],
      "metadata": {
        "id": "dAI3C3IthuJ7"
      }
    },
    {
      "cell_type": "markdown",
      "source": [
        "#### 이미지\n",
        "- `<img>`는 내용이 없는 태그중 하나\n",
        "- 일반적인 사용법\n",
        "```\n",
        "  <img src='url/path' />\n",
        "```\n",
        "- 경로(url위치)에 있는 이미지를 표현해줌\n",
        "(셀프클로징)\n",
        "```\n",
        "<img src='https://cdn.pixabay.com/photo/2021/11/19/15/21/christmas-6809681__340.png' />\n",
        "```\n",
        "이런식으로\n",
        "- src (소스)라는 속성은 이미지 태그에서 사용할 수 있는 속성\n",
        "\n",
        "- `height`, `width` 속성 사용법\n",
        "  - 픽셀단위로 이미지 크기를 조절할 수 있음\n",
        "```\n",
        "  <img src='url/path' width='px', height='px' />\n",
        "  (폭과 너비. px 필섹 단위)\n",
        "\n",
        "  <img src='https://cdn.pixabay.com/photo/2021/11/19/15/21/christmas-6809681__340.png' width='100', height='50' />\n",
        "```\n"
      ],
      "metadata": {
        "id": "6mRH-ih2mncd"
      }
    },
    {
      "cell_type": "markdown",
      "source": [
        "#### 테이블\n",
        "- 일반적인 문서에서 `표`에 해당하는 내용\n",
        "- 보통 예전에는 이 테이블을 이용해서 웹페이지 레이아웃을 표현기도 한다.(요즘은 x)\n",
        "  - html5 표준부터는 div를 더 적극적으로 많이 사용한다\n",
        "\n",
        "- 테이블의 기본 구조\n",
        "  - html 구조와 유사\n",
        "```\n",
        "<table>   <!-- 테이블의 시작-->\n",
        "  <thead>   <!-- 제목 라인 -->\n",
        "    <tr>   <!-- tr 하나가 행하나를 표현-->\n",
        "      <th></th> <!--컬럼을 표현-->\n",
        "    </tr>\n",
        "\n",
        "  </thead>\n",
        "\n",
        "  <tbody>   <!-- 표에 들어갈 내용-->\n",
        "    <tr>   <!-- 행을 표현\n",
        "      <td></td>   <!-- 컬럼 -->\n",
        "    </tr>\n",
        "  \n",
        "  </tbody\n",
        "</table>   <!-- 테이블의 끝-->\n",
        "\n",
        "```\n",
        "- (주의) tbody의 컬럼은 `<tb>`가 아니라 `<td>`임\n",
        "\n"
      ],
      "metadata": {
        "id": "iXGYZgensQvJ"
      }
    },
    {
      "cell_type": "markdown",
      "source": [
        "#### 앵커(anchor)\n",
        "- 하이퍼-링크\n",
        "  - 지금의 웹이 만들어지는데 가장 중요한 기능\n",
        "  - 봇(bot) : 자동화된 프로그램\n",
        "    - 웹 페이지도 봇에 의해서 자동으로 수집\n",
        "    - 시드(seed)페이지를 통해서 하이퍼-링크를 통해서 연결되어 있는 다른 웹페이지를 찾는 방식\n",
        "    - 전세계에 흩어져있는 웹 페이지를 전부 수집\n",
        "    - 이렇게 수집된 페이지에서 사용자가 원하는 페이지를 가장 빠르게 검색해서 제공해주던 사이트가 바로 구글\n",
        "- 사용 방법\n",
        "```\n",
        "  <a> 연결된 페이지의 이름 </a>\n",
        "```\n",
        "- 앵커의 여러 속성\n",
        "  - href : 연결된 페이지의 주소(url)\n",
        "  - target : 연결된 페이지로 이동하는 방식\n",
        "    1. `_self` : (default) 현재 창에서 해당페이지로 바로 이동\n",
        "    2. `_bank` : 새창에서 해당페이지로 이동\n",
        "    3. `_parent` : 현재 창보다 상위 창에서 해당페이지로 이동\n",
        "    4. `_top` : 최상위 창에서 해당페이지로 이동\n",
        "    - 보통 `_self` 나 `_blank` 사용\n",
        "```\n",
        "  <a href='http://www.naver.com'> 네이버 웹페이지로 이동 </a> <br>\n",
        "  <a href ='http://www.naver.com', target='_blank'> 새창으로 네이버 웹페이지로 이동 </a>\n",
        "```"
      ],
      "metadata": {
        "id": "phEkp8gRAzcS"
      }
    },
    {
      "cell_type": "markdown",
      "source": [
        "### HTML Bos Model\n",
        "- 박스형태의 모양을 가짐\n",
        "- 기본적으로 HTML의 태그들은 배치되는 형태에 따라서 두 가지로 나뉜다.\n",
        "  - 어떤 태그를 사용하느냐에 따라서 레이아웃이 결정 됨\n",
        "  - 내가 원하는 곳에 뭘 띄우느냐. 레아아웃 짤 때 중요!\n",
        "  1. Block 기반의 태그\n",
        "  2. Inline기반의 태그\n"
      ],
      "metadata": {
        "id": "HfW43IUSDwjA"
      }
    },
    {
      "cell_type": "markdown",
      "source": [
        "#### Block 기반의 태그\n",
        "- `DIV` \n",
        "  - `익명태그`라고 부릅니다\n",
        "  - 용도가 정해져 있지 않은 태그로, 활용성이 굉장히 높아서 많이 사용됨\n",
        "  - 레이아웃 짤 때 많이 사용됨\n",
        "    - 네이버도 보면 거의 다 DIV씀. header, container,footer 로 나눠서 사용하더라\n",
        "    - div id = \"header\" \n",
        "- 그 외의 블록기반의 태그들\n",
        "  - p, ol, ul, li, table, h\n",
        "```\n",
        "<!DOCTYPE html>\n",
        "<html style='border: 0.5px dashed blue'>\n",
        "    <head>\n",
        "    </head>\n",
        "\n",
        "    <body style='border: 0.5px dashed red'>\n",
        "\n",
        "        <!-- 블록기반의 태그들 -->\n",
        "        <h1 style='border: 0.5px dashed green'> Heading </h1>\n",
        "        <p style='border: 0.5px dashed yellow'> Paragraph </p>\n",
        "\n",
        "        <div style='border: 0.5px dashed black; width:100px; height:100px'>\n",
        "          div1\n",
        "        </div>\n",
        "        <div style='border: 0.5px dashed black; width:100px; height:100px'>\n",
        "          div2\n",
        "        </div>\n",
        "        <div style='border: 0.5px dashed black; width:100px; height:100px'>\n",
        "        div3\n",
        "        </div>\n",
        "    </body>\n",
        "</html>\n",
        "```\n",
        "\n",
        "- 스타일 속성\n",
        "  - border: 경계선\n",
        "    - 선의 굵기가 0.5px이고, 타입이 점선이고 컬러 지정\n",
        "  - 각 태그들이 브라우저에서 차지하는 영역을 확인\n",
        "  - 즉, 지금 보여지는 박스들이 각 태그각 화면에서 차지하는 영역\n",
        "\n",
        "- 블록기반의 태그의 특징\n",
        "  - 태그 하나가 전체 너비를 모두 차지\n",
        "  - 다음 라인에 태그의 내용이 표시\n",
        "  - 즉 블록기반의 태그들은 화면에 배치가 될 때, 한줄에 하나씩 표시가 된다.\n",
        "  - div는 100x100 크기로 만들었는데,\n",
        "  - 한 줄에 남은 공간이 있음에도 다음 div는 다음 줄에 표현 됨. 한줄당 하나씩만\n",
        "  - 이게 블록기반의 특징"
      ],
      "metadata": {
        "id": "YsCQ-IewEMbk"
      }
    },
    {
      "cell_type": "markdown",
      "source": [
        "#### Inline 기반의 태그\n",
        "- `<span>` \n",
        "  - 인라인 기반의 대표적인 태그로, `div`와 마찬가지로 `익명태그`중에 하나.\n",
        "  - 기본적으로는 div와 거의 동일하지만, `inline`기반이라는 것이 차이점이다.\n",
        "\n",
        "- 그 외 인라인 기반의 태그\n",
        "  - img, a, \n",
        "```\n",
        "<span style='border: 0.5px dashed black;'>\n",
        "  span1\n",
        "</span>\n",
        "<span style='border: 0.5px dashed black;'>\n",
        "  span2\n",
        "</span><span style='border: 0.5px dashed black;'>\n",
        "  span3\n",
        "</span>\n",
        "```\n",
        "- 블록기반과 달리 한 줄에 여유공간이 있으면 한 줄로 표현.\n",
        "  - 한 줄에 여유공간이 없을 경우 다음 줄로 넘어감\n",
        "  "
      ],
      "metadata": {
        "id": "cy30GIfoJVoH"
      }
    },
    {
      "cell_type": "markdown",
      "source": [
        "### 레이아웃\n",
        "- 여러가지 방법을 쓸 수 있다.\n",
        "- div 를 통해서 배치\n",
        "- semantic tag를 사용해서 배치\n",
        "- table을 이용해서 배치\n",
        "  -  HTML5 표준부터는 사용하진 않음\n"
      ],
      "metadata": {
        "id": "xO0G3pxoMd4Z"
      }
    },
    {
      "cell_type": "markdown",
      "source": [
        "#### iframe\n",
        "- 웹분석할 떄 가장 어렵게 하는 것?..\n",
        "- inline frame의 약자로, 웹 페이지 안에 또 다른 웹 페이지를 표현할 수 있는 방법\n",
        "\n",
        "- 사용법\n",
        "```\n",
        "<iframe src='https://www.daum.net'></iframe>\n",
        "```\n"
      ],
      "metadata": {
        "id": "CeAmXkRHNS6g"
      }
    },
    {
      "cell_type": "markdown",
      "source": [
        "#### semantic tag\n",
        "- HTML5 표준부터 새로 제공하는 태그들\n",
        "  - 레이아웃만을 위해서 제공하는 태그\n",
        "  - 시맨틱 자체가 어떤 의미를 가지고 있다는 뜻. 각각의 태그가 어떤 의미를 가지고 있다는 뜻?\n",
        "  - 레아아웃의 의미?....\n",
        "\n",
        "- 레이아웃을 나타내는 시멘틱 태그\n",
        "  - header, nav, main, section, article, asise, footer\n",
        "\n",
        "\n",
        "-네이버에서 id들에 커서를 대보면 색으로 볼 수 있음. 이게 예전 방식?\n",
        "- 다음 같은 경우가 시멘틱?\n",
        "  - 헤더 있고, 메인 있고, 푸터 있고\n",
        "- 네이버랑 다음이랑 무슨 차이인지...?\n",
        "\n",
        "- HTML5 표준 이전의 방식\n",
        "\n",
        "```\n",
        "<div id=\"header\" role=\"banner\">\n",
        "<div id=\"container\" role=\"main\">\n",
        "<div id=\"footer\" role=\"contentinfo\">\n",
        "```\n",
        "\n",
        "- HTML5 표준 이후의 방식\n",
        "\n",
        "```\n",
        "<header id=\"daumHead\" class=\"head_daum\" data-tiara-layer=\"header\">\n",
        "<main id=\"daumContent\">\n",
        "<footer id=\"daumFoot\" class=\"foot_daum\" data-tiara-layer=\"footer\">\n",
        "```\n",
        "\n",
        "- 시맨틱 태그를 사용해도 배치가 자동으로 되지는 않습니다. \n",
        "  - 그냥 의미적으로만 사용될 뿐입니다. \n",
        "  - CSS를 통해서 직접 배치를 따로 해줘야 합니다. \n",
        "\n",
        "```\n",
        "        <header >\n",
        "            헤더 부분 입니다. \n",
        "        </header>\n",
        "            \n",
        "        <main>\n",
        "            메인 부분 입니다. \n",
        "        </main>\n",
        "        <footer>\n",
        "            푸터 부분 입니다. \n",
        "        </footer>\n",
        "```\n"
      ],
      "metadata": {
        "id": "Ji62nF-NOE78"
      }
    },
    {
      "cell_type": "markdown",
      "source": [
        "### 입력 태그들\n",
        "- 사용자로부터 웹페이지를 입력을 받아서 서버에 전달하기 위한 용도\n",
        "  -Ex). 설문조사의 체크박스, 단답형, 제출버튼... 등\n"
      ],
      "metadata": {
        "id": "MBASe3vsTfNs"
      }
    },
    {
      "cell_type": "markdown",
      "source": [
        "#### form\n",
        "- POST 방식으로 서버에 데이터 전송을 하려면 form 방식을 써야 함\n",
        "  - 가장 많이 사용되는 경우가 로그인 처리와 같은 \n",
        "  - 로그인 페이지에서 보면 폼필드로 되어있을 것\n",
        "\n",
        "- form 태그의 일반적인 형태\n",
        "```\n",
        "<form action='' method=''>\n",
        "  <!--여러가지 입력 태그들이 올 수 있다.-->\n",
        "</form>\n",
        "```\n",
        "- form의 주요속성\n",
        "  1. action\n",
        "    - 입력 데이터를 처리할 서버(백엔드/웹 어플리케이션)의 URL\n",
        "    - # : 입력받는 곳과 값을 전달받아서 처리하는 곳이 같은 경우?....맞나...카카오 다음 로그인 보면 login이라는 어플리케이션으로 한다는 것 같음 잘 모르겠다..\n",
        "  2. method\n",
        "    - 데이터를 전달하는 방법(GET/POST)\n",
        "    - GET 방식 : URL/URI를 통해서 전달\n",
        "      - 사이트 주소 뒤에 전달한 변수나 값이 쭉 써있는 것\n",
        "      - 사용하는 변수나 보내려는 데이터가 매우 쉽게 노출되기 때문에 보안에 취약\n",
        "    - POST 방식 : 데이터를 별도의 방식으로 전달(지금은 확인이 안 됨. 추후 수업에 나올 것?\n",
        "      - 보내려는 데이터가 외부에 쉽게 노출되지 않음\n",
        "      - 암호화된  통신(https)(s가 붙으면 암호화된 통신이라고 생각하자)을 사용하면 보내려는 데이터가 암호하되기 떄문에, 더욱더 확인이 불가..\n",
        "    - # : 입력받는 곳과 값을 전달받아서 처리하는 곳이 같은 경우?....맞나\n"
      ],
      "metadata": {
        "id": "6AVxq-JPUWzO"
      }
    },
    {
      "cell_type": "markdown",
      "source": [
        "#### input\n",
        "- 입력받고자 하는 형태를 정의\n",
        "  - text, radio button, checkbox, select, button, submit, ... 입력형태는 매우 많음\n",
        "\n",
        "- 실습용 코드\n",
        "```\n",
        "<input type='text' />\n",
        "  <select>\n",
        "    <option value='첫번째'>1</option>\n",
        "    <option value='두번째'>2</option>\n",
        "    <option value='세번째'>3</option>\n",
        "  </select>\n",
        "  <input type='hidden' /> <!--이거 안보임..?-->\n",
        "        \n",
        "  <input type='button' value='버튼' />     <!--버튼으로 만들수도, 타입을 버튼으로 할 수도? 뭔말-->\n",
        "  <input type='submit' value='제출' />\n",
        "```\n",
        "\n",
        "-속성\n",
        "  -name\n",
        "    - 각, 입력 요소를 구분하는 중요한 속성\n",
        "    - 데이터를 서버에 전달할 때, 변수의 이름으로 사용\n",
        "    - 반드시, name을 정의해주는 것이 좋다\n",
        "    - 실제 데이터를 전송할때 네임이 변수의 값이 됨?..\n",
        "      - Ex). `name=id` 나 `name=pw` 이런 것\n",
        "\n"
      ],
      "metadata": {
        "id": "VI1LAOEgXXM-"
      }
    },
    {
      "cell_type": "markdown",
      "source": [
        "## 샘플 코드\n",
        "- 강사님이 대충 만들었던 웹페이지\n",
        "- 기본 구조의 바디부분에 붙여넣기\n",
        "\n",
        "```\n",
        "<header class=\"header\">\n",
        "  <div class=\"container\">\n",
        "    <h1 class=\"title\">Float and <br>Position</h1>\n",
        "    <span class=\"span\"> <em> Position is blar blar ... </em> for poisition is ... </span>\n",
        "    <ul class=\"list\">\n",
        "\t\t\t<li class=\"list-item\">Overview</li>\n",
        "\t\t\t<li class=\"list-item\">Download</li>\n",
        "\t\t\t<li class=\"list-item\">News</li>\n",
        "\t\t\t<li class=\"list-item\">Community</li>\n",
        "\t\t</ul>\n",
        "  </div>\n",
        "</header>\n",
        "\n",
        "<div class=\"column1\">\n",
        "\t<h2>column 1</h2>\n",
        "\tLorem ipsum dolor sit amet, consectetur adipiscing elit. Quisque ultrices vitae quam nec tempor. Aliquam et mattis tellus, vel aliquet ligula. In sem urna, tincidunt id molestie sit amet, viverra nec ligula. Orci varius natoque penatibus et magnis dis\n",
        "\tparturient montes, nascetur ridiculus mus. Phasellus pharetra ornare dolor non condimentum. Morbi pharetra ut felis sed gravida. Maecenas vitae dapibus lectus, et egestas erat. Vivamus at leo gravida odio scelerisque vestibulum ut at neque. Pellentesque\n",
        "\tdictum turpis sit amet leo blandit sagittis. Curabitur iaculis ex in dui vehicula rhoncus. Pellentesque vehicula libero mi, eu pharetra augue venenatis et. Maecenas ac erat sit amet purus interdum faucibus et quis nisl. Aenean in justo et nisl pharetra\n",
        "\ttempor. Suspendisse at bibendum urna, ut sagittis nibh. Aliquam lacinia quam porta, luctus enim ac, facilisis erat.\n",
        "\n",
        "</div>\n",
        "<div class=\"column2\">\n",
        "\t<h2>column 2</h2>\n",
        "\tLorem ipsum dolor sit amet, consectetur adipiscing elit. Quisque ultrices vitae quam nec tempor. Aliquam et mattis tellus, vel aliquet ligula. In sem urna, tincidunt id molestie sit amet, viverra nec ligula. Orci varius natoque penatibus et magnis dis\n",
        "\tparturient montes, nascetur ridiculus mus. Phasellus pharetra ornare dolor non condimentum. Morbi pharetra ut felis sed gravida. Maecenas vitae dapibus lectus, et egestas erat. Vivamus at leo gravida odio scelerisque vestibulum ut at neque. Pellentesque\n",
        "\tdictum turpis sit amet leo blandit sagittis. Curabitur iaculis ex in dui vehicula rhoncus. Pellentesque vehicula libero mi, eu pharetra augue venenatis et. Maecenas ac erat sit amet purus interdum faucibus et quis nisl. Aenean in justo et nisl pharetra\n",
        "\ttempor. Suspendisse at bibendum urna, ut sagittis nibh. Aliquam lacinia quam porta, luctus enim ac, facilisis erat.\n",
        "\n",
        "</div>\n",
        "<div class=\"column3\">\n",
        "\t<h2>column 3</h2>\n",
        "\tLorem ipsum dolor sit amet, consectetur adipiscing elit. Quisque ultrices vitae quam nec tempor. Aliquam et mattis tellus, vel aliquet ligula. In sem urna, tincidunt id molestie sit amet, viverra nec ligula. Orci varius natoque penatibus et magnis dis\n",
        "\tparturient montes, nascetur ridiculus mus. Phasellus pharetra ornare dolor non condimentum. Morbi pharetra ut felis sed gravida. Maecenas vitae dapibus lectus, et egestas erat. Vivamus at leo gravida odio scelerisque vestibulum ut at neque. Pellentesque\n",
        "\tdictum turpis sit amet leo blandit sagittis. Curabitur iaculis ex in dui vehicula rhoncus. Pellentesque vehicula libero mi, eu pharetra augue venenatis et. Maecenas ac erat sit amet purus interdum faucibus et quis nisl. Aenean in justo et nisl pharetra\n",
        "\ttempor. Suspendisse at bibendum urna, ut sagittis nibh. Aliquam lacinia quam porta, luctus enim ac, facilisis erat.\n",
        "\n",
        "</div>\n",
        "\n",
        "<div class=\"footer\">\n",
        "\t\t<h2>footer</h2>\n",
        "Lorem ipsum dolor sit amet, consectetur adipiscing elit. Quisque ultrices vitae quam nec tempor. Aliquam et mattis tellus, vel aliquet ligula. In sem urna, tincidunt id molestie sit amet, viverra nec ligula. Orci varius natoque penatibus et magnis dis\n",
        "\tparturient montes, nascetur ridiculus mus. Phasellus pharetra ornare dolor non condimentum. Morbi pharetra ut felis sed gravida. Maecenas vitae dapibus lectus, et egestas erat. Vivamus at leo gravida odio scelerisque vestibulum ut at neque. Pellentesque\n",
        "\tdictum turpis sit amet leo blandit sagittis. Curabitur iaculis ex in dui vehicula rhoncus. Pellentesque vehicula libero mi, eu pharetra augue venenatis et. Maecenas ac erat sit amet purus interdum faucibus et quis nisl. Aenean in justo et nisl pharetra\n",
        "\ttempor. Suspendisse at bibendum urna, ut sagittis nibh. Aliquam lacinia quam porta, luctus enim ac, facilisis erat.\n",
        "\n",
        "</div>\n",
        "```"
      ],
      "metadata": {
        "id": "zGCqoigkdYCU"
      }
    },
    {
      "cell_type": "markdown",
      "source": [
        "## CSS\n",
        "- CaseCade Style Sheet\n",
        "- html 페이지에 추가적으로 디자인 서식을 적용하고 싶은 경우에 사용\n",
        "- 적용할 수 있는 방법 3가지\n",
        "  1. inline style : \n",
        "    - html 태그에 `style`속성을 이용해서 지정하는 방법\n",
        "    - 웬만하면 사용하지 않는 것이 좋다\n",
        "    - 이게 우선순위가 제일 높기 때문\n",
        "    - Ex).\n",
        "    ```\n",
        "    (바디에)\n",
        "    <body style='border: 5px dashed red'>\n",
        "    ```\n",
        "\n",
        "  2. internal style\n",
        "    - html 코드 내에 `<style>`태그를 이용해서 표현\n",
        "    - Ex).\n",
        "    ``` <style>    \n",
        "    body { border: 2px dashed blue}\n",
        "    </style>\n",
        "    ```\n",
        "  3. external stye\n",
        "  - 요즘은 대부분이 external 스타일 시트를 이용해서 CSS를 적용함"
      ],
      "metadata": {
        "id": "pzic3qPTcGSu"
      }
    },
    {
      "cell_type": "code",
      "source": [
        ""
      ],
      "metadata": {
        "id": "xMqSE0vA0d7F"
      },
      "execution_count": null,
      "outputs": []
    },
    {
      "cell_type": "markdown",
      "source": [
        "### 외붙 스타일 시트\n",
        "- 스타일 시트 파일을 html페이지에서 가져오는 방법\n",
        "- 링크는 외워두는 것이 좋아?..\n",
        "```\n",
        "  <link rel='stylesheet' type='text/css' href='css 파일의 경로' />"
      ],
      "metadata": {
        "id": "sTL5bpWri04a"
      }
    },
    {
      "cell_type": "markdown",
      "source": [
        "### CSS의 구조\n",
        "```\n",
        "선택자(Selector){\n",
        "  <!-- 구분자는 : , 마지막은 ; 로 끝남-->\n",
        "  속성이름1:속성값1 속성값2 속성값3 ... ;\n",
        "  송성이름2:속성값1 속성값2 ... ;\n",
        "\n",
        "}\n",
        "```\n",
        "\n",
        "- 선택자: 스타일을 적용할 태그\n",
        "  - 어떤 태그에다 스타일을 적용할지\n",
        "  - 선택자에 의해 선택된 애들은 중괄호로 표현됨\n",
        "  - 속성과 속성값은 `:`로 구분\n",
        "    - 속성값이 여러개인 경우는 `(공백)`으로 구분\n",
        "  - 속성과 속성은 `;`로 구분\n"
      ],
      "metadata": {
        "id": "JHabvRNQjPK4"
      }
    },
    {
      "cell_type": "markdown",
      "source": [
        "#### 글자와 관련된 속성들\n",
        "- 폰트, 글자 크기, 글자색, ... 글자와 관련된 것들\n",
        "- 상속\n",
        "  - CSS의 속성이 부모 태그에서 자식 태그로 상속되어서 하위 태그들도 동일한 속성이 적용\n",
        "  - 무조건 상속디 되지는 않음\n",
        "  - 글자와 관련된 속성들은 대표적으로 상속이 가능한 속성\n",
        "  ```\n",
        "    html{\n",
        "      font-size: 20px;\n",
        "      font-family: 사용할 글꼴 지정;\n",
        "      line-heirht: 0.8; /*줄간격*/\n",
        "    }\n",
        "  ```\n",
        "  - html은 상위니까 그 밑 하위태그들은 다 폰트사이즈가 변경 됨\n",
        "  - 글꼴은 `font-family`로 지정할 수 있다\n",
        "    - 로컬에 해당 글꼴이 설치되어 있어야만 사용이 가능\n",
        "    - 없는 글꼴을 사용하는 경우에 화면이 깨질 수있음\n",
        "    - 여러개의 글꼴을 지정\n",
        "    - 글꼴들이 전부 없는 경우에는 기본글꼴이 사용될 수 있도록\n",
        "      - self, sand-serif, monospace, ...\n",
        "    - 메모장 열어서 글꼴 있나 확인 가능\n",
        "\n",
        "\n",
        "\n"
      ],
      "metadata": {
        "id": "YH3LSYY3kEkr"
      }
    },
    {
      "cell_type": "markdown",
      "source": [
        "#### 색상과 관련된 속성들\n",
        "- 글자색, 배경색, 배경이미지, ...\n",
        "```\n",
        "  color: #006400; /* 글자색은 폰트컬러가 아니라 그냥 컬러. rgb형태로도 정의할 수 있음*/\n",
        "  background-color: black; /*배경색*/\n",
        "```\n"
      ],
      "metadata": {
        "id": "8SUTX-avp7KD"
      }
    },
    {
      "cell_type": "markdown",
      "source": [
        "## Selector (중요)\n",
        "- CSS-Selector\n",
        "  - 스타일을 원하는 태그에 정확하게 적용하기 위한 여러가지 방법\n",
        "  - CSS에서만 사용하지 않고, 다른 곳에서도 동일한 셀렉터를 지원\n",
        "- 가장 기본적으로 많이 사용되는 것들은\n",
        "  - `태그 셀럭터`, `id 셀렉터`, `class 셀렉터`등\n",
        "  - 지금까지 우리가 사용한 건 태그셀렉터\n",
        "- 우선순위\n",
        "  - id선택자 > class 선택자 > 태그 선택자"
      ],
      "metadata": {
        "id": "vpO0xJ6-rFjh"
      }
    },
    {
      "cell_type": "markdown",
      "source": [
        "#### 전체 선택자\n",
        "- `*` (와일드카드)\n",
        "- html 문서내의 모든 태그를 선택\n",
        "- 사용법 \n",
        "\n",
        "```\n",
        "*{\n",
        "  ...\n",
        "}\n",
        "```\n"
      ],
      "metadata": {
        "id": "j84XFocHrizT"
      }
    },
    {
      "cell_type": "markdown",
      "source": [
        "#### 태그 셀렉터\n",
        "- 태그 이름으로 선택\n",
        "- 지금까지 수업에서 사용한게 이것\n",
        "- 사용법\n",
        "```\n",
        "태그이름 {\n",
        "  ...\n",
        "}\n",
        "```\n",
        "- 동일한 모든 태그에 적용이 되는 것\n",
        "- 상속도?"
      ],
      "metadata": {
        "id": "hjbew6uor9Yb"
      }
    },
    {
      "cell_type": "markdown",
      "source": [
        "#### id 선택자\n",
        "- id 속성에 따라서 선택\n",
        "- 사용법 : 속성이름앞에 #이 붙음\n",
        "\n",
        "```\n",
        "  #id속성값{\n",
        "    ...\n",
        "  }\n",
        "```\n",
        "\n",
        "-id의 특징\n",
        "  - id 속성은 html 페이지 전체에서 단 하나의 값을 가져야 한다.\n",
        "    - 수업시간의 실습예제에서는 `columns1`이라는 속성값은 하나만 존재해야한다."
      ],
      "metadata": {
        "id": "ugVyB_xEs-Ex"
      }
    },
    {
      "cell_type": "markdown",
      "source": [
        "#### Class 선택자\n",
        "- `Class`속성에 따라서 선택\n",
        "- 사용법 : `.`을 사용\n",
        "```\n",
        ".class 속성값{\n",
        "  ...\n",
        "}\n",
        "```\n",
        "- 비슷한 속성의 값들을 클래스로 묶는?\n",
        "  - 그래서 한꺼번에 스타일을 정의를 하는?\n",
        "  - 맞나...\n",
        "\n",
        "- id 와 class 의 차이점\n",
        "  - id 속성값은 유일해야하고\n",
        "  - class 속성값은 중복값을 가질 수 있다.\n",
        "  - class 속성과 id 속성을 같이 정의할 수도 있음\n"
      ],
      "metadata": {
        "id": "ricE5luEtKra"
      }
    },
    {
      "cell_type": "markdown",
      "source": [
        "#### 그룹 선택자\n",
        "- 여러개의 선택자를 동시에 사용\n",
        "- 사용법 : 콤마로 구분\n",
        "\n",
        "```\n",
        "선택자, 선택자, 선택자, ...{\n",
        "  ...\n",
        "}\n",
        "\n",
        "Ex). p, div, span, ...\n",
        "```\n"
      ],
      "metadata": {
        "id": "K62a4sU2vluv"
      }
    },
    {
      "cell_type": "markdown",
      "source": [
        "#### 하위 선택자\n",
        "- 계층구조를 이용하여 선택\n",
        "- 공백으로 표현하면 하위선택자를 의미\n",
        "  - 선택자1 SP 선택자2\n",
        "    - 선택자2는 선택자1의 하위 선택자를 의미\n",
        "- 사용법\n",
        "\n",
        "```\n",
        "상위선택자 하위선택자{\n",
        "  ...\n",
        "}\n",
        "```"
      ],
      "metadata": {
        "id": "W_CYc_qswFCb"
      }
    },
    {
      "cell_type": "markdown",
      "source": [
        "#### 자식 선택자\n",
        "- 하위 선택자와 마찬가지로 계ㅡㅇ구조를 이용한 선택자\n",
        "\n",
        "- `직계자손` : 바로 밑에 하위태그만 자식으로 인정\n",
        "  - 모든 하위 태그가 아닌. tab하나 차이나는 것들.\n",
        "- 사용법 : `>` 사용\n",
        "```\n",
        "상위선택자 > 하위선택자{\n",
        "  ...\n",
        "}\n",
        "```"
      ],
      "metadata": {
        "id": "sIPPktyoyDqh"
      }
    },
    {
      "cell_type": "markdown",
      "source": [
        "### box-model\n",
        "- html에서 태그는 영역에 대해서 상자로 표현할 수 있는데 이를 `박스모델`이라고 합니다. \n",
        "- 박스모델과 관련된 속성이\n",
        "  - margin\n",
        "    - margin-left\n",
        "    - margin-right\n",
        "    - margin-top\n",
        "    - margin-bottom\n",
        "  - border\n",
        "  - padding\n",
        "    - padding-left\n",
        "    - padding-right\n",
        "    - padding-top\n",
        "    - padding-bottom\n",
        "  - 내용\n",
        "\n",
        "\n",
        "\n",
        "- border를 기준으로 바깥쪽 여백을 `margin`이라고 하고, 안쪽(내용과 border사이)여백을 `padding`이라고 한다.\n",
        "\n",
        "\n"
      ],
      "metadata": {
        "id": "PDDN6Isi2bdt"
      }
    },
    {
      "cell_type": "markdown",
      "source": [
        "## 레이아웃 구성 실습"
      ],
      "metadata": {
        "id": "Wt5bxo0w8AvY"
      }
    },
    {
      "cell_type": "markdown",
      "source": [
        "### Navigation bar 만들어보기\n",
        "- `ul`를 이용해서 표현\n",
        "- `블록기반`과 `인라인기반`이 섞여 있는 경우, `il` 태그들은 `블록기반`이 아닌 `인라인기반`으로 표현해줘야 한다.\n",
        "-`display`속성을 이용해서 변경할 수 있다\n",
        "\n",
        "```\n",
        ".list-item{\n",
        "  display: inline;\n",
        "}\n",
        "```"
      ],
      "metadata": {
        "id": "fJlvgWcq8GSn"
      }
    },
    {
      "cell_type": "markdown",
      "source": [
        "### position\n",
        "- 태그들의 위치를 지정할 수 있다\n",
        "   1. static (default 값) \n",
        "    - 블록과 인라인에 따라서 자동으로 취기가 결정된다\n",
        "    - 즉, 기본흐름에 따른 배치\n",
        "   2. relative\n",
        "    - top, bottom, left, right 속성을 이용해서 위치를 변경\n",
        "    - 원래 자기 자신의 위치를 지정\n",
        "   3. absolute\n",
        "    - top, bottom, left, right 속성을 이용해서 위치를 변경\n",
        "    - 자기 자신을 감싸는 태그에 대해 상대적으로 위치를 지정\n",
        "    - 상위태그의 포지션이 static이면 해당하지 않는다.\n",
        "      - 만약, 상위태그가 다 `static`이다? -> 가장 최상위의 `body`를 기준으로 위치가 정해진다. \n",
        "   4. fixed\n",
        "    - 고정 위치를 지정\n",
        "    - 스크롤링이 되어도 항상 같은 영역에 표시\n",
        "    - top, bottom, left, right 속성으로 위치를 지정"
      ],
      "metadata": {
        "id": "FjLQwnkm-qp_"
      }
    },
    {
      "cell_type": "markdown",
      "source": [
        "### 강사님 공유 (네비게이션)"
      ],
      "metadata": {
        "id": "xpzYB6aoCvT3"
      }
    },
    {
      "cell_type": "markdown",
      "source": [
        "- 현재까지 작성된 CSS\n",
        "\n",
        "```\n",
        ".title {\n",
        "    display: inline;\n",
        "}\n",
        "\n",
        ".list {\n",
        "    display: inline;\n",
        "    position: absolute;\n",
        "    left: 500px;\n",
        "    bottom: 15px;\n",
        "}\n",
        "\n",
        ".list-item {\n",
        "    display: inline;\n",
        "}\n",
        "\n",
        ".container {\n",
        "    border: 1px dashed blue;\n",
        "    position:relative;\n",
        "}\n",
        "\n",
        ".span {\n",
        "    position: absolute;\n",
        "    top: 30px;\n",
        "    left: 180px;\n",
        "}\n",
        "```"
      ],
      "metadata": {
        "id": "uBhKciGP8HN5"
      }
    },
    {
      "cell_type": "markdown",
      "source": [
        "##### float\n",
        "- CSS float 이미지 검색해서 보면 이해하기 쉬움\n",
        "- 부유한다는 의미로, 원래 목적은 그림과 글자의 배치를 위하여 나온 기능\n",
        "- 레이아웃 기능으로 더 많이 사용\n",
        "- 속성값\n",
        "  - left: 태그를 왼쪽에 배치하기 위해 사용\n",
        "  - right: 오른쪽에 배치하기 위해 사용\n",
        "  - none: 태그를 띄우지 않음\n",
        "  - inhert: 부모태그로부터 상속받음\n",
        "\n",
        "- float 속성을 사용하는 경우에는 `isply`속성은 무시된다.\n",
        "  - 즉, 인라인기반이든, 블록기반이든 무시되고,\n",
        "  - float에 따라 배치가 바뀌게 된다\n"
      ],
      "metadata": {
        "id": "zWHHpeIqg1fo"
      }
    },
    {
      "cell_type": "markdown",
      "source": [
        "#### Clear\n",
        "- 이전에 사용했던 float 속성을 바꿔준다\n",
        "  - float 속성을 사용하면 원래 배치의 흐름이 바뀌게 되는데\n",
        "  - 사디 원래대로 돌리고 싶은 경우에 사용\n",
        "\n",
        "- 속성값\n",
        "- none: 클리어 설정을 하지 않는 것과 같음\n",
        "- left: 왼쪽을 취소\n",
        "- right: 오른쪽을 취소\n",
        "- both: 양쪽 다 취소"
      ],
      "metadata": {
        "id": "M_kdjSGwhtRp"
      }
    },
    {
      "cell_type": "markdown",
      "source": [
        "- 3개의 div를 바꿔볼 것\n",
        "\n",
        "```\n",
        "/* 컴럼1은 id 속성 */\n",
        "#column1{\n",
        "    float: left;\n",
        "    width: 30%;\n",
        "}\n",
        "\n",
        "/* 컬럼2,3은 클래스 속성*/\n",
        ".column2{\n",
        "    float: left;\n",
        "    width: 30%;\n",
        "}\n",
        "\n",
        ".column3{\n",
        "    float: left;\n",
        "    width: 30%;\n",
        "}\n",
        "\n",
        ".footer{\n",
        "    clear: left;\n",
        "}\n",
        "```\n",
        "- 흐름?\n",
        "  - 컬럼1만 left로 설정해서 보면, 자리를 차지해버려서 나머지 애들도 그 영향을 받는 걸 볼 수 있을거임\n",
        "- 컬럼1,2,3을 왼쪽정렬로 했는데\n",
        "- 푸터가 float를 따라서 오른쪽으로 붙어버림\n",
        "  - float로 자리를 차지해버려서\n",
        "- 컬럼1, 2, 3 오른쪽에 푸터가 조금 있고, 나머지 내용들은 밑으로 써있음\n",
        "- clear를 이용해서 이전 float의 흐름을 바꿔줘서 푸터는 이전의 float의 영향(left설정)을 받지 않도록 사용\n",
        "\n"
      ],
      "metadata": {
        "id": "_lafIs8zicVr"
      }
    },
    {
      "cell_type": "markdown",
      "source": [
        "## 자바스크립트\n",
        "- java 랑 jvascript 랑은 다름 (헐)"
      ],
      "metadata": {
        "id": "iqSpT46Rh_Pz"
      }
    },
    {
      "cell_type": "markdown",
      "source": [
        "### 자바스크립트의 실행환경\n",
        "1. 기본적으로 웹브라우저에서 실행\n",
        "  - 웹브라우저가 자바스크립트의 인터프리터 역할을 수행\n",
        "  - 웹브라우저가 있어야 자바스크립트를 실행할 수 있음\n",
        "  -웹브라우저의 `개발자도구`를 이용해서 `console`탭에서 실행\n",
        "    - Ex). `alert('Hello Javascript');`\n",
        "    - 이 경우 대부분 테스트용으로 사용\n",
        "  - URL 입력창에서도 사용 가능\n",
        "    - Ex).`javascript:alert('Hello Javascript')`\n",
        "      - 만약 실행이 안 된다면 그건 브라우저별 보안설정 때문\n",
        "      - 이 방식은 거의 사용하지 않음. 보안 취약점 공략하는 사람들이 사용\n",
        "  - HTML 코드 내에서 실행\n",
        "\n",
        "    - `<script></script>` 내에 자바스크립트 코드를 작성\n",
        "      - 창을 띄울 때 자동으로 인터프리팅해줌\n",
        "      - head, body 어디에 있든 됨. 보통 헤드에 적음\n",
        " ```\n",
        "      <!DOCTYPE html>\n",
        "<html >\n",
        "    <head>\n",
        "        <script>\n",
        "            alert('Hello Javascript')\n",
        "        </script>\n",
        "    </head>\n",
        "    <body>\n",
        "        \n",
        "    </body>\n",
        "</html>\n",
        "```\n",
        "      - 일반적으로는 css 에서 스타일 만들고 외부시트를 가져온 것 처럼\n",
        "      - 따로 만들어 놓고 외부스크립트를 가져오는 방식을 사용\n",
        "\n",
        "2.node.js 를 이용한 실행\n",
        "  - 브라우저 없이도 자바스크립트 코드를 실행\n",
        "  - node.js가 인터프리터 역할을 수행\n",
        "  - 주로 자바스키립트를 `백엔드`에서 실행하고자 하는 경우에 많이 사용\n",
        "  - 파이썬 연습하듯이 사용\n",
        "  \n"
      ],
      "metadata": {
        "id": "bEQKj69qiCCZ"
      }
    },
    {
      "cell_type": "markdown",
      "source": [
        "### 기초문법\n",
        "- 파이썬과 자바스크립트의 차이점을 기준으로 자바스크립트의 특징을 알아 봅니다. \n",
        "- `Vanilla Javascript` 라고 표현\n",
        "  - 순수 자바스크립트\n",
        "  - 자바스크립트만 이렇게 사용하는 경우는 드물다. 보통은 라이브러리를 사용\n",
        "    - vue.js, react, jquery, ...\n",
        "\n",
        "- 실습 내용은 아래의 소스코드 참조\n",
        "- [basic_javascript.js](https://drive.google.com/file/d/18RT-5BLxS2wAOTJqFeYLvOPBUJDzsRLl/view?usp=sharing)"
      ],
      "metadata": {
        "id": "E3ucsrpRnoyL"
      }
    },
    {
      "cell_type": "markdown",
      "source": [
        "### DOM\n",
        "- Document Object Model\n",
        "- 직역하자면 `문서 객체 모델`인데\n",
        "  - 쉽게 말하자면 브라우저에서 보여지는 문서를 자바스크립트는 하나의 객체로써 다루게 된다. 이것을 DOM이라고 한다\n",
        "    - Ex). 웹페이지 전체를 하나로 관리\n",
        "\n",
        "- 요소(element)\n",
        "  - 태그와 속성, 내용(content)를 하나의 요소라고 표현을 한다.\n",
        "  - 일반적으로는 태그와 요소를 같은 의미로 많이 사용\n",
        "  - DOM에서는 각각의 요소를 계층적인 구조로 표현\n",
        "  - 그냥 지금까지 배운 `태그`라고 생각하자\n",
        "\n",
        "![](https://i2.wp.com/oursmalljoy.com/wp-content/uploads/2020/12/DOM.jpg?resize=1200%2C416&ssl=1)\n",
        "\n",
        "- `document` 객체\n",
        "  - **현재** 브라우저에서 보여지는 문서는 하나의 `document`객체로 표현되어 진다.\n",
        "  - 자바스크립트는 `document` 를 통해서 웹의 모든 내용을 전부 제어\n",
        "  - 모든 요소에 댛ㄴ 정의와 접근 방법들이 전부 명시되어 있다,\n",
        "  - 요소를 추가, 수정, 삭제 가능\n",
        "  - 요소에 대한 속성도 추가, 수정, 삭제 가능\n",
        "  - 이벤트에 대한 제어도 가능\n",
        "    - 이벤트: 마우스 클릭, 키보드 입력 등등\n",
        "\n",
        "\n"
      ],
      "metadata": {
        "id": "Iq75n5o0kN5o"
      }
    },
    {
      "cell_type": "markdown",
      "source": [
        "#### 요소의 선택\n",
        "- 자바스크립트 `document` 객체내의 요소들을 다룰 수 있는 aPI를 제공해준다.\n",
        "  - `document.getElementByTagName('태그이름')`\n",
        "  - `document.getElementByid('di속성')`\n",
        "  - `document.getElementByClassName('class속성')`\n",
        "  - `document.getquerySellectAll('CSS선택자')`\n",
        "  \n",
        "- 요소선택을 이용한 원하는 요소의 접근 예시 (네이버)\n",
        "```\n",
        "document.querySelectorAll('li.nav_item a[data-clk=\"svc.cafe\"]')[0].innerText = '자바스크립트를 통해서 바꿔줄 수 있다는 거죠';\n",
        "```"
      ],
      "metadata": {
        "id": "OG-aIbLkvmRe"
      }
    },
    {
      "cell_type": "markdown",
      "source": [
        "#### 계층구조를 이용한 접근\n",
        "- DOM구조에서는 각 요소들이 전부 하나의 객체가 된다.\n",
        "  - `document.요소이름` 이런식으로\n",
        "- ㄷODM에서 각 노드와의 관계는 다음과 같다\n",
        "  - parentNode:현재노드의 상위노드(부모노드)\n",
        "  - childNodes: 자식노드들의 배열\n",
        "  - firstChild: 첫번째 자식 노드\n",
        "  - lastChild: 마지막 자식노드\n",
        "  - NextSibling : 다음 형제 노드\n",
        "  - PreviousSibling: 이전 형제 노드\n",
        "\n",
        "- 계층구조를 통한 원하는 요소의 접근 예시(네이버)\n",
        "```\n",
        "document.body.childNodes[3].childNodes[5].childNodes[5].childNodes[1].childNodes[1].childNodes[1].childNodes[1].childNodes[1].innerText;\n",
        "```\n"
      ],
      "metadata": {
        "id": "09jBiuoP1l2g"
      }
    },
    {
      "cell_type": "markdown",
      "source": [
        "### BOM \n",
        "- Browser Object Model\n",
        "- `브라우저 객체 모델`\n",
        "  - 브라우저 또한 객체로서 관리\n",
        "\n",
        "- `Window 객체`\n",
        "  - 현재 열려있는 창.\n",
        "  - 문서가 아니라 창에 대한 객체를 가지고 있는 것 ( 창크기 같은 거 말하는 듯)\n",
        "  - `history` : 방문한 페이지에 대한 정보\n",
        "```\n",
        "window.history.back(); 이전 페이지\n",
        "window.history.forward();  다음페이지\n",
        "```\n",
        "  - `loaction` : 현재 열려있는 페이지에 대한 정보를 가지고 있다\n",
        "```\n",
        "window.location.href\n",
        "하면 현재 열려있는 페이지의 URL이 나옴\n",
        "window.location.href=' URL ' 하면 그 페이지로 이동함\n",
        "```\n",
        "\n"
      ],
      "metadata": {
        "id": "rP00opx3kNyL"
      }
    },
    {
      "cell_type": "markdown",
      "source": [
        "### 카운터 만들기 실습"
      ],
      "metadata": {
        "id": "Ra0nhKBPCx8P"
      }
    },
    {
      "cell_type": "markdown",
      "source": [
        "#### counter.html\n",
        "- 일단 html로 페이지를 만들고, 그 페이지 개발자도구에서 봄. 그 후에 다시 html 가서 제어 해봄\n",
        "\n",
        "1. 페이지 만들고, 버튼과 값 추가\n",
        "```\n",
        "<!DOCTYPE html>\n",
        "<html>\n",
        "  <head>\n",
        "  </head>\n",
        "\n",
        "  <body>\n",
        "    <h2 id='number'>0</h2>\n",
        "    <div>\n",
        "      <button id='increase'>+1</button>\n",
        "      <button id='decrease'>-1</button>\n",
        "    </div>\n",
        "  </body>\n",
        "</html>\n",
        "```\n",
        "\n",
        "\n",
        "2. 페이지 개발자도구에서 \n",
        "\n",
        "```\n",
        "document.getElementById('number');\n",
        "\n",
        "<h2 id=​\"number\">​ 0 ​</h2>​\n",
        "\n",
        "let number = document.getElementById('number')\n",
        "\n",
        "undefined\n",
        "\n",
        "\n",
        "\n",
        "document.getElementById('increase');\n",
        "\n",
        "<button id=​\"increase\">​+1​</button>​\n",
        "\n",
        "let up = document.getElementById('increase');\n",
        "\n",
        "undefined\n",
        "\n",
        "up\n",
        "\n",
        "<button id=​\"increase\">​+1​</button>​\n",
        "\n",
        "\n",
        "\n",
        "document.getElementById('decrease');\n",
        "\n",
        "<button id=​\"decrease\">​-1​</button>​\n",
        "\n",
        "let down = document.getElementById('decrease');\n",
        "\n",
        "undefined\n",
        "\n",
        "decrease\n",
        "\n",
        "<button id=​\"decrease\">​-1​</button>​\n",
        "\n",
        "```\n",
        "\n",
        "3. vscode html 에서\n",
        "```\n",
        "<!DOCTYPE html>\n",
        "<html>\n",
        "  <head>\n",
        "  </head>\n",
        "\n",
        "  <body>\n",
        "    <h2 id='number'>0</h2>\n",
        "    <div>\n",
        "      <button id='increase'>+1</button>\n",
        "      <button id='decrease'>-1</button>\n",
        "    </div>\n",
        "\n",
        "    <script>\n",
        "      let number = document.getElementById('number');\n",
        "      let up = document.getElementById('increase');\n",
        "      let down = document.getElementById('decrease');\n",
        "\n",
        "      // 요소에 이벤트 달기\n",
        "      up.onclick = function () {\n",
        "        console.log('up');\n",
        "      };\n",
        "\n",
        "      down.onclick = function () {\n",
        "        console.log('down');\n",
        "      }\n",
        "\n",
        "    </script>\n",
        "  </body>\n",
        "</html>\n",
        "```\n",
        "(페이지 개발자 도구에서 up, down 버튼을 누르면 동작하긴 함. 화면에 출력되어 보이진 않을 뿐?..)\n",
        "\n",
        "\n",
        "4. 버튼을 누르면 값에 반영이 되도록\n",
        "```\n",
        "\n",
        "<!DOCTYPE html>\n",
        "<html>\n",
        "  <head>\n",
        "  </head>\n",
        "\n",
        "  <body>\n",
        "    <h2 id='number'>0</h2>\n",
        "    <div>\n",
        "      <button id='increase'>+1</button>\n",
        "      <button id='decrease'>-1</button>\n",
        "    </div>\n",
        "\n",
        "    <script>\n",
        "      let number = document.getElementById('number');\n",
        "      let up = document.getElementById('increase');\n",
        "      let down = document.getElementById('decrease');\n",
        "\n",
        "      // 요소에 이벤트 달기\n",
        "      up.onclick = function () {\n",
        "        let count = number.innerText;\n",
        "        count = parseInt(count);\n",
        "        number.innerText = ++count;\n",
        "      };\n",
        "\n",
        "      down.onclick = function () {\n",
        "        let count = number.innerText;\n",
        "        count = parseInt(count);\n",
        "        number.innerText = --count;\n",
        "      }\n",
        "\n",
        "    </script>\n",
        "  </body>\n",
        "</html>\n",
        "```\n"
      ],
      "metadata": {
        "id": "98KvRrFZC13s"
      }
    },
    {
      "cell_type": "markdown",
      "source": [
        "# 실습\n",
        "- 게시판 만들기\n",
        "  - 로그인 페이지가 있어야 하고\n",
        "  - 게시글 목록 페이지가 있어야\n",
        "  - 게시글 작성하는 페이지\n",
        "  - 게시글 수정하는 페이지\n"
      ],
      "metadata": {
        "id": "V1Z0ZGxcnkgO"
      }
    },
    {
      "cell_type": "markdown",
      "source": [
        "![image.png](data:image/png;base64,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)"
      ],
      "metadata": {
        "id": "UGiFMAhvswx2"
      }
    },
    {
      "cell_type": "markdown",
      "source": [
        "- 게시글이 있다고 가정하고 테이블을 만들어 볼 것.\n",
        "  - 데이터는 dv에서끌어와서 넣을꺼고\n",
        "\n",
        "- 게시글 제목은 input을 받아 볼 것\n"
      ],
      "metadata": {
        "id": "mzxALNvFsx1T"
      }
    },
    {
      "cell_type": "markdown",
      "source": [
        "## 부트스트랩\n",
        "- 전문가가 아니어도 전문가처럼 보이는 방법\n",
        "- [부트스트랩] (http://bootstrapk.com/)\n",
        "  - 트위터 디자이너들이 공개한 디자인 서식\n",
        "  - 이를 이용하면 좀 더 쉽게 전문가처럼 만들 수 있음\n",
        "  - 클래스 이름 주의\n",
        "- 사용하려면 CSS를 다운받아야 함\n",
        "  - 직접 받기: 부스트랩 다운로드\n",
        "  - css 열어보면 태그별로 스타일같은것들 설정이 다 되어있음\n",
        "  - 클래스, 테이블 등등 \n",
        "  - 클래스 명만 알고 있으면 바로 가져다 적용할 수 있음\n",
        "  - min.css는 css를 공백등을 다 제거해서 압축시켜놓은 것\n",
        "  - 수정하려면 그냥 css/ 가져다 쓸거면 min.css 써도 됨\n",
        "\n",
        "  - 수평폼 바로 밑 설명보면 폼그룹 하나가 행 하나의 역할을 한다는 뜻\n",
        "\n",
        "  - 그리드 시스템?\n",
        "  - 가운데 정렬 어떻게?\n",
        "    - "
      ],
      "metadata": {
        "id": "fZ5FBgSdmKxE"
      }
    },
    {
      "cell_type": "markdown",
      "source": [
        "## login.css\n",
        "\n",
        "```\n",
        "html, body {\n",
        "  height:100%;\n",
        "}\n",
        "\n",
        "body {\n",
        "  display: flex;\n",
        "  align-items: center;\n",
        "}\n",
        "\n",
        ".form-control {\n",
        "  width: 300px;\n",
        "}\n",
        "```"
      ],
      "metadata": {
        "id": "oc6m3XSx-ZE9"
      }
    },
    {
      "cell_type": "markdown",
      "source": [
        "## login.html\n",
        "\n",
        "```\n",
        "<!DOCTYPE html>\n",
        "\n",
        "<html>\n",
        "  <head>\n",
        "    <!-- bootstrap css 적용 -->\n",
        "    <link type='text/css' rel='stylesheet' href='../css/bootstrap.min.css' />\n",
        "    <link type='text/css' rel='stylesheet' href='../css/bootstrap-theme.min.css' />\n",
        "    <link type='text/css' rel='stylesheet' href='../css/login.css' />\n",
        "  </head>\n",
        "\n",
        "  <body>\n",
        "    <div class='container'>\n",
        "      <form class='form-horizontal' method='post' action=''>\n",
        "        <div class='form-group'>\n",
        "          <label for=\"inputId\" class=\"col-xs-4 col-md-4 control-label\">ID</label>\n",
        "          <div class='col-xs-4 col-md-4'>\n",
        "            <input class=\"form-control\" type='text' name='id' id='inputId'>\n",
        "          </div>\n",
        "        </div>\n",
        "        <div class='form-group'>\n",
        "          <label for=\"inputPw\" class=\"col-xs-4 col-sm-4 control-label\">PW</label>\n",
        "          <div class='col-xs-4 col-md-4'>\n",
        "            <input class=\"form-control\" type='password' name='pw' id='inputPw'>\n",
        "          </div>\n",
        "        </div>\n",
        "        <div class='form-group'>\n",
        "          <div class='col-xs-offset-4 col-md-offset-4 col-xs-10 col-md-10'>\n",
        "            <button class=\"btn btn-default\" type='submit'> 로그인 </button>\n",
        "          </div>\n",
        "        </div>\n",
        "      </form>\n",
        "    </div>\n",
        "  </body>\n",
        "</html>\n",
        "```"
      ],
      "metadata": {
        "id": "0px_Cy0lmWj8"
      }
    },
    {
      "cell_type": "markdown",
      "source": [
        "## list.html\n",
        "\n",
        "```\n",
        "<!DOCTYPE html>\n",
        "<html>\n",
        "  <head>\n",
        "    <link type='text/css' rel='stylesheet' href='../css/bootstrap.min.css' />\n",
        "    <link type='text/css' rel='stylesheet' href='../css/bootstrap-theme.min.css' />\n",
        "  </head>\n",
        "\n",
        "  <body>\n",
        "    <table class='table'>\n",
        "      <thead>\n",
        "        <tr>\n",
        "          <th> 시간 </th>\n",
        "          <th> 작성자 </th>\n",
        "          <th> 제목 </th>\n",
        "        </tr>\n",
        "      </thead>\n",
        "\n",
        "      <tbody>\n",
        "        <tr>\n",
        "          <td> 2021-12-21 </td>\n",
        "          <td> 임종혁 </td>\n",
        "          <td> 오늘 수업은 여기까지... </td>\n",
        "        </tr>\n",
        "        <tr>\n",
        "          <td> 2021-12-20 </td>\n",
        "          <td> 임종혁 </td>\n",
        "          <td> 왜 아무도 안보이죠? </td>\n",
        "        </tr>\n",
        "        <tr>\n",
        "          \n",
        "        </tr>\n",
        "        <tr>\n",
        "          \n",
        "        </tr>\n",
        "      </tbody>\n",
        "      \n",
        "    </table>\n",
        "  </body>\n",
        "</html>\n",
        "```"
      ],
      "metadata": {
        "id": "gXeYbAInLvqA"
      }
    },
    {
      "cell_type": "markdown",
      "source": [
        "## write.html\n",
        "\n",
        "```\n",
        "<!DOCTYPE html>\n",
        "<html>\n",
        "  <head>\n",
        "    <link type='text/css' rel='stylesheet' href='../css/bootstrap.min.css' />\n",
        "    <link type='text/css' rel='stylesheet' href='../css/bootstrap-theme.min.css' />\n",
        "  </head>\n",
        "\n",
        "  <body>\n",
        "    <div class='container'>\n",
        "      <form>\n",
        "        <div class='row'>\n",
        "          <!-- 날짜 -->\n",
        "          <div class=\"col-md-4\">\n",
        "            <input type='date' class='col-md-4'>\n",
        "          </div>\n",
        "\n",
        "        </div>\n",
        "\n",
        "        <div class='row'>\n",
        "          <!-- 작성자 -->\n",
        "          <div class=\"col-md-4\">\n",
        "            <input type='text' class='col-md-4'>\n",
        "          </div>\n",
        "        </div>\n",
        "\n",
        "        <div class='row'>\n",
        "          <!-- 게시글 -->\n",
        "          <div class=\"col-md-8\">\n",
        "            <textarea class=\"form-control\" rows=\"20\"></textarea>\n",
        "          </div>\n",
        "        </div>\n",
        "      </div>\n",
        "    </form>\n",
        "  </body>\n",
        "\n",
        "</html>\n",
        "```"
      ],
      "metadata": {
        "id": "DXqfXZIy-V70"
      }
    }
  ]
}